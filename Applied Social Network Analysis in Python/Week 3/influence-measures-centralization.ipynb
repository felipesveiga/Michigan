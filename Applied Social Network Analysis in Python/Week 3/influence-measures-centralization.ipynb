{
 "cells": [
  {
   "cell_type": "markdown",
   "id": "3897a8f4-ae31-40e8-94f1-7ca7d05f7fc3",
   "metadata": {},
   "source": [
    "<h1 style='font-size:40px'>Influence Measures and Network Centralization </h1>"
   ]
  },
  {
   "cell_type": "markdown",
   "id": "78b7373f-f2af-4886-874c-e85675e19fb0",
   "metadata": {},
   "source": [
    "<h2 style= 'font-size:30px'> Degree and Closeness Centrality</h2>"
   ]
  },
  {
   "cell_type": "markdown",
   "id": "ed8d2306-c7ac-474d-8247-4020a7dc56ee",
   "metadata": {},
   "source": [
    "<div> \n",
    "    <ul style='font-size:20px'> \n",
    "        <li> \n",
    "            Como medir o grau de importância de um nó? Tudo depende do contexto em que nossa pesquisa está inserida. Por isso, estudaremos diversas métricas sobre importância de pontos nos próximos vídeos.\n",
    "        </li>\n",
    "    </ul>\n",
    "</div>"
   ]
  },
  {
   "cell_type": "markdown",
   "id": "ce47ab2d-7caf-428b-833e-35438bbe6fa5",
   "metadata": {},
   "source": [
    "<h3 style='font-size:30px;font-style:italic'> Degree Centrality</h3>\n",
    "<div> \n",
    "    <ul style='font-size:20px'> \n",
    "        <li> \n",
    "            Sua suposição é a de que nós importantes estão ligados a vários pontos.\n",
    "        </li>\n",
    "        <li> \n",
    "            Para redes bidirecionais, sua fórmula é $C=\\frac{d}{N-1}$ em que d é o degree do nó e N, a quantidade total de nós na rede.\n",
    "        </li>\n",
    "    </ul>\n",
    "</div>"
   ]
  },
  {
   "cell_type": "code",
   "execution_count": 5,
   "id": "80045a33-9eee-4c56-a6dc-72571c1af99d",
   "metadata": {},
   "outputs": [
    {
     "data": {
      "text/plain": [
       "0.5151515151515151"
      ]
     },
     "execution_count": 5,
     "metadata": {},
     "output_type": "execute_result"
    }
   ],
   "source": [
    "import networkx as nx\n",
    "\n",
    "# Medindo a Degree Centrality pertencente a um nó aleatório do clube de karatê.\n",
    "G = nx.karate_club_graph()\n",
    "G = nx.convert_node_labels_to_integers(G, first_label=1)\n",
    "\n",
    "# Veja que o NetworkX mede todas as DC's dos nós e as armazena em um dicionário.\n",
    "nx.degree_centrality(G)[34]"
   ]
  },
  {
   "cell_type": "markdown",
   "id": "9e8a79d1-1101-46bb-b4ad-04b09febcca8",
   "metadata": {},
   "source": [
    "<div> \n",
    "    <ul style='font-size:20px'> \n",
    "        <li> \n",
    "            Quando tratamos de redes unidirecionais, podemos medir tanto com o in-degree, quanto com o out-degree (quantidade de conexões recebidas ou feitas pelo nó).\n",
    "        </li>\n",
    "    </ul>\n",
    "</div>"
   ]
  },
  {
   "cell_type": "code",
   "execution_count": 11,
   "id": "2747720d-1c4b-4e25-9331-78aaf43330a9",
   "metadata": {},
   "outputs": [
    {
     "name": "stdout",
     "output_type": "stream",
     "text": [
      "0.5\n"
     ]
    },
    {
     "data": {
      "text/plain": [
       "0.25"
      ]
     },
     "execution_count": 11,
     "metadata": {},
     "output_type": "execute_result"
    }
   ],
   "source": [
    "# Criando uma rede unidirecional.\n",
    "G = nx.DiGraph()\n",
    "G.add_edges_from([('A', 'B'), ('B', 'D'), ('D', 'A'), ('D', 'B'), ('D', 'E'), ('B', 'E'), ('E', 'B'), ('F', 'A')])\n",
    "\n",
    "# Qual é a In-degree Centrality do nó 'A'?\n",
    "print(nx.in_degree_centrality(G)['A'])\n",
    "\n",
    "# Qual é a Out-degree Centrality de 'A'?\n",
    "nx.out_degree_centrality(G)['A']"
   ]
  },
  {
   "cell_type": "markdown",
   "id": "939fa41c-2a7a-43fc-ac0c-2eff9413b609",
   "metadata": {},
   "source": [
    "<h3 style='font-size:30px;font-style:italic'> Closeness Centrality</h3>\n",
    "<div> \n",
    "    <ul style='font-size:20px'> \n",
    "        <li> \n",
    "            Sua suposição é a de que nós importantes estão mais próximos de todos os outros nós.\n",
    "        </li>\n",
    "        <li> \n",
    "            Essa métrica é calculada com a fórmula $C=\\frac{N-1}{\\sum{d(v,u)}}$, em que d(v,u) é a distância do nó v a cada um dos outros pontos.\n",
    "        </li>\n",
    "    </ul>\n",
    "</div>"
   ]
  },
  {
   "cell_type": "code",
   "execution_count": 12,
   "id": "1fd0ffbd-eef5-4384-ace3-6405cd0644ac",
   "metadata": {},
   "outputs": [
    {
     "data": {
      "text/plain": [
       "0.55"
      ]
     },
     "execution_count": 12,
     "metadata": {},
     "output_type": "execute_result"
    }
   ],
   "source": [
    "G = nx.karate_club_graph()\n",
    "G = nx.convert_node_labels_to_integers(G, first_label=1)\n",
    "\n",
    "# Qual a Closeness do nó 34 do Clube de Karatê?\n",
    "nx.closeness_centrality(G)[34]"
   ]
  },
  {
   "cell_type": "markdown",
   "id": "d2e09b20-6456-4433-a121-96ce979ded86",
   "metadata": {},
   "source": [
    "<h4 style='font-size:30px;font-style:italic;text-decoration:underline'> Disconnected Graphs</h4>\n",
    "<div> \n",
    "    <ul style='font-size:20px'> \n",
    "        <li> \n",
    "            Para redes em que os nós podem não se conectar totalmente (como é o caso das unidirecionais), a fórmula passa a ser $C=\\frac{|R(L)|}{|N-1|}\\frac{|R(L)|}{|\\sum{d(L,u)}|}$, em que R(L) é o conjunto de nós alcançáveis para o ponto L.\n",
    "        </li>\n",
    "    </ul>\n",
    "</div>"
   ]
  },
  {
   "cell_type": "code",
   "execution_count": 20,
   "id": "4776f49b-bcbe-4016-ab7c-df9cdc1af688",
   "metadata": {},
   "outputs": [
    {
     "data": {
      "text/plain": [
       "{'A': 0.5714285714285714,\n",
       " 'B': 0.8,\n",
       " 'D': 0.5,\n",
       " 'E': 0.5714285714285714,\n",
       " 'F': 0.0}"
      ]
     },
     "execution_count": 20,
     "metadata": {},
     "output_type": "execute_result"
    }
   ],
   "source": [
    "G = nx.DiGraph()\n",
    "G.add_edges_from([('A', 'B'), ('B', 'D'), ('D', 'A'), ('D', 'B'), ('D', 'E'), ('B', 'E'), ('E', 'B'), ('F', 'A')])\n",
    "\n",
    "# Quando souber que a rede não é totalmente ligada, normalize a Closeness Centrality.\n",
    "# No NetworkX do curso, o argumento é 'normalized', mas aqui ele se chama 'wf_improved'.\n",
    "nx.closeness_centrality(G, wf_improved=True)"
   ]
  },
  {
   "cell_type": "code",
   "execution_count": 27,
   "id": "2545b01c-5ba8-43ab-af4b-76934786e5db",
   "metadata": {},
   "outputs": [
    {
     "data": {
      "text/plain": [
       "{'A': 0.0, 'B': 0.3333333333333333, 'C': 0.4444444444444444, 'D': 0.5}"
      ]
     },
     "execution_count": 27,
     "metadata": {},
     "output_type": "execute_result"
    }
   ],
   "source": [
    "G = nx.DiGraph()\n",
    "G.add_edges_from([('A', 'B'), ('B', 'C'), ('C', 'D')])\n",
    "nx.closeness_centrality(G, wf_improved=True)"
   ]
  },
  {
   "cell_type": "markdown",
   "id": "9872d259-9339-421a-a3bc-c8cb1dfecd4a",
   "metadata": {},
   "source": [
    "<div> \n",
    "    <hr>\n",
    "    <h2 style='font-size:30px'> Betweenness Centrality</h2>\n",
    "</div>"
   ]
  },
  {
   "cell_type": "markdown",
   "id": "5a498f41-56dc-4104-ae7b-b0451dd418d8",
   "metadata": {},
   "source": [
    "<div> \n",
    "    <ul style='font-size:20px'> \n",
    "        <li> \n",
    "            A Betweenness é uma métrica cuja suposição estipula que nós importantes conectam outros nós.\n",
    "        </li>\n",
    "        <li> \n",
    "            Para um nó v, sua Betweenness é $C{btw}=\\sum{\\frac{\\sigma{s,t}(v)}{\\sigma{s,t}}}$, em que $\\sigma{s,t}$ é o número de shortest paths entre cada par de nós da rede (s,t) e $\\sigma{s,t}(v)$ é a quantidade desses paths que passam por v.\n",
    "        </li>\n",
    "        <li> \n",
    "            Um dos dilemas desse cálculo é se devemos ou não considerar os paths que se originam com o próprio nó v.\n",
    "        </li>\n",
    "    </ul>\n",
    "</div>"
   ]
  },
  {
   "cell_type": "markdown",
   "id": "784381ff-09ba-48ed-9d02-4f643a831e13",
   "metadata": {},
   "source": [
    "<h3 style='font-size:30px;font-style:italic'> Betweenness Centrality Normalizada</h3>\n",
    "<div> \n",
    "    <ul style='font-size:20px'> \n",
    "        <li> \n",
    "            O problema da fórmula mostrada é que ela providencia Betweennesses maiores para redes grandes e menores para aquelas com menos nós. Para consertarmos isso, podemos dividir as pontuações obtidas por $\\frac{1}{2}(|N|-1)(|N|-2)$ para gráficos bidirecionais e $(|N|-1)(|N|-2)$ para os unidirecionais, em que N é a quantidade de pontos na rede.\n",
    "        </li>\n",
    "    </ul>\n",
    "</div>"
   ]
  },
  {
   "cell_type": "code",
   "execution_count": 52,
   "id": "e42bb878-6ee7-4e18-b30e-020308fbc942",
   "metadata": {},
   "outputs": [
    {
     "data": {
      "text/plain": [
       "{'A': 0.0,\n",
       " 'B': 0.0,\n",
       " 'C': 0.5333333333333333,\n",
       " 'D': 0.6,\n",
       " 'E': 0.5333333333333333,\n",
       " 'F': 0.0,\n",
       " 'G': 0.0}"
      ]
     },
     "execution_count": 52,
     "metadata": {},
     "output_type": "execute_result"
    }
   ],
   "source": [
    "G = nx.Graph()\n",
    "G.add_edges_from([('A', 'B'), ('B', 'C'), ('A', 'C'), ('C', 'D'), ('D', 'E'), ('E', 'F'), ('E', 'G'), ('F', 'G')])\n",
    "\n",
    "# Medindo as Betweennesses da sociedade. Use 'normalized' para normalizar o cálculo e 'endpoints' para considerar os paths\n",
    "# que se originam no ponto sob análise.\n",
    "nx.betweenness_centrality(G, normalized=True, endpoints=False)"
   ]
  },
  {
   "cell_type": "markdown",
   "id": "8bb72eb4-1e11-4c41-9c47-2e5267c5f4cb",
   "metadata": {},
   "source": [
    "<h3 style='font-size:30px;font-style:italic'> Betweenness Centrality - Approximation</h3>\n",
    "<div> \n",
    "    <ul style='font-size:20px'> \n",
    "        <li> \n",
    "            O cálculo de Betweenness Centrality pode se tornar custoso ao computador em redes enormes. Para isso, é possível medir essa métrica com uma sub-amostra de k instâncias para cada nó.\n",
    "        </li>\n",
    "    </ul>\n",
    "</div>"
   ]
  },
  {
   "cell_type": "code",
   "execution_count": 36,
   "id": "2cde8fe1-ea98-4f4f-b5da-e8f54e596090",
   "metadata": {},
   "outputs": [
    {
     "data": {
      "text/plain": [
       "[(33, 0.41234607984607985),\n",
       " (0, 0.3997560425685425),\n",
       " (32, 0.16837481962481962),\n",
       " (2, 0.1342358104858105),\n",
       " (31, 0.10017857142857141)]"
      ]
     },
     "execution_count": 36,
     "metadata": {},
     "output_type": "execute_result"
    }
   ],
   "source": [
    "from operator import itemgetter\n",
    "G = nx.karate_club_graph()\n",
    "nx.convert_node_labels_to_integers(G, first_label=1)\n",
    "\n",
    "# Use o 'itemgetter' do módulo 'operator' para resgatar os n itens mais altos dos valores de um dicionário.\n",
    "sorted(nx.betweenness_centrality(G, k=10, normalized=True, endpoints=False).items(), key=itemgetter(1), reverse=True)[:5]"
   ]
  },
  {
   "cell_type": "markdown",
   "id": "ef5336db-d79a-4853-9865-fdca7b350dd6",
   "metadata": {},
   "source": [
    "<h3 style='font-size:30px;font-style:italic'> Betweenness Centrality - Subsets</h3>\n",
    "<div> \n",
    "    <ul style='font-size:20px'> \n",
    "        <li> \n",
    "            Também somos capazes de medir a Betweenness de um nó com base em um subconjunto de nós fonte e alvo.\n",
    "        </li>\n",
    "    </ul>\n",
    "</div>"
   ]
  },
  {
   "cell_type": "code",
   "execution_count": 43,
   "id": "951a65ad-4739-454b-b2c3-37f81f9899e4",
   "metadata": {},
   "outputs": [
    {
     "data": {
      "text/plain": [
       "[(2, 0.0070075757575757585),\n",
       " (33, 0.0032354797979797984),\n",
       " (0, 0.0015940656565656566),\n",
       " (32, 0.001341540404040404),\n",
       " (1, 0.0012468434343434343)]"
      ]
     },
     "execution_count": 43,
     "metadata": {},
     "output_type": "execute_result"
    }
   ],
   "source": [
    "sorted(nx.betweenness_centrality_subset(G, [1,3,32, 20], [21, 28, 7, 9], normalized=True).items(), key=itemgetter(1), reverse=True)[:5]"
   ]
  },
  {
   "cell_type": "markdown",
   "id": "e4730c1a-aa7c-4dda-a132-95122997e5dc",
   "metadata": {},
   "source": [
    "<h3 style='font-size:30px;font-style:italic'> Betweenness Centrality - Edges</h3>\n",
    "<div> \n",
    "    <ul style='font-size:20px'> \n",
    "        <li> \n",
    "            Os Edges podem ter a sua Betweenness medida.\n",
    "        </li>\n",
    "    </ul>\n",
    "</div>"
   ]
  },
  {
   "cell_type": "code",
   "execution_count": 50,
   "id": "da6d716b-ee45-41b2-b3f8-c73d8809cb16",
   "metadata": {},
   "outputs": [
    {
     "name": "stdout",
     "output_type": "stream",
     "text": [
      "[((0, 5), 0.051099227569815796), ((0, 31), 0.04186189627366098), ((0, 11), 0.0392156862745098), ((19, 33), 0.0373956653368418), ((26, 33), 0.035612426788897374)]\n",
      "\n",
      "[((0, 5), 0.004010695187165775), ((0, 12), 0.0026985541691424042), ((5, 16), 0.002228163992869875), ((20, 33), 0.0020393889879183995), ((0, 17), 0.0019459298871063579)]\n"
     ]
    }
   ],
   "source": [
    "# Betweenness de maneira geral.\n",
    "print(sorted(nx.edge_betweenness_centrality(G, k=12).items(), key=itemgetter(1), reverse=True)[:5], end='\\n\\n')\n",
    "\n",
    "# Betweenness com base em um subconjunto.\n",
    "print(sorted(nx.edge_betweenness_centrality_subset(G, [1,5,20,23], [12, 16, 17, 29], normalized=True).items(), key=itemgetter(1),\n",
    "            reverse=True)[:5])"
   ]
  },
  {
   "cell_type": "markdown",
   "id": "b4f4c159-59b3-4d38-8185-c844821ae502",
   "metadata": {},
   "source": [
    "<div> \n",
    "    <hr>\n",
    "    <h2 style='font-size:30px'> Basic Page Rank</h2>\n",
    "</div>"
   ]
  },
  {
   "cell_type": "markdown",
   "id": "3b62ec9a-e00e-46ef-be87-462156e639f8",
   "metadata": {},
   "source": [
    "<div> \n",
    "    <ul style='font-size:20px'> \n",
    "        <li> \n",
    "            O Basic Page Rank é um sistema que mede a importância dos nós criado pelos fundadores do Google. É recomendável usar essa metodologia em redes unidirecionais.\n",
    "        </li>\n",
    "        <li> \n",
    "            Cada ponto é inicializado com um Page Rank de $\\frac{1}{N}$, em que N é a quantidade de pontos na rede. Após isso, as importâncias são atualizadas iterativamente, com o Page Rank de um nó se igualando à soma das importâncias dos pontos que se ligam a ele divididas pelo número de pontos com os quais esses mesmos também se conectam.\n",
    "        </li>\n",
    "        <li> \n",
    "            Buscando melhor ilustrar esse raciocínio, segue a imagem abaixo:\n",
    "        </li>\n",
    "    </ul>\n",
    "</div>\n",
    "<center> \n",
    "    <h1> Cálculo de Page Rank após uma iteração</h1>\n",
    "    <img src='pagerank1.png'>\n",
    "</center>"
   ]
  },
  {
   "cell_type": "markdown",
   "id": "3bfbc0ca-a031-40d0-b337-9b1a1a71e6d4",
   "metadata": {},
   "source": [
    "<div> \n",
    "    <ul style='font-size:20px'> \n",
    "        <li> \n",
    "            O ponto D recebe conexão apenas do B, cuja importância inicial é $\\frac{1}{5}$. Como B se liga também a outro nó (fazendo, portanto, duas ligações) , o novo Page Rank de D será $\\frac{1}{2}\\times \\frac{1}{5}=\\frac{1}{10}$.\n",
    "        </li>\n",
    "        <li> \n",
    "            Quando $k \\to \\infty$, os Page Ranks tendem a convergir a um valor único. Esse funcionamento lembra um pouco à clusterização do K-Means.\n",
    "        </li>\n",
    "    </ul>\n",
    "</div>"
   ]
  },
  {
   "cell_type": "markdown",
   "id": "72c9b349-f7b6-4445-b489-69c8ddcbed95",
   "metadata": {},
   "source": [
    "<h3 style='font-size:30px;font-style:italic'> O Significado do Page Rank</h3>\n",
    "<div> \n",
    "    <ul style='font-size:20px'> \n",
    "        <li> \n",
    "            O que a estatística Page Rank quer evidenciar é a probabilidade, para um nó n, de um caminhante após k passos aterrissar em n, tendo iniciado o seu trajeto em um nó aleatório.\n",
    "        </li>\n",
    "    </ul>\n",
    "</div>"
   ]
  },
  {
   "cell_type": "markdown",
   "id": "3790cbc8-db0b-4f9c-8b39-fbf363be4949",
   "metadata": {},
   "source": [
    "<div> \n",
    "    <hr>\n",
    "    <h2 style='font-size:30px'> Scaled Page Rank</h2>\n",
    "</div>"
   ]
  },
  {
   "cell_type": "markdown",
   "id": "f80d564b-7f69-4486-8a57-cf1fe29b52e2",
   "metadata": {},
   "source": [
    "<h3 style='font-size:30px;font-style:italic'> Page Rank Problem</h3>\n",
    "<div> \n",
    "    <ul style='font-size:20px'> \n",
    "        <li> \n",
    "            A metodologia do Page Rank apresentada na aula passada é limitada. Por exemplo, um conjunto de nós que apenas se ligam entre si acabará monopolizando o grau de importância da rede. Segue um exemplo abaixo:\n",
    "        </li>\n",
    "    </ul>\n",
    "</div>\n",
    "<center> \n",
    "    <img src='pagerank2.png'>\n",
    "</center>"
   ]
  },
  {
   "cell_type": "markdown",
   "id": "68348d95-566e-4993-ba59-dc59dbc3c41f",
   "metadata": {},
   "source": [
    "<div> \n",
    "    <ul style='font-size:20px'> \n",
    "        <li> \n",
    "            Observe: os nós F e G acabarão ficando com Page Ranks de 0.5, enquanto o restante com 0 após infinitas iterações.\n",
    "        </li>\n",
    "    </ul>\n",
    "</div>"
   ]
  },
  {
   "cell_type": "markdown",
   "id": "d1f116d1-1d9b-4d31-95b5-0e4b4f65dcd5",
   "metadata": {},
   "source": [
    "<h3 style='font-size:30px;font-style:italic'> Solução com a probabilidade $\\alpha$</h3>\n",
    "<div> \n",
    "    <ul style='font-size:20px'> \n",
    "        <li> \n",
    "            A fim de evitar esse resultado extremado, utilizamos uma probabilidade $\\alpha$, responsável por indicar que, à cada passo do caminhante pela rede, haverá $\\alpha$ de chance de ele escolher um nó vizinho devidamente ligado ao seu atual e $1-\\alpha$ de ele simplesmente escolher qualquer outro ponto da rede aleatoriamente.\n",
    "        </li>\n",
    "    </ul>\n",
    "</div>"
   ]
  },
  {
   "cell_type": "code",
   "execution_count": 8,
   "id": "598b18a7-1ef3-4b57-9efd-1a7b8d4815cd",
   "metadata": {},
   "outputs": [
    {
     "data": {
      "text/plain": [
       "{'A': 0.08742994144514556,\n",
       " 'B': 0.11250420121916287,\n",
       " 'C': 0.07357312225100279,\n",
       " 'D': 0.07357312225100279,\n",
       " 'E': 0.122401927882733,\n",
       " 'F': 0.2788605571521379,\n",
       " 'G': 0.25165712779881516}"
      ]
     },
     "execution_count": 8,
     "metadata": {},
     "output_type": "execute_result"
    }
   ],
   "source": [
    "# Montando uma rede unidirecional no NetworkX.\n",
    "import networkx as nx\n",
    "G = nx.DiGraph()\n",
    "# Aqui, os nós F e G apenas se ligam entre si.\n",
    "G.add_edges_from([('A', 'B'), ('B', 'C'), ('B', 'D'), ('A', 'E'), ('C', 'A'), ('D', 'E'), ('E', 'B'),\n",
    "                 ('E', 'F'), ('F', 'G'), ('G','F')])\n",
    "\n",
    "# Medindo o Page Rank com 'pagerank'.\n",
    "nx.pagerank(G, alpha=0.8, max_iter=1000)"
   ]
  },
  {
   "cell_type": "markdown",
   "id": "4ea6078e-2a70-4a3e-ab5b-210dc3a0d781",
   "metadata": {},
   "source": [
    "<div> \n",
    "    <hr>\n",
    "    <h2 style='font-size:30px'> Hubs and Authorities</h2>\n",
    "</div>"
   ]
  },
  {
   "cell_type": "markdown",
   "id": "f3094559-9db3-4ee7-a398-f39b27c661aa",
   "metadata": {},
   "source": [
    "<h3 style='font-size:30px;font-style:italic'> HITS Algorithm</h3>\n",
    "<div> \n",
    "    <ul style='font-size:20px'> \n",
    "        <li> \n",
    "            O HITS algorithm busca impor uma hierarquia entre os nós com a seguinte lógica: aqueles que são alvos de conexão para muitos pontos tendem a ser considerados nós de autoridade, já os que fazem muitas ligações sem serem alvos de outras ligações são nomeados como nós hubs. Isso lembra à clusterização do DBSCAN.\n",
    "        </li>\n",
    "    </ul>\n",
    "</div>\n",
    "<center> \n",
    "    <img src='hits1.png'>\n",
    "</center>"
   ]
  },
  {
   "cell_type": "markdown",
   "id": "20bacca0-3026-49f2-939c-37365bddb4cc",
   "metadata": {},
   "source": [
    "<h3 style='font-size:30px;font-style:italic'> HITS Algorithm</h3>\n",
    "<div> \n",
    "    <ul style='font-size:20px'> \n",
    "        <li> \n",
    "            Todos os nós são inicializados com os mesmos Authority e Hub scores. À cada iteração, o novo Authority score do nó é a soma dos Hub scores dos pontos que se conectam a ele; já o Hub score será a soma dos Authority scores dos pontos com os quais ele se conecta.\n",
    "        </li>\n",
    "    </ul>\n",
    "</div>\n",
    "<center> \n",
    "    <img src='hits2.png'>\n",
    "</center>\n",
    "<div> \n",
    "    <ul style='font-size:20px'> \n",
    "        <li> \n",
    "            No final, as novas pontuações são normalizadas, dividindo-as pela soma total dos Authorities e Hub scores da rede.\n",
    "        </li>\n",
    "    </ul>\n",
    "</div>"
   ]
  },
  {
   "cell_type": "code",
   "execution_count": 15,
   "id": "0362a934-fc49-4202-9c91-b4cdc0a04ff4",
   "metadata": {},
   "outputs": [
    {
     "name": "stderr",
     "output_type": "stream",
     "text": [
      "/Users/felipeveiga/opt/anaconda3/lib/python3.8/site-packages/networkx/algorithms/link_analysis/hits_alg.py:78: FutureWarning: adjacency_matrix will return a scipy.sparse array instead of a matrix in Networkx 3.0.\n",
      "  A = nx.adjacency_matrix(G, nodelist=list(G), dtype=float)\n"
     ]
    },
    {
     "data": {
      "text/plain": [
       "({'A': 3.4679260649421526e-17,\n",
       "  'B': 0.3660254037844386,\n",
       "  'C': -0.0,\n",
       "  'E': 2.1674537905888454e-18,\n",
       "  'D': 0.2679491924311227,\n",
       "  'F': 0.3660254037844386,\n",
       "  'G': -0.0},\n",
       " {'A': 0.5773502691896257,\n",
       "  'B': 3.736171079595148e-17,\n",
       "  'C': 3.736171079595148e-17,\n",
       "  'E': 0.21132486540518708,\n",
       "  'D': 4.670213849493935e-18,\n",
       "  'F': -0.0,\n",
       "  'G': 0.2113248654051871})"
      ]
     },
     "execution_count": 15,
     "metadata": {},
     "output_type": "execute_result"
    }
   ],
   "source": [
    "G = nx.DiGraph()\n",
    "# Montando uma pequena rede\n",
    "G.add_edges_from([('A', 'B'), ('A', 'C'), ('B', 'E'), ('B', 'A'), ('E', 'D'), ('D', 'A'), ('F', 'G'), ('F', 'A')])\n",
    "\n",
    "# Medindo os Authority e Hub scores da rede.\n",
    "nx.hits(G)"
   ]
  },
  {
   "cell_type": "markdown",
   "id": "1fcb181d-ca1e-45d8-99b1-426c7c24f45a",
   "metadata": {},
   "source": [
    "<div> \n",
    "    <hr>\n",
    "    <h2 style='font-size:30px'> Quiz</h2>\n",
    "</div>"
   ]
  },
  {
   "cell_type": "code",
   "execution_count": 17,
   "id": "74a742cb-721c-47fb-9c9d-e75a04c32d0c",
   "metadata": {},
   "outputs": [
    {
     "data": {
      "text/plain": [
       "0.6666666666666666"
      ]
     },
     "execution_count": 17,
     "metadata": {},
     "output_type": "execute_result"
    }
   ],
   "source": [
    "# Ex 1.\n",
    "G = nx.Graph()\n",
    "G.add_edges_from([('A', 'B'), ('A','C'), ('B', 'D'), ('C', 'D'), ('C', 'E'), ('D', 'E'), ('D', 'G'), ('E', 'G'), ('G', 'F')])\n",
    "\n",
    "nx.degree_centrality(G)['D']"
   ]
  },
  {
   "cell_type": "code",
   "execution_count": 18,
   "id": "185c7f6a-f49a-4939-80c8-4ac349b59b47",
   "metadata": {},
   "outputs": [
    {
     "data": {
      "text/plain": [
       "0.6"
      ]
     },
     "execution_count": 18,
     "metadata": {},
     "output_type": "execute_result"
    }
   ],
   "source": [
    "# Ex 2.\n",
    "nx.closeness_centrality(G)['G']"
   ]
  },
  {
   "cell_type": "code",
   "execution_count": 19,
   "id": "ba8de39b-7c00-402a-9a89-9c641ee9ed09",
   "metadata": {},
   "outputs": [
    {
     "data": {
      "text/plain": [
       "0.3333333333333333"
      ]
     },
     "execution_count": 19,
     "metadata": {},
     "output_type": "execute_result"
    }
   ],
   "source": [
    "# Ex. 3\n",
    "nx.betweenness_centrality(G)['G']"
   ]
  },
  {
   "cell_type": "code",
   "execution_count": 22,
   "id": "334cdb43-1364-4f40-84b8-41c855368a74",
   "metadata": {},
   "outputs": [
    {
     "data": {
      "text/plain": [
       "6.0"
      ]
     },
     "execution_count": 22,
     "metadata": {},
     "output_type": "execute_result"
    }
   ],
   "source": [
    "# Ex. 4\n",
    "nx.edge_betweenness_centrality(G, normalized=False)[('G', 'F')]"
   ]
  },
  {
   "cell_type": "code",
   "execution_count": 26,
   "id": "087b2012-0db4-4853-b326-875fbc2b7ac5",
   "metadata": {},
   "outputs": [
    {
     "data": {
      "text/plain": [
       "0.95"
      ]
     },
     "execution_count": 26,
     "metadata": {},
     "output_type": "execute_result"
    }
   ],
   "source": [
    "# Ex. 7\n",
    "import numpy as np\n",
    "G = nx.DiGraph()\n",
    "G.add_edges_from([('A', 'B'), ('B', 'A'), ('A', 'C'), ('C', 'D'), ('D', 'C')])\n",
    "\n",
    "alphas = [.5, .8, .9, .95]\n",
    "pr = np.array([nx.pagerank(G, alpha=alpha)['D'] for alpha in alphas])\n",
    "\n",
    "# .95\n",
    "alphas[np.argmax(pr)]"
   ]
  },
  {
   "cell_type": "code",
   "execution_count": 38,
   "id": "33692ca1-415a-486c-89e3-ae555e7d1115",
   "metadata": {},
   "outputs": [
    {
     "data": {
      "text/plain": [
       "0.625"
      ]
     },
     "execution_count": 38,
     "metadata": {},
     "output_type": "execute_result"
    }
   ],
   "source": [
    "# Ex. 8\n",
    "G = nx.DiGraph()\n",
    "G.add_edges_from([('A', 'B'), ('A', 'C'), ('B', 'C'), ('C', 'A'), ('D', 'C')])\n",
    "\n",
    "1/4 + (1/2 * 1/4) + 1/4"
   ]
  },
  {
   "cell_type": "code",
   "execution_count": 60,
   "id": "b7d61ab2-8625-42cb-9f6a-a9f81e8b2220",
   "metadata": {},
   "outputs": [
    {
     "data": {
      "text/plain": [
       "({'A': 0.414213562373095,\n",
       "  'B': 0.2928932188134525,\n",
       "  'C': -7.039376538613738e-17,\n",
       "  'D': 0.2928932188134525},\n",
       " {'A': -1.699455831017226e-16,\n",
       "  'B': 0.29289321881345254,\n",
       "  'C': 0.7071067811865476,\n",
       "  'D': 0.0})"
      ]
     },
     "execution_count": 60,
     "metadata": {},
     "output_type": "execute_result"
    }
   ],
   "source": [
    "# Ex. 9\n",
    "#round(nx.hits(G, max_iter=2, nstart={'A':1., 'B':1., 'C':1., 'D':1.})[0]['C'],4)\n",
    "nx.hits(G, max_iter=2)"
   ]
  },
  {
   "cell_type": "code",
   "execution_count": 61,
   "id": "a52189cc-bc1f-451d-88d1-d46b4f987b84",
   "metadata": {},
   "outputs": [
    {
     "data": {
      "text/plain": [
       "{'A': 0.25, 'B': 0.14375, 'C': 0.56875, 'D': 0.037500000000000006}"
      ]
     },
     "execution_count": 61,
     "metadata": {},
     "output_type": "execute_result"
    }
   ],
   "source": [
    "# Ex. 10\n",
    "nx.hits(G, max_iter=2, tol=.1)#, \n",
    "nx.pagerank(G, max_iter=4, tol=1)"
   ]
  },
  {
   "cell_type": "code",
   "execution_count": 9,
   "id": "b775ee21-a0d8-4a44-aca1-66d7f1b4687f",
   "metadata": {},
   "outputs": [],
   "source": [
    "! mv /Users/felipeveiga/Desktop/Screen\\ Shot\\ 2022-08-05\\ at\\ 13.41.40.png ./hits2.png"
   ]
  },
  {
   "cell_type": "markdown",
   "id": "d5e60b1d-31e3-4233-89f7-057e52a15737",
   "metadata": {},
   "source": [
    "<p style='color:red'> Hubs and Authorities (2:10)"
   ]
  }
 ],
 "metadata": {
  "kernelspec": {
   "display_name": "Python 3",
   "language": "python",
   "name": "python3"
  },
  "language_info": {
   "codemirror_mode": {
    "name": "ipython",
    "version": 3
   },
   "file_extension": ".py",
   "mimetype": "text/x-python",
   "name": "python",
   "nbconvert_exporter": "python",
   "pygments_lexer": "ipython3",
   "version": "3.8.8"
  }
 },
 "nbformat": 4,
 "nbformat_minor": 5
}
