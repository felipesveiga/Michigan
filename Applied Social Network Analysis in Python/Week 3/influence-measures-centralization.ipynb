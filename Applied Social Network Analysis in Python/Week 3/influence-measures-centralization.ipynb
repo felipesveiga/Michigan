{
 "cells": [
  {
   "cell_type": "markdown",
   "id": "3897a8f4-ae31-40e8-94f1-7ca7d05f7fc3",
   "metadata": {},
   "source": [
    "<h1 style='font-size:40px'>Influence Measures and Network Centralization </h1>"
   ]
  },
  {
   "cell_type": "markdown",
   "id": "78b7373f-f2af-4886-874c-e85675e19fb0",
   "metadata": {},
   "source": [
    "<h2 style= 'font-size:30px'> Degree and Closeness Centrality</h2>"
   ]
  },
  {
   "cell_type": "markdown",
   "id": "ed8d2306-c7ac-474d-8247-4020a7dc56ee",
   "metadata": {},
   "source": [
    "<div> \n",
    "    <ul style='font-size:20px'> \n",
    "        <li> \n",
    "            Como medir o grau de importância de um nó? Tudo depende do contexto em que nossa pesquisa está inserida. Por isso, estudaremos diversas métricas sobre importância de pontos nos próximos vídeos.\n",
    "        </li>\n",
    "    </ul>\n",
    "</div>"
   ]
  },
  {
   "cell_type": "markdown",
   "id": "ce47ab2d-7caf-428b-833e-35438bbe6fa5",
   "metadata": {},
   "source": [
    "<h3 style='font-size:30px;font-style:italic'> Degree Centrality</h3>\n",
    "<div> \n",
    "    <ul style='font-size:20px'> \n",
    "        <li> \n",
    "            Sua suposição é a de que nós importantes estão ligados a vários pontos.\n",
    "        </li>\n",
    "        <li> \n",
    "            Para redes bidirecionais, sua fórmula é $C=\\frac{d}{N-1}$ em que d é o degree do nó e N, a quantidade total de nós na rede.\n",
    "        </li>\n",
    "    </ul>\n",
    "</div>"
   ]
  },
  {
   "cell_type": "code",
   "execution_count": 5,
   "id": "80045a33-9eee-4c56-a6dc-72571c1af99d",
   "metadata": {},
   "outputs": [
    {
     "data": {
      "text/plain": [
       "0.5151515151515151"
      ]
     },
     "execution_count": 5,
     "metadata": {},
     "output_type": "execute_result"
    }
   ],
   "source": [
    "import networkx as nx\n",
    "\n",
    "# Medindo a Degree Centrality pertencente a um nó aleatório do clube de karatê.\n",
    "G = nx.karate_club_graph()\n",
    "G = nx.convert_node_labels_to_integers(G, first_label=1)\n",
    "\n",
    "# Veja que o NetworkX mede todas as DC's dos nós e as armazena em um dicionário.\n",
    "nx.degree_centrality(G)[34]"
   ]
  },
  {
   "cell_type": "markdown",
   "id": "9e8a79d1-1101-46bb-b4ad-04b09febcca8",
   "metadata": {},
   "source": [
    "<div> \n",
    "    <ul style='font-size:20px'> \n",
    "        <li> \n",
    "            Quando tratamos de redes unidirecionais, podemos medir tanto com o in-degree, quanto com o out-degree (quantidade de conexões recebidas ou feitas pelo nó).\n",
    "        </li>\n",
    "    </ul>\n",
    "</div>"
   ]
  },
  {
   "cell_type": "code",
   "execution_count": 11,
   "id": "2747720d-1c4b-4e25-9331-78aaf43330a9",
   "metadata": {},
   "outputs": [
    {
     "name": "stdout",
     "output_type": "stream",
     "text": [
      "0.5\n"
     ]
    },
    {
     "data": {
      "text/plain": [
       "0.25"
      ]
     },
     "execution_count": 11,
     "metadata": {},
     "output_type": "execute_result"
    }
   ],
   "source": [
    "# Criando uma rede unidirecional.\n",
    "G = nx.DiGraph()\n",
    "G.add_edges_from([('A', 'B'), ('B', 'D'), ('D', 'A'), ('D', 'B'), ('D', 'E'), ('B', 'E'), ('E', 'B'), ('F', 'A')])\n",
    "\n",
    "# Qual é a In-degree Centrality do nó 'A'?\n",
    "print(nx.in_degree_centrality(G)['A'])\n",
    "\n",
    "# Qual é a Out-degree Centrality de 'A'?\n",
    "nx.out_degree_centrality(G)['A']"
   ]
  },
  {
   "cell_type": "markdown",
   "id": "939fa41c-2a7a-43fc-ac0c-2eff9413b609",
   "metadata": {},
   "source": [
    "<h3 style='font-size:30px;font-style:italic'> Closeness Centrality</h3>\n",
    "<div> \n",
    "    <ul style='font-size:20px'> \n",
    "        <li> \n",
    "            Sua suposição é a de que nós importantes estão mais próximos a todos os outros nós.\n",
    "        </li>\n",
    "        <li> \n",
    "            Essa métrica é calculada com a fórmula $C=\\frac{N-1}{\\sum{d(v,u)}}$, em que d(v,u) é a distância do nó v a cada um dos outros pontos.\n",
    "        </li>\n",
    "    </ul>\n",
    "</div>"
   ]
  },
  {
   "cell_type": "code",
   "execution_count": 12,
   "id": "1fd0ffbd-eef5-4384-ace3-6405cd0644ac",
   "metadata": {},
   "outputs": [
    {
     "data": {
      "text/plain": [
       "0.55"
      ]
     },
     "execution_count": 12,
     "metadata": {},
     "output_type": "execute_result"
    }
   ],
   "source": [
    "G = nx.karate_club_graph()\n",
    "G = nx.convert_node_labels_to_integers(G, first_label=1)\n",
    "\n",
    "# Qual a Closeness do nó 34 do Clube de Karatê?\n",
    "nx.closeness_centrality(G)[34]"
   ]
  },
  {
   "cell_type": "markdown",
   "id": "d2e09b20-6456-4433-a121-96ce979ded86",
   "metadata": {},
   "source": [
    "<h4 style='font-size:30px;font-style:italic;text-decoration:underline'> Disconnected Graphs</h4>\n",
    "<div> \n",
    "    <ul style='font-size:20px'> \n",
    "        <li> \n",
    "            Para redes em que os nós podem não se conectar totalmente (como é o caso das unidirecionais), a fórmula passa a ser $C=\\frac{|R(L)|}{|N-1|}\\frac{|R(L)|}{|\\sum{d(L,u)}|}$, em que R(L) é o conjunto de nós alcançáveis para o ponto L.\n",
    "        </li>\n",
    "    </ul>\n",
    "</div>"
   ]
  },
  {
   "cell_type": "code",
   "execution_count": 20,
   "id": "4776f49b-bcbe-4016-ab7c-df9cdc1af688",
   "metadata": {},
   "outputs": [
    {
     "data": {
      "text/plain": [
       "{'A': 0.5714285714285714,\n",
       " 'B': 0.8,\n",
       " 'D': 0.5,\n",
       " 'E': 0.5714285714285714,\n",
       " 'F': 0.0}"
      ]
     },
     "execution_count": 20,
     "metadata": {},
     "output_type": "execute_result"
    }
   ],
   "source": [
    "G = nx.DiGraph()\n",
    "G.add_edges_from([('A', 'B'), ('B', 'D'), ('D', 'A'), ('D', 'B'), ('D', 'E'), ('B', 'E'), ('E', 'B'), ('F', 'A')])\n",
    "\n",
    "# Quando souber que a rede não é totalemente ligada, normalize a Closeness Centrality.\n",
    "# No NetworkX do curso, o argumento é 'normalized', mas aqui ele se chama 'wf_improved'.\n",
    "nx.closeness_centrality(G, wf_improved=True)"
   ]
  },
  {
   "cell_type": "code",
   "execution_count": 27,
   "id": "2545b01c-5ba8-43ab-af4b-76934786e5db",
   "metadata": {},
   "outputs": [
    {
     "data": {
      "text/plain": [
       "{'A': 0.0, 'B': 0.3333333333333333, 'C': 0.4444444444444444, 'D': 0.5}"
      ]
     },
     "execution_count": 27,
     "metadata": {},
     "output_type": "execute_result"
    }
   ],
   "source": [
    "G = nx.DiGraph()\n",
    "G.add_edges_from([('A', 'B'), ('B', 'C'), ('C', 'D')])\n",
    "nx.closeness_centrality(G, wf_improved=True)"
   ]
  },
  {
   "cell_type": "markdown",
   "id": "9872d259-9339-421a-a3bc-c8cb1dfecd4a",
   "metadata": {},
   "source": [
    "<div> \n",
    "    <hr>\n",
    "    <h2 style='font-size:30px'> Betweenness Centrality</h2>\n",
    "</div>"
   ]
  },
  {
   "cell_type": "markdown",
   "id": "5a498f41-56dc-4104-ae7b-b0451dd418d8",
   "metadata": {},
   "source": [
    "<div> \n",
    "    <ul style='font-size:20px'> \n",
    "        <li> \n",
    "            A Betweenness é uma métrica cuja suposição estipula que nós importantes conectam outros nós.\n",
    "        </li>\n",
    "        <li> \n",
    "            Para um nó v, sua Betweenness é $C{btw}=\\sum{\\frac{\\sigma{s,t}(v)}{\\sigma{s,t}}}$, em que $\\sigma{s,t}$ é o número de shortest paths entre cada par de nós da rede (s,t) e $\\sigma{s,t}(v)$ é a quantidade desses paths que passam por v.\n",
    "        </li>\n",
    "        <li> \n",
    "            Um dos dilemas desse cálculo é se devemos ou não considerar os paths que se originam com o próprio nó v.\n",
    "        </li>\n",
    "    </ul>\n",
    "</div>"
   ]
  },
  {
   "cell_type": "markdown",
   "id": "784381ff-09ba-48ed-9d02-4f643a831e13",
   "metadata": {},
   "source": [
    "<h3 style='font-size:30px;font-style:italic'> Betweenness Centrality Normalizada</h3>\n",
    "<div> \n",
    "    <ul style='font-size:20px'> \n",
    "        <li> \n",
    "            O problema da fórmula mostrada é que ela providencia Betweennesses maiores para redes grandes e menores para aquelas com menos nós. Para consertarmos isso, podemos dividir as pontuações obtidas por $\\frac{1}{2}(|N|-1)(|N|-2)$ para gráficos bidirecionais e $(|N|-1)(|N|-2)$ para os unidimensionais, em que N é a quantidade de pontos na rede.\n",
    "        </li>\n",
    "    </ul>\n",
    "</div>"
   ]
  },
  {
   "cell_type": "code",
   "execution_count": 30,
   "id": "e42bb878-6ee7-4e18-b30e-020308fbc942",
   "metadata": {},
   "outputs": [
    {
     "data": {
      "text/plain": [
       "{'A': 0.0,\n",
       " 'B': 0.0,\n",
       " 'C': 0.5333333333333333,\n",
       " 'D': 0.6,\n",
       " 'E': 0.5333333333333333,\n",
       " 'F': 0.0,\n",
       " 'G': 0.0}"
      ]
     },
     "execution_count": 30,
     "metadata": {},
     "output_type": "execute_result"
    }
   ],
   "source": [
    "G = nx.Graph()\n",
    "G.add_edges_from([('A', 'B'), ('B', 'C'), ('A', 'C'), ('C', 'D'), ('D', 'E'), ('E', 'F'), ('E', 'G'), ('F', 'G')])\n",
    "\n",
    "# Medindo as Betweennesses da sociedade. Use 'normalized' para normalizar o cálculo e 'endpoints' para considerar os paths\n",
    "# que se originam no ponto sob análise.\n",
    "nx.betweenness_centrality(G)"
   ]
  },
  {
   "cell_type": "markdown",
   "id": "d5e60b1d-31e3-4233-89f7-057e52a15737",
   "metadata": {},
   "source": [
    "<p style='color:red'> Betweenness Centrality (10:20)"
   ]
  }
 ],
 "metadata": {
  "kernelspec": {
   "display_name": "Python 3",
   "language": "python",
   "name": "python3"
  },
  "language_info": {
   "codemirror_mode": {
    "name": "ipython",
    "version": 3
   },
   "file_extension": ".py",
   "mimetype": "text/x-python",
   "name": "python",
   "nbconvert_exporter": "python",
   "pygments_lexer": "ipython3",
   "version": "3.8.8"
  }
 },
 "nbformat": 4,
 "nbformat_minor": 5
}
