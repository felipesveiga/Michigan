{
 "cells": [
  {
   "cell_type": "markdown",
   "id": "3897a8f4-ae31-40e8-94f1-7ca7d05f7fc3",
   "metadata": {},
   "source": [
    "<h1 style='font-size:40px'>Influence Measures and Network Centralization </h1>"
   ]
  },
  {
   "cell_type": "markdown",
   "id": "78b7373f-f2af-4886-874c-e85675e19fb0",
   "metadata": {},
   "source": [
    "<h2 style= 'font-size:30px'> Degree and Closeness Centrality</h2>"
   ]
  },
  {
   "cell_type": "markdown",
   "id": "ed8d2306-c7ac-474d-8247-4020a7dc56ee",
   "metadata": {},
   "source": [
    "<div> \n",
    "    <ul style='font-size:20px'> \n",
    "        <li> \n",
    "            Como medir o grau de importância de um nó? Tudo depende do contexto em que nossa pesquisa está inserida. Por isso, estudaremos diversas métricas sobre importância de pontos nos próximos vídeos.\n",
    "        </li>\n",
    "    </ul>\n",
    "</div>"
   ]
  },
  {
   "cell_type": "markdown",
   "id": "ce47ab2d-7caf-428b-833e-35438bbe6fa5",
   "metadata": {},
   "source": [
    "<h3 style='font-size:30px;font-style:italic'> Degree Centrality</h3>\n",
    "<div> \n",
    "    <ul style='font-size:20px'> \n",
    "        <li> \n",
    "            Sua suposição é a de que nós importantes estão ligados a vários pontos.\n",
    "        </li>\n",
    "        <li> \n",
    "            Para redes bidirecionais, sua fórmula é $C=\\frac{d}{N-1}$ em que d é o degree do nó e N, a quantidade total de nós na rede.\n",
    "        </li>\n",
    "    </ul>\n",
    "</div>"
   ]
  },
  {
   "cell_type": "code",
   "execution_count": 5,
   "id": "80045a33-9eee-4c56-a6dc-72571c1af99d",
   "metadata": {},
   "outputs": [
    {
     "data": {
      "text/plain": [
       "0.5151515151515151"
      ]
     },
     "execution_count": 5,
     "metadata": {},
     "output_type": "execute_result"
    }
   ],
   "source": [
    "import networkx as nx\n",
    "\n",
    "# Medindo a Degree Centrality pertencente a um nó aleatório do clube de karatê.\n",
    "G = nx.karate_club_graph()\n",
    "G = nx.convert_node_labels_to_integers(G, first_label=1)\n",
    "\n",
    "# Veja que o NetworkX mede todas as DC's dos nós e as armazena em um dicionário.\n",
    "nx.degree_centrality(G)[34]"
   ]
  },
  {
   "cell_type": "markdown",
   "id": "9e8a79d1-1101-46bb-b4ad-04b09febcca8",
   "metadata": {},
   "source": [
    "<div> \n",
    "    <ul style='font-size:20px'> \n",
    "        <li> \n",
    "            Quando tratamos de redes unidirecionais, podemos medir tanto com o in-degree, quanto com o out-degree (quantidade de conexões recebidas ou feitas pelo nó).\n",
    "        </li>\n",
    "    </ul>\n",
    "</div>"
   ]
  },
  {
   "cell_type": "code",
   "execution_count": 11,
   "id": "2747720d-1c4b-4e25-9331-78aaf43330a9",
   "metadata": {},
   "outputs": [
    {
     "name": "stdout",
     "output_type": "stream",
     "text": [
      "0.5\n"
     ]
    },
    {
     "data": {
      "text/plain": [
       "0.25"
      ]
     },
     "execution_count": 11,
     "metadata": {},
     "output_type": "execute_result"
    }
   ],
   "source": [
    "# Criando uma rede unidirecional.\n",
    "G = nx.DiGraph()\n",
    "G.add_edges_from([('A', 'B'), ('B', 'D'), ('D', 'A'), ('D', 'B'), ('D', 'E'), ('B', 'E'), ('E', 'B'), ('F', 'A')])\n",
    "\n",
    "# Qual é a In-degree Centrality do nó 'A'?\n",
    "print(nx.in_degree_centrality(G)['A'])\n",
    "\n",
    "# Qual é a Out-degree Centrality de 'A'?\n",
    "nx.out_degree_centrality(G)['A']"
   ]
  },
  {
   "cell_type": "markdown",
   "id": "939fa41c-2a7a-43fc-ac0c-2eff9413b609",
   "metadata": {},
   "source": [
    "<h3 style='font-size:30px;font-style:italic'> Closeness Centrality</h3>\n",
    "<div> \n",
    "    <ul style='font-size:20px'> \n",
    "        <li> \n",
    "            Sua suposição é a de que nós importantes estão mais próximos a todos os outros nós.\n",
    "        </li>\n",
    "        <li> \n",
    "            Essa métrica é calculada com a fórmula $C=\\frac{N-1}{\\sum{d(v,u)}}$\n",
    "        </li>\n",
    "    </ul>\n",
    "</div>"
   ]
  },
  {
   "cell_type": "code",
   "execution_count": 12,
   "id": "1fd0ffbd-eef5-4384-ace3-6405cd0644ac",
   "metadata": {},
   "outputs": [
    {
     "data": {
      "text/plain": [
       "0.55"
      ]
     },
     "execution_count": 12,
     "metadata": {},
     "output_type": "execute_result"
    }
   ],
   "source": [
    "G = nx.karate_club_graph()\n",
    "G = nx.convert_node_labels_to_integers(G, first_label=1)\n",
    "\n",
    "# Qual a Closeness do nó 34 do Clube de Karatê?\n",
    "nx.closeness_centrality(G)[34]"
   ]
  }
 ],
 "metadata": {
  "kernelspec": {
   "display_name": "Python 3",
   "language": "python",
   "name": "python3"
  },
  "language_info": {
   "codemirror_mode": {
    "name": "ipython",
    "version": 3
   },
   "file_extension": ".py",
   "mimetype": "text/x-python",
   "name": "python",
   "nbconvert_exporter": "python",
   "pygments_lexer": "ipython3",
   "version": "3.8.8"
  }
 },
 "nbformat": 4,
 "nbformat_minor": 5
}
