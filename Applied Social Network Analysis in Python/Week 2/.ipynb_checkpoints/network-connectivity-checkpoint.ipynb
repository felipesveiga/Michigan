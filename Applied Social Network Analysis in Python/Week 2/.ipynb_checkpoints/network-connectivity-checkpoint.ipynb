{
 "cells": [
  {
   "cell_type": "markdown",
   "id": "68e6c69d-a172-4e5b-b755-8ff4fd1cb671",
   "metadata": {},
   "source": [
    "<h1 style='font-size:40px'> Network Connectivity</h1>"
   ]
  },
  {
   "cell_type": "markdown",
   "id": "2a1bae5a-423b-43e5-9f39-7833b88ab63c",
   "metadata": {},
   "source": [
    "<h2 style='font-size:30px'> Clustering Coefficient</h2>"
   ]
  },
  {
   "cell_type": "markdown",
   "id": "d48c5fd7-20fc-4202-ba21-1ec8b560ef0d",
   "metadata": {},
   "source": [
    "<h3 style='font-size:30px;font-style:italic'> Local Clustering Coefficient</h3>\n",
    "<div> \n",
    "    <ul style='font-size:20px'> \n",
    "        <li> \n",
    "            Mede a razão entre o número de ligações tidas entre os nós que se conectam a um certo ponto e a quantidade de pares que são possíveis formar entre os pontos de ligação.\n",
    "        </li>\n",
    "        <li> \n",
    "            Para medir o denominador mencionado, use a fórmula $\\frac{d(d-1)}{2}$, em que d é o degree do nó. \n",
    "        </li>\n",
    "    </ul>\n",
    "</div>"
   ]
  },
  {
   "cell_type": "markdown",
   "id": "b0be6c45-4b5f-4672-b343-871dcd4d13fa",
   "metadata": {},
   "source": [
    "<center> \n",
    "    <h1> Exemplo de Cálculo de um Local Clustering Coefficient</h1>\n",
    "    <img src='cluster_coeff1.png'>\n",
    "</center>"
   ]
  },
  {
   "cell_type": "markdown",
   "id": "e3e4e7ba-8e48-480b-8b51-6c4910bda84e",
   "metadata": {},
   "source": [
    "<div> \n",
    "    <ul style='font-size:20px'> \n",
    "        <li> \n",
    "            Nota: para nós com degree igual a 1, o coeficiente sempre será 0.\n",
    "        </li>\n",
    "    </ul>\n",
    "</div>"
   ]
  },
  {
   "cell_type": "code",
   "execution_count": 5,
   "id": "f4da7d1c-7137-413b-9bea-0e0db5508800",
   "metadata": {},
   "outputs": [
    {
     "data": {
      "text/plain": [
       "0.3333333333333333"
      ]
     },
     "execution_count": 5,
     "metadata": {},
     "output_type": "execute_result"
    }
   ],
   "source": [
    "# Exemplo de cálculo de um Local Clustering Coefficient no NetworkX.\n",
    "import networkx as nx\n",
    "G = nx.Graph()\n",
    "G.add_edges_from([('A', 'B'), ('A', 'D'), ('B','C'), ('D', 'F'), ('F', 'A')])\n",
    "\n",
    "# Medindo o Clustering Coefficient.\n",
    "nx.clustering(G, 'A')"
   ]
  },
  {
   "cell_type": "markdown",
   "id": "5b90c9fe-2172-4774-a41b-130b7da61eff",
   "metadata": {},
   "source": [
    "<h3 style='font-size:30px;font-style:italic'> Global Clustering Coefficient</h3>\n",
    "<div> \n",
    "    <ul style='font-size:20px'> \n",
    "        <li> \n",
    "            Agora, abordaremos duas maneiras de se mensurar o Clustering Coefficient de uma rede inteira.\n",
    "        </li>\n",
    "    </ul>\n",
    "</div>"
   ]
  },
  {
   "cell_type": "markdown",
   "id": "94756278-b9b1-4c62-a8be-f53dd51855ab",
   "metadata": {},
   "source": [
    "<h4 style='font-size:30px;font-style:italic;text-decoration:underline'> Average Clustering Coefficient</h4>\n",
    "<div> \n",
    "    <ul style='font-size:20px'> \n",
    "        <li> \n",
    "            A primeira maneira é mensurando o Clustering Coefficient para cada nó e extrair a média dos valores.\n",
    "        </li>\n",
    "    </ul>\n",
    "</div>"
   ]
  },
  {
   "cell_type": "code",
   "execution_count": 6,
   "id": "447141f6-3cd4-44f1-bb6f-6ff0f3f4a58c",
   "metadata": {},
   "outputs": [
    {
     "data": {
      "text/plain": [
       "0.4666666666666666"
      ]
     },
     "execution_count": 6,
     "metadata": {},
     "output_type": "execute_result"
    }
   ],
   "source": [
    "# Use 'average_clustering' no NetworkX para essa operação.\n",
    "nx.average_clustering(G)"
   ]
  },
  {
   "cell_type": "markdown",
   "id": "e7d97e1f-b315-46ed-9ba5-28e1fe173f9c",
   "metadata": {},
   "source": [
    "<h4 style='font-size:30px;font-style:italic;text-decoration:underline'> Transitivity</h4>\n",
    "<div> \n",
    "    <ul style='font-size:20px'> \n",
    "        <li> \n",
    "            A transitividade de uma rede consiste na divisão entre o número ligações-triângulo vezes 3 e a quantidade de ligações-tríade presentes.\n",
    "        </li>\n",
    "        <li> \n",
    "            A sua diferença com relação ao Average Clustering Coefficient é o seu maior peso conferido a nós com degrees elevados.\n",
    "        </li>\n",
    "    </ul>\n",
    "</div>"
   ]
  },
  {
   "cell_type": "markdown",
   "id": "7c3dfa29-13cd-4cfd-ae81-fce44fe6f00c",
   "metadata": {},
   "source": [
    "<center> \n",
    "    <img src='cluster_coeff2.png'>\n",
    "</center>"
   ]
  },
  {
   "cell_type": "code",
   "execution_count": 7,
   "id": "1ba8318c-8b48-4acd-85f6-a83712f6fd19",
   "metadata": {},
   "outputs": [
    {
     "data": {
      "text/plain": [
       "0.5"
      ]
     },
     "execution_count": 7,
     "metadata": {},
     "output_type": "execute_result"
    }
   ],
   "source": [
    "# Use 'transitivity' no NetworkX.\n",
    "nx.transitivity(G)"
   ]
  },
  {
   "cell_type": "markdown",
   "id": "71e78f64-fcc7-47fc-882e-f0908a15b44a",
   "metadata": {},
   "source": [
    "<center> \n",
    "    <h1> Discrepâncias entre ACC e Transitivity</h1>\n",
    "    <img src='transitivity1.png'>\n",
    "</center>"
   ]
  },
  {
   "cell_type": "markdown",
   "id": "3514d91d-57af-4da7-b355-dabe4c885e04",
   "metadata": {},
   "source": [
    "<div> \n",
    "    <hr>\n",
    "    <h2 style='font-size:30px'> Distance Measures</h2>\n",
    "</div>"
   ]
  },
  {
   "cell_type": "markdown",
   "id": "0ce97914-2bec-4c7e-ba47-818c915db695",
   "metadata": {},
   "source": [
    "<div> \n",
    "    <ul style='font-size:20px'> \n",
    "        <li> \n",
    "            Nesta aula, aprenderemos a analisar distâncias entre nós.\n",
    "        </li>\n",
    "    </ul>\n",
    "</div>"
   ]
  },
  {
   "cell_type": "markdown",
   "id": "85508a5a-84d6-4c7b-b997-baf16afd71e6",
   "metadata": {},
   "source": [
    "<h3 style='font-size:30px;font-style:italic'> Path</h3>\n",
    "<div> \n",
    "    <ul style='font-size:20px'> \n",
    "        <li> \n",
    "            Um Path é uma sequência de edges que liga um nó a outro. A distância entre dois pontos é o path <strong>mais curto</strong> entre eles.\n",
    "        </li>\n",
    "    </ul>\n",
    "</div>"
   ]
  },
  {
   "cell_type": "code",
   "execution_count": 13,
   "id": "7e453cbe-e5ab-40e0-87e4-e1c5ddd39f76",
   "metadata": {},
   "outputs": [
    {
     "name": "stdout",
     "output_type": "stream",
     "text": [
      "['A', 'B', 'C', 'E']\n",
      "3\n",
      "3\n"
     ]
    }
   ],
   "source": [
    "G = nx.Graph()\n",
    "G.add_edges_from([('A', 'B'), ('D', 'E'), ('C', 'B'), ('E', 'C')])\n",
    "\n",
    "# Qual o caminho mais curto entre os nós 'A' e 'E'?\n",
    "print(nx.shortest_path(G, 'A', 'E'))\n",
    "\n",
    "# Qual o comprimento dessa rota?\n",
    "print(nx.shortest_path_length(G, 'A', 'E'))\n",
    "\n",
    "# Outra maneira de se medir isso:\n",
    "print(len(nx.shortest_path(G, 'A', 'E')) - 1)"
   ]
  },
  {
   "cell_type": "markdown",
   "id": "79c5039b-0f8d-44b2-844c-625563e712a7",
   "metadata": {},
   "source": [
    "<h3 style='font-size:30px;font-style:italic'> Breadth-First Search</h3>\n",
    "<div> \n",
    "    <ul style='font-size:20px'> \n",
    "        <li> \n",
    "            Breadth-First Search é um algoritmo cujo intuito é medir a distância de um nó a todos os demais pontos da rede.\n",
    "        </li>\n",
    "        <li> \n",
    "            Ele monta uma árvore de ligações entre todos os nós; quanto maior a profundidade da camada, mais distante o ponto está do nó-referência.\n",
    "        </li>\n",
    "    </ul>\n",
    "</div>"
   ]
  },
  {
   "cell_type": "markdown",
   "id": "7d57c41d-df73-49c9-8383-6efe4ac68699",
   "metadata": {},
   "source": [
    "<center> \n",
    "    <h1> Exemplo de uma árvore Breath-First Search</h1>\n",
    "    <img src='breadth1.png'>\n",
    "</center>"
   ]
  },
  {
   "cell_type": "code",
   "execution_count": 23,
   "id": "8adf78ba-c15e-4316-83a5-935974aa9db7",
   "metadata": {},
   "outputs": [
    {
     "name": "stdout",
     "output_type": "stream",
     "text": [
      "[('A', 'B'), ('B', 'C'), ('C', 'E'), ('E', 'D')]\n",
      "{'A': 0, 'B': 1, 'C': 2, 'E': 3, 'D': 4}\n"
     ]
    }
   ],
   "source": [
    "# Montando uma BFS no NetworkX com relação ao nó 'A'.\n",
    "T = nx.bfs_tree(G, 'A')\n",
    "\n",
    "print(T.edges())\n",
    "print(nx.shortest_path_length(T, 'A'))"
   ]
  },
  {
   "cell_type": "markdown",
   "id": "af74bef6-6185-4fee-b5ea-a4fc14705735",
   "metadata": {},
   "source": [
    "<h3 style='font-size:30px;font-style:italic'> Distance Measures</h3>\n",
    "<div> \n",
    "    <ul style='font-size:20px'> \n",
    "        <li> \n",
    "            Quais métricas existem para caracterizarmos uma rede com base em distâncias?\n",
    "        </li>\n",
    "    </ul>\n",
    "</div>\n",
    "<h4 style='font-size:30px;font-style:italic;text-decoration:underline'> Average Distance</h4>\n",
    "<div> \n",
    "    <ul style='font-size:20px'> \n",
    "        <li> \n",
    "            Mede a distância média entre todos os pares de nós na rede.\n",
    "        </li>\n",
    "    </ul>\n",
    "</div>\n",
    "<h4 style='font-size:30px;font-style:italic;text-decoration:underline'> Diameter</h4>\n",
    "<div> \n",
    "    <ul style='font-size:20px'> \n",
    "        <li> \n",
    "            Mensura a maior distância existente entre dois nós em toda a rede.\n",
    "        </li>\n",
    "    </ul>\n",
    "</div>\n",
    "<h4 style='font-size:30px;font-style:italic;text-decoration:underline'> Eccentricity</h4>\n",
    "<div> \n",
    "    <ul style='font-size:20px'> \n",
    "        <li> \n",
    "            Calcula a maior distância tida por um nó.\n",
    "        </li>\n",
    "    </ul>\n",
    "</div>\n",
    "<h4 style='font-size:30px;font-style:italic;text-decoration:underline'> Radius</h4>\n",
    "<div> \n",
    "    <ul style='font-size:20px'> \n",
    "        <li> \n",
    "            É a menor Eccentricity tida na rede.\n",
    "        </li>\n",
    "    </ul>\n",
    "</div>\n",
    "<h4 style='font-size:30px;font-style:italic;text-decoration:underline'> Periphery</h4>\n",
    "<div> \n",
    "    <ul style='font-size:20px'> \n",
    "        <li> \n",
    "            O conjunto de nós com uma ecentricidade igual ao diâmetro da rede.\n",
    "        </li>\n",
    "        <li> \n",
    "            Essa métrica é bastante sensível a pequenas alterações na network e pode não ser a mais apropriada para certos cenários.\n",
    "        </li>\n",
    "    </ul>\n",
    "</div>\n",
    "<h4 style='font-size:30px;font-style:italic;text-decoration:underline'> Center</h4>\n",
    "<div> \n",
    "    <ul style='font-size:20px'> \n",
    "        <li> \n",
    "            O conjunto de nós com ecentricidade igual ao raio da rede.\n",
    "        </li>\n",
    "    </ul>\n",
    "</div>"
   ]
  },
  {
   "cell_type": "code",
   "execution_count": 30,
   "id": "3b100132-d48c-4355-90e5-4e206f26f6c3",
   "metadata": {},
   "outputs": [
    {
     "name": "stdout",
     "output_type": "stream",
     "text": [
      "Average Distance:  2.0\n",
      "Diameter:  4\n",
      "Eccentricity:  {'A': 4, 'B': 3, 'D': 4, 'E': 3, 'C': 2}\n",
      "Radius:  2\n",
      "Periphery:  ['A', 'D']\n",
      "Center:  ['C']\n"
     ]
    }
   ],
   "source": [
    "# Average Distance.\n",
    "print('Average Distance: ',nx.average_shortest_path_length(G))\n",
    "\n",
    "# Diameter\n",
    "print('Diameter: ',nx.diameter(G))\n",
    "\n",
    "# Eccentricity.\n",
    "print('Eccentricity: ',nx.eccentricity(G))\n",
    "\n",
    "# Radius.\n",
    "print('Radius: ',nx.radius(G))\n",
    "\n",
    "# Periphery.\n",
    "print('Periphery: ',nx.periphery(G))\n",
    "\n",
    "# Center.\n",
    "print('Center: ',nx.center(G))"
   ]
  },
  {
   "cell_type": "markdown",
   "id": "6b18624b-2f87-40f2-854f-9a087b222bc6",
   "metadata": {},
   "source": [
    "<h3 style='font-size:30px;font-style:italic'> Karate Club Network</h3>\n",
    "<div> \n",
    "    <ul style='font-size:20px'> \n",
    "        <li> \n",
    "            Agora, aplicaremos os conceitos aprendidos na rede do clube de karatê. Essa pode ser considerada o load_iris nos estudos de redes sociais por sua fama.\n",
    "        </li>\n",
    "    </ul>\n",
    "</div>"
   ]
  },
  {
   "cell_type": "code",
   "execution_count": 35,
   "id": "2535d13a-f6b6-486d-bfa6-a857233e63ad",
   "metadata": {},
   "outputs": [
    {
     "name": "stdout",
     "output_type": "stream",
     "text": [
      "Average Distance: 2.408199643493761\n",
      "Center: [1, 2, 3, 4, 9, 14, 20, 32]\n",
      "Periphery: [15, 16, 17, 19, 21, 23, 24, 27, 30]\n",
      "Radiues: 3\n"
     ]
    }
   ],
   "source": [
    "G = nx.karate_club_graph()\n",
    "\n",
    "# Aplicando uma pequena alteração para que os nós tenham integers em seus nomes começando por 1.\n",
    "G = nx.convert_node_labels_to_integers(G, first_label=1)\n",
    "\n",
    "print(f'Average Distance: {nx.average_shortest_path_length(G)}')\n",
    "print(f'Center: {nx.center(G)}')\n",
    "print(f'Periphery: {nx.periphery(G)}')\n",
    "print(f'Radius: {nx.radius(G)}')"
   ]
  },
  {
   "cell_type": "markdown",
   "id": "949a6fa8-3037-4b2a-bc53-e5131ff340b6",
   "metadata": {},
   "source": [
    "<div> \n",
    "    <hr>\n",
    "    <h2 style='font-size:30px'> Connected Components</h2>\n",
    "</div>\n",
    "<div> \n",
    "    <ul style='font-size:20px'> \n",
    "        <li> \n",
    "            Por ora, nos atentaremos a apenas redes bidirecionais nesta aula.\n",
    "        </li>\n",
    "    </ul>\n",
    "</div>"
   ]
  },
  {
   "cell_type": "markdown",
   "id": "092f9e81-d237-438f-99ba-efbf000defcf",
   "metadata": {},
   "source": [
    "<h3 style='font-size:30px;font-style:italic'> Connected Graphs</h3>\n",
    "<div> \n",
    "    <ul style='font-size:20px'> \n",
    "        <li> \n",
    "            Redes conectadas são aquelas em que todos os seus nós estão ligados, direta ou indiretamente.\n",
    "        </li>\n",
    "    </ul>\n",
    "</div>"
   ]
  },
  {
   "cell_type": "markdown",
   "id": "3ece721f-82f3-4400-9737-1f8bd080b977",
   "metadata": {},
   "source": [
    "<center> \n",
    "    <h1> Uma rede não conectada</h1>\n",
    "    <img src='connected.png'> \n",
    "</center>"
   ]
  },
  {
   "cell_type": "code",
   "execution_count": 36,
   "id": "74be8aee-77f4-4745-87ed-dea4fdc57429",
   "metadata": {},
   "outputs": [
    {
     "data": {
      "text/plain": [
       "True"
      ]
     },
     "execution_count": 36,
     "metadata": {},
     "output_type": "execute_result"
    }
   ],
   "source": [
    "# Criando uma rede conectada.\n",
    "G = nx.Graph()\n",
    "G.add_edges_from([('A', 'B'), ('C', 'D'), ('E', 'G'), ('G', 'D'), ('B', 'D')])\n",
    "\n",
    "# A rede é conectada?\n",
    "nx.is_connected(G)"
   ]
  },
  {
   "cell_type": "markdown",
   "id": "60418618-df6d-48ea-8462-443350b37b7f",
   "metadata": {},
   "source": [
    "<h3 style='font-size:30px;font-style:italic'> Connected Component</h3>\n",
    "<div> \n",
    "    <ul style='font-size:20px'> \n",
    "        <li> \n",
    "            Connected Components são conjuntos de pontos em uma rede que seguem as seguintes condições:\n",
    "            <ul style='list-style-type:lower-alpha'> \n",
    "                <li> \n",
    "                    Os pontos sob análise se ligam direta ou indiretamente.\n",
    "                </li>\n",
    "                <li> \n",
    "                    Nenhum outro nó fora desse conjunto possui ligações com os pontos sob análise.\n",
    "                </li>\n",
    "            </ul>\n",
    "        </li>\n",
    "    </ul>\n",
    "</div>"
   ]
  },
  {
   "cell_type": "code",
   "execution_count": 47,
   "id": "79ded786-15a3-43f4-b70d-0289cfeae5df",
   "metadata": {},
   "outputs": [
    {
     "name": "stdout",
     "output_type": "stream",
     "text": [
      "Número de Connected Components: 2\n",
      "Connected Components: [{'B', 'A', 'C'}, {'F', 'E', 'D'}]\n",
      "'E' Connected Component: {'F', 'E', 'D'}\n"
     ]
    }
   ],
   "source": [
    "# Criando uma rede não-conectada.\n",
    "G = nx.Graph()\n",
    "G.add_edges_from([('A', 'B'), ('B', 'C'), ('C','A'), ('D', 'E'), ('E', 'F'), ('F', 'D')])\n",
    "\n",
    "# Quantos Connected Components existem?\n",
    "print(f'Número de Connected Components: {nx.number_connected_components(G)}')\n",
    "\n",
    "# Listagem dos Connected Components (o output é um objeto gerador!).\n",
    "print(f'Connected Components: {sorted(nx.connected_components(G))}')\n",
    "\n",
    "# A qual Connected Component o ponto 'E' pertence?\n",
    "print('\\'E\\' Connected Component: {}'.format(nx.node_connected_component(G, 'E')))"
   ]
  },
  {
   "cell_type": "markdown",
   "id": "5aa31f1c-538a-4b1f-b743-dd8e5305da2d",
   "metadata": {},
   "source": [
    "<h3 style='font-size:30px;font-style:italic'> Connectivity in Directed Graphs</h3>\n",
    "<div> \n",
    "    <ul style='font-size:20px'> \n",
    "        <li> \n",
    "            Agora, passaremos a tratar dos conceitos de conectividade voltados a redes direcionadas.\n",
    "        </li>\n",
    "        <li> \n",
    "            Uma rede direcionada é <strong>fortemente conectada</strong> caso todos os seus pares de nós estejam ligados mutuamente (para cada par de pontos u e v, existe um path direto de u para v e de v para u).\n",
    "        </li>\n",
    "    </ul>\n",
    "</div>"
   ]
  },
  {
   "cell_type": "code",
   "execution_count": 48,
   "id": "c3aa00db-85fc-4bb8-b881-884ea2294952",
   "metadata": {},
   "outputs": [
    {
     "data": {
      "text/plain": [
       "False"
      ]
     },
     "execution_count": 48,
     "metadata": {},
     "output_type": "execute_result"
    }
   ],
   "source": [
    "# Montando uma rede direcionanda no NetworkX.\n",
    "G = nx.DiGraph()\n",
    "G.add_edges_from([('A', 'B'), ('B', 'C'), ('C', 'B'), ('D', 'E'), ('D', 'A'), ('E', 'B')])\n",
    "\n",
    "# A rede direcionada criada é fortemente conectada?\n",
    "nx.is_strongly_connected(G)"
   ]
  },
  {
   "cell_type": "markdown",
   "id": "a641babb-26c6-4ea0-a56d-fd2cfe02b263",
   "metadata": {},
   "source": [
    "<div> \n",
    "    <ul style='font-size:20px'> \n",
    "        <li> \n",
    "            Consideramos uma network <strong> fracamente conectada</strong> caso, quando trocamos os edges unidirecionais por bidirecionais, obtemos uma rede bidirecional conectada.\n",
    "        </li>\n",
    "    </ul>\n",
    "</div>"
   ]
  },
  {
   "cell_type": "code",
   "execution_count": 49,
   "id": "70d577fa-1515-4a09-b8e2-362e8515ca88",
   "metadata": {},
   "outputs": [
    {
     "data": {
      "text/plain": [
       "True"
      ]
     },
     "execution_count": 49,
     "metadata": {},
     "output_type": "execute_result"
    }
   ],
   "source": [
    "# 'G' é uma rede unidirecional fracamente ligada?\n",
    "nx.is_weakly_connected(G)"
   ]
  },
  {
   "cell_type": "markdown",
   "id": "ac92c4bf-0cac-4f88-8d91-ed651b7fd7c7",
   "metadata": {},
   "source": [
    "<h3 style='font-size:30px;font-style:italic'> Strongly Connected Component</h3>\n",
    "<div> \n",
    "    <ul style='font-size:20px'> \n",
    "        <li> \n",
    "            Um conjunto de pontos em uma rede direcionada pode ser considerado um Strongly Connected Component caso:\n",
    "            <ul style='list-style-type:lower-alpha'> \n",
    "                <li> \n",
    "                    Cada nó pertencente ao conjunto tenha um caminho direto a todos os demais pontos.\n",
    "                </li>\n",
    "                <li> \n",
    "                    Nenhum outro ponto externo tenha um caminho direcionado originado ou com destino a qualquer nó do conjunto.\n",
    "                </li>\n",
    "            </ul>\n",
    "        </li>\n",
    "    </ul>\n",
    "</div>"
   ]
  },
  {
   "cell_type": "code",
   "execution_count": 51,
   "id": "d4c110ec-528b-4486-9bee-4cc1f6f8a6b5",
   "metadata": {},
   "outputs": [
    {
     "data": {
      "text/plain": [
       "[{'B', 'C'}, {'A'}, {'E'}, {'D'}]"
      ]
     },
     "execution_count": 51,
     "metadata": {},
     "output_type": "execute_result"
    }
   ],
   "source": [
    "# Quais são os Strongly Connected Compoments de nossa rede?\n",
    "sorted(nx.strongly_connected_components(G))"
   ]
  },
  {
   "cell_type": "markdown",
   "id": "b92503c9-1bbc-4276-a310-3d29ac4e7d82",
   "metadata": {},
   "source": [
    "<h3 style='font-size:30px;font-style:italic'> Weakly Connected Component</h3>\n",
    "<div> \n",
    "    <ul style='font-size:20px'> \n",
    "        <li> \n",
    "            Um conjunto de pontos em uma rede direcionada pode ser considerado um Weakly Connected Component caso, quando trocados os edges unidirecionais por bidirecionais, obtemos um Connected Component.\n",
    "        </li>\n",
    "    </ul>\n",
    "</div>"
   ]
  },
  {
   "cell_type": "code",
   "execution_count": 53,
   "id": "a561e7f6-316a-4038-9012-c265f280851e",
   "metadata": {},
   "outputs": [
    {
     "data": {
      "text/plain": [
       "[{'A', 'B', 'C', 'D', 'E'}]"
      ]
     },
     "execution_count": 53,
     "metadata": {},
     "output_type": "execute_result"
    }
   ],
   "source": [
    "# Os Weakly Connected Components da nossa rede acabam por ser ela própria.\n",
    "sorted(nx.weakly_connected_components(G))"
   ]
  },
  {
   "cell_type": "markdown",
   "id": "705c447f-f325-47d3-b09b-2b8e8388ac4d",
   "metadata": {},
   "source": [
    "<div> \n",
    "    <hr>\n",
    "    <h2 style='font-size:30px'> Network Robustness</h2>\n",
    "</div>\n",
    "<div> \n",
    "    <ul style='font-size:20px'> \n",
    "        <li> \n",
    "            A robustez de uma rede é a sua capacidade de manter as propriedades gerais de sua estrutura mesmo quando há perda parcial de seus nós ou edges.\n",
    "        </li>\n",
    "    </ul>\n",
    "</div>"
   ]
  },
  {
   "cell_type": "code",
   "execution_count": 58,
   "id": "7db89c98-5c74-4b00-8337-6acb2701e1d7",
   "metadata": {},
   "outputs": [
    {
     "name": "stdout",
     "output_type": "stream",
     "text": [
      "True\n",
      "1\n",
      "{'B'}\n"
     ]
    }
   ],
   "source": [
    "# Montando uma nova rede bidirecional no NetworkX.\n",
    "G = nx.Graph()\n",
    "G.add_edges_from([('A', 'B'), ('B', 'C'), ('C', 'D'), ('C', 'E'), ('D', 'H'), ('H', 'B'), ('C', 'J')])\n",
    "\n",
    "# Essa rede é conectada?\n",
    "print(nx.is_connected(G))\n",
    "\n",
    "# Qual a quantidade mínima de nós que devem ser retirados para tornarmos essa rede desconectada?\n",
    "print(nx.node_connectivity(G))\n",
    "\n",
    "# Quais pontos são aqueles cuja remoção acarretaria na desconexão da rede?\n",
    "print(nx.minimum_node_cut(G))"
   ]
  },
  {
   "cell_type": "code",
   "execution_count": 60,
   "id": "832eacb2-3bce-4265-9379-aa9305167fdc",
   "metadata": {},
   "outputs": [
    {
     "name": "stdout",
     "output_type": "stream",
     "text": [
      "1\n",
      "{('C', 'J')}\n"
     ]
    }
   ],
   "source": [
    "# Agora, qual a quantidade mínima de edges para tornar a rede desconectada?\n",
    "print(nx.edge_connectivity(G))\n",
    "\n",
    "# Qual o edge que deve ser removido para se desconectar a rede?\n",
    "print(nx.minimum_edge_cut(G))"
   ]
  },
  {
   "cell_type": "markdown",
   "id": "e35879a3-ca4b-4891-a6f6-930ed96894d2",
   "metadata": {},
   "source": [
    "<h3 style='font-size:30px;font-style:italic'> Simple Paths</h3>\n",
    "<div> \n",
    "    <ul style='font-size:20px'> \n",
    "        <li> \n",
    "            Em uma rede unidirecional, quais são os caminhos possíveis para que uma mensagem do ponto A chegue ao ponto E?\n",
    "        </li>\n",
    "    </ul>\n",
    "</div>"
   ]
  },
  {
   "cell_type": "code",
   "execution_count": 67,
   "id": "bc1ee943-fede-4ed6-b33f-a8f49f256d74",
   "metadata": {},
   "outputs": [
    {
     "data": {
      "text/plain": [
       "[['A', 'C', 'D', 'E'], ['A', 'F', 'E']]"
      ]
     },
     "execution_count": 67,
     "metadata": {},
     "output_type": "execute_result"
    }
   ],
   "source": [
    "G = nx.DiGraph()\n",
    "G.add_edges_from([('A', 'C'), ('C', 'D'), ('D', 'A'), ('A', 'F'), ('F', 'J'), ('F', 'K'), ('F', 'E'),\n",
    "                 ('D', 'E'), ('K', 'F')])\n",
    "\n",
    "sorted(nx.all_simple_paths(G, 'A', 'E'))"
   ]
  },
  {
   "cell_type": "code",
   "execution_count": 37,
   "id": "aa62b10f-aca4-4d8e-ac6a-ba5699871482",
   "metadata": {},
   "outputs": [],
   "source": [
    "! mv /Users/felipeveiga/Desktop/Screen\\ Shot\\ 2022-07-25\\ at\\ 10.20.36.png ./connected.png"
   ]
  },
  {
   "cell_type": "markdown",
   "id": "0849e6a7-c233-47c4-bb84-8857edf415c8",
   "metadata": {},
   "source": [
    "<p style='color:red'> Network Robustness (6:30)"
   ]
  }
 ],
 "metadata": {
  "kernelspec": {
   "display_name": "Python 3",
   "language": "python",
   "name": "python3"
  },
  "language_info": {
   "codemirror_mode": {
    "name": "ipython",
    "version": 3
   },
   "file_extension": ".py",
   "mimetype": "text/x-python",
   "name": "python",
   "nbconvert_exporter": "python",
   "pygments_lexer": "ipython3",
   "version": "3.8.8"
  }
 },
 "nbformat": 4,
 "nbformat_minor": 5
}
