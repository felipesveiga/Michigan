{
 "cells": [
  {
   "cell_type": "markdown",
   "id": "68e6c69d-a172-4e5b-b755-8ff4fd1cb671",
   "metadata": {},
   "source": [
    "<h1 style='font-size:40px'> Network Connectivity</h1>"
   ]
  },
  {
   "cell_type": "markdown",
   "id": "2a1bae5a-423b-43e5-9f39-7833b88ab63c",
   "metadata": {},
   "source": [
    "<h2 style='font-size:30px'> Clustering Coefficient</h2>"
   ]
  },
  {
   "cell_type": "markdown",
   "id": "d48c5fd7-20fc-4202-ba21-1ec8b560ef0d",
   "metadata": {},
   "source": [
    "<h3 style='font-size:30px;font-style:italic'> Local Clustering Coefficient</h3>\n",
    "<div> \n",
    "    <ul style='font-size:20px'> \n",
    "        <li> \n",
    "            Mede a razão entre o número de ligações tidas entre os nós que se conectam a um certo ponto e a quantidade de pares que são possíveis formar entre os pontos de ligação.\n",
    "        </li>\n",
    "        <li> \n",
    "            Para medir o denominador mencionado, use a fórmula $\\frac{d(d-1)}{2}$, em que d é o degree do nó. \n",
    "        </li>\n",
    "    </ul>\n",
    "</div>"
   ]
  },
  {
   "cell_type": "markdown",
   "id": "b0be6c45-4b5f-4672-b343-871dcd4d13fa",
   "metadata": {},
   "source": [
    "<center> \n",
    "    <h1> Exemplo de Cálculo de um Local Clustering Coefficient</h1>\n",
    "    <img src='cluster_coeff1.png'>\n",
    "</center>"
   ]
  },
  {
   "cell_type": "markdown",
   "id": "e3e4e7ba-8e48-480b-8b51-6c4910bda84e",
   "metadata": {},
   "source": [
    "<div> \n",
    "    <ul style='font-size:20px'> \n",
    "        <li> \n",
    "            Nota: para nós com degree igual a 1, o coeficiente sempre será 0.\n",
    "        </li>\n",
    "    </ul>\n",
    "</div>"
   ]
  },
  {
   "cell_type": "code",
   "execution_count": 5,
   "id": "f4da7d1c-7137-413b-9bea-0e0db5508800",
   "metadata": {},
   "outputs": [
    {
     "data": {
      "text/plain": [
       "0.3333333333333333"
      ]
     },
     "execution_count": 5,
     "metadata": {},
     "output_type": "execute_result"
    }
   ],
   "source": [
    "# Exemplo de cálculo de um Local Clustering Coefficient no NetworkX.\n",
    "import networkx as nx\n",
    "G = nx.Graph()\n",
    "G.add_edges_from([('A', 'B'), ('A', 'D'), ('B','C'), ('D', 'F'), ('F', 'A')])\n",
    "\n",
    "# Medindo o Clustering Coefficient.\n",
    "nx.clustering(G, 'A')"
   ]
  },
  {
   "cell_type": "markdown",
   "id": "5b90c9fe-2172-4774-a41b-130b7da61eff",
   "metadata": {},
   "source": [
    "<h3 style='font-size:30px;font-style:italic'> Global Clustering Coefficient</h3>\n",
    "<div> \n",
    "    <ul style='font-size:20px'> \n",
    "        <li> \n",
    "            Agora, abordaremos duas maneiras de se mensurar o Clustering Coefficient de uma rede inteira.\n",
    "        </li>\n",
    "    </ul>\n",
    "</div>"
   ]
  },
  {
   "cell_type": "markdown",
   "id": "94756278-b9b1-4c62-a8be-f53dd51855ab",
   "metadata": {},
   "source": [
    "<h4 style='font-size:30px;font-style:italic;text-decoration:underline'> Average Clustering Coefficient</h4>\n",
    "<div> \n",
    "    <ul style='font-size:20px'> \n",
    "        <li> \n",
    "            A primeira maneira é mensurando o Clustering Coefficient para cada nó e extrair a média dos valores.\n",
    "        </li>\n",
    "    </ul>\n",
    "</div>"
   ]
  },
  {
   "cell_type": "code",
   "execution_count": 6,
   "id": "447141f6-3cd4-44f1-bb6f-6ff0f3f4a58c",
   "metadata": {},
   "outputs": [
    {
     "data": {
      "text/plain": [
       "0.4666666666666666"
      ]
     },
     "execution_count": 6,
     "metadata": {},
     "output_type": "execute_result"
    }
   ],
   "source": [
    "# Use 'average_clustering' no NetworkX para essa operação.\n",
    "nx.average_clustering(G)"
   ]
  },
  {
   "cell_type": "markdown",
   "id": "e7d97e1f-b315-46ed-9ba5-28e1fe173f9c",
   "metadata": {},
   "source": [
    "<h4 style='font-size:30px;font-style:italic;text-decoration:underline'> Transitivity</h4>\n",
    "<div> \n",
    "    <ul style='font-size:20px'> \n",
    "        <li> \n",
    "            A transitividade de uma rede consiste na divisão entre o número ligações-triângulo vezes 3 e a quantidade de ligações-tríade presentes.\n",
    "        </li>\n",
    "        <li> \n",
    "            A sua diferença com relação ao Average Clustering Coefficient é o seu maior peso conferido a nós com degrees elevados.\n",
    "        </li>\n",
    "    </ul>\n",
    "</div>"
   ]
  },
  {
   "cell_type": "markdown",
   "id": "7c3dfa29-13cd-4cfd-ae81-fce44fe6f00c",
   "metadata": {},
   "source": [
    "<center> \n",
    "    <img src='cluster_coeff2.png'>\n",
    "</center>"
   ]
  },
  {
   "cell_type": "code",
   "execution_count": 7,
   "id": "1ba8318c-8b48-4acd-85f6-a83712f6fd19",
   "metadata": {},
   "outputs": [
    {
     "data": {
      "text/plain": [
       "0.5"
      ]
     },
     "execution_count": 7,
     "metadata": {},
     "output_type": "execute_result"
    }
   ],
   "source": [
    "# Use 'transitivity' no NetworkX.\n",
    "nx.transitivity(G)"
   ]
  },
  {
   "cell_type": "markdown",
   "id": "71e78f64-fcc7-47fc-882e-f0908a15b44a",
   "metadata": {},
   "source": [
    "<center> \n",
    "    <h1> Discrepâncias entre ACC e Transitivity</h1>\n",
    "    <img src='transitivity1.png'>\n",
    "</center>"
   ]
  },
  {
   "cell_type": "markdown",
   "id": "3514d91d-57af-4da7-b355-dabe4c885e04",
   "metadata": {},
   "source": [
    "<div> \n",
    "    <hr>\n",
    "    <h2 style='font-size:30px'> Distance Measures</h2>\n",
    "</div>"
   ]
  },
  {
   "cell_type": "markdown",
   "id": "0ce97914-2bec-4c7e-ba47-818c915db695",
   "metadata": {},
   "source": [
    "<div> \n",
    "    <ul style='font-size:20px'> \n",
    "        <li> \n",
    "            Nesta aula, aprenderemos a analisar distâncias entre nós.\n",
    "        </li>\n",
    "    </ul>\n",
    "</div>"
   ]
  },
  {
   "cell_type": "markdown",
   "id": "85508a5a-84d6-4c7b-b997-baf16afd71e6",
   "metadata": {},
   "source": [
    "<h3 style='font-size:30px;font-style:italic'> Path</h3>\n",
    "<div> \n",
    "    <ul style='font-size:20px'> \n",
    "        <li> \n",
    "            Um Path é uma sequência de edges que liga um nó a outro. A distância entre dois pontos é o path <strong>mais curto</strong> entre eles.\n",
    "        </li>\n",
    "    </ul>\n",
    "</div>"
   ]
  },
  {
   "cell_type": "code",
   "execution_count": 13,
   "id": "7e453cbe-e5ab-40e0-87e4-e1c5ddd39f76",
   "metadata": {},
   "outputs": [
    {
     "name": "stdout",
     "output_type": "stream",
     "text": [
      "['A', 'B', 'C', 'E']\n",
      "3\n",
      "3\n"
     ]
    }
   ],
   "source": [
    "G = nx.Graph()\n",
    "G.add_edges_from([('A', 'B'), ('D', 'E'), ('C', 'B'), ('E', 'C')])\n",
    "\n",
    "# Qual o caminho mais curto entre os nós 'A' e 'E'?\n",
    "print(nx.shortest_path(G, 'A', 'E'))\n",
    "\n",
    "# Qual o comprimento dessa rota?\n",
    "print(nx.shortest_path_length(G, 'A', 'E'))\n",
    "\n",
    "# Outra maneira de se medir isso:\n",
    "print(len(nx.shortest_path(G, 'A', 'E')) - 1)"
   ]
  },
  {
   "cell_type": "markdown",
   "id": "79c5039b-0f8d-44b2-844c-625563e712a7",
   "metadata": {},
   "source": [
    "<h3 style='font-size:30px;font-style:italic'> Breadth-First Search</h3>\n",
    "<div> \n",
    "    <ul style='font-size:20px'> \n",
    "        <li> \n",
    "            Breadth-First Search é um algoritmo cujo intuito é medir a distância de um nó a todos os demais pontos da rede.\n",
    "        </li>\n",
    "        <li> \n",
    "            Ele monta uma árvore de ligações entre todos os nós; quanto maior a profundidade da camada, mais distante o ponto está do nó-referência.\n",
    "        </li>\n",
    "    </ul>\n",
    "</div>"
   ]
  },
  {
   "cell_type": "markdown",
   "id": "7d57c41d-df73-49c9-8383-6efe4ac68699",
   "metadata": {},
   "source": [
    "<center> \n",
    "    <h1> Exemplo de uma árvore Breath-First Search</h1>\n",
    "    <img src='breadth1.png'>\n",
    "</center>"
   ]
  },
  {
   "cell_type": "code",
   "execution_count": 23,
   "id": "8adf78ba-c15e-4316-83a5-935974aa9db7",
   "metadata": {},
   "outputs": [
    {
     "name": "stdout",
     "output_type": "stream",
     "text": [
      "[('A', 'B'), ('B', 'C'), ('C', 'E'), ('E', 'D')]\n",
      "{'A': 0, 'B': 1, 'C': 2, 'E': 3, 'D': 4}\n"
     ]
    }
   ],
   "source": [
    "# Montando uma BFS no NetworkX com relação ao nó 'A'.\n",
    "T = nx.bfs_tree(G, 'A')\n",
    "\n",
    "print(T.edges())\n",
    "print(nx.shortest_path_length(T, 'A'))"
   ]
  },
  {
   "cell_type": "markdown",
   "id": "af74bef6-6185-4fee-b5ea-a4fc14705735",
   "metadata": {},
   "source": [
    "<h3 style='font-size:30px;font-style:italic'> Distance Measures</h3>\n",
    "<div> \n",
    "    <ul style='font-size:20px'> \n",
    "        <li> \n",
    "            Quais métricas existem para caracterizarmos uma rede com base em distâncias?\n",
    "        </li>\n",
    "    </ul>\n",
    "</div>\n",
    "<h4 style='font-size:30px;font-style:italic;text-decoration:underline'> Average Distance</h4>\n",
    "<div> \n",
    "    <ul style='font-size:20px'> \n",
    "        <li> \n",
    "            Mede a distância média entre todos os pares de nós na rede.\n",
    "        </li>\n",
    "    </ul>\n",
    "</div>\n",
    "<h4 style='font-size:30px;font-style:italic;text-decoration:underline'> Diameter</h4>\n",
    "<div> \n",
    "    <ul style='font-size:20px'> \n",
    "        <li> \n",
    "            Mensura a maior distância existente entre dois nós.\n",
    "        </li>\n",
    "    </ul>\n",
    "</div>\n",
    "<h4 style='font-size:30px;font-style:italic;text-decoration:underline'> Eccentricity</h4>\n",
    "<div> \n",
    "    <ul style='font-size:20px'> \n",
    "        <li> \n",
    "            Calcula a maior distância tida por um nó.\n",
    "        </li>\n",
    "    </ul>\n",
    "</div>\n",
    "<h4 style='font-size:30px;font-style:italic;text-decoration:underline'> Radius</h4>\n",
    "<div> \n",
    "    <ul style='font-size:20px'> \n",
    "        <li> \n",
    "            É a menor Eccentricity tida na rede.\n",
    "        </li>\n",
    "    </ul>\n",
    "</div>\n",
    "<h4 style='font-size:30px;font-style:italic;text-decoration:underline'> Periphery</h4>\n",
    "<div> \n",
    "    <ul style='font-size:20px'> \n",
    "        <li> \n",
    "            O conjunto de nós com uma ecentricidade igual ao diâmetro da rede.\n",
    "        </li>\n",
    "    </ul>\n",
    "</div>\n",
    "<h4 style='font-size:30px;font-style:italic;text-decoration:underline'> Center</h4>\n",
    "<div> \n",
    "    <ul style='font-size:20px'> \n",
    "        <li> \n",
    "            O conjunto de nós com ecentricidade igual ao raio da rede.\n",
    "        </li>\n",
    "    </ul>\n",
    "</div>"
   ]
  },
  {
   "cell_type": "code",
   "execution_count": 27,
   "id": "3b100132-d48c-4355-90e5-4e206f26f6c3",
   "metadata": {},
   "outputs": [
    {
     "name": "stdout",
     "output_type": "stream",
     "text": [
      "2.0\n",
      "4\n",
      "{'A': 4, 'B': 3, 'D': 4, 'E': 3, 'C': 2}\n",
      "2\n"
     ]
    }
   ],
   "source": [
    "# Average Distance.\n",
    "print(nx.average_shortest_path_length(G))\n",
    "\n",
    "# Diameter\n",
    "print(nx.diameter(G))\n",
    "\n",
    "# Eccentricity.\n",
    "print(nx.eccentricity(G))\n",
    "\n",
    "# Radius.\n",
    "print(nx.radius(G))"
   ]
  },
  {
   "cell_type": "code",
   "execution_count": 14,
   "id": "aa62b10f-aca4-4d8e-ac6a-ba5699871482",
   "metadata": {},
   "outputs": [],
   "source": [
    "! mv /Users/felipeveiga/Desktop/Screen\\ Shot\\ 2022-07-24\\ at\\ 14.56.22.png ./breadth1.png"
   ]
  },
  {
   "cell_type": "markdown",
   "id": "0849e6a7-c233-47c4-bb84-8857edf415c8",
   "metadata": {},
   "source": [
    "<p style='color:red'> Distance Measures (12:20)"
   ]
  }
 ],
 "metadata": {
  "kernelspec": {
   "display_name": "Python 3",
   "language": "python",
   "name": "python3"
  },
  "language_info": {
   "codemirror_mode": {
    "name": "ipython",
    "version": 3
   },
   "file_extension": ".py",
   "mimetype": "text/x-python",
   "name": "python",
   "nbconvert_exporter": "python",
   "pygments_lexer": "ipython3",
   "version": "3.8.8"
  }
 },
 "nbformat": 4,
 "nbformat_minor": 5
}
