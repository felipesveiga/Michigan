{
 "cells": [
  {
   "cell_type": "markdown",
   "id": "68e6c69d-a172-4e5b-b755-8ff4fd1cb671",
   "metadata": {},
   "source": [
    "<h1 style='font-size:40px'> Network Connectivity</h1>"
   ]
  },
  {
   "cell_type": "markdown",
   "id": "2a1bae5a-423b-43e5-9f39-7833b88ab63c",
   "metadata": {},
   "source": [
    "<h2 style='font-size:30px'> Clustering Coefficient</h2>"
   ]
  },
  {
   "cell_type": "markdown",
   "id": "d48c5fd7-20fc-4202-ba21-1ec8b560ef0d",
   "metadata": {},
   "source": [
    "<h3 style='font-size:30px;font-style:italic'> Local Clustering Coefficient</h3>\n",
    "<div> \n",
    "    <ul style='font-size:20px'> \n",
    "        <li> \n",
    "            Mede a razão entre o número de ligações tidas entre os nós que se conectam a um certo ponto e a quantidade de pares que são possíveis formar entre os pontos de ligação.\n",
    "        </li>\n",
    "        <li> \n",
    "            Para medir o denominador mencionado, use a fórmula $\\frac{d(d-1)}{2}$, em que d é o degree do nó. \n",
    "        </li>\n",
    "    </ul>\n",
    "</div>"
   ]
  },
  {
   "cell_type": "markdown",
   "id": "b0be6c45-4b5f-4672-b343-871dcd4d13fa",
   "metadata": {},
   "source": [
    "<center> \n",
    "    <h1> Exemplo de Cálculo de um Local Clustering Coefficient</h1>\n",
    "    <img src='cluster_coeff1.png'>\n",
    "</center>"
   ]
  },
  {
   "cell_type": "markdown",
   "id": "e3e4e7ba-8e48-480b-8b51-6c4910bda84e",
   "metadata": {},
   "source": [
    "<div> \n",
    "    <ul style='font-size:20px'> \n",
    "        <li> \n",
    "            Nota: para nós com degree igual a 1, o coeficiente sempre será 0.\n",
    "        </li>\n",
    "    </ul>\n",
    "</div>"
   ]
  },
  {
   "cell_type": "code",
   "execution_count": 5,
   "id": "f4da7d1c-7137-413b-9bea-0e0db5508800",
   "metadata": {},
   "outputs": [
    {
     "data": {
      "text/plain": [
       "0.3333333333333333"
      ]
     },
     "execution_count": 5,
     "metadata": {},
     "output_type": "execute_result"
    }
   ],
   "source": [
    "# Exemplo de cálculo de um Local Clustering Coefficient no NetworkX.\n",
    "import networkx as nx\n",
    "G = nx.Graph()\n",
    "G.add_edges_from([('A', 'B'), ('A', 'D'), ('B','C'), ('D', 'F'), ('F', 'A')])\n",
    "\n",
    "# Medindo o Clustering Coefficient.\n",
    "nx.clustering(G, 'A')"
   ]
  },
  {
   "cell_type": "markdown",
   "id": "5b90c9fe-2172-4774-a41b-130b7da61eff",
   "metadata": {},
   "source": [
    "<h3 style='font-size:30px;font-style:italic'> Global Clustering Coefficient</h3>\n",
    "<div> \n",
    "    <ul style='font-size:20px'> \n",
    "        <li> \n",
    "            Agora, abordaremos duas maneiras de se mensurar o Clustering Coefficient de uma rede inteira.\n",
    "        </li>\n",
    "    </ul>\n",
    "</div>"
   ]
  },
  {
   "cell_type": "markdown",
   "id": "94756278-b9b1-4c62-a8be-f53dd51855ab",
   "metadata": {},
   "source": [
    "<h4 style='font-size:30px;font-style:italic;text-decoration:underline'> Average Clustering Coefficient</h4>\n",
    "<div> \n",
    "    <ul style='font-size:20px'> \n",
    "        <li> \n",
    "            A primeira maneira é mensurando o Clustering Coefficient para cada nó e extrair a média dos valores.\n",
    "        </li>\n",
    "    </ul>\n",
    "</div>"
   ]
  },
  {
   "cell_type": "code",
   "execution_count": 6,
   "id": "447141f6-3cd4-44f1-bb6f-6ff0f3f4a58c",
   "metadata": {},
   "outputs": [
    {
     "data": {
      "text/plain": [
       "0.4666666666666666"
      ]
     },
     "execution_count": 6,
     "metadata": {},
     "output_type": "execute_result"
    }
   ],
   "source": [
    "# Use 'average_clustering' no NetworkX para essa operação.\n",
    "nx.average_clustering(G)"
   ]
  },
  {
   "cell_type": "markdown",
   "id": "e7d97e1f-b315-46ed-9ba5-28e1fe173f9c",
   "metadata": {},
   "source": [
    "<h4 style='font-size:30px;font-style:italic;text-decoration:underline'> Transitivity</h4>\n",
    "<div> \n",
    "    <ul style='font-size:20px'> \n",
    "        <li> \n",
    "            A transitividade de uma rede consiste no quociente entre o número ligações-triângulo vezes 3 e a quantidade de ligações-tríade presentes.\n",
    "        </li>\n",
    "    </ul>\n",
    "</div>"
   ]
  },
  {
   "cell_type": "markdown",
   "id": "7c3dfa29-13cd-4cfd-ae81-fce44fe6f00c",
   "metadata": {},
   "source": [
    "<center> \n",
    "    <img src='cluster_coeff2.png'>\n",
    "</center>"
   ]
  },
  {
   "cell_type": "code",
   "execution_count": 7,
   "id": "1ba8318c-8b48-4acd-85f6-a83712f6fd19",
   "metadata": {},
   "outputs": [
    {
     "data": {
      "text/plain": [
       "0.5"
      ]
     },
     "execution_count": 7,
     "metadata": {},
     "output_type": "execute_result"
    }
   ],
   "source": [
    "# Use 'transitivity' no NetworkX.\n",
    "nx.transitivity(G)"
   ]
  }
 ],
 "metadata": {
  "kernelspec": {
   "display_name": "Python 3",
   "language": "python",
   "name": "python3"
  },
  "language_info": {
   "codemirror_mode": {
    "name": "ipython",
    "version": 3
   },
   "file_extension": ".py",
   "mimetype": "text/x-python",
   "name": "python",
   "nbconvert_exporter": "python",
   "pygments_lexer": "ipython3",
   "version": "3.8.8"
  }
 },
 "nbformat": 4,
 "nbformat_minor": 5
}
