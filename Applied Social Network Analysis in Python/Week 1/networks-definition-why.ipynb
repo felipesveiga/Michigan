{
 "cells": [
  {
   "cell_type": "markdown",
   "id": "ae4663af-bfc3-488c-877d-69ce808fb54d",
   "metadata": {},
   "source": [
    "<h1 style='font-size:40px'> Why Study Networks and Basics on NetworkX</h1>"
   ]
  },
  {
   "cell_type": "markdown",
   "id": "06057c4a-ebba-44b5-af7d-fed5efccdcd4",
   "metadata": {},
   "source": [
    "<h2 style='font-size:30px'> Networks: Definition and Why We Study Them</h2>"
   ]
  },
  {
   "cell_type": "markdown",
   "id": "e1ca828a-5efd-4fb4-a7ce-602b76a513ba",
   "metadata": {},
   "source": [
    "<div> \n",
    "    <ul style='font-size:20px'> \n",
    "        <li> \n",
    "            Abstrairmos uma rede de conexões com os nossos dados pode facilitar o entendimento sobre o problema que queremos resolver.\n",
    "        </li>\n",
    "        <li> \n",
    "            Toda rede possui dois componentes elementares:\n",
    "            <ul style='list-style-type:lower-alpha'> \n",
    "                <li> \n",
    "                    Nodes (nós): Os pontos da rede; podem se referir a pessoas, locais ou objetos.\n",
    "                </li>\n",
    "                <li> \n",
    "                    Edges (conexões): As ligações entre os nós.\n",
    "                </li>\n",
    "            </ul>\n",
    "        </li>\n",
    "    </ul>\n",
    "</div>"
   ]
  },
  {
   "cell_type": "markdown",
   "id": "9e24e419-2be1-4c2b-832e-6a724992afb2",
   "metadata": {},
   "source": [
    "<center>\n",
    "    <h1> Exemplo de uma rede do tipo social</h1>\n",
    "    <img src='network1.png'>\n",
    "</center>"
   ]
  },
  {
   "cell_type": "markdown",
   "id": "3ca99498-2156-42d2-a219-ab9faef42968",
   "metadata": {},
   "source": [
    "<div> \n",
    "    <hr>\n",
    "    <h2 style='font-size:30px'> Network Definition and Vocabulary</h2>\n",
    "</div>"
   ]
  },
  {
   "cell_type": "markdown",
   "id": "712ecade-db4c-4ac3-a05f-fbf1f885a927",
   "metadata": {},
   "source": [
    "<h3 style='font-size:30px;font-style:italic'> Tipos de Redes</h3>\n",
    "<h4 style='font-size:30px;font-style:italic;text-decoration:underline'> Edge Direction</h4>\n",
    "<div> \n",
    "    <ul style='font-size:20px'> \n",
    "        <li> \n",
    "            As conexões entre os nós podem apresentar duas naturezas:\n",
    "            <ul style='list-style-type:lower-alpha'> \n",
    "                <li> \n",
    "                    Bidirecional: Há um relacionamento mútuo entre as partes (ex: amizade)\n",
    "                </li>\n",
    "                <li> \n",
    "                    Unidirecional: A relação é válida de um dos nós para o outro, mas não no sentido contrário (ex: cadeia alimentar).\n",
    "                </li>\n",
    "            </ul>\n",
    "        </li>\n",
    "    </ul>\n",
    "</div>"
   ]
  },
  {
   "cell_type": "code",
   "execution_count": 56,
   "id": "a8580355-96b8-4106-a754-64a2bea30b31",
   "metadata": {},
   "outputs": [],
   "source": [
    "import networkx as nx\n",
    "\n",
    "# Uma rede bidirecional no Networkx. A biblioteca cria os nós automaticamente com 'add_edge'.\n",
    "G = nx.Graph()\n",
    "G.add_edge('A', 'B')\n",
    "G.add_edge('B', 'C')\n",
    "\n",
    "# Uma rede unidirecional.\n",
    "H = nx.DiGraph()\n",
    "H.add_edge('Planta', 'Inseto')\n",
    "H.add_edge('Inseto', 'Carnívoro')\n"
   ]
  },
  {
   "cell_type": "markdown",
   "id": "df60cd3b-af4d-4c2c-8d47-16eefca31b90",
   "metadata": {},
   "source": [
    "<h4 style='font-size:30px;font-style:italic;text-decoration:underline'> Weighted Networks</h4>\n",
    "<div> \n",
    "    <ul style='font-size:20px'> \n",
    "        <li> \n",
    "            É possível conferir um valor a um certo edge, indicando a intensidade da ligação.\n",
    "        </li>\n",
    "    </ul>\n",
    "</div>"
   ]
  },
  {
   "cell_type": "code",
   "execution_count": 57,
   "id": "7133eeaf-c63a-4ad1-be1a-641b4627804a",
   "metadata": {},
   "outputs": [],
   "source": [
    "# Criando uma rede ponderada.\n",
    "RH = nx.Graph()\n",
    "RH.add_edge('Patrícia', 'Hélio', weight=11)\n",
    "RH.add_edge('Hélio', 'Dutra', weight=2)"
   ]
  },
  {
   "cell_type": "markdown",
   "id": "6a82b73f-a182-4ab2-a303-dbfa94c0719d",
   "metadata": {},
   "source": [
    "<h4 style='font-size:30px;font-style:italic;text-decoration:underline'> Signed Networks</h4>\n",
    "<div> \n",
    "    <ul style='font-size:20px'> \n",
    "        <li> \n",
    "            Os nós podem receber um símbolo entre os seus edges, indicando uma espécie de qualidade na ligação.\n",
    "        </li>\n",
    "    </ul>\n",
    "</div>"
   ]
  },
  {
   "cell_type": "code",
   "execution_count": 58,
   "id": "1837c775-e9ad-43db-bc5d-39fc8f1af16d",
   "metadata": {},
   "outputs": [],
   "source": [
    "# Fazendo uma rede de afinidade entre torcidas.\n",
    "fans = nx.Graph()\n",
    "fans.add_edge('Cruzeiro', 'Palmeiras', sign='+')\n",
    "fans.add_edge('Cruzeiro','Atlético Mineiro', sign='-')"
   ]
  },
  {
   "cell_type": "markdown",
   "id": "5fa1442d-2841-4d98-bdd9-c437ebc1ffaa",
   "metadata": {},
   "source": [
    "<h4 style='font-size:30px;font-style:italic;text-decoration:underline'> Other Edge Attributes</h4>\n",
    "<div> \n",
    "    <ul style='font-size:20px'> \n",
    "        <li> \n",
    "            Além de meros sinais, conseguimos atribuir rótulos a cada uma das ligações.\n",
    "        </li>\n",
    "    </ul>\n",
    "</div>"
   ]
  },
  {
   "cell_type": "code",
   "execution_count": 59,
   "id": "baa1b719-45d6-4ef7-b40c-94d806c914ea",
   "metadata": {},
   "outputs": [],
   "source": [
    "Relations = nx.Graph()\n",
    "Relations.add_edge('Luiz', 'Louise', relation='Namorados')\n",
    "Relations.add_edge('Luiz','Bernardo', relation='Amigos')\n",
    "Relations.add_edge('Louise', 'Mônica', relation='Irmãs')"
   ]
  },
  {
   "cell_type": "markdown",
   "id": "dafff18f-9508-444c-a106-0c8ca29ec890",
   "metadata": {},
   "source": [
    "<h4 style='font-size:30px;font-style:italic;text-decoration:underline'> Multigraphs</h4>\n",
    "<div> \n",
    "    <ul style='font-size:20px'> \n",
    "        <li> \n",
    "            Multigraphs são redes que permitem múltiplas conexões entre o mesmo par de nós.\n",
    "        </li>\n",
    "    </ul>\n",
    "</div>"
   ]
  },
  {
   "cell_type": "code",
   "execution_count": 60,
   "id": "13e44e21-bff0-4dce-b7d9-9efc67d557d3",
   "metadata": {},
   "outputs": [
    {
     "data": {
      "text/plain": [
       "0"
      ]
     },
     "execution_count": 60,
     "metadata": {},
     "output_type": "execute_result"
    }
   ],
   "source": [
    "Relations_Multi = nx.MultiGraph()\n",
    "\n",
    "# Vamos fazer com que Luiz e Louise também sejam colegas de trabalho\n",
    "Relations_Multi.add_edge('Luiz', 'Louise', relation='Namorados')\n",
    "Relations_Multi.add_edge('Luiz', 'Louise', relation='Colegas de Trabalho')\n",
    "Relations_Multi.add_edge('Luiz','Bernardo', relation='Amigos')\n",
    "Relations_Multi.add_edge('Louise', 'Mônica', relation='Irmãs')"
   ]
  },
  {
   "cell_type": "markdown",
   "id": "64d77dbb-6502-41ff-ba3f-a42fc0427208",
   "metadata": {},
   "source": [
    "<div> \n",
    "    <hr>\n",
    "    <h2 style='font-size:30px'> Node and Edge Attributes</h2>\n",
    "</div>"
   ]
  },
  {
   "cell_type": "markdown",
   "id": "08bf49c6-2d14-422e-81d8-aafa8d553648",
   "metadata": {},
   "source": [
    "<div> \n",
    "    <ul style='font-size:20px'> \n",
    "        <li> \n",
    "            Vamos aprender a extrair informações das redes, uma vez elas formadas.\n",
    "        </li>\n",
    "    </ul>\n",
    "</div>"
   ]
  },
  {
   "cell_type": "markdown",
   "id": "1c7d768b-81c0-4f1d-a7a3-4f20f4861faf",
   "metadata": {},
   "source": [
    "<h3 style='font-size:30px;font-style:italic'> Edge Attributes in NetworkX</h3>"
   ]
  },
  {
   "cell_type": "code",
   "execution_count": 61,
   "id": "d6302464-1a64-4892-908b-40ef0684c8b4",
   "metadata": {},
   "outputs": [],
   "source": [
    "G = nx.Graph()\n",
    "G.add_edge('André', 'Lúcio', weight=2, relation='Vizinhos')\n",
    "G.add_edge('João', 'Cláudio', weight=16, relation='Amigos')\n",
    "G.add_edge('Cláudio', 'Lúcio', weight=7, relation='Colegas de Trabalho')"
   ]
  },
  {
   "cell_type": "code",
   "execution_count": 62,
   "id": "98142fab-005f-4e9f-8337-7826b9ccef12",
   "metadata": {},
   "outputs": [
    {
     "name": "stdout",
     "output_type": "stream",
     "text": [
      "[('Lúcio', 'André'), ('Lúcio', 'Cláudio')]\n",
      "[('André', 'Lúcio', {'weight': 2, 'relation': 'Vizinhos'}), ('Lúcio', 'Cláudio', {'weight': 7, 'relation': 'Colegas de Trabalho'}), ('João', 'Cláudio', {'weight': 16, 'relation': 'Amigos'})]\n",
      "[('André', 'Lúcio', 'Vizinhos'), ('Lúcio', 'Cláudio', 'Colegas de Trabalho'), ('João', 'Cláudio', 'Amigos')]\n"
     ]
    }
   ],
   "source": [
    "# Para resgatar os nomes dos nós de cada edge, use 'edges'.\n",
    "\n",
    "# Edges apenas com o nó \"Lúcio\"\n",
    "print(G.edges(nbunch=['Lúcio']))\n",
    "\n",
    "# Ponha 'data=True' paa que os atributos apareçam.\n",
    "print(G.edges(data=True))\n",
    "\n",
    "# Obtendo apenas o atributo 'relation' dos nós.\n",
    "print(G.edges(data='relation'))"
   ]
  },
  {
   "cell_type": "code",
   "execution_count": 63,
   "id": "654f7792-91e9-44bd-a3ac-bf366283237b",
   "metadata": {},
   "outputs": [
    {
     "name": "stdout",
     "output_type": "stream",
     "text": [
      "[('André', 1), ('Lúcio', 2), ('João', 1), ('Cláudio', 2)]\n"
     ]
    },
    {
     "ename": "AttributeError",
     "evalue": "'Graph' object has no attribute 'edge'",
     "output_type": "error",
     "traceback": [
      "\u001b[0;31m---------------------------------------------------------------------------\u001b[0m",
      "\u001b[0;31mAttributeError\u001b[0m                            Traceback (most recent call last)",
      "\u001b[0;32m<ipython-input-63-ff5a718a8b32>\u001b[0m in \u001b[0;36m<module>\u001b[0;34m\u001b[0m\n\u001b[1;32m      4\u001b[0m \u001b[0;31m# Buscando o peso de apenas o nó ('Cláudio', 'Lúcio').\u001b[0m\u001b[0;34m\u001b[0m\u001b[0;34m\u001b[0m\u001b[0;34m\u001b[0m\u001b[0m\n\u001b[1;32m      5\u001b[0m \u001b[0;31m# A versão que estou usando do NetworkX não deve mais ter o atributo 'edge'...\u001b[0m\u001b[0;34m\u001b[0m\u001b[0;34m\u001b[0m\u001b[0;34m\u001b[0m\u001b[0m\n\u001b[0;32m----> 6\u001b[0;31m \u001b[0mG\u001b[0m\u001b[0;34m.\u001b[0m\u001b[0medge\u001b[0m\u001b[0;34m[\u001b[0m\u001b[0;34m'Cláudio'\u001b[0m\u001b[0;34m]\u001b[0m\u001b[0;34m[\u001b[0m\u001b[0;34m'Lúcio'\u001b[0m\u001b[0;34m]\u001b[0m\u001b[0;34m[\u001b[0m\u001b[0;34m'weight'\u001b[0m\u001b[0;34m]\u001b[0m\u001b[0;34m\u001b[0m\u001b[0;34m\u001b[0m\u001b[0m\n\u001b[0m",
      "\u001b[0;31mAttributeError\u001b[0m: 'Graph' object has no attribute 'edge'"
     ]
    }
   ],
   "source": [
    "# O método 'degree' revela o número de conexões tidas por cada nó.\n",
    "print(G.degree())\n",
    "\n",
    "# Buscando o peso de apenas o nó ('Cláudio', 'Lúcio').\n",
    "# A versão que estou usando do NetworkX não deve mais ter o atributo 'edge'...\n",
    "G.edge['Cláudio']['Lúcio']['weight']"
   ]
  },
  {
   "cell_type": "code",
   "execution_count": 64,
   "id": "336c961b-1cb4-42f6-8506-9f1aab16638f",
   "metadata": {},
   "outputs": [
    {
     "data": {
      "text/plain": [
       "{'weight': 2, 'relation': 'Vizinhos'}"
      ]
     },
     "execution_count": 64,
     "metadata": {},
     "output_type": "execute_result"
    }
   ],
   "source": [
    "# Outra maneira de se buscar informações dos edges.\n",
    "G.get_edge_data('André', 'Lúcio')"
   ]
  },
  {
   "cell_type": "markdown",
   "id": "2ce13b95-0377-455b-8552-0f3fbb3e1c15",
   "metadata": {},
   "source": [
    "<center> \n",
    "    <h1> Demonstração de \"edge\" em um MultiDiGraph</h1>\n",
    "    <img src='edgedata1.png'>\n",
    "</center>"
   ]
  },
  {
   "cell_type": "markdown",
   "id": "70178e2f-09f2-4c3c-a820-d551d770e0e9",
   "metadata": {},
   "source": [
    "<div> \n",
    "    <ul style='font-size:20px'> \n",
    "        <li> \n",
    "            Note que em redes unidirecionais, o output depende da ordem dos nós!\n",
    "        </li>\n",
    "    </ul>\n",
    "</div>"
   ]
  },
  {
   "cell_type": "markdown",
   "id": "53c35599-2922-4525-86f3-9a73762fb113",
   "metadata": {},
   "source": [
    "<h3 style='font-size:30px;font-style:italic'> Node Attributes in NetworkX</h3>\n",
    "<div> \n",
    "    <ul style='font-size:20px'> \n",
    "        <li> \n",
    "            Nós podem adquirir papéis dentro de nossa rede também.\n",
    "        </li>\n",
    "    </ul>\n",
    "</div>"
   ]
  },
  {
   "cell_type": "code",
   "execution_count": 66,
   "id": "c38c785f-f47b-4a61-997e-aabe189c68cf",
   "metadata": {},
   "outputs": [],
   "source": [
    "Empresa = nx.Graph()\n",
    "Empresa.add_edge('Sílvio', 'Alex', weigth=10)\n",
    "Empresa.add_edge('Alex', 'Daniel', weigth=2)\n",
    "Empresa.add_edge('Alex', 'Karla', weigth=20)\n",
    "\n",
    "# Após adicionados os edges, podemos usar o método 'add_node' para conferir papéis a cada um dos nós.\n",
    "# Isso não deletará as relações já existentes.\n",
    "Empresa.add_node('Sílvio', role='Dev Jr')\n",
    "Empresa.add_node('Alex', role='Dev Pleno')\n",
    "Empresa.add_node('Daniel', role='Dev Pleno')\n",
    "Empresa.add_node('Karla', role='Secretária')"
   ]
  },
  {
   "cell_type": "code",
   "execution_count": 68,
   "id": "e7402127-9205-48db-8438-8bd6101e9d00",
   "metadata": {},
   "outputs": [
    {
     "data": {
      "text/plain": [
       "NodeDataView({'Sílvio': {'role': 'Dev Jr'}, 'Alex': {'role': 'Dev Pleno'}, 'Daniel': {'role': 'Dev Pleno'}, 'Karla': {'role': 'Secretária'}})"
      ]
     },
     "execution_count": 68,
     "metadata": {},
     "output_type": "execute_result"
    }
   ],
   "source": [
    "# Obtendo os dados de cada node.\n",
    "Empresa.nodes(data=True)"
   ]
  },
  {
   "cell_type": "code",
   "execution_count": null,
   "id": "a08ccb1c-ccf9-4686-96df-750abbcef7f3",
   "metadata": {},
   "outputs": [],
   "source": [
    "! mv /Users/felipeveiga/Desktop/Screen\\ Shot\\ 2022-07-14\\ at\\ 10.27.04.png ./edgedata1.png"
   ]
  },
  {
   "cell_type": "markdown",
   "id": "1d0f6734-179d-4ac5-90f2-d875f662d3bf",
   "metadata": {},
   "source": [
    "<p style='color:red'> Bipartite Graphs"
   ]
  }
 ],
 "metadata": {
  "kernelspec": {
   "display_name": "Python 3",
   "language": "python",
   "name": "python3"
  },
  "language_info": {
   "codemirror_mode": {
    "name": "ipython",
    "version": 3
   },
   "file_extension": ".py",
   "mimetype": "text/x-python",
   "name": "python",
   "nbconvert_exporter": "python",
   "pygments_lexer": "ipython3",
   "version": "3.8.8"
  }
 },
 "nbformat": 4,
 "nbformat_minor": 5
}
