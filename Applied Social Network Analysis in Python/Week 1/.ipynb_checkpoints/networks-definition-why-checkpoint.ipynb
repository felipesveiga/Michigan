{
 "cells": [
  {
   "cell_type": "markdown",
   "id": "ae4663af-bfc3-488c-877d-69ce808fb54d",
   "metadata": {},
   "source": [
    "<h1 style='font-size:40px'> Why Study Networks and Basics on NetworkX</h1>"
   ]
  },
  {
   "cell_type": "markdown",
   "id": "06057c4a-ebba-44b5-af7d-fed5efccdcd4",
   "metadata": {},
   "source": [
    "<h1 style='font-size:30px'> Networks: Definition and Why We Study Them</h1>"
   ]
  },
  {
   "cell_type": "markdown",
   "id": "e1ca828a-5efd-4fb4-a7ce-602b76a513ba",
   "metadata": {},
   "source": [
    "<div> \n",
    "    <ul style='font-size:20px'> \n",
    "        <li> \n",
    "            Abstrairmos uma rede de conexões com os nossos dados pode facilitar o entendimento sobre o problema em si.\n",
    "        </li>\n",
    "        <li> \n",
    "            Toda rede possui dois componentes elementares:\n",
    "            <ul style='list-style-type:lower-alpha'> \n",
    "                <li> \n",
    "                    Nodes (nós): Os pontos da rede; podem se referir a pessoas, locais ou objetos.\n",
    "                </li>\n",
    "                <li> \n",
    "                    Edges (conexões): As ligações entre os nós.\n",
    "                </li>\n",
    "            </ul>\n",
    "        </li>\n",
    "    </ul>\n",
    "</div>"
   ]
  },
  {
   "cell_type": "markdown",
   "id": "9e24e419-2be1-4c2b-832e-6a724992afb2",
   "metadata": {},
   "source": [
    "<center>\n",
    "    <h1> Exemplo de uma rede do tipo social</h1>\n",
    "    <img src='network1.png'>\n",
    "</center>"
   ]
  },
  {
   "cell_type": "markdown",
   "id": "3ca99498-2156-42d2-a219-ab9faef42968",
   "metadata": {},
   "source": [
    "<div> \n",
    "    <hr>\n",
    "    <h1 style='font-size:30px'> Network Definition and Vocabulary</h1>\n",
    "</div>"
   ]
  },
  {
   "cell_type": "markdown",
   "id": "712ecade-db4c-4ac3-a05f-fbf1f885a927",
   "metadata": {},
   "source": [
    "<h3 style='font-size:30px;font-style:italic'> Tipos de Redes</h3>\n",
    "<h4 style='font-size:30px;font-style:italic;text-decoration:underline'> Edge Direction</h4>\n",
    "<div> \n",
    "    <ul style='font-size:20px'> \n",
    "        <li> \n",
    "            As conexões entre os nós podem apresentar duas naturezas:\n",
    "            <ul style='list-style-type:lower-alpha'> \n",
    "                <li> \n",
    "                    Bidirecional: Há um relacionamento mútuo entre as partes (ex: amizade)\n",
    "                </li>\n",
    "                <li> \n",
    "                    Unidirecional: A relação é válida de um dos nós para o outro, mas não no sentido contrário (ex: cadeia alimentar).\n",
    "                </li>\n",
    "            </ul>\n",
    "        </li>\n",
    "    </ul>\n",
    "</div>"
   ]
  },
  {
   "cell_type": "code",
   "execution_count": 27,
   "id": "a8580355-96b8-4106-a754-64a2bea30b31",
   "metadata": {},
   "outputs": [
    {
     "data": {
      "text/plain": [
       "NodeView(('Planta', 'Inseto', 'Carnívoro'))"
      ]
     },
     "execution_count": 27,
     "metadata": {},
     "output_type": "execute_result"
    }
   ],
   "source": [
    "import networkx as nx\n",
    "\n",
    "# Uma rede bidirecional no Networkx. A biblioteca cria os nós automaticamente com 'add_edge'.\n",
    "G = nx.Graph()\n",
    "G.add_edge('A', 'B')\n",
    "G.add_edge('B', 'C')\n",
    "\n",
    "# Uma rede unidirecional.\n",
    "H = nx.DiGraph()\n",
    "H.add_edge('Planta', 'Inseto')\n",
    "H.add_edge('Inseto', 'Carnívoro')\n"
   ]
  },
  {
   "cell_type": "markdown",
   "id": "df60cd3b-af4d-4c2c-8d47-16eefca31b90",
   "metadata": {},
   "source": [
    "<h4 style='font-size:30px;font-style:italic;text-decoration:underline'> Weighted Networks</h4>\n",
    "<div> \n",
    "    <ul style='font-size:20px'> \n",
    "        <li> \n",
    "            É possível conferir um valor a um certo edge, indicando a intensidade da ligação.\n",
    "        </li>\n",
    "    </ul>\n",
    "</div>"
   ]
  },
  {
   "cell_type": "code",
   "execution_count": null,
   "id": "7133eeaf-c63a-4ad1-be1a-641b4627804a",
   "metadata": {},
   "outputs": [],
   "source": [
    "# Criando uma rede ponderada.\n",
    "RH = nx.Graph()\n",
    "RH.add_edge('Patrícia', 'Hélio', weight=11)\n",
    "RH.add_edge('Hélio', 'Dutra', weight=2)"
   ]
  },
  {
   "cell_type": "markdown",
   "id": "6a82b73f-a182-4ab2-a303-dbfa94c0719d",
   "metadata": {},
   "source": [
    "<h4 style='font-size:30px;font-style:italic;text-decoration:underline'> Signed Networks</h4>\n",
    "<div> \n",
    "    <ul style='font-size:20px'> \n",
    "        <li> \n",
    "            Os nós podem receber um símbolo entre os seus edges, indicando uma espécie de qualidade na ligação.\n",
    "        </li>\n",
    "    </ul>\n",
    "</div>"
   ]
  },
  {
   "cell_type": "code",
   "execution_count": 30,
   "id": "1837c775-e9ad-43db-bc5d-39fc8f1af16d",
   "metadata": {},
   "outputs": [],
   "source": [
    "# Fazendo uma rede de afinidade entre torcidas.\n",
    "fans = nx.Graph()\n",
    "fans.add_edge('Cruzeiro', 'Palmeiras', sign='+')\n",
    "fans.add_edge('Cruzeiro','Atlético Mineiro', sign='-')"
   ]
  },
  {
   "cell_type": "code",
   "execution_count": 1,
   "id": "a08ccb1c-ccf9-4686-96df-750abbcef7f3",
   "metadata": {},
   "outputs": [],
   "source": [
    "! mv /Users/felipeveiga/Desktop/Screen\\ Shot\\ 2022-07-12\\ at\\ 13.27.05.png ./network1.png"
   ]
  },
  {
   "cell_type": "markdown",
   "id": "1d0f6734-179d-4ac5-90f2-d875f662d3bf",
   "metadata": {},
   "source": [
    "<p style='color:red'> Network Definition and Vocabulary (6:00)"
   ]
  }
 ],
 "metadata": {
  "kernelspec": {
   "display_name": "Python 3",
   "language": "python",
   "name": "python3"
  },
  "language_info": {
   "codemirror_mode": {
    "name": "ipython",
    "version": 3
   },
   "file_extension": ".py",
   "mimetype": "text/x-python",
   "name": "python",
   "nbconvert_exporter": "python",
   "pygments_lexer": "ipython3",
   "version": "3.8.8"
  }
 },
 "nbformat": 4,
 "nbformat_minor": 5
}
