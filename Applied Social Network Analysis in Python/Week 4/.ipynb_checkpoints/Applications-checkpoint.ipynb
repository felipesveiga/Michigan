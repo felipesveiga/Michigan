{
 "cells": [
  {
   "cell_type": "markdown",
   "id": "01d2e237-3df7-4c1f-ae35-7c1f4e8548ad",
   "metadata": {},
   "source": [
    "<h1 style='font-size:40px'> Applications</h1>"
   ]
  },
  {
   "cell_type": "markdown",
   "id": "02d26685-726c-46ca-879d-c984e9fc0357",
   "metadata": {},
   "source": [
    "<h2 style='font-size:30px'> Preferential Attachment Model</h2>"
   ]
  },
  {
   "cell_type": "markdown",
   "id": "4a1f4012-495e-40ef-8937-1b3595e4ca28",
   "metadata": {},
   "source": [
    "<h3 style='font-size:30px;font-style:italic'> Degree Distributions</h3>\n",
    "<div> \n",
    "    <ul style='font-size:20px'> \n",
    "        <li> \n",
    "            Aprenderemos aqui a obter as distribuições dos degrees de uma rede.\n",
    "        </li>\n",
    "    </ul>\n",
    "</div>"
   ]
  },
  {
   "cell_type": "code",
   "execution_count": 13,
   "id": "cdcaee2c-5388-4e49-ab28-d31e623ada4e",
   "metadata": {},
   "outputs": [
    {
     "data": {
      "image/png": "[encoded data removed]",
      "text/plain": [
       "<Figure size 432x288 with 1 Axes>"
      ]
     },
     "metadata": {
      "needs_background": "light"
     },
     "output_type": "display_data"
    }
   ],
   "source": [
    "# Para obter os degrees de uma rede bidirecional, use o método 'degree'.\n",
    "import networkx as nx\n",
    "import seaborn as sns\n",
    "G = nx.Graph()\n",
    "G.add_edges_from([('A', 'B'), ('A', 'D'), ('A', 'C'), ('C', 'D'), ('C', 'E'), ('E', 'F'), ('F', 'B'), ('G', 'A')])\n",
    "\n",
    "# Plotando as distribuições de probabilidade dos degrees no seaborn.\n",
    "sns.histplot(dict(G.degree()).values(), stat='probability');"
   ]
  },
  {
   "cell_type": "code",
   "execution_count": 14,
   "id": "1f8a1c1c-1d20-4b7f-a967-8af4960bec22",
   "metadata": {},
   "outputs": [
    {
     "data": {
      "text/plain": [
       "InDegreeView({'A': 1, 'B': 2, 'C': 2, 'D': 1, 'E': 2})"
      ]
     },
     "execution_count": 14,
     "metadata": {},
     "output_type": "execute_result"
    }
   ],
   "source": [
    "# Obtendo os in-degrees de uma rede unidirecional.\n",
    "G = nx.DiGraph()\n",
    "G.add_edges_from([('A', 'B'), ('B','A'), ('A', 'C'), ('A', 'D'), ('C', 'E'), ('E', 'C'), ('D', 'B'), ('D', 'E')])\n",
    "\n",
    "G.in_degree()"
   ]
  },
  {
   "cell_type": "markdown",
   "id": "5e2f2171-d3ea-4c7f-ae81-6f7d0fe8d727",
   "metadata": {},
   "source": [
    "<center> \n",
    "    <h1> Distribuição de Degrees em Datasets Reais</h1>\n",
    "    <img src='degree_distribution1.png'>\n",
    "</center>\n",
    "<div> \n",
    "    <ul style='font-size:20px'> \n",
    "        <li> \n",
    "            Quando aplicamos uma escala logarítmica, a distribuição parece adquirir a forma de uma linha reta. Distribuições dessa natureza tendem a respeitar a chamada <em> Power Law</em>, cuja fórmula é dada na imagem.\n",
    "        </li>\n",
    "        <li> \n",
    "            Observe que é comum haver pouquíssimos pontos com um degree elevado, enquanto que os demais, de uma maneira geral, apresentam uma baixa estatística.\n",
    "        </li>\n",
    "    </ul>\n",
    "</div>"
   ]
  },
  {
   "cell_type": "markdown",
   "id": "c10bea0c-775f-4a28-8332-55e37b6fc36c",
   "metadata": {},
   "source": [
    "<h3 style='font-size:30px;font-style:italic'> Preferential Attachment Model</h3>\n",
    "<div> \n",
    "    <ul style='font-size:20px'> \n",
    "        <li> \n",
    "            É considerando esse conjunto de características das redes reais que foi criado o Preferential Attachment Model. Esse propõe criar uma rede iterativamente. À cada ciclo, um novo nó deve ser adicionado; a probabilidade de que ele se conecte a qualquer outro ponto da rede é proporcional ao degree atual deste.\n",
    "        </li>\n",
    "        <li> \n",
    "            Conforme a rede cresce, a distribuição de degrees se aproxima à Power Law.\n",
    "        </li>\n",
    "    </ul>\n",
    "</div>"
   ]
  },
  {
   "cell_type": "code",
   "execution_count": 49,
   "id": "03c3ff2f-c0a3-4f2d-9694-5e59a966a332",
   "metadata": {},
   "outputs": [
    {
     "data": {
      "text/plain": [
       "<AxesSubplot:ylabel='Count'>"
      ]
     },
     "execution_count": 49,
     "metadata": {},
     "output_type": "execute_result"
    },
    {
     "data": {
      "image/png": "[encoded data removed]",
      "text/plain": [
       "<Figure size 432x288 with 1 Axes>"
      ]
     },
     "metadata": {
      "needs_background": "light"
     },
     "output_type": "display_data"
    }
   ],
   "source": [
    "# Criando uma rede a partir do Preferential Attachment Model.\n",
    "# O parâmetro 'n' sinaliza o número de nós final desejado.\n",
    "# 'm' indica quantos edges cada novo nó terá.\n",
    "G = nx.barabasi_albert_graph(50, 1, seed=42)\n",
    "degrees = dict(G.degree()).values()\n",
    "\n",
    "# Como é possível enxergar, a maior parte dos pontos tem baixo degree, enquanto um único caso isolado foi capaz de fazer 16 conexões.\n",
    "sns.histplot(degrees)"
   ]
  },
  {
   "cell_type": "markdown",
   "id": "309fe799-9384-4d0a-9dcd-8002e052860f",
   "metadata": {},
   "source": [
    "<div> \n",
    "    <hr>\n",
    "    <h2 style='font-size:30px'> Small World Networks</h2>\n",
    "</div>"
   ]
  },
  {
   "cell_type": "markdown",
   "id": "4e38ac11-9faf-4589-97be-cca05c00f5bf",
   "metadata": {},
   "source": [
    "<h3 style='font-size:30px;font-style:italic'> Small World Model</h3>\n",
    "<div> \n",
    "    <ul style='font-size:20px'>\n",
    "        <li> \n",
    "            O Small World Model é um modelo de geração de redes inspirado em estudos sobre distâncias entre nós. Esses descobriram que redes humanas tendem a possuir um alto Average Clustering Coefficient e um baixo Average Shortest Path (estamos mais próximos de qualquer outra pessoa do mundo do que imaginamos...).\n",
    "        </li>\n",
    "        <li> \n",
    "            Dessa maneira, o Small World Model almeja criar redes com essas propriedades.\n",
    "        </li>\n",
    "    </ul>\n",
    "</div>"
   ]
  },
  {
   "cell_type": "markdown",
   "id": "23863ccf-acb4-4ab1-8f50-c62293df0826",
   "metadata": {},
   "source": [
    "<h4 style='font-size:30px;font-style:italic;text-decoration:underline'> Funcionamento do Small World Model</h4>\n",
    "<div> \n",
    "    <ul style='font-size:20px'>\n",
    "        <li> \n",
    "            Um anel de N nós é inicializado, com cada ponto se ligando aos seus k vizinhos mais próximos.\n",
    "        </li>\n",
    "        <li> \n",
    "            Com uma probabilidade p, nós desfazemos os edges iniciais de cada ponto em troca de uma nova ligação com um nó aleatório da rede. Isso busca gerar as ligações triangulares, responsáveis por aumentar o Clustering Coefficient da rede.\n",
    "        </li>\n",
    "    </ul>\n",
    "</div>"
   ]
  },
  {
   "cell_type": "markdown",
   "id": "f319b000-b907-4582-9ebd-01e2afb7bba5",
   "metadata": {},
   "source": [
    "<h3 style='font-size:30px;font-style:italic'> Small World Model In NetworkX</h3>\n",
    "<div> \n",
    "    <ul style='font-size:20px'>\n",
    "        <li> \n",
    "            Use o método <em> nx.watts_strogatz_graph</em> para montar a sua rede Small-World. 'n' é a quantidade de nós; 'k' é o número de edges que cada ponto terá com os seus k vizinhos mais próximos; 'p' é a probabilidade de os edges iniciais se desfazerem.\n",
    "        </li>\n",
    "    </ul>\n",
    "</div>"
   ]
  },
  {
   "cell_type": "code",
   "execution_count": 53,
   "id": "d553c4dd-f31e-4874-9f2b-c9270ac4f4b2",
   "metadata": {},
   "outputs": [
    {
     "data": {
      "text/plain": [
       "<AxesSubplot:ylabel='Probability'>"
      ]
     },
     "execution_count": 53,
     "metadata": {},
     "output_type": "execute_result"
    },
    {
     "data": {
      "image/png": "[encoded data removed]",
      "text/plain": [
       "<Figure size 432x288 with 1 Axes>"
      ]
     },
     "metadata": {
      "needs_background": "light"
     },
     "output_type": "display_data"
    }
   ],
   "source": [
    "G = nx.watts_strogatz_graph(1000, 6, .04, seed=42)\n",
    "degrees = dict(G.degree()).values()\n",
    "\n",
    "# A distribuição de degrees se parece com uma Distribuição Gaussiana!\n",
    "sns.histplot(list(degrees), stat='probability')"
   ]
  },
  {
   "cell_type": "code",
   "execution_count": 58,
   "id": "80c99e1f-1da8-4b34-b555-c7c5984ee830",
   "metadata": {},
   "outputs": [
    {
     "data": {
      "text/plain": [
       "True"
      ]
     },
     "execution_count": 58,
     "metadata": {},
     "output_type": "execute_result"
    }
   ],
   "source": [
    "# Redes Small-World podem se tornar desconectadas por conta da eliminação dos edges iniciais. Tendo isso em vista\n",
    "#, nx.connected_watts_strogatz_graph() busca criar esse tipo de rede, mas com o zelo de que essa seja conectada.\n",
    "\n",
    "# Seu parâmetro 'tries'(no curso, 't') sinaliza quantas vezes nx.watts_strogatz_graph() será acionado até que uma rede conectada seja\n",
    "# obtida.\n",
    "G = nx.connected_watts_strogatz_graph(1000, 6, .04, tries=10, seed=42)\n",
    "\n",
    "# A rede é conectada?\n",
    "nx.is_connected(G)"
   ]
  },
  {
   "cell_type": "code",
   "execution_count": 2,
   "id": "617f4001-6a16-4fbe-ad7d-2868bee8681f",
   "metadata": {},
   "outputs": [
    {
     "data": {
      "text/plain": [
       "<AxesSubplot:ylabel='Count'>"
      ]
     },
     "execution_count": 2,
     "metadata": {},
     "output_type": "execute_result"
    },
    {
     "data": {
      "image/png": "[encoded data removed]",
      "text/plain": [
       "<Figure size 432x288 with 1 Axes>"
      ]
     },
     "metadata": {
      "needs_background": "light"
     },
     "output_type": "display_data"
    }
   ],
   "source": [
    "# 'nx.newman_watts_strogatz_graph()' é uma outra variação do modelo em que, para cada nó, os edges velhos são preservados e novos\n",
    "# edges são formados com uma probabilidade 'p'.\n",
    "import networkx as nx\n",
    "import seaborn as sns\n",
    "G = nx.newman_watts_strogatz_graph(1000, 6, .04, seed=42)\n",
    "\n",
    "degrees = dict(G.degree()).values()\n",
    "\n",
    "# Veja como agora não é possível haver nós com degree abaixo de 6, como foi o caso do último histograma feito.\n",
    "sns.histplot(list(degrees))"
   ]
  },
  {
   "cell_type": "markdown",
   "id": "c9195397-7153-46c1-9870-29d3c909cebc",
   "metadata": {},
   "source": [
    "<div> \n",
    "    <hr>\n",
    "    <h2 style='font-size:30px'> Link Prediction</h2>\n",
    "</div>"
   ]
  },
  {
   "cell_type": "markdown",
   "id": "75937139-873f-45aa-9162-44287dfe7e9e",
   "metadata": {},
   "source": [
    "<div> \n",
    "    <ul style='font-size:20px'>\n",
    "        <li> \n",
    "            Abordaremos algumas métricas que tentam prever a criação de novos edges, dada uma rede previamente formada.\n",
    "        </li>\n",
    "    </ul>\n",
    "</div>"
   ]
  },
  {
   "cell_type": "markdown",
   "id": "7f05bd64-c76a-48ae-bff6-c7f68612db4c",
   "metadata": {},
   "source": [
    "<h3 style='font-size:30px;font-style:italic'> Common Neighbors</h3>\n",
    "<div> \n",
    "    <ul style='font-size:20px'>\n",
    "        <li> \n",
    "            Common Neighbors faz a contagem de quantos pontos em comum um par de nós faz conexão.\n",
    "        </li>\n",
    "    </ul>\n",
    "</div>"
   ]
  },
  {
   "cell_type": "code",
   "execution_count": 15,
   "id": "98a237eb-84d8-41f0-9fa5-9c23a1fed2fa",
   "metadata": {},
   "outputs": [
    {
     "data": {
      "text/plain": [
       "{(0, 2): 1,\n",
       " (0, 3): 0,\n",
       " (0, 4): 0,\n",
       " (0, 5): 0,\n",
       " (0, 6): 0,\n",
       " (0, 7): 0,\n",
       " (0, 8): 0,\n",
       " (0, 9): 0,\n",
       " (0, 10): 0,\n",
       " (0, 11): 0,\n",
       " (0, 12): 0,\n",
       " (0, 13): 0,\n",
       " (0, 14): 0,\n",
       " (0, 15): 0,\n",
       " (0, 16): 0,\n",
       " (0, 17): 0,\n",
       " (0, 18): 0,\n",
       " (0, 19): 0,\n",
       " (1, 3): 1,\n",
       " (1, 4): 0,\n",
       " (1, 5): 0,\n",
       " (1, 6): 0,\n",
       " (1, 7): 0,\n",
       " (1, 8): 0,\n",
       " (1, 9): 0,\n",
       " (1, 10): 0,\n",
       " (1, 11): 0,\n",
       " (1, 12): 0,\n",
       " (1, 13): 0,\n",
       " (1, 14): 0,\n",
       " (1, 15): 0,\n",
       " (1, 16): 0,\n",
       " (1, 17): 0,\n",
       " (1, 18): 0,\n",
       " (1, 19): 0,\n",
       " (2, 4): 1,\n",
       " (2, 5): 0,\n",
       " (2, 6): 0,\n",
       " (2, 7): 0,\n",
       " (2, 8): 0,\n",
       " (2, 9): 0,\n",
       " (2, 10): 0,\n",
       " (2, 11): 0,\n",
       " (2, 12): 0,\n",
       " (2, 13): 0,\n",
       " (2, 14): 0,\n",
       " (2, 15): 0,\n",
       " (2, 16): 0,\n",
       " (2, 17): 0,\n",
       " (2, 18): 0,\n",
       " (2, 19): 0,\n",
       " (3, 5): 1,\n",
       " (3, 6): 0,\n",
       " (3, 7): 0,\n",
       " (3, 8): 0,\n",
       " (3, 9): 0,\n",
       " (3, 10): 0,\n",
       " (3, 11): 0,\n",
       " (3, 12): 0,\n",
       " (3, 13): 0,\n",
       " (3, 14): 0,\n",
       " (3, 15): 0,\n",
       " (3, 16): 0,\n",
       " (3, 17): 0,\n",
       " (3, 18): 0,\n",
       " (3, 19): 0,\n",
       " (4, 6): 1,\n",
       " (4, 7): 0,\n",
       " (4, 8): 0,\n",
       " (4, 9): 0,\n",
       " (4, 10): 0,\n",
       " (4, 11): 0,\n",
       " (4, 12): 0,\n",
       " (4, 13): 0,\n",
       " (4, 14): 0,\n",
       " (4, 15): 0,\n",
       " (4, 16): 0,\n",
       " (4, 17): 0,\n",
       " (4, 18): 0,\n",
       " (4, 19): 1,\n",
       " (5, 7): 1,\n",
       " (5, 8): 0,\n",
       " (5, 9): 0,\n",
       " (5, 10): 0,\n",
       " (5, 11): 0,\n",
       " (5, 12): 0,\n",
       " (5, 13): 0,\n",
       " (5, 14): 0,\n",
       " (5, 15): 0,\n",
       " (5, 16): 0,\n",
       " (5, 17): 0,\n",
       " (5, 18): 1,\n",
       " (6, 8): 1,\n",
       " (6, 9): 0,\n",
       " (6, 10): 0,\n",
       " (6, 11): 0,\n",
       " (6, 12): 0,\n",
       " (6, 13): 0,\n",
       " (6, 14): 0,\n",
       " (6, 15): 0,\n",
       " (6, 16): 0,\n",
       " (6, 17): 0,\n",
       " (6, 18): 0,\n",
       " (6, 19): 1,\n",
       " (7, 9): 1,\n",
       " (7, 10): 0,\n",
       " (7, 11): 0,\n",
       " (7, 12): 0,\n",
       " (7, 13): 0,\n",
       " (7, 14): 0,\n",
       " (7, 15): 0,\n",
       " (7, 16): 0,\n",
       " (7, 17): 0,\n",
       " (7, 18): 0,\n",
       " (7, 19): 0,\n",
       " (8, 10): 1,\n",
       " (8, 11): 0,\n",
       " (8, 12): 0,\n",
       " (8, 13): 0,\n",
       " (8, 14): 0,\n",
       " (8, 15): 0,\n",
       " (8, 16): 0,\n",
       " (8, 17): 0,\n",
       " (8, 18): 0,\n",
       " (8, 19): 0,\n",
       " (9, 11): 1,\n",
       " (9, 12): 0,\n",
       " (9, 13): 0,\n",
       " (9, 14): 0,\n",
       " (9, 15): 0,\n",
       " (9, 16): 0,\n",
       " (9, 17): 0,\n",
       " (9, 18): 0,\n",
       " (9, 19): 0,\n",
       " (10, 12): 1,\n",
       " (10, 13): 0,\n",
       " (10, 14): 0,\n",
       " (10, 15): 0,\n",
       " (10, 16): 0,\n",
       " (10, 17): 0,\n",
       " (10, 18): 0,\n",
       " (10, 19): 0,\n",
       " (11, 13): 1,\n",
       " (11, 14): 0,\n",
       " (11, 15): 0,\n",
       " (11, 16): 0,\n",
       " (11, 17): 0,\n",
       " (11, 18): 0,\n",
       " (11, 19): 0,\n",
       " (12, 14): 1,\n",
       " (12, 15): 0,\n",
       " (12, 16): 0,\n",
       " (12, 17): 0,\n",
       " (12, 18): 0,\n",
       " (12, 19): 0,\n",
       " (13, 15): 1,\n",
       " (13, 16): 0,\n",
       " (13, 17): 0,\n",
       " (13, 18): 0,\n",
       " (13, 19): 0,\n",
       " (14, 16): 1,\n",
       " (14, 17): 0,\n",
       " (14, 18): 0,\n",
       " (14, 19): 0,\n",
       " (15, 17): 1,\n",
       " (15, 18): 0,\n",
       " (15, 19): 0,\n",
       " (16, 18): 1,\n",
       " (16, 19): 0,\n",
       " (17, 19): 1}"
      ]
     },
     "execution_count": 15,
     "metadata": {},
     "output_type": "execute_result"
    }
   ],
   "source": [
    "# Montando uma nova rede.\n",
    "G = nx.watts_strogatz_graph(20, 2, .02, seed=42)\n",
    "\n",
    "# Montando um dicionário que menciona pares não existentes na rede e a quantidade de vizinhos comuns entre cada par.\n",
    "{(u,v) : len(sorted(nx.common_neighbors(G, u,v))) for u,v in sorted(nx.non_edges(G))}"
   ]
  },
  {
   "cell_type": "markdown",
   "id": "d2298dbc-c8e5-4ffd-90c0-46d5026b82d1",
   "metadata": {},
   "source": [
    "<h3 style='font-size:30px;font-style:italic'> Jaccard Coefficient</h3>\n",
    "<div> \n",
    "    <ul style='font-size:20px'>\n",
    "        <li> \n",
    "            O Jaccard Coefficient mede a quantidade de vizinhos em comum, mas divide esse valor pelo número de total de nós com os quais os pares se conectam (os vizinhos em comum são contados apenas uma vez, e não duas).\n",
    "        </li>\n",
    "    </ul>\n",
    "</div>"
   ]
  },
  {
   "cell_type": "code",
   "execution_count": 20,
   "id": "91a55e96-a3b2-45f2-9cd7-5f8a0506fc35",
   "metadata": {},
   "outputs": [
    {
     "data": {
      "text/plain": [
       "[(0, 2, 0.5),\n",
       " (1, 3, 0.3333333333333333),\n",
       " (2, 4, 0.3333333333333333),\n",
       " (4, 6, 0.3333333333333333),\n",
       " (4, 19, 0.3333333333333333)]"
      ]
     },
     "execution_count": 20,
     "metadata": {},
     "output_type": "execute_result"
    }
   ],
   "source": [
    "# O resultado final de 'jaccard_coefficient' é uma tupla (nó1, nó2, jaccard_coefficient) que menciona todos os pares não formados de nós \n",
    "from operator import itemgetter\n",
    "sorted(nx.jaccard_coefficient(G), key=itemgetter(2), reverse=True)[:5]"
   ]
  },
  {
   "cell_type": "markdown",
   "id": "d699f1da-75b8-46ac-93db-348fb0e5985e",
   "metadata": {},
   "source": [
    "<h3 style='font-size:30px;font-style:italic'> Resource Allocation</h3>\n",
    "<div> \n",
    "    <ul style='font-size:20px'>\n",
    "        <li> \n",
    "            Essa métrica penaliza pares de nós cujos vizinhos tenham degrees elevados. Consiste na soma de 1 dividido pelo degree de cada nó intermediário.\n",
    "        </li>\n",
    "    </ul>\n",
    "</div>\n",
    "<center> \n",
    "    <img src='jaccard1.png'> \n",
    "</center>\n",
    "<div> \n",
    "    <ul style='font-size:20px'>\n",
    "        <li> \n",
    "            Observe que ambos os nós intermediários entre A e C possuem um degree 3. Portanto, a Resource Allocation entre A e C será de $\\frac{1}{3}+\\frac{1}{3}=\\frac{2}{3}$.\n",
    "        </li>\n",
    "    </ul>\n",
    "</div>"
   ]
  },
  {
   "cell_type": "code",
   "execution_count": 23,
   "id": "28ab26ae-a675-4503-be81-d863d9cbb053",
   "metadata": {},
   "outputs": [
    {
     "data": {
      "text/plain": [
       "[(0, 2, 0.5), (1, 3, 0.5), (2, 4, 0.5), (3, 5, 0.5), (5, 7, 0.5)]"
      ]
     },
     "execution_count": 23,
     "metadata": {},
     "output_type": "execute_result"
    }
   ],
   "source": [
    "sorted(nx.resource_allocation_index(G), key=itemgetter(2), reverse=True)[:5]"
   ]
  },
  {
   "cell_type": "code",
   "execution_count": 17,
   "id": "00400e2b-13d9-443e-bef3-a6c03c46c95c",
   "metadata": {},
   "outputs": [],
   "source": [
    "! mv /Users/felipeveiga/Desktop/Screen\\ Shot\\ 2022-08-07\\ at\\ 14.10.33.png ./degree_distribution1.png"
   ]
  },
  {
   "cell_type": "markdown",
   "id": "83879e6d-72eb-4544-819a-8067c9db49c9",
   "metadata": {},
   "source": [
    "<p style='color:red'> Link Prediction (8:30)"
   ]
  }
 ],
 "metadata": {
  "kernelspec": {
   "display_name": "Python 3",
   "language": "python",
   "name": "python3"
  },
  "language_info": {
   "codemirror_mode": {
    "name": "ipython",
    "version": 3
   },
   "file_extension": ".py",
   "mimetype": "text/x-python",
   "name": "python",
   "nbconvert_exporter": "python",
   "pygments_lexer": "ipython3",
   "version": "3.8.8"
  }
 },
 "nbformat": 4,
 "nbformat_minor": 5
}
