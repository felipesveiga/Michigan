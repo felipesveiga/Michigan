{
 "cells": [
  {
   "cell_type": "markdown",
   "id": "01d2e237-3df7-4c1f-ae35-7c1f4e8548ad",
   "metadata": {},
   "source": [
    "<h1 style='font-size:40px'> Applications</h1>"
   ]
  },
  {
   "cell_type": "markdown",
   "id": "02d26685-726c-46ca-879d-c984e9fc0357",
   "metadata": {},
   "source": [
    "<h2 style='font-size:30px'> Preferential Attachment Model</h2>"
   ]
  },
  {
   "cell_type": "markdown",
   "id": "4a1f4012-495e-40ef-8937-1b3595e4ca28",
   "metadata": {},
   "source": [
    "<h3 style='font-size:30px;font-style:italic'> Degree Distributions</h3>\n",
    "<div> \n",
    "    <ul style='font-size:20px'> \n",
    "        <li> \n",
    "            Aprenderemos aqui a obter as distribuições dos degrees de uma rede.\n",
    "        </li>\n",
    "    </ul>\n",
    "</div>"
   ]
  },
  {
   "cell_type": "code",
   "execution_count": 13,
   "id": "cdcaee2c-5388-4e49-ab28-d31e623ada4e",
   "metadata": {},
   "outputs": [
    {
     "data": {
      "image/png": "[encoded data removed]",
      "text/plain": [
       "<Figure size 432x288 with 1 Axes>"
      ]
     },
     "metadata": {
      "needs_background": "light"
     },
     "output_type": "display_data"
    }
   ],
   "source": [
    "# Para obter os degrees de uma rede bidirecional, use o método 'degree'.\n",
    "import networkx as nx\n",
    "import seaborn as sns\n",
    "G = nx.Graph()\n",
    "G.add_edges_from([('A', 'B'), ('A', 'D'), ('A', 'C'), ('C', 'D'), ('C', 'E'), ('E', 'F'), ('F', 'B'), ('G', 'A')])\n",
    "\n",
    "# Plotando as distrubuições de probabilidade dos degrees no seaborn.\n",
    "sns.histplot(dict(G.degree()).values(), stat='probability');"
   ]
  },
  {
   "cell_type": "code",
   "execution_count": 14,
   "id": "1f8a1c1c-1d20-4b7f-a967-8af4960bec22",
   "metadata": {},
   "outputs": [
    {
     "data": {
      "text/plain": [
       "InDegreeView({'A': 1, 'B': 2, 'C': 2, 'D': 1, 'E': 2})"
      ]
     },
     "execution_count": 14,
     "metadata": {},
     "output_type": "execute_result"
    }
   ],
   "source": [
    "# Obtendo os in degrees de uma rede unidirecional.\n",
    "G = nx.DiGraph()\n",
    "G.add_edges_from([('A', 'B'), ('B','A'), ('A', 'C'), ('A', 'D'), ('C', 'E'), ('E', 'C'), ('D', 'B'), ('D', 'E')])\n",
    "\n",
    "G.in_degree()"
   ]
  },
  {
   "cell_type": "markdown",
   "id": "5e2f2171-d3ea-4c7f-ae81-6f7d0fe8d727",
   "metadata": {},
   "source": [
    "<center> \n",
    "    <h1> Distribuição de Degrees em Datasets Reais</h1>\n",
    "    <img src='degree_distribution1.png'>\n",
    "</center>\n",
    "<div> \n",
    "    <ul style='font-size:20px'> \n",
    "        <li> \n",
    "            Quando aplicamos uma escala logarítmica, a distribuição parece adquirir a forma de uma linha reta. Distribuições dessa natureza tendem a respeitar a chamada <em> Power Law</em>, cuja fórmula é dada na imagem.\n",
    "        </li>\n",
    "        <li> \n",
    "            Observe que é comum haver pouquíssimos pontos com um degree elevado, enquanto que os demais, de uma maneira geral, apresentam uma baixa estatística.\n",
    "        </li>\n",
    "    </ul>\n",
    "</div>"
   ]
  },
  {
   "cell_type": "markdown",
   "id": "c10bea0c-775f-4a28-8332-55e37b6fc36c",
   "metadata": {},
   "source": [
    "<h3 style='font-size:30px;font-style:italic'> Preferential Attachment Model</h3>\n",
    "<div> \n",
    "    <ul style='font-size:20px'> \n",
    "        <li> \n",
    "            É considerando esse conjunto de características das redes reais que foi criado o Preferential Attachment Model. Ele propõe criar uma rede iterativamente. À cada ciclo, um novo nó deve ser adicionado; a probabilidade de que ele se conecte a qualquer outro ponto da rede é proporcional ao degree atual deste.\n",
    "        </li>\n",
    "        <li> \n",
    "            Conforme a rede cresce, a distribuição de degrees se aproxima à Power Law.\n",
    "        </li>\n",
    "    </ul>\n",
    "</div>"
   ]
  },
  {
   "cell_type": "code",
   "execution_count": 49,
   "id": "03c3ff2f-c0a3-4f2d-9694-5e59a966a332",
   "metadata": {},
   "outputs": [
    {
     "data": {
      "text/plain": [
       "<AxesSubplot:ylabel='Count'>"
      ]
     },
     "execution_count": 49,
     "metadata": {},
     "output_type": "execute_result"
    },
    {
     "data": {
      "image/png": "[encoded data removed]",
      "text/plain": [
       "<Figure size 432x288 with 1 Axes>"
      ]
     },
     "metadata": {
      "needs_background": "light"
     },
     "output_type": "display_data"
    }
   ],
   "source": [
    "# Criando uma rede a partir do Preferential Attachment Model.\n",
    "# O parâmetro 'n' sinaliza o número de nós final desejado.\n",
    "# 'm' indica quantos edges cada novo nó terá.\n",
    "G = nx.barabasi_albert_graph(50, 1, seed=42)\n",
    "degrees = dict(G.degree()).values()\n",
    "\n",
    "# Como é possível enxergar, a maior parte dos pontos tem baixo degree, enquanto um único caso isolado foi capaz de fazer 16 conexões.\n",
    "sns.histplot(degrees)"
   ]
  },
  {
   "cell_type": "markdown",
   "id": "309fe799-9384-4d0a-9dcd-8002e052860f",
   "metadata": {},
   "source": [
    "<div> \n",
    "    <hr>\n",
    "    <h2 style='font-size:30px'> Small World Networks</h2>\n",
    "</div>"
   ]
  },
  {
   "cell_type": "code",
   "execution_count": 17,
   "id": "00400e2b-13d9-443e-bef3-a6c03c46c95c",
   "metadata": {},
   "outputs": [],
   "source": [
    "! mv /Users/felipeveiga/Desktop/Screen\\ Shot\\ 2022-08-07\\ at\\ 14.10.33.png ./degree_distribution1.png"
   ]
  },
  {
   "cell_type": "markdown",
   "id": "83879e6d-72eb-4544-819a-8067c9db49c9",
   "metadata": {},
   "source": [
    "<p style='color:red'> Small World Networks"
   ]
  }
 ],
 "metadata": {
  "kernelspec": {
   "display_name": "Python 3",
   "language": "python",
   "name": "python3"
  },
  "language_info": {
   "codemirror_mode": {
    "name": "ipython",
    "version": 3
   },
   "file_extension": ".py",
   "mimetype": "text/x-python",
   "name": "python",
   "nbconvert_exporter": "python",
   "pygments_lexer": "ipython3",
   "version": "3.8.8"
  }
 },
 "nbformat": 4,
 "nbformat_minor": 5
}
