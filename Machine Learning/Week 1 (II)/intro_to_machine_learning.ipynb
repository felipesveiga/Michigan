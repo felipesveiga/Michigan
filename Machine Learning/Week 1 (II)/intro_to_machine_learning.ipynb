{
 "cells": [
  {
   "cell_type": "markdown",
   "id": "977d2df9-c923-42e8-a27c-4a1ae813c41a",
   "metadata": {},
   "source": [
    "<h1 style = 'font-size:40px'> Introduction to Machine Learning</h1>"
   ]
  },
  {
   "cell_type": "markdown",
   "id": "d3eee23e-1739-4352-b098-8ba7262d0ee9",
   "metadata": {},
   "source": [
    "<h1 style = 'font-size:30px'> Key Concepts in Machine Learning.</h1>\n",
    "<h2 style = 'font-size:30px'> <em> Supervised Learning</em> </h2>\n",
    "<div>\n",
    "    <ul style = 'font-size:20px'> \n",
    "        <li> O Supervised Learning é a área do Machine Learning que lida com a previsão de resultados com base em dados que nós oferecemos ao nosso computador anteriormente.\n",
    "        </li>\n",
    "    </ul>\n",
    "</div>\n",
    "\n",
    "<h3 style = 'font-size:25px'> <u>Classification Models</u></h3>\n",
    "<div>\n",
    "    <ul style = 'font-size:20px'> \n",
    "        <li> Os modelos de classificação lidam com a previsão de outputs nominais. Ou seja, o que esperamos como retorno do computador é um texto.\n",
    "        </li>\n",
    "    </ul>\n",
    "</div>\n",
    "\n",
    "<h3 style = 'font-size:25px'> <u>Regression Models</u></h3>\n",
    "<div>\n",
    "    <ul style = 'font-size:20px'> \n",
    "        <li> Em modelos de regressão, o output esperado são números.\n",
    "        </li>\n",
    "    </ul>\n",
    "</div>"
   ]
  },
  {
   "cell_type": "markdown",
   "id": "8b912e50-32ec-40ee-926b-d16ab8f16398",
   "metadata": {},
   "source": [
    "<h2 style = 'font-size:30px'> Terminologia do Supervised Learning</h2>"
   ]
  },
  {
   "cell_type": "markdown",
   "id": "3efdfa83-9f21-440f-8911-ca41f89a1f7a",
   "metadata": {},
   "source": [
    "PAREI EM KEY CONCEPTS TO MACHINE LEARNING (1:00)"
   ]
  }
 ],
 "metadata": {
  "kernelspec": {
   "display_name": "Python 3",
   "language": "python",
   "name": "python3"
  },
  "language_info": {
   "codemirror_mode": {
    "name": "ipython",
    "version": 3
   },
   "file_extension": ".py",
   "mimetype": "text/x-python",
   "name": "python",
   "nbconvert_exporter": "python",
   "pygments_lexer": "ipython3",
   "version": "3.8.8"
  }
 },
 "nbformat": 4,
 "nbformat_minor": 5
}
