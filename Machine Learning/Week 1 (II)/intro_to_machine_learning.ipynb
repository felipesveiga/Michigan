{
 "cells": [
  {
   "cell_type": "markdown",
   "id": "977d2df9-c923-42e8-a27c-4a1ae813c41a",
   "metadata": {},
   "source": [
    "<h1 style = 'font-size:40px'> Introduction to Machine Learning</h1>"
   ]
  },
  {
   "cell_type": "markdown",
   "id": "d3eee23e-1739-4352-b098-8ba7262d0ee9",
   "metadata": {},
   "source": [
    "<h1 style = 'font-size:30px'> Key Concepts in Machine Learning.</h1>\n",
    "<h2 style = 'font-size:30px'> <em> Supervised Learning</em> </h2>\n",
    "<div>\n",
    "    <ul style = 'font-size:20px'> \n",
    "        <li> O Supervised Learning é a área do Machine Learning que lida com a previsão de resultados com base em dados que nós oferecemos ao nosso computador anteriormente.\n",
    "        </li>\n",
    "    </ul>\n",
    "</div>\n",
    "\n",
    "<h3 style = 'font-size:25px'> <u>Classification Models</u></h3>\n",
    "<div>\n",
    "    <ul style = 'font-size:20px'> \n",
    "        <li> Os modelos de classificação lidam com a previsão de outputs nominais. Ou seja, o que esperamos como retorno do computador é um texto.\n",
    "        </li>\n",
    "    </ul>\n",
    "</div>\n",
    "\n",
    "<h3 style = 'font-size:25px'> <u>Regression Models</u></h3>\n",
    "<div>\n",
    "    <ul style = 'font-size:20px'> \n",
    "        <li> Em modelos de regressão, o output esperado são números.\n",
    "        </li>\n",
    "    </ul>\n",
    "</div>"
   ]
  },
  {
   "cell_type": "markdown",
   "id": "8b912e50-32ec-40ee-926b-d16ab8f16398",
   "metadata": {},
   "source": [
    "<h2 style = 'font-size:30px'> Terminologia do Supervised Learning</h2>\n",
    "\n",
    "<div>\n",
    "    <ul style = 'font-size:20px'>\n",
    "        <li> Os datasets de Supervised Learning são divididos em suas seções. A primeira (X), é constituída pelos dados quantitativos ou qualitativos a respeito do objeto sob análise. A segunda (Y), contém a identificação do objeto em si, podendo ser um nome (classification models) ou um número (regression models).\n",
    "        </li>\n",
    "    </ul>\n",
    "</div>\n",
    "    "
   ]
  },
  {
   "cell_type": "markdown",
   "id": "c13490aa-bf8a-47b8-9b05-f8c61b80b173",
   "metadata": {},
   "source": [
    "<h2 style = 'font-size:30px'><em>Unsupervised Learning</em></h2>\n",
    "\n",
    "<div>\n",
    "    <ul style = 'font-size:20px'>\n",
    "        <li> O Unsupervised Learning, por sua vez, não recebe um dataset com uma seção Y. Ou seja, recebemos dados sem qualquer tipo de classificação ou valor em relação a eles. \n",
    "        </li>\n",
    "        \n",
    "        <li style = 'margin-top:10px'> A intenção desse método de Machine Learning envolve descobrir padrões entre os dados recebidos. Como essas informações não recebem um rótulo, faz se necessário o uso da inteligência humana a fim de se enxergar as semelhanças e diferenças entre elas.\n",
    "        </li>\n",
    "    </ul>\n",
    "</div>"
   ]
  },
  {
   "cell_type": "markdown",
   "id": "77d790ee-2a53-41c9-ba34-ebdc0ea1d44a",
   "metadata": {},
   "source": [
    "<h2 style = 'font-size:30px'> <em>O ciclo de trabalho do Machine Learning</em> </h2>\n",
    "<div>\n",
    "    <ul style = 'font-size:20px'> \n",
    "        <li> Aplicar métodos de Machine Learning em um dataset requer a realização de um conjunto de etapas.\n",
    "        </li>\n",
    "    </ul>\n",
    "</div>\n",
    "\n",
    "<div>\n",
    "    <center>\n",
    "    <img src = 'ml_workflow.png'>\n",
    "    </center>\n",
    "</div>\n",
    "    "
   ]
  },
  {
   "cell_type": "markdown",
   "id": "444ae7d7-29bf-4870-ae33-08b4810887a9",
   "metadata": {},
   "source": [
    "<h1 style = 'font-size:30px'> An Example Machine Learning Problem</h1>\n",
    "\n",
    "<div>\n",
    "    <ul style = 'font-size:20px'>\n",
    "        <li>Nesta aula, iremos construir um modelo de Aprendizado Supervisionado de identificação de frutas.\n",
    "        </li>\n",
    "    </ul>\n",
    "</div>\n",
    "\n"
   ]
  },
  {
   "cell_type": "code",
   "execution_count": 1,
   "id": "052e236d-74db-4286-86f3-d34a47731889",
   "metadata": {},
   "outputs": [],
   "source": [
    "%matplotlib widget\n",
    "import pandas as pd\n",
    "import numpy as np\n",
    "import matplotlib.pyplot\n",
    "from sklearn.model_selection import train_test_split"
   ]
  },
  {
   "cell_type": "code",
   "execution_count": 2,
   "id": "6c403dd6-3426-498d-b9e3-281d130e1663",
   "metadata": {},
   "outputs": [],
   "source": [
    "fruits = pd.read_table('fruit_data_with_colors (1).txt')"
   ]
  },
  {
   "cell_type": "code",
   "execution_count": 3,
   "id": "b6c8ede2-15a2-46cd-95e4-2ecbbe595531",
   "metadata": {},
   "outputs": [
    {
     "data": {
      "text/html": [
       "<div>\n",
       "<style scoped>\n",
       "    .dataframe tbody tr th:only-of-type {\n",
       "        vertical-align: middle;\n",
       "    }\n",
       "\n",
       "    .dataframe tbody tr th {\n",
       "        vertical-align: top;\n",
       "    }\n",
       "\n",
       "    .dataframe thead th {\n",
       "        text-align: right;\n",
       "    }\n",
       "</style>\n",
       "<table border=\"1\" class=\"dataframe\">\n",
       "  <thead>\n",
       "    <tr style=\"text-align: right;\">\n",
       "      <th></th>\n",
       "      <th>fruit_label</th>\n",
       "      <th>fruit_name</th>\n",
       "      <th>fruit_subtype</th>\n",
       "      <th>mass</th>\n",
       "      <th>width</th>\n",
       "      <th>height</th>\n",
       "      <th>color_score</th>\n",
       "    </tr>\n",
       "  </thead>\n",
       "  <tbody>\n",
       "    <tr>\n",
       "      <th>0</th>\n",
       "      <td>1</td>\n",
       "      <td>apple</td>\n",
       "      <td>granny_smith</td>\n",
       "      <td>192</td>\n",
       "      <td>8.4</td>\n",
       "      <td>7.3</td>\n",
       "      <td>0.55</td>\n",
       "    </tr>\n",
       "    <tr>\n",
       "      <th>1</th>\n",
       "      <td>1</td>\n",
       "      <td>apple</td>\n",
       "      <td>granny_smith</td>\n",
       "      <td>180</td>\n",
       "      <td>8.0</td>\n",
       "      <td>6.8</td>\n",
       "      <td>0.59</td>\n",
       "    </tr>\n",
       "    <tr>\n",
       "      <th>2</th>\n",
       "      <td>1</td>\n",
       "      <td>apple</td>\n",
       "      <td>granny_smith</td>\n",
       "      <td>176</td>\n",
       "      <td>7.4</td>\n",
       "      <td>7.2</td>\n",
       "      <td>0.60</td>\n",
       "    </tr>\n",
       "    <tr>\n",
       "      <th>3</th>\n",
       "      <td>2</td>\n",
       "      <td>mandarin</td>\n",
       "      <td>mandarin</td>\n",
       "      <td>86</td>\n",
       "      <td>6.2</td>\n",
       "      <td>4.7</td>\n",
       "      <td>0.80</td>\n",
       "    </tr>\n",
       "    <tr>\n",
       "      <th>4</th>\n",
       "      <td>2</td>\n",
       "      <td>mandarin</td>\n",
       "      <td>mandarin</td>\n",
       "      <td>84</td>\n",
       "      <td>6.0</td>\n",
       "      <td>4.6</td>\n",
       "      <td>0.79</td>\n",
       "    </tr>\n",
       "  </tbody>\n",
       "</table>\n",
       "</div>"
      ],
      "text/plain": [
       "   fruit_label fruit_name fruit_subtype  mass  width  height  color_score\n",
       "0            1      apple  granny_smith   192    8.4     7.3         0.55\n",
       "1            1      apple  granny_smith   180    8.0     6.8         0.59\n",
       "2            1      apple  granny_smith   176    7.4     7.2         0.60\n",
       "3            2   mandarin      mandarin    86    6.2     4.7         0.80\n",
       "4            2   mandarin      mandarin    84    6.0     4.6         0.79"
      ]
     },
     "execution_count": 3,
     "metadata": {},
     "output_type": "execute_result"
    }
   ],
   "source": [
    "fruits.head()"
   ]
  },
  {
   "cell_type": "code",
   "execution_count": 18,
   "id": "e87d5835-1f2e-4e92-9739-8156a5d65fd9",
   "metadata": {},
   "outputs": [
    {
     "data": {
      "text/html": [
       "<h1 style = 'font-size:20px'>Aqui, podemos enxgergar a escala de cores usada na coluna. 'color_score'.</h1>\n",
       "<center>\n",
       "<img src = 'color_scale.png'>\n",
       "</center>\n"
      ],
      "text/plain": [
       "<IPython.core.display.HTML object>"
      ]
     },
     "metadata": {},
     "output_type": "display_data"
    }
   ],
   "source": [
    "%%HTML\n",
    "<h1 style = 'font-size:20px'>Aqui, podemos enxgergar a escala de cores usada na coluna. 'color_score'.</h1>\n",
    "<center>\n",
    "<img src = 'color_scale.png'>\n",
    "</center>"
   ]
  },
  {
   "cell_type": "code",
   "execution_count": 4,
   "id": "85343c58-f899-40e9-8bb9-ade2bd25b51e",
   "metadata": {},
   "outputs": [],
   "source": [
    "# Agora, utilizaremos train_test_split para treinar o nosso modelo de Machine Learning\n",
    "\n",
    "# Definindo as colunas do X sample e Y sample.\n",
    "X = fruits[['mass', 'width', 'height', 'color_score']]\n",
    "y = fruits['fruit_label']\n",
    "X_train, X_test, y_train, y_test = train_test_split(X, y, random_state = 0)"
   ]
  },
  {
   "cell_type": "markdown",
   "id": "fda14cbe-f25f-40a3-8afe-ce5dd6616cc9",
   "metadata": {},
   "source": [
    "<h1 style = 'font-size:30px'> Examining the Data</h1>\n",
    "\n",
    "<div>\n",
    "    <ul style = 'font-size:20px'>\n",
    "        <li> Em Machine Learning, é muito importante utilizarmos métodos de visualização sobre nossos dados. Isso pode ser útil a fim de identificar possíveis defeitos nos números - como um outlier -, além de descobrir possíveis pares de características que possibilitam uma segregação bem definida das categorias que iremos analisar.\n",
    "        </li>\n",
    "    </ul>\n",
    "</div>"
   ]
  },
  {
   "cell_type": "code",
   "execution_count": 79,
   "id": "7c5a575a-2e6e-4920-9008-9ad95f8fcd9e",
   "metadata": {},
   "outputs": [
    {
     "data": {
      "image/png": "[encoded data removed]",
      "text/plain": [
       "<Figure size 576x576 with 16 Axes>"
      ]
     },
     "metadata": {
      "needs_background": "light"
     },
     "output_type": "display_data"
    }
   ],
   "source": [
    "%matplotlib inline\n",
    "from matplotlib import cm\n",
    "# Aqui, construiremos um pairplot do seaborn.\n",
    "cmap = cm.get_cmap('gnuplot')\n",
    "pd.plotting.scatter_matrix(X_train, c = y_train, marker = 'o' ,cmap = cmap, figsize = (8, 8), diagonal = 'kde');"
   ]
  },
  {
   "cell_type": "code",
   "execution_count": 14,
   "id": "0cc55ef2-18ef-498e-b200-92a73110f539",
   "metadata": {},
   "outputs": [
    {
     "data": {
      "application/vnd.jupyter.widget-view+json": {
       "model_id": "087ede5e58fa41789a9f1dbbf4b129bc",
       "version_major": 2,
       "version_minor": 0
      },
      "text/plain": [
       "Canvas(toolbar=Toolbar(toolitems=[('Home', 'Reset original view', 'home', 'home'), ('Back', 'Back to previous …"
      ]
     },
     "metadata": {},
     "output_type": "display_data"
    },
    {
     "data": {
      "text/plain": [
       "Text(0.5, 0, 'color_score')"
      ]
     },
     "execution_count": 14,
     "metadata": {},
     "output_type": "execute_result"
    }
   ],
   "source": [
    "# Podemos visualizar os dados de uma maneira mais moderna: com um gráfico 3D!\n",
    "%matplotlib widget\n",
    "from mpl_toolkits.mplot3d import Axes3D\n",
    "import matplotlib.pyplot as plt\n",
    "fig = plt.figure(figsize = (10,7))\n",
    "ax = plt.subplot(111, projection = '3d')\n",
    "ax.scatter(X_train['height'], X_train['width'], X_train['color_score'], c = y_train, marker = 'o', s = 100,\n",
    "          depthshade = True)\n",
    "ax.set_xlabel('height')\n",
    "ax.set_ylabel('width')\n",
    "ax.set_zlabel('color_score')"
   ]
  },
  {
   "cell_type": "markdown",
   "id": "255467cf-2bd2-421d-912d-9e2e09bcdcb9",
   "metadata": {},
   "source": [
    "<h1 style = 'font-size:30px'> K-Nearest Neighbors Classification</h1>\n",
    "\n",
    "<div>\n",
    "    <ul style = 'font-size:20px'>\n",
    "        <li> O K-Nearest Neighbors é um algoritmo de Machine Learning Supervisionado que pode ser usado tanto em regressões, quanto em classificações.\n",
    "        </li>\n",
    "        \n",
    "        <li> Basicamente, ele pega as informações dadas em X_train e produz um gráfico. Nele, os pontos de cada categoria definirão uma zona de influência; os pontos de X_test serão classificados de acordo com a sua posição no gráfico construído.\n",
    "        </li>\n",
    "    </ul>\n",
    "    \n",
    "</div>\n",
    "<center>\n",
    "<img src = 'knn_graph.png'>\n",
    "</center>\n",
    "\n",
    "<div>\n",
    "    <ul style = 'font-size:20px'>\n",
    "        <li> Observe o gráfico-exemplo do curso. Os pontos de cada amostra de fruta definem uma zona de influência \n",
    "                para a sua respectiva categoria. Dessa forma, o ponto de X_test que cair em (7, 9) será classificado como\n",
    "                uma maçã.\n",
    "        </li>\n",
    "        \n",
    "        <li> No entanto, caso definíssemos que o programa deve considerar os TRÊS pontos mais próximos daquele de nossa amostra de teste, poderíamos criar regras que buscam definir a maneira como rotularíamos a incógnita. Por exemplo, seria possível utilizar um voto por maioria simples ou escolher o nome do ponto mais próximo como rótulo.\n",
    "        </li>\n",
    " \n",
    "</ul>\n",
    "</div>"
   ]
  },
  {
   "cell_type": "code",
   "execution_count": 22,
   "id": "294ca572-efe7-4d86-97d6-b3c7fa1cdecb",
   "metadata": {},
   "outputs": [
    {
     "data": {
      "text/html": [
       "<div>\n",
       "<style scoped>\n",
       "    .dataframe tbody tr th:only-of-type {\n",
       "        vertical-align: middle;\n",
       "    }\n",
       "\n",
       "    .dataframe tbody tr th {\n",
       "        vertical-align: top;\n",
       "    }\n",
       "\n",
       "    .dataframe thead th {\n",
       "        text-align: right;\n",
       "    }\n",
       "</style>\n",
       "<table border=\"1\" class=\"dataframe\">\n",
       "  <thead>\n",
       "    <tr style=\"text-align: right;\">\n",
       "      <th></th>\n",
       "      <th>fruit_label</th>\n",
       "      <th>fruit_name</th>\n",
       "      <th>fruit_subtype</th>\n",
       "      <th>mass</th>\n",
       "      <th>width</th>\n",
       "      <th>height</th>\n",
       "      <th>color_score</th>\n",
       "    </tr>\n",
       "  </thead>\n",
       "  <tbody>\n",
       "    <tr>\n",
       "      <th>0</th>\n",
       "      <td>1</td>\n",
       "      <td>apple</td>\n",
       "      <td>granny_smith</td>\n",
       "      <td>192</td>\n",
       "      <td>8.4</td>\n",
       "      <td>7.3</td>\n",
       "      <td>0.55</td>\n",
       "    </tr>\n",
       "    <tr>\n",
       "      <th>1</th>\n",
       "      <td>1</td>\n",
       "      <td>apple</td>\n",
       "      <td>granny_smith</td>\n",
       "      <td>180</td>\n",
       "      <td>8.0</td>\n",
       "      <td>6.8</td>\n",
       "      <td>0.59</td>\n",
       "    </tr>\n",
       "    <tr>\n",
       "      <th>2</th>\n",
       "      <td>1</td>\n",
       "      <td>apple</td>\n",
       "      <td>granny_smith</td>\n",
       "      <td>176</td>\n",
       "      <td>7.4</td>\n",
       "      <td>7.2</td>\n",
       "      <td>0.60</td>\n",
       "    </tr>\n",
       "    <tr>\n",
       "      <th>3</th>\n",
       "      <td>2</td>\n",
       "      <td>mandarin</td>\n",
       "      <td>mandarin</td>\n",
       "      <td>86</td>\n",
       "      <td>6.2</td>\n",
       "      <td>4.7</td>\n",
       "      <td>0.80</td>\n",
       "    </tr>\n",
       "    <tr>\n",
       "      <th>4</th>\n",
       "      <td>2</td>\n",
       "      <td>mandarin</td>\n",
       "      <td>mandarin</td>\n",
       "      <td>84</td>\n",
       "      <td>6.0</td>\n",
       "      <td>4.6</td>\n",
       "      <td>0.79</td>\n",
       "    </tr>\n",
       "  </tbody>\n",
       "</table>\n",
       "</div>"
      ],
      "text/plain": [
       "   fruit_label fruit_name fruit_subtype  mass  width  height  color_score\n",
       "0            1      apple  granny_smith   192    8.4     7.3         0.55\n",
       "1            1      apple  granny_smith   180    8.0     6.8         0.59\n",
       "2            1      apple  granny_smith   176    7.4     7.2         0.60\n",
       "3            2   mandarin      mandarin    86    6.2     4.7         0.80\n",
       "4            2   mandarin      mandarin    84    6.0     4.6         0.79"
      ]
     },
     "execution_count": 22,
     "metadata": {},
     "output_type": "execute_result"
    }
   ],
   "source": [
    "# Partindo para o Machine Learning: precisamos importar as ferramentas necessárias e o dataset a ser usado.\n",
    "%matplotlib widget\n",
    "import pandas as pd\n",
    "import numpy as np\n",
    "import matplotlib.pyplot\n",
    "from sklearn.model_selection import train_test_split\n",
    "fruits = pd.read_table('fruit_data_with_colors (1).txt')\n",
    "fruits.head()"
   ]
  },
  {
   "cell_type": "code",
   "execution_count": 23,
   "id": "c36fd22e-ce47-4299-8114-0a8c6328d9e8",
   "metadata": {},
   "outputs": [
    {
     "data": {
      "text/plain": [
       "{1: 'apple', 2: 'mandarin', 3: 'orange', 4: 'lemon'}"
      ]
     },
     "execution_count": 23,
     "metadata": {},
     "output_type": "execute_result"
    }
   ],
   "source": [
    "# A fim de nos auxiliar com o significado da coluna 'fruit_label', criaremos um dicionário.\n",
    "lookup_fruit_name = dict(zip(fruits.fruit_label.unique(), fruits.fruit_name.unique()))\n",
    "lookup_fruit_name"
   ]
  },
  {
   "cell_type": "code",
   "execution_count": 44,
   "id": "8c1acddc-70cf-46b0-9069-e0f810e41de1",
   "metadata": {},
   "outputs": [],
   "source": [
    "# Segregando o nosso dataset em porções para treino e teste.\n",
    "X = fruits[['mass', 'width', 'height', 'color_score']]\n",
    "y = fruits['fruit_label']\n",
    "\n",
    "X_train, X_test, y_train, y_test = train_test_split(X,y, random_state = 0)"
   ]
  },
  {
   "cell_type": "code",
   "execution_count": 45,
   "id": "17ca444d-df43-4378-be1c-0f57c1b56a60",
   "metadata": {},
   "outputs": [],
   "source": [
    "# Definindo um classificador KNN.\n",
    "from sklearn.neighbors import KNeighborsClassifier\n",
    "knn = KNeighborsClassifier(n_neighbors = 5)"
   ]
  },
  {
   "cell_type": "code",
   "execution_count": 46,
   "id": "51d70c63-2dd1-4e06-913d-af419ee38953",
   "metadata": {},
   "outputs": [
    {
     "data": {
      "text/plain": [
       "KNeighborsClassifier()"
      ]
     },
     "execution_count": 46,
     "metadata": {},
     "output_type": "execute_result"
    }
   ],
   "source": [
    "# Treinando o nosso modelo com as amostras de treino\n",
    "knn.fit(X_train, y_train)"
   ]
  },
  {
   "cell_type": "code",
   "execution_count": 47,
   "id": "f89f1881-8e8d-40db-9aba-c0aa1205fa71",
   "metadata": {},
   "outputs": [
    {
     "data": {
      "text/plain": [
       "0.5333333333333333"
      ]
     },
     "execution_count": 47,
     "metadata": {},
     "output_type": "execute_result"
    }
   ],
   "source": [
    "# Com o modelo pronto, vamos agora saber o quão preciso é ele com os dados de teste.\n",
    "\n",
    "# A precisão do algoritmo é de 53%.\n",
    "knn.score(X_test, y_test)"
   ]
  },
  {
   "cell_type": "code",
   "execution_count": 55,
   "id": "8e97ed2c-daf5-4bc8-a50b-d29608938c14",
   "metadata": {},
   "outputs": [
    {
     "name": "stdout",
     "output_type": "stream",
     "text": [
      "lemon orange\n"
     ]
    }
   ],
   "source": [
    "# Além da precisão em si, é possível utilizar o algoritmo para fazê-lo tentar adivinhar o nome da fruta de \n",
    "# um certo conjunto de informações.\n",
    "\n",
    "# Vamos usar a linha de index 33 de 'X_test'\n",
    "fruit = knn.predict([[190, 7.5, 8.1, 0.74]]) \n",
    "\n",
    "# O algoritmo previu um limão, no entanto, a fruta é uma laranja.\n",
    "print(lookup_fruit_name[fruit[0]], lookup_fruit_name[y_test.loc[33]])"
   ]
  },
  {
   "cell_type": "code",
   "execution_count": 71,
   "id": "1e2dd653-b89b-4a87-8c3f-e733ffe3c96c",
   "metadata": {},
   "outputs": [
    {
     "data": {
      "application/vnd.jupyter.widget-view+json": {
       "model_id": "62b125d627de40e6bf89690d44202292",
       "version_major": 2,
       "version_minor": 0
      },
      "text/plain": [
       "Canvas(toolbar=Toolbar(toolitems=[('Home', 'Reset original view', 'home', 'home'), ('Back', 'Back to previous …"
      ]
     },
     "metadata": {},
     "output_type": "display_data"
    },
    {
     "data": {
      "text/plain": [
       "[<matplotlib.lines.Line2D at 0x7f94919b1730>]"
      ]
     },
     "execution_count": 71,
     "metadata": {},
     "output_type": "execute_result"
    }
   ],
   "source": [
    "# Agora, iremos explorar a influência da variável k_neighbors na precisão do modelo.\n",
    "l = [[], []]\n",
    "for i in range(1, len(X_test)):\n",
    "    l[0].append(i)\n",
    "    knn = KNeighborsClassifier(n_neighbors = i)\n",
    "    knn.fit(X_train, y_train)\n",
    "    score = knn.score(X_test, y_test)\n",
    "    l[1].append(score)\n",
    "\n",
    "plt.plot(l[0], l[1])"
   ]
  }
 ],
 "metadata": {
  "kernelspec": {
   "display_name": "Python 3",
   "language": "python",
   "name": "python3"
  },
  "language_info": {
   "codemirror_mode": {
    "name": "ipython",
    "version": 3
   },
   "file_extension": ".py",
   "mimetype": "text/x-python",
   "name": "python",
   "nbconvert_exporter": "python",
   "pygments_lexer": "ipython3",
   "version": "3.8.8"
  }
 },
 "nbformat": 4,
 "nbformat_minor": 5
}
