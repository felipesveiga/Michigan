{
 "cells": [
  {
   "cell_type": "markdown",
   "id": "54df6112-ee1e-4b24-84db-4f1be4232eca",
   "metadata": {},
   "source": [
    "<h1 style='font-size:40px'> Evaluation</h1>"
   ]
  },
  {
   "cell_type": "markdown",
   "id": "d8baa57e-ed14-4783-a055-f5ce4ec19673",
   "metadata": {},
   "source": [
    "<h2 style='font-size:30px'>Model Evaluation & Selection</h2>\n",
    "<div>\n",
    "    <ul style='font-size:20px'> \n",
    "        <li>\n",
    "            Até agora, o único parâmetro utilizado para avaliar a qualidade dos nossos modelos criados foi o <em>score</em>, que retorna a porcentagem de acertos na adivinhação da categorias ou números. \n",
    "        </li>\n",
    "        <li>\n",
    "            No entanto, ele pode ser, em muitas situações, insuficiente para nós avaliarmos a real qualidade dos algoritmos criados. Portanto, esta semana, focaremos em outras métricas qualitativas que nos darão uma compreensão mais completa sobre o quão bom um determinado modelo é.\n",
    "        </li>\n",
    "    </ul>\n",
    "</div>\n",
    "<div>\n",
    "    <h3 style='font-size:30px;font-style:italic'> Por que accuracy é insuficiente?</h3>\n",
    "    <h4 style='font-size:25px;font-style:italic;text-decoration:underline'>Datasets desbalanceados </h4>\n",
    "    <div>\n",
    "        <ul style='font-size:20px'>\n",
    "            <li>\n",
    "                Suponha que tivéssemos que montar um algoritmo de anúncio de produtos em um site de e-commerce. Sua tarefa deve ser identificar, para cada consumidor, os produtos que não são de seu interesse, de modo a evitar que eles sejam mostrados em propagandas online.\n",
    "            </li>\n",
    "            <li>\n",
    "                Como a página possui milhares de produtos, é razoável pensar que apenas uma minúscula fração deles será, de fato, de interesse ao cliente. Se tivéssemos um dataset com 999 mercadorias que não geram apelo (N) e apenas 1 apelativa (A), um simples sorteador aleatório descobrirá com 99,9% de precisão os produtos desinteressantes.\n",
    "            </li>\n",
    "            <li>\n",
    "                Dessa maneira, montar um modelo de ML com o mesmo score de 99,9% não é nada impressionador. Afinal de contas, um sorteador desprovido de inteligência é capaz de ter o mesmo desempenho.\n",
    "            </li>\n",
    "        </ul>\n",
    "    </div>\n",
    "</div>"
   ]
  },
  {
   "cell_type": "code",
   "execution_count": 1,
   "id": "d12123ef-ee0b-47d9-ba8a-8be04f844ce3",
   "metadata": {},
   "outputs": [
    {
     "data": {
      "text/html": [
       "<div>\n",
       "<style scoped>\n",
       "    .dataframe tbody tr th:only-of-type {\n",
       "        vertical-align: middle;\n",
       "    }\n",
       "\n",
       "    .dataframe tbody tr th {\n",
       "        vertical-align: top;\n",
       "    }\n",
       "\n",
       "    .dataframe thead th {\n",
       "        text-align: right;\n",
       "    }\n",
       "</style>\n",
       "<table border=\"1\" class=\"dataframe\">\n",
       "  <thead>\n",
       "    <tr style=\"text-align: right;\">\n",
       "      <th></th>\n",
       "      <th>Occurences</th>\n",
       "    </tr>\n",
       "  </thead>\n",
       "  <tbody>\n",
       "    <tr>\n",
       "      <th>0</th>\n",
       "      <td>178</td>\n",
       "    </tr>\n",
       "    <tr>\n",
       "      <th>1</th>\n",
       "      <td>182</td>\n",
       "    </tr>\n",
       "    <tr>\n",
       "      <th>2</th>\n",
       "      <td>177</td>\n",
       "    </tr>\n",
       "    <tr>\n",
       "      <th>3</th>\n",
       "      <td>183</td>\n",
       "    </tr>\n",
       "    <tr>\n",
       "      <th>4</th>\n",
       "      <td>181</td>\n",
       "    </tr>\n",
       "    <tr>\n",
       "      <th>5</th>\n",
       "      <td>182</td>\n",
       "    </tr>\n",
       "    <tr>\n",
       "      <th>6</th>\n",
       "      <td>181</td>\n",
       "    </tr>\n",
       "    <tr>\n",
       "      <th>7</th>\n",
       "      <td>179</td>\n",
       "    </tr>\n",
       "    <tr>\n",
       "      <th>8</th>\n",
       "      <td>174</td>\n",
       "    </tr>\n",
       "    <tr>\n",
       "      <th>9</th>\n",
       "      <td>180</td>\n",
       "    </tr>\n",
       "  </tbody>\n",
       "</table>\n",
       "</div>"
      ],
      "text/plain": [
       "   Occurences\n",
       "0         178\n",
       "1         182\n",
       "2         177\n",
       "3         183\n",
       "4         181\n",
       "5         182\n",
       "6         181\n",
       "7         179\n",
       "8         174\n",
       "9         180"
      ]
     },
     "execution_count": 1,
     "metadata": {},
     "output_type": "execute_result"
    }
   ],
   "source": [
    "# O dataset é bem simples: Quantas vezes os números (0 a 9) aparecem em dataset.target?\n",
    "import pandas as pd\n",
    "import numpy as np\n",
    "import seaborn as sns\n",
    "import matplotlib.pyplot as plt\n",
    "from sklearn.model_selection import train_test_split\n",
    "from sklearn.datasets import load_digits\n",
    "dataset = load_digits()\n",
    "X, y = dataset.data, dataset.target\n",
    "pd.DataFrame({'Occurences':np.bincount(dataset.target)})"
   ]
  },
  {
   "cell_type": "code",
   "execution_count": 2,
   "id": "708231b2-e3be-486f-a13d-f23c8ca957e0",
   "metadata": {},
   "outputs": [
    {
     "data": {
      "text/plain": [
       "array([0, 1, 0, ..., 0, 0, 0])"
      ]
     },
     "execution_count": 2,
     "metadata": {},
     "output_type": "execute_result"
    }
   ],
   "source": [
    "# Vamos fazer com que esse dataset se torne desbalanceado: contaremos as ocorrências do número 1 versus as ocorrências de números que \n",
    "# não são 1 (agora rotulados como 0).\n",
    "unbalanced_y =y.copy()\n",
    "unbalanced_y[unbalanced_y!=1] = 0\n",
    "unbalanced_y"
   ]
  },
  {
   "cell_type": "code",
   "execution_count": 3,
   "id": "91e0d19a-3e8e-4091-b85a-32dcb9551071",
   "metadata": {},
   "outputs": [
    {
     "data": {
      "text/plain": [
       "0.9088888888888889"
      ]
     },
     "execution_count": 3,
     "metadata": {},
     "output_type": "execute_result"
    }
   ],
   "source": [
    "# Agora, vamos criar um modelo de Supprt Vector Machines para prever se o número será 1 ou 0.\n",
    "from sklearn.svm import SVC\n",
    "X_train, X_test, y_train, y_test = train_test_split(X, unbalanced_y, random_state=0)\n",
    "svc = SVC(kernel='rbf', C=1, gamma='auto').fit(X_train, y_train)\n",
    "# Veja como o algoritmo é preciso.\n",
    "svc.score(X_test, y_test)"
   ]
  },
  {
   "cell_type": "code",
   "execution_count": 4,
   "id": "152ede06-9d78-4567-887d-1fd74b9f91a5",
   "metadata": {},
   "outputs": [
    {
     "data": {
      "text/plain": [
       "0.9044444444444445"
      ]
     },
     "execution_count": 4,
     "metadata": {},
     "output_type": "execute_result"
    }
   ],
   "source": [
    "# Agora, usaremos um DummyClassfier, que rotula instâncias do dataset de treino de acordo com uma norma.\n",
    "# Neste caso, ele rotulará todas as instâncias com o nome da categoria com o maior número de ocorrências no dataset de treino.\n",
    "from sklearn.dummy import DummyClassifier\n",
    "\n",
    "dummy_majority = DummyClassifier(strategy = 'most_frequent').fit(X_train, y_train)\n",
    "# E vajam só: o score é o mesmo de nosso SVM. Portanto, ele não tem nada de especial.\n",
    "dummy_majority.score(X_test, y_test)"
   ]
  },
  {
   "cell_type": "code",
   "execution_count": 5,
   "id": "e1d2ef05-3ee2-4349-aeb3-bb56ea2c774b",
   "metadata": {},
   "outputs": [
    {
     "name": "stdout",
     "output_type": "stream",
     "text": [
      "mv: /Users/felipeveiga/Desktop/Screen Shot 2022-03-20 at 08.15.52.png: No such file or directory\n"
     ]
    }
   ],
   "source": [
    "! mv /Users/felipeveiga/Desktop/Screen\\ Shot\\ 2022-03-20\\ at\\ 08.15.52.png ./dummy2.png"
   ]
  },
  {
   "cell_type": "markdown",
   "id": "aa66d8e2-77a6-4984-b55a-f2dfe1098dd8",
   "metadata": {},
   "source": [
    "<center>\n",
    "    <h1 style='font-size:30px'>Algumas das estratégias mais utilizadas com o DummyClassifier</h1>\n",
    "    <img src='dummy1.png'>\n",
    "    <h1 style='font-size:30px'>Estratégias populares para o DummyRegressor</h1>\n",
    "    <img src='dummy2.png'>\n",
    "</center>"
   ]
  },
  {
   "cell_type": "markdown",
   "id": "1243cfee-c215-4664-b7c8-ae87b3b47f4b",
   "metadata": {},
   "source": [
    "<h3 style='font-size:30px;font-style:italic'>Confusion Matrices</h3>\n",
    "<div>\n",
    "    <ul style='font-size:20px'>\n",
    "        <li>\n",
    "            As matrizes de confusão são um outro método de avaliação de modelos de ML responsáveis por criar um resumo visual da performance dos nossos modelos de ML de acordo com o número de previsões acertadas ou erradas.\n",
    "        </li>\n",
    "        <li>\n",
    "            Ao expor o número de Falsos Positivos ou Negativos, elas já são capazes de oferecer uma informação muito mais rica do que o simples <em> accuracy</em> do algoritmo.\n",
    "        </li>\n",
    "    </ul>\n",
    "</div>\n",
    "\n",
    "<div>\n",
    "    <center>\n",
    "        <h1 style='font-size:30px'> Estrutura da Matriz de Confusão (Classificação Binária)</h1>\n",
    "        <img src='dummy3.png'>\n",
    "    </center>\n",
    "</div>"
   ]
  },
  {
   "cell_type": "code",
   "execution_count": 6,
   "id": "40080e87-a52b-4203-b3f9-b2874d727c21",
   "metadata": {},
   "outputs": [
    {
     "data": {
      "text/plain": [
       "array([[407,   0],\n",
       "       [ 43,   0]])"
      ]
     },
     "execution_count": 6,
     "metadata": {},
     "output_type": "execute_result"
    }
   ],
   "source": [
    "# Vamos criar uma matriz de confusão baseada no nosso classificador Dummy.\n",
    "from sklearn.metrics import confusion_matrix\n",
    "from sklearn.dummy import DummyClassifier\n",
    "dummy = DummyClassifier(strategy='most_frequent').fit(X_train, y_train)\n",
    "y_dummy = dummy.predict(X_test)\n",
    "# Ou seja, temos 407 negativos verdadeiros, mas 43 negativos falsos.\n",
    "confusion_matrix(y_test, y_dummy)"
   ]
  },
  {
   "cell_type": "code",
   "execution_count": 7,
   "id": "d1b31fe9-3152-430e-9498-d8016749697c",
   "metadata": {},
   "outputs": [
    {
     "data": {
      "text/plain": [
       "array([[407,   0],\n",
       "       [ 41,   2]])"
      ]
     },
     "execution_count": 7,
     "metadata": {},
     "output_type": "execute_result"
    }
   ],
   "source": [
    "# Faremos agora uma matriz de de confusão para um Support Vector Machines.\n",
    "from sklearn.svm import SVC\n",
    "svc = SVC(kernel='rbf', C=1, gamma='auto').fit(X_train, y_train)\n",
    "y_svc = svc.predict(X_test)\n",
    "# Observe como o desempenho é praticamente o mesmo do DummyClassifier.\n",
    "confusion_matrix(y_test, y_svc)"
   ]
  },
  {
   "cell_type": "markdown",
   "id": "2aa7fe0d-e6ae-47b0-b2d3-ec9a5079e037",
   "metadata": {},
   "source": [
    "<div>\n",
    "<hr>\n",
    "<h2 style='font-size:30px'>Confusion Matrices & Basic Evaluation Metrics</h2>\n",
    "</div>"
   ]
  },
  {
   "cell_type": "markdown",
   "id": "1c100aa0-acb3-48cd-8df7-a50fe3a684a1",
   "metadata": {},
   "source": [
    "<h3 style='font-size:30px;font-style:italic'> Classification Error</h3>\n",
    "<div>\n",
    "    <ul style='font-size:20px'>\n",
    "        <li>\n",
    "            Consiste basicamente no grau de erros cometidos pelo modelo (1-Accuracy).\n",
    "        </li>\n",
    "    </ul>\n",
    "</div>\n",
    "<h3 style='font-size:30px;font-style:italic'> True Positive Rate (TPR), ou Recall</h3>\n",
    "<div>\n",
    "    <ul style='font-size:20px'>\n",
    "        <li>\n",
    "            Quantas instâncias rotuladas como positivas em y_test foram corretamente classificadas pelo modelo (TP / (TP + FN))?\n",
    "        </li>\n",
    "    </ul>\n",
    "</div>\n",
    "<h3 style='font-size:30px;font-style:italic'> Precision</h3>\n",
    "<div>\n",
    "    <ul style='font-size:20px'>\n",
    "        <li>\n",
    "            Qual o grau de acerto na classificação das instâncias como positivas (TP + (TP + FP))?\n",
    "        </li>\n",
    "    </ul>\n",
    "</div>\n",
    "<h3 style='font-size:30px;font-style:italic'> False Positive Rate (FPR), ou Specificity</h3>\n",
    "<div>\n",
    "    <ul style='font-size:20px'>\n",
    "        <li>\n",
    "            De todas as instâncias classificadas como Positivas, qual foi a taxa de imprecisão (FP / (TP + FP))?\n",
    "        </li>\n",
    "    </ul>\n",
    "</div>\n",
    "\n",
    "<p style='font-size:15px'> <u>Obs</u>: Às vezes, aumentar o grau de uma dessas métricas implicará na redução de outra! Pense: o que é pior? Haver falsos positivos ou negativos? </p>"
   ]
  },
  {
   "cell_type": "markdown",
   "id": "7535ade1-c6c1-4fd5-8fd9-1527558e6842",
   "metadata": {},
   "source": [
    "<h3 style='font-size:30px;font-style:italic'> F-Score</h3>\n",
    "<div>\n",
    "    <ul style='font-size:20px'>\n",
    "        <li>\n",
    "            É tido como uma média ponderada entre o <em>Precision</em> e o <em>Recall</em> de um modelo. \n",
    "        </li>\n",
    "    </ul>\n",
    "</div>\n",
    "<center>\n",
    "    <img src='eval2.png'>\n",
    "</center>\n",
    "<div>\n",
    "<ul style='font-size:20px'>\n",
    "    <li>\n",
    "        Um beta abaixo de zero dá um peso maior ao valor de <em>Precision</em>. Valores acima de 1 focam em <em>Recall</em>.\n",
    "    </li>\n",
    "    <li>\n",
    "        Quando definimos beta como 1, damos importâncias iguais às duas métricas, caso conhecido como F1-Score.\n",
    "    </li>\n",
    "</ul>\n",
    "</div>"
   ]
  },
  {
   "cell_type": "markdown",
   "id": "6bea2371-945f-4412-b265-da5b4b098984",
   "metadata": {},
   "source": [
    "<center>\n",
    "    <h1 style='font-size:30px'>Recall X Precision</h1>\n",
    "    <img src='eval1.png'>\n",
    "</center>"
   ]
  },
  {
   "cell_type": "code",
   "execution_count": 8,
   "id": "48f18297-440d-49fe-a2fc-a24370205c22",
   "metadata": {},
   "outputs": [
    {
     "name": "stdout",
     "output_type": "stream",
     "text": [
      "Accuracy: 0.9088888888888889\n",
      "Precision: 1.0\n",
      "Recall: 0.046511627906976744\n",
      "F1-Score: 0.9088888888888889\n"
     ]
    }
   ],
   "source": [
    "# Vamos calcular o valor dessas métricas para o SVC feito na última aula.\n",
    "from sklearn.metrics import f1_score, precision_score, recall_score, accuracy_score\n",
    "from sklearn.datasets import load_digits\n",
    "dataset = load_digits()\n",
    "X, y = dataset.data, dataset.target\n",
    "unbalanced_y =y.copy()\n",
    "unbalanced_y[unbalanced_y!=1] = 0\n",
    "X_train, X_test, y_train, y_test = train_test_split(X, unbalanced_y, random_state=0)\n",
    "svc = SVC(kernel='rbf', C=1, gamma='auto').fit(X_train, y_train)\n",
    "y_svc = svc.predict(X_test)\n",
    "print(f'Accuracy: {accuracy_score(y_test, y_svc)}')\n",
    "print(f'Precision: {precision_score(y_test, y_svc)}')\n",
    "print(f'Recall: {recall_score(y_test, y_svc)}')\n",
    "print(f'F1-Score: {accuracy_score(y_test, y_svc)}')"
   ]
  },
  {
   "cell_type": "code",
   "execution_count": 9,
   "id": "731b96b4-3134-466c-8d30-ffe4cffde1b8",
   "metadata": {},
   "outputs": [
    {
     "name": "stdout",
     "output_type": "stream",
     "text": [
      "              precision    recall  f1-score   support\n",
      "\n",
      "       not 1       0.91      1.00      0.95       407\n",
      "           1       1.00      0.05      0.09        43\n",
      "\n",
      "    accuracy                           0.91       450\n",
      "   macro avg       0.95      0.52      0.52       450\n",
      "weighted avg       0.92      0.91      0.87       450\n",
      "\n"
     ]
    }
   ],
   "source": [
    "# O sklearn possui também um método que produz uma pequena tabela com todas essa métricas juntas.\n",
    "# Recomenda-se utilizar o comando 'print' para se ter um output melhor.\n",
    "from sklearn.metrics import classification_report\n",
    "print(classification_report(y_test, y_svc, target_names=['not 1', '1']))"
   ]
  },
  {
   "cell_type": "markdown",
   "id": "501c414b-cf77-43ed-9c39-07e28e8345d9",
   "metadata": {},
   "source": [
    "<div>\n",
    "    <hr>\n",
    "    <h2 style='font-size:30px'> Classifier Decision Functions</h2>\n",
    "</div>"
   ]
  },
  {
   "cell_type": "markdown",
   "id": "e23edace-7eb7-42a0-8a6e-f3af90cbd58d",
   "metadata": {},
   "source": [
    "<ul style='font-size:20px'>\n",
    "    <li>\n",
    "        Agora, nos atentaremos a outros outputs que podemos receber de nossos modelos.\n",
    "    </li>\n",
    "</ul>"
   ]
  },
  {
   "cell_type": "markdown",
   "id": "453b71b1-e7d5-4dae-aabb-a4b9557567c3",
   "metadata": {},
   "source": [
    "<div>\n",
    "    <h3 style='font-size:30px;font-style:italic'>predict_proba</h3>\n",
    "    <div>\n",
    "        <ul style='font-size:20px'>\n",
    "            <li>\n",
    "                Nos mostra a probabilidade dada pelo algoritmo de ele ter rotulado uma certa instância corretamente.\n",
    "            </li>\n",
    "            <li>\n",
    "                Por padrão, o classificador deve rotular uma instância com uma classe com mais de 50 % de certeza. Ajustar esse parâmetro pode torná-lo mais flexível ou conservador.\n",
    "            </li>\n",
    "            <li>\n",
    "                É importante considerar que a qualidade do fit do algoritmo pode influenciar os valores das probabildades. Por exemplo, um modelo viciado pode nos retornar uma probabilidade excessivamente otimista de acerto.\n",
    "            </li>\n",
    "        </ul>\n",
    "    </div>\n",
    "</div>"
   ]
  },
  {
   "cell_type": "code",
   "execution_count": 10,
   "id": "f8472348-5638-455a-9b9e-a495e1572cbc",
   "metadata": {},
   "outputs": [
    {
     "name": "stderr",
     "output_type": "stream",
     "text": [
      "/Users/felipeveiga/opt/anaconda3/lib/python3.8/site-packages/sklearn/linear_model/_logistic.py:763: ConvergenceWarning: lbfgs failed to converge (status=1):\n",
      "STOP: TOTAL NO. of ITERATIONS REACHED LIMIT.\n",
      "\n",
      "Increase the number of iterations (max_iter) or scale the data as shown in:\n",
      "    https://scikit-learn.org/stable/modules/preprocessing.html\n",
      "Please also refer to the documentation for alternative solver options:\n",
      "    https://scikit-learn.org/stable/modules/linear_model.html#logistic-regression\n",
      "  n_iter_i = _check_optimize_result(\n"
     ]
    },
    {
     "data": {
      "text/plain": [
       "[(0, 1.1105302320885824e-13),\n",
       " (0, 3.820916040524526e-09),\n",
       " (0, 2.0852765819646708e-13),\n",
       " (0, 3.594567305890125e-10),\n",
       " (0, 1.4674152884937387e-10),\n",
       " (0, 7.4609132990900846e-06),\n",
       " (1, 0.9984928037248136),\n",
       " (0, 7.197605121943425e-11),\n",
       " (0, 1.0905860508911064e-12),\n",
       " (0, 2.1018508378451408e-12),\n",
       " (0, 1.4518890422547448e-14),\n",
       " (0, 1.7157217800652057e-10),\n",
       " (0, 1.010423750421555e-11),\n",
       " (0, 1.5388710855602776e-06),\n",
       " (0, 1.2837950150975798e-06),\n",
       " (0, 1.6606767181580613e-06),\n",
       " (1, 0.999994873815623),\n",
       " (0, 1.1929485122843553e-15),\n",
       " (0, 1.7930402009009878e-06),\n",
       " (0, 1.4043305986082489e-13)]"
      ]
     },
     "execution_count": 10,
     "metadata": {},
     "output_type": "execute_result"
    }
   ],
   "source": [
    "# Testando o método a partir de uma Regressão Logística.\n",
    "from sklearn.linear_model import LogisticRegression\n",
    "lr = LogisticRegression().fit(X_train, y_train)\n",
    "# Note como as instâncias rotuladas como positivas possuem uma alta probabilidade de terem sido classificadas\n",
    "# corretamente.\n",
    "list(zip(y_test[:20],lr.predict_proba(X_test)[:20,1]))"
   ]
  },
  {
   "cell_type": "markdown",
   "id": "4ca4f9a7-5040-4ecd-8363-9917fe32b517",
   "metadata": {},
   "source": [
    "<h3 style='font-size:30px;font-style:italic'>decision_function</h3>\n",
    "<div>\n",
    "    <ul style='font-size:20px'>\n",
    "        <li>\n",
    "            Conseguimos utilizar a pontuação de confiança retornada pelo modelo para definirmos com qual valor desse índice uma dada instância de treino será rotulada como positiva ou negativa.\n",
    "        </li>\n",
    "    </ul>\n",
    "    <center>\n",
    "        <img src='eval3.png'>\n",
    "    </center>\n",
    "    <ul style='font-size:20px'>\n",
    "        <li>\n",
    "            Perceba na imagem que, conforme ajustamos o valor de threshold, o <em>recall</em> e a <em>precision</em> do modelo se alteram.\n",
    "        </li>\n",
    "    </ul>\n",
    "</div>"
   ]
  },
  {
   "cell_type": "code",
   "execution_count": 11,
   "id": "486b9a07-600c-4a9c-b2cc-a930f42f2733",
   "metadata": {},
   "outputs": [
    {
     "data": {
      "text/plain": [
       "[(0, -29.828768621087857),\n",
       " (0, -19.38277563807029),\n",
       " (0, -29.198704709248815),\n",
       " (0, -21.746427305626764),\n",
       " (0, -22.64234838378661),\n",
       " (0, -11.805825264149457),\n",
       " (1, 6.495995792253849),\n",
       " (0, -23.35468767412377),\n",
       " (0, -27.544305902806503),\n",
       " (0, -26.88820280800429),\n",
       " (0, -31.86332580561389),\n",
       " (0, -22.486017074677196),\n",
       " (0, -25.31806622518694),\n",
       " (0, -13.384459932811797),\n",
       " (0, -13.565688727208007),\n",
       " (0, -13.308283716448114),\n",
       " (1, 12.181143835508673),\n",
       " (0, -34.362348410912034),\n",
       " (0, -13.231596149524053),\n",
       " (0, -29.594045461943136)]"
      ]
     },
     "execution_count": 11,
     "metadata": {},
     "output_type": "execute_result"
    }
   ],
   "source": [
    "# Por exemplo, poreríamos definir que todas as instâncias cuja pontuação de confiança seja <-20 sejam classificadas como 0; resto deverá\n",
    "# ser tido como 1.\n",
    "list(zip(y_test[0:20], lr.decision_function(X_test)[0:20]))"
   ]
  },
  {
   "cell_type": "markdown",
   "id": "8053cd60-3f62-4f56-832b-041c0a637368",
   "metadata": {},
   "source": [
    "<div>\n",
    "    <hr>\n",
    "    <h2 style='font-size:30px'> Precision-recall and ROC curves</h2>\n",
    "</div>"
   ]
  },
  {
   "cell_type": "markdown",
   "id": "cb996b06-1dd0-4ba0-9998-cd4b7a8e6dc2",
   "metadata": {},
   "source": [
    "<div>\n",
    "    <ul style='font-size:20px'>\n",
    "        <li>\n",
    "            Nesta aula, lidaremos com a criação de gráficos que nos expõem de uma maneira melhor as relações entre as diferentes métricas qualitativas analisadas durante esta semana.\n",
    "        </li>\n",
    "    </ul>\n",
    "</div>"
   ]
  },
  {
   "cell_type": "markdown",
   "id": "0069e78b-8517-41b9-8e73-99bc3be7c4ca",
   "metadata": {},
   "source": [
    "<h3 style='font-size:30px;font-style:italic'>Precision-Recall Curves</h3>\n",
    "<div>\n",
    "    <ul style='font-size:20px'>\n",
    "        <li>\n",
    "            Têm a função de mostrar os valores da <em> Precision</em> e do <em> Recall</em> do modelo para diferentes threshold do valor do método <em>decision_function.</em>\n",
    "        </li>\n",
    "    </ul>\n",
    "</div>"
   ]
  },
  {
   "cell_type": "code",
   "execution_count": 21,
   "id": "df3392f7-c25f-49cc-bdd1-fedeb5abe11e",
   "metadata": {},
   "outputs": [
    {
     "name": "stdout",
     "output_type": "stream",
     "text": [
      "Warning: Cannot change to a different GUI toolkit: notebook. Using widget instead.\n"
     ]
    },
    {
     "data": {
      "application/vnd.jupyter.widget-view+json": {
       "model_id": "831f75cc1ffc4d49a233f1a59c48d60d",
       "version_major": 2,
       "version_minor": 0
      },
      "text/plain": [
       "Canvas(toolbar=Toolbar(toolitems=[('Home', 'Reset original view', 'home', 'home'), ('Back', 'Back to previous …"
      ]
     },
     "metadata": {},
     "output_type": "display_data"
    }
   ],
   "source": [
    "%matplotlib notebook\n",
    "from sklearn.metrics import precision_recall_curve\n",
    "import matplotlib.pyplot as plt\n",
    "precision, recall, thresholds = precision_recall_curve(y_test, lr.decision_function(X_test))\n",
    "plt.xlim([0.0, 1.01])\n",
    "plt.ylim([0.0, 1.01])\n",
    "plt.plot(precision, recall, label='Precision-Recall Curve')\n",
    "plt.xlabel('Precision', fontsize=16)\n",
    "plt.ylabel('Recall', fontsize=16)\n",
    "plt.show()"
   ]
  },
  {
   "cell_type": "markdown",
   "id": "eb221c51-99d8-48c5-b14a-55ae48edc340",
   "metadata": {},
   "source": [
    "<h3 style='font-size:30px;font-style:italic'>ROC Curve</h3>\n",
    "<div>\n",
    "    <ul style='font-size:20px'>\n",
    "        <li>\n",
    "            É responsável por mostrar a relação entre a taxa de Positivos Verdadeiros e de Positivos Falsos.\n",
    "        </li>\n",
    "        <li>\n",
    "            O ideal para o gráfico seria que ele se aproxime do ponto em que o TPR é 1 e FPR é 0. Isso o faria ter uma inclinação aguda e uma área elevada abaixo de sua linha.\n",
    "        </li>\n",
    "    </ul>\n",
    "</div>"
   ]
  },
  {
   "cell_type": "code",
   "execution_count": 34,
   "id": "19f7c7e4-7b9a-4ea6-8d00-a156dc97cc02",
   "metadata": {},
   "outputs": [
    {
     "data": {
      "application/vnd.jupyter.widget-view+json": {
       "model_id": "708ad033fb0547a0b574432ddfd87608",
       "version_major": 2,
       "version_minor": 0
      },
      "text/plain": [
       "Canvas(toolbar=Toolbar(toolitems=[('Home', 'Reset original view', 'home', 'home'), ('Back', 'Back to previous …"
      ]
     },
     "metadata": {},
     "output_type": "display_data"
    },
    {
     "name": "stderr",
     "output_type": "stream",
     "text": [
      "<ipython-input-34-21f1546c9588>:14: MatplotlibDeprecationWarning: Adding an axes using the same arguments as a previous axes currently reuses the earlier instance.  In a future version, a new instance will always be created and returned.  Meanwhile, this warning can be suppressed, and the future behavior ensured, by passing a unique label to each axes instance.\n",
      "  plt.axes().set_aspect('equal')\n"
     ]
    }
   ],
   "source": [
    "# O método roc_curve nos dará os TPR's, FPR's e os thresholds usados.\n",
    "# auc calcula a área abaixo da curva.\n",
    "from sklearn.metrics import roc_curve, auc\n",
    "fpr_lr, tpr_lr, _ = roc_curve(y_test, lr.decision_function(X_test))\n",
    "roc_auc_lr = auc(fpr_lr, tpr_lr)\n",
    "\n",
    "plt.figure(num=7)\n",
    "plt.xlim([-0.01, 1.00])\n",
    "plt.ylim([-0.01, 1.01])\n",
    "plt.plot(fpr_lr, tpr_lr, lw=3, label='LogRegr ROC curve (area = {:0.2f})'.format(roc_auc_lr))\n",
    "plt.xlabel('False Positive Rate', fontsize=16)\n",
    "plt.ylabel('True Positive Rate', fontsize=16)\n",
    "plt.title('ROC curve (1-of-10 digits classifier)', fontsize=16)\n",
    "plt.legend(loc='lower right', fontsize=13)\n",
    "# Esta linha mostra os TPR's e FPR's de um modelo de adivinhação aleatório em um dataset com categorias em quantidades iguais.\n",
    "plt.plot([0, 1], [0, 1], color='navy', lw=3, linestyle='--')\n",
    "plt.axes().set_aspect('equal')\n",
    "# Note como o gráfico de nossa Regressão Linear é agudo. Por baixo de sua curva, uma vasta área do plano é coberta.\n",
    "plt.show()"
   ]
  },
  {
   "cell_type": "markdown",
   "id": "280b6403-37bb-4f05-8f7b-b0b4ee95d2f9",
   "metadata": {},
   "source": [
    "<div> \n",
    "    <hr>\n",
    "    <h2 style='font-size:30px'> Multi-Class Evaluation</h2>\n",
    "</div>\n",
    "\n",
    "<div>\n",
    "    <ul style='font-size:20px'>\n",
    "    <li>\n",
    "        Agora que lidamos com as métricas qualitativas de classificação binária, vamos nos atentar àquelas destinadas às multi classificações.\n",
    "    </li>\n",
    "</ul>\n",
    "</div>"
   ]
  },
  {
   "cell_type": "markdown",
   "id": "92521146-3da5-4324-83bc-13cc7bc71722",
   "metadata": {},
   "source": [
    "<h3 style='font-size:30px;font-style:italic'> Confusion Matrices</h3>\n",
    "<div>\n",
    "    <ul style='font-size:20px'>\n",
    "        <li>\n",
    "            É possível elaborar matrizes de confusão em problemas de classificações múltiplas. Nesse contexto, é interessante representá-las como um mapa de calor.\n",
    "        </li>\n",
    "    </ul>\n",
    "</div>"
   ]
  },
  {
   "cell_type": "code",
   "execution_count": 39,
   "id": "63c0c340-90e7-4b4a-94b3-e3d370ec0dda",
   "metadata": {},
   "outputs": [],
   "source": [
    "# Vamos usar uma aplicação de SVC no dataset de dígitos para criarmos uma matriz de confusão não-binária. \n",
    "dataset = load_digits()\n",
    "# Segregando os dados de treino e teste.\n",
    "X, y = dataset.data, dataset.target\n",
    "X_train_mc, X_test_mc, y_train_mc, y_test_mc = train_test_split(X, y, random_state=0)\n",
    "\n",
    "# Gerando o modelo SVC e treinando-o com X_test_mc\n",
    "svm = SVC(kernel = 'linear', gamma='auto').fit(X_train_mc, y_train_mc)\n",
    "svm_predicted_mc = svm.predict(X_test_mc)"
   ]
  },
  {
   "cell_type": "code",
   "execution_count": 46,
   "id": "39c7a9c3-c405-4b8f-8dc0-9b26cb982cea",
   "metadata": {},
   "outputs": [
    {
     "data": {
      "text/html": [
       "<div>\n",
       "<style scoped>\n",
       "    .dataframe tbody tr th:only-of-type {\n",
       "        vertical-align: middle;\n",
       "    }\n",
       "\n",
       "    .dataframe tbody tr th {\n",
       "        vertical-align: top;\n",
       "    }\n",
       "\n",
       "    .dataframe thead th {\n",
       "        text-align: right;\n",
       "    }\n",
       "</style>\n",
       "<table border=\"1\" class=\"dataframe\">\n",
       "  <thead>\n",
       "    <tr style=\"text-align: right;\">\n",
       "      <th></th>\n",
       "      <th>0</th>\n",
       "      <th>1</th>\n",
       "      <th>2</th>\n",
       "      <th>3</th>\n",
       "      <th>4</th>\n",
       "      <th>5</th>\n",
       "      <th>6</th>\n",
       "      <th>7</th>\n",
       "      <th>8</th>\n",
       "      <th>9</th>\n",
       "    </tr>\n",
       "  </thead>\n",
       "  <tbody>\n",
       "    <tr>\n",
       "      <th>0</th>\n",
       "      <td>37</td>\n",
       "      <td>0</td>\n",
       "      <td>0</td>\n",
       "      <td>0</td>\n",
       "      <td>0</td>\n",
       "      <td>0</td>\n",
       "      <td>0</td>\n",
       "      <td>0</td>\n",
       "      <td>0</td>\n",
       "      <td>0</td>\n",
       "    </tr>\n",
       "    <tr>\n",
       "      <th>1</th>\n",
       "      <td>0</td>\n",
       "      <td>42</td>\n",
       "      <td>0</td>\n",
       "      <td>0</td>\n",
       "      <td>0</td>\n",
       "      <td>0</td>\n",
       "      <td>0</td>\n",
       "      <td>0</td>\n",
       "      <td>1</td>\n",
       "      <td>0</td>\n",
       "    </tr>\n",
       "    <tr>\n",
       "      <th>2</th>\n",
       "      <td>0</td>\n",
       "      <td>0</td>\n",
       "      <td>44</td>\n",
       "      <td>0</td>\n",
       "      <td>0</td>\n",
       "      <td>0</td>\n",
       "      <td>0</td>\n",
       "      <td>0</td>\n",
       "      <td>0</td>\n",
       "      <td>0</td>\n",
       "    </tr>\n",
       "    <tr>\n",
       "      <th>3</th>\n",
       "      <td>0</td>\n",
       "      <td>0</td>\n",
       "      <td>0</td>\n",
       "      <td>43</td>\n",
       "      <td>0</td>\n",
       "      <td>0</td>\n",
       "      <td>0</td>\n",
       "      <td>0</td>\n",
       "      <td>1</td>\n",
       "      <td>1</td>\n",
       "    </tr>\n",
       "    <tr>\n",
       "      <th>4</th>\n",
       "      <td>0</td>\n",
       "      <td>0</td>\n",
       "      <td>0</td>\n",
       "      <td>0</td>\n",
       "      <td>38</td>\n",
       "      <td>0</td>\n",
       "      <td>0</td>\n",
       "      <td>0</td>\n",
       "      <td>0</td>\n",
       "      <td>0</td>\n",
       "    </tr>\n",
       "    <tr>\n",
       "      <th>5</th>\n",
       "      <td>0</td>\n",
       "      <td>0</td>\n",
       "      <td>0</td>\n",
       "      <td>0</td>\n",
       "      <td>0</td>\n",
       "      <td>47</td>\n",
       "      <td>0</td>\n",
       "      <td>0</td>\n",
       "      <td>0</td>\n",
       "      <td>1</td>\n",
       "    </tr>\n",
       "    <tr>\n",
       "      <th>6</th>\n",
       "      <td>0</td>\n",
       "      <td>1</td>\n",
       "      <td>0</td>\n",
       "      <td>0</td>\n",
       "      <td>0</td>\n",
       "      <td>0</td>\n",
       "      <td>51</td>\n",
       "      <td>0</td>\n",
       "      <td>0</td>\n",
       "      <td>0</td>\n",
       "    </tr>\n",
       "    <tr>\n",
       "      <th>7</th>\n",
       "      <td>0</td>\n",
       "      <td>0</td>\n",
       "      <td>0</td>\n",
       "      <td>0</td>\n",
       "      <td>1</td>\n",
       "      <td>0</td>\n",
       "      <td>0</td>\n",
       "      <td>47</td>\n",
       "      <td>0</td>\n",
       "      <td>0</td>\n",
       "    </tr>\n",
       "    <tr>\n",
       "      <th>8</th>\n",
       "      <td>0</td>\n",
       "      <td>3</td>\n",
       "      <td>1</td>\n",
       "      <td>0</td>\n",
       "      <td>0</td>\n",
       "      <td>0</td>\n",
       "      <td>0</td>\n",
       "      <td>0</td>\n",
       "      <td>44</td>\n",
       "      <td>0</td>\n",
       "    </tr>\n",
       "    <tr>\n",
       "      <th>9</th>\n",
       "      <td>0</td>\n",
       "      <td>0</td>\n",
       "      <td>0</td>\n",
       "      <td>1</td>\n",
       "      <td>0</td>\n",
       "      <td>1</td>\n",
       "      <td>0</td>\n",
       "      <td>0</td>\n",
       "      <td>1</td>\n",
       "      <td>44</td>\n",
       "    </tr>\n",
       "  </tbody>\n",
       "</table>\n",
       "</div>"
      ],
      "text/plain": [
       "    0   1   2   3   4   5   6   7   8   9\n",
       "0  37   0   0   0   0   0   0   0   0   0\n",
       "1   0  42   0   0   0   0   0   0   1   0\n",
       "2   0   0  44   0   0   0   0   0   0   0\n",
       "3   0   0   0  43   0   0   0   0   1   1\n",
       "4   0   0   0   0  38   0   0   0   0   0\n",
       "5   0   0   0   0   0  47   0   0   0   1\n",
       "6   0   1   0   0   0   0  51   0   0   0\n",
       "7   0   0   0   0   1   0   0  47   0   0\n",
       "8   0   3   1   0   0   0   0   0  44   0\n",
       "9   0   0   0   1   0   1   0   0   1  44"
      ]
     },
     "execution_count": 46,
     "metadata": {},
     "output_type": "execute_result"
    }
   ],
   "source": [
    "# Criando a matriz de confusão e transformando-a em um DataFrame do pandas.\n",
    "from sklearn.metrics import confusion_matrix\n",
    "confusion_cm = confusion_matrix(y_test_mc, svm_predicted_mc )\n",
    "df_cm = pd.DataFrame(confusion_cm, index=[i for i in range(10)], columns=[i for i in range(10)])\n",
    "df_cm "
   ]
  },
  {
   "cell_type": "code",
   "execution_count": 51,
   "id": "34a4a7ae-7c20-4369-b8b0-359aec3488e1",
   "metadata": {},
   "outputs": [
    {
     "name": "stdout",
     "output_type": "stream",
     "text": [
      "Warning: Cannot change to a different GUI toolkit: notebook. Using widget instead.\n"
     ]
    },
    {
     "data": {
      "application/vnd.jupyter.widget-view+json": {
       "model_id": "6e69446c2375483fadd2ebc6e7063a9c",
       "version_major": 2,
       "version_minor": 0
      },
      "text/plain": [
       "Canvas(toolbar=Toolbar(toolitems=[('Home', 'Reset original view', 'home', 'home'), ('Back', 'Back to previous …"
      ]
     },
     "metadata": {},
     "output_type": "display_data"
    },
    {
     "data": {
      "text/plain": [
       "Text(0.5, 23.52222222222222, 'Predicted label')"
      ]
     },
     "execution_count": 51,
     "metadata": {},
     "output_type": "execute_result"
    }
   ],
   "source": [
    "# Com o dataFrame criado, é hora de plotar o heatmap pretendido.\n",
    "# Usaremos o seaborn para isso.\n",
    "%matplotlib notebook\n",
    "import seaborn as sns\n",
    "# Ao setar annot como True, o número de instâncias que cada quadrado possui é revelado.\n",
    "sns.heatmap(df_cm, annot=True)\n",
    "plt.ylabel('True label')\n",
    "plt.xlabel('Predicted label')"
   ]
  },
  {
   "cell_type": "code",
   "execution_count": 53,
   "id": "a49e32d4-d6c1-41c7-8b1a-83765ec81cc3",
   "metadata": {},
   "outputs": [
    {
     "data": {
      "application/vnd.jupyter.widget-view+json": {
       "model_id": "4f31549f35b348e582aae3d60fb0875d",
       "version_major": 2,
       "version_minor": 0
      },
      "text/plain": [
       "Canvas(toolbar=Toolbar(toolitems=[('Home', 'Reset original view', 'home', 'home'), ('Back', 'Back to previous …"
      ]
     },
     "metadata": {},
     "output_type": "display_data"
    }
   ],
   "source": [
    "# Agora, estamos construindo um novo heatmap para um modelo não tão preciso. Veja como ele se torna útil em identificarmos\n",
    "# onde e como o algoritmo errou.\n",
    "svm = SVC(kernel = 'rbf', gamma='auto').fit(X_train_mc, y_train_mc)\n",
    "svm_predicted_mc = svm.predict(X_test_mc)\n",
    "confusion_mc = confusion_matrix(y_test_mc, svm_predicted_mc)\n",
    "df_cm = pd.DataFrame(confusion_mc, index = [i for i in range(0,10)],\n",
    "                  columns = [i for i in range(0,10)])\n",
    "\n",
    "plt.figure(figsize = (5.5,4))\n",
    "sns.heatmap(df_cm, annot=True)\n",
    "plt.title('SVM RBF Kernel \\nAccuracy:{0:.3f}'.format(accuracy_score(y_test_mc, \n",
    "                                                                    svm_predicted_mc)))\n",
    "plt.ylabel('True label')\n",
    "plt.xlabel('Predicted label');"
   ]
  },
  {
   "cell_type": "markdown",
   "id": "42c66d80-d2b9-4f10-9cb4-4d5a9bd61d4d",
   "metadata": {},
   "source": [
    "<h3 style='font-size:30px;font-style:italic'> Macro Average</h3>\n",
    "<div>\n",
    "    <ul style='font-size:20px'>\n",
    "        <li>\n",
    "        A média macro se refere à média artimética dos valores uma certa métrica qualitativa na classificação das diversas classes de um dataset.\n",
    "        </li>\n",
    "    </ul>\n",
    "</div>\n",
    "<center>\n",
    "    <img src='multi1.png'>\n",
    "</center>\n",
    "<div>\n",
    "    <ul style='font-size:20px'>\n",
    "        <li>\n",
    "            <strong>Há um erro na imagem: está sendo calculado o <em>recall </em>médio de cada classificação, e não a <em>precision</em></strong>\n",
    "        </li>\n",
    "        <li>\n",
    "            Por se tratar da média macro, os recall's terão o mesmo peso no cálculo da métrica, mesmo que as laranjas sejam a fruta majoritária do dataset.\n",
    "        </li>\n",
    "    </ul>\n",
    "</div>"
   ]
  },
  {
   "cell_type": "markdown",
   "id": "36ed84b1-78ab-465b-9a16-284120ac6374",
   "metadata": {},
   "source": [
    "<h3 style='font-size:30px;font-style:italic'>Minor Average</h3>\n",
    "<div>\n",
    "    <ul style='font-size:20px'>\n",
    "        <li>\n",
    "            Diferentemente da Macro, a média Minor é calculada considerando todas as instâncias, e não cada classe. Dessa forma, o Minor Average Recall se dará pelo <em>recall</em> do modelo (TP / (TP + FN))\n",
    "        </li>\n",
    "    </ul>\n",
    "</div>\n",
    "<center>\n",
    "    <img src='multi2.png'>\n",
    "</center>\n",
    "<div>\n",
    "    <ul style='font-size:20px'>\n",
    "        <li>\n",
    "            Com essa média, a categoria com mais instâncias é que impactará mais no valor final.\n",
    "        </li>\n",
    "    </ul>\n",
    "</div>"
   ]
  },
  {
   "cell_type": "markdown",
   "id": "6c8f935b-a0c2-4da8-80f1-f1d0234d3eba",
   "metadata": {},
   "source": [
    "<center>\n",
    "    <h1>Orientações para o uso de Micro e Macro Average</h1>\n",
    "    <img src='multi3.png'>\n",
    "</center>"
   ]
  },
  {
   "cell_type": "code",
   "execution_count": 73,
   "id": "8a592da6-e2d3-4507-b4c5-677bff72be07",
   "metadata": {},
   "outputs": [
    {
     "name": "stdout",
     "output_type": "stream",
     "text": [
      "Recall Macro Médio do SVC: 0.50\n",
      "Recall Micro Médio do SVC: 0.49\n"
     ]
    }
   ],
   "source": [
    "print('Recall Macro Médio do SVC: {:.2f}'.format(recall_score(y_test_mc, svm_predicted_mc, average='macro')))\n",
    "print('Recall Micro Médio do SVC: {:.2f}'.format(recall_score(y_test_mc, svm_predicted_mc, average='micro')))"
   ]
  },
  {
   "cell_type": "markdown",
   "id": "cce134b2-f8de-4938-b519-35f3ddf4330d",
   "metadata": {},
   "source": [
    "<div>\n",
    "    <hr>\n",
    "    <h2 style='font-size:30px'> Regression Evaluation</h2>\n",
    "</div>"
   ]
  },
  {
   "cell_type": "markdown",
   "id": "6291c1ad-9fa7-4e81-9a1c-108042180efb",
   "metadata": {},
   "source": [
    "<div>\n",
    "    <ul style='font-size:20px'>\n",
    "        <li>\n",
    "            Diferentemente das tarefas de classificação, usualmente, o <em>score</em> dos modelos de regressão é o suficiente para analisá-los qualitativamente.\n",
    "        </li>\n",
    "    </ul>\n",
    "</div>\n",
    "<center>\n",
    "    <h1>Algumas outras métricas de avaliação de Regressões</h1>\n",
    "    <img src='reg1.png'>\n",
    "    <p style='font-size:16px'> <u>Obs</u>: O median_absolute_error é bom em situações em que temos os chamados outliers no dataset. Ele os ignorará. </p>\n",
    "</center>"
   ]
  },
  {
   "cell_type": "code",
   "execution_count": 88,
   "id": "41a95a7f-13d1-40ea-925b-308bb1998452",
   "metadata": {},
   "outputs": [],
   "source": [
    "# É interessante utilizar os DummyRegressor's quando estiver fazendo algum modelo de regressão. Eles possuem\n",
    "# a mesma lógica dos DummyClassifier's.\n",
    "\n",
    "# Aqui, lidaremos com o dataset sobre diabetes.\n",
    "from sklearn.datasets import load_diabetes\n",
    "from sklearn.linear_model import LinearRegression\n",
    "from sklearn.dummy import DummyRegressor\n",
    "X, y = load_diabetes(return_X_y = True)\n",
    "X = X[:, None, 6]\n",
    "X_train, X_test, y_train, y_test = train_test_split(X, y, random_state=0)\n",
    "\n",
    "lm = LinearRegression().fit(X_train, y_train)\n",
    "# Criando um DummyRegressor que prevê sempre a média ds valores de y_train\n",
    "lm_dummy_mean = DummyRegressor(strategy = 'mean').fit(X_train, y_train)\n",
    "\n",
    "y_predict = lm.predict(X_test)\n",
    "y_predict_dummy_mean = lm_dummy_mean.predict(X_test)"
   ]
  },
  {
   "cell_type": "code",
   "execution_count": 95,
   "id": "16346b21-d676-441b-8270-daab42ab85d1",
   "metadata": {},
   "outputs": [
    {
     "name": "stdout",
     "output_type": "stream",
     "text": [
      "Mean Squared Error do modelo: 4646.74\n",
      "Mean Squared Error do Dummy: 4965.13\n",
      "R2 Score do modelo: 0.06\n",
      "R2 Score do Dummy: -0.00\n"
     ]
    }
   ],
   "source": [
    "# Vamos testar algumas das métricas de avaliação de modelos de regressão.\n",
    "from sklearn.metrics import mean_squared_error, r2_score\n",
    "print(f'Mean Squared Error do modelo: {mean_squared_error(y_test, y_predict):.2f}')\n",
    "print(f'Mean Squared Error do Dummy: {mean_squared_error(y_test, y_predict_dummy_mean):.2f}')\n",
    "print(f'R2 Score do modelo: {r2_score(y_test, y_predict):.2f}')\n",
    "print(f'R2 Score do Dummy: {r2_score(y_test, y_predict_dummy_mean):.2f}')"
   ]
  },
  {
   "cell_type": "code",
   "execution_count": 122,
   "id": "de1b84e9-def1-4a91-abb1-75b57b2181e7",
   "metadata": {},
   "outputs": [
    {
     "data": {
      "application/vnd.jupyter.widget-view+json": {
       "model_id": "3f89bf906ad74f15bdaaca26c1900ce7",
       "version_major": 2,
       "version_minor": 0
      },
      "text/plain": [
       "Canvas(toolbar=Toolbar(toolitems=[('Home', 'Reset original view', 'home', 'home'), ('Back', 'Back to previous …"
      ]
     },
     "metadata": {},
     "output_type": "display_data"
    }
   ],
   "source": [
    "import matplotlib.pyplot as plt\n",
    "# Plotando as funções de regressão do modelo real e do DummyRegressor.\n",
    "plt.figure()\n",
    "plt.scatter(X_test, y_test,  color='black')\n",
    "plt.plot(X_test, y_predict, color='green', linewidth=2, label = 'Linear Regression')\n",
    "plt.plot(X_test, y_predict_dummy_mean, color='red', linestyle = 'dashed', \n",
    "         linewidth=2, label = 'dummy')\n",
    "plt.legend()\n",
    "plt.show()"
   ]
  },
  {
   "cell_type": "markdown",
   "id": "49ab1d4c-a894-48a8-b2b7-f49de3dfbe0b",
   "metadata": {},
   "source": [
    "<center>\n",
    "    <h1> Algumas outras estratégias dos Dummy Regressor's</h1>\n",
    "    <img src='reg2.png'>\n",
    "</center>"
   ]
  },
  {
   "cell_type": "code",
   "execution_count": 137,
   "id": "227c7c08-6fe7-4b0d-8dcc-af5e9bb4b6c7",
   "metadata": {},
   "outputs": [
    {
     "data": {
      "text/plain": [
       "dict_keys(['explained_variance', 'r2', 'max_error', 'neg_median_absolute_error', 'neg_mean_absolute_error', 'neg_mean_absolute_percentage_error', 'neg_mean_squared_error', 'neg_mean_squared_log_error', 'neg_root_mean_squared_error', 'neg_mean_poisson_deviance', 'neg_mean_gamma_deviance', 'accuracy', 'top_k_accuracy', 'roc_auc', 'roc_auc_ovr', 'roc_auc_ovo', 'roc_auc_ovr_weighted', 'roc_auc_ovo_weighted', 'balanced_accuracy', 'average_precision', 'neg_log_loss', 'neg_brier_score', 'adjusted_rand_score', 'rand_score', 'homogeneity_score', 'completeness_score', 'v_measure_score', 'mutual_info_score', 'adjusted_mutual_info_score', 'normalized_mutual_info_score', 'fowlkes_mallows_score', 'precision', 'precision_macro', 'precision_micro', 'precision_samples', 'precision_weighted', 'recall', 'recall_macro', 'recall_micro', 'recall_samples', 'recall_weighted', 'f1', 'f1_macro', 'f1_micro', 'f1_samples', 'f1_weighted', 'jaccard', 'jaccard_macro', 'jaccard_micro', 'jaccard_samples', 'jaccard_weighted'])"
      ]
     },
     "execution_count": 137,
     "metadata": {},
     "output_type": "execute_result"
    }
   ],
   "source": [
    "# Abaixo, você poderá encontrar o nome de todas as métricas qualitativas disponíveis para uso no sklearn.\n",
    "from sklearn.metrics import SCORERS\n",
    "SCORERS.keys()"
   ]
  },
  {
   "cell_type": "markdown",
   "id": "ef2d538f-c53a-456a-af31-e4bce59eb14a",
   "metadata": {},
   "source": [
    "<div>\n",
    "    <hr>\n",
    "    <h2 style='font-size:30px'>Model Selection: Optimizing Classifiers for Different Evaluation Metrics</h2>\n",
    "</div>"
   ]
  },
  {
   "cell_type": "markdown",
   "id": "127b1ff2-d853-4f4e-b934-3ec61d9ce459",
   "metadata": {},
   "source": [
    "<div>\n",
    "    <ul style='font-size:20px'>\n",
    "        <li>\n",
    "            Esta aula terá o enfoque em treinarmos o nosso repertório sobre métricas de avaliação de modelo.\n",
    "        </li>\n",
    "        <li>\n",
    "            Primeiramente, iremos utilizá-las na aplicação da validação cruzada.\n",
    "        </li>\n",
    "    </ul>\n",
    "</div>"
   ]
  },
  {
   "cell_type": "code",
   "execution_count": 123,
   "id": "13cb56ea-94fb-4501-9a92-88e17dab21b3",
   "metadata": {},
   "outputs": [
    {
     "name": "stdout",
     "output_type": "stream",
     "text": [
      "Score do modelo: [0.91944444 0.98611111 0.97214485 0.97493036 0.96935933]\n",
      "Recall do modelo: [0.81081081 0.89189189 0.83333333 0.83333333 0.83333333]\n",
      "AUC do modelo: [0.9641871  0.9976571  0.99372205 0.99699002 0.98675611]\n"
     ]
    }
   ],
   "source": [
    "# Na semana anterior, utilizávamos o cross_val_score com o seu output padrão, o r2_score do modelo.\n",
    "# Agora, modificaremos o parâmetro 'scoring' do modelo a fim de sabermos, por exemplo, o 'recall' do algoritmo.\n",
    "from sklearn.model_selection import cross_val_score\n",
    "from sklearn.svm import LinearSVC\n",
    "from sklearn.datasets import load_digits\n",
    "# Tornando o modelo binário para o melhor avaliarmos.\n",
    "dataset = load_digits()\n",
    "X, y = dataset.data, dataset.target == 1\n",
    "clf = SVC(kernel='linear', C=1)\n",
    "print(f'Score do modelo: {cross_val_score(clf,X, y, cv=5)}')\n",
    "print('Recall do modelo: {}'.format(cross_val_score(clf,X, y, cv=5, scoring='recall')))\n",
    "print('AUC do modelo: {}'.format(cross_val_score(clf,X, y, cv=5, scoring='roc_auc')))"
   ]
  },
  {
   "cell_type": "markdown",
   "id": "5660c0c4-7875-497e-8d8c-89fa09b6e04b",
   "metadata": {},
   "source": [
    "<h3 style='font-size:30px;font-style:italic'>GridSearchCV</h3>\n",
    "<div>\n",
    "    <ul style='font-size:20px'>\n",
    "        <li>\n",
    "            Esse objeto tem funcionalidade de fazer validações cruzadas sobre o dataset de treino. \n",
    "        </li>\n",
    "        <li>\n",
    "            Mas além desse papel, o GridSearchCV também é capaz de analisar o valor de um determinado parâmetro do modelo que oferecerá a melhor performance de uma dada métrica qualitativa.\n",
    "        </li>\n",
    "    </ul>\n",
    "</div>"
   ]
  },
  {
   "cell_type": "code",
   "execution_count": 140,
   "id": "9460c68d-fc77-47dc-912a-4e96cc5bea0a",
   "metadata": {},
   "outputs": [
    {
     "name": "stdout",
     "output_type": "stream",
     "text": [
      "Melhor valor de gamma: {'gamma': 0.001}\n",
      "Melhor score obtido: 0.9985157648354676\n"
     ]
    }
   ],
   "source": [
    "# Vamos verificar qual o valor de gamma oferecerá a maior accuracy do modelo de SVC.\n",
    "from sklearn.datasets import load_digits\n",
    "from sklearn.svm import SVC\n",
    "from sklearn.metrics import roc_auc_score\n",
    "from sklearn.model_selection import GridSearchCV\n",
    "dataset = load_digits()\n",
    "X, y = dataset.data, dataset.target == 1\n",
    "X_train, X_test, y_train, y_test = train_test_split(X, y, random_state=0)\n",
    "clf = SVC(kernel='rbf')\n",
    "# A métrica qualitativa padrão é a accuracy do modelo.\n",
    "gscv = GridSearchCV(clf, {'gamma':[0.001, 0.01, 0.05, 0.1, 1, 10, 100]})\n",
    "gscv.fit(X_train, y_train)\n",
    "y_decision_fn_scores_acc  = gscv.decision_function(X_test)\n",
    "\n",
    "# O melhor score do modelo foi de cerca de 99,9% com 'gamma' = 0.01\n",
    "print(f'Melhor valor de gamma: {gscv.best_params_}')\n",
    "print(f'Melhor score obtido: {gscv.best_score_}')"
   ]
  },
  {
   "cell_type": "code",
   "execution_count": 141,
   "id": "8d680f23-0a12-4e87-9e11-be9f792aab44",
   "metadata": {},
   "outputs": [
    {
     "name": "stdout",
     "output_type": "stream",
     "text": [
      "Melhor valor de gamma: {'gamma': 0.001}\n",
      "Melhor roc_auc obtido: 1.0\n",
      "roc_auc do dataset de teste: 0.99982858122393\n"
     ]
    }
   ],
   "source": [
    "# Mas se quiséssemos analisar o valor de uma outra métrica, como o roc_auc?\n",
    "# Assim como em 'cross_val_score', basta ajustarmos o parâmetro 'scoring'.\n",
    "gscv = GridSearchCV(clf,{'gamma':[0.001, 0.01, 0.05, 0.1, 1, 10, 100]}, scoring='roc_auc')\n",
    "gscv.fit(X_train, y_train)\n",
    "print(f'Melhor valor de gamma: {gscv.best_params_}')\n",
    "print(f'Melhor roc_auc obtido: {gscv.best_score_}')\n",
    "print(f'roc_auc do dataset de teste: {roc_auc_score(y_test, y_decision_fn_scores_acc )}')"
   ]
  },
  {
   "cell_type": "markdown",
   "id": "47b97930-f706-4ff1-8900-b50c03fc3fae",
   "metadata": {},
   "source": [
    "<center>\n",
    "    <h1>Impacto do parâmetro <em>scoring</em> nas fronteiras de decisão dos modelos otimizados </h1>\n",
    "    <img src='grid1.png'>\n",
    "</center>"
   ]
  },
  {
   "cell_type": "markdown",
   "id": "bad91442-6ecc-45e4-9bad-4d7bb36fdffe",
   "metadata": {},
   "source": [
    "<center>\n",
    "    <h1>Conclusões finais e outras funcionalidades de Machine Learning </h1>\n",
    "    <img src='grid2.png'>\n",
    "</center>"
   ]
  },
  {
   "cell_type": "code",
   "execution_count": 143,
   "id": "7330b1a2-7678-4ef3-938c-00d10f1ae1da",
   "metadata": {},
   "outputs": [],
   "source": [
    "! mv /Users/felipeveiga/Desktop/Screen\\ Shot\\ 2022-03-29\\ at\\ 13.34.25.png ./grid2.png"
   ]
  },
  {
   "cell_type": "markdown",
   "id": "13b34167-88d4-434f-bc93-c805ae6f8434",
   "metadata": {},
   "source": [
    "<p style='color:red'>Continuar por Model Selection: Optimizing Classifiers for Different Evaluation Metrics(2:50) -> Ele vai começar a falar sobre o GridSerch</p>"
   ]
  }
 ],
 "metadata": {
  "kernelspec": {
   "display_name": "Python 3",
   "language": "python",
   "name": "python3"
  },
  "language_info": {
   "codemirror_mode": {
    "name": "ipython",
    "version": 3
   },
   "file_extension": ".py",
   "mimetype": "text/x-python",
   "name": "python",
   "nbconvert_exporter": "python",
   "pygments_lexer": "ipython3",
   "version": "3.8.8"
  }
 },
 "nbformat": 4,
 "nbformat_minor": 5
}
