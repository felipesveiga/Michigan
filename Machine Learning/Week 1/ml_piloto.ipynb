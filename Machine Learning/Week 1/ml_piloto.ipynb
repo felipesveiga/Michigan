{
 "cells": [
  {
   "cell_type": "code",
   "execution_count": 6,
   "id": "8f952740-7b14-4b63-9edf-979df15c4fa7",
   "metadata": {},
   "outputs": [
    {
     "name": "stdout",
     "output_type": "stream",
     "text": [
      "Requirement already satisfied: ipympl in /Users/felipeveiga/opt/anaconda3/lib/python3.8/site-packages (0.7.0)\n",
      "Requirement already satisfied: matplotlib>=2.0.0 in /Users/felipeveiga/opt/anaconda3/lib/python3.8/site-packages (from ipympl) (3.3.4)\n",
      "Requirement already satisfied: ipykernel>=4.7 in /Users/felipeveiga/opt/anaconda3/lib/python3.8/site-packages (from ipympl) (5.3.4)\n",
      "Requirement already satisfied: ipywidgets>=7.6.0 in /Users/felipeveiga/opt/anaconda3/lib/python3.8/site-packages (from ipympl) (7.6.3)\n",
      "Requirement already satisfied: ipython>=5.0.0 in /Users/felipeveiga/opt/anaconda3/lib/python3.8/site-packages (from ipykernel>=4.7->ipympl) (7.22.0)\n",
      "Requirement already satisfied: jupyter-client in /Users/felipeveiga/opt/anaconda3/lib/python3.8/site-packages (from ipykernel>=4.7->ipympl) (6.1.12)\n",
      "Requirement already satisfied: traitlets>=4.1.0 in /Users/felipeveiga/opt/anaconda3/lib/python3.8/site-packages (from ipykernel>=4.7->ipympl) (5.0.5)\n",
      "Requirement already satisfied: tornado>=4.2 in /Users/felipeveiga/opt/anaconda3/lib/python3.8/site-packages (from ipykernel>=4.7->ipympl) (6.1)\n",
      "Requirement already satisfied: appnope in /Users/felipeveiga/opt/anaconda3/lib/python3.8/site-packages (from ipykernel>=4.7->ipympl) (0.1.2)\n",
      "Requirement already satisfied: decorator in /Users/felipeveiga/opt/anaconda3/lib/python3.8/site-packages (from ipython>=5.0.0->ipykernel>=4.7->ipympl) (5.0.6)\n",
      "Requirement already satisfied: setuptools>=18.5 in /Users/felipeveiga/opt/anaconda3/lib/python3.8/site-packages (from ipython>=5.0.0->ipykernel>=4.7->ipympl) (52.0.0.post20210125)\n",
      "Requirement already satisfied: pickleshare in /Users/felipeveiga/opt/anaconda3/lib/python3.8/site-packages (from ipython>=5.0.0->ipykernel>=4.7->ipympl) (0.7.5)\n",
      "Requirement already satisfied: prompt-toolkit!=3.0.0,!=3.0.1,<3.1.0,>=2.0.0 in /Users/felipeveiga/opt/anaconda3/lib/python3.8/site-packages (from ipython>=5.0.0->ipykernel>=4.7->ipympl) (3.0.17)\n",
      "Requirement already satisfied: pygments in /Users/felipeveiga/opt/anaconda3/lib/python3.8/site-packages (from ipython>=5.0.0->ipykernel>=4.7->ipympl) (2.8.1)\n",
      "Requirement already satisfied: pexpect>4.3 in /Users/felipeveiga/opt/anaconda3/lib/python3.8/site-packages (from ipython>=5.0.0->ipykernel>=4.7->ipympl) (4.8.0)\n",
      "Requirement already satisfied: backcall in /Users/felipeveiga/opt/anaconda3/lib/python3.8/site-packages (from ipython>=5.0.0->ipykernel>=4.7->ipympl) (0.2.0)\n",
      "Requirement already satisfied: jedi>=0.16 in /Users/felipeveiga/opt/anaconda3/lib/python3.8/site-packages (from ipython>=5.0.0->ipykernel>=4.7->ipympl) (0.17.2)\n",
      "Requirement already satisfied: jupyterlab-widgets>=1.0.0 in /Users/felipeveiga/opt/anaconda3/lib/python3.8/site-packages (from ipywidgets>=7.6.0->ipympl) (1.0.0)\n",
      "Requirement already satisfied: widgetsnbextension~=3.5.0 in /Users/felipeveiga/opt/anaconda3/lib/python3.8/site-packages (from ipywidgets>=7.6.0->ipympl) (3.5.1)\n",
      "Requirement already satisfied: nbformat>=4.2.0 in /Users/felipeveiga/opt/anaconda3/lib/python3.8/site-packages (from ipywidgets>=7.6.0->ipympl) (5.1.3)\n",
      "Requirement already satisfied: parso<0.8.0,>=0.7.0 in /Users/felipeveiga/opt/anaconda3/lib/python3.8/site-packages (from jedi>=0.16->ipython>=5.0.0->ipykernel>=4.7->ipympl) (0.7.0)\n",
      "Requirement already satisfied: python-dateutil>=2.1 in /Users/felipeveiga/opt/anaconda3/lib/python3.8/site-packages (from matplotlib>=2.0.0->ipympl) (2.8.1)\n",
      "Requirement already satisfied: pyparsing!=2.0.4,!=2.1.2,!=2.1.6,>=2.0.3 in /Users/felipeveiga/opt/anaconda3/lib/python3.8/site-packages (from matplotlib>=2.0.0->ipympl) (2.4.7)\n",
      "Requirement already satisfied: numpy>=1.15 in /Users/felipeveiga/opt/anaconda3/lib/python3.8/site-packages (from matplotlib>=2.0.0->ipympl) (1.20.1)\n",
      "Requirement already satisfied: pillow>=6.2.0 in /Users/felipeveiga/opt/anaconda3/lib/python3.8/site-packages (from matplotlib>=2.0.0->ipympl) (8.2.0)\n",
      "Requirement already satisfied: cycler>=0.10 in /Users/felipeveiga/opt/anaconda3/lib/python3.8/site-packages (from matplotlib>=2.0.0->ipympl) (0.10.0)\n",
      "Requirement already satisfied: kiwisolver>=1.0.1 in /Users/felipeveiga/opt/anaconda3/lib/python3.8/site-packages (from matplotlib>=2.0.0->ipympl) (1.3.1)\n",
      "Requirement already satisfied: six in /Users/felipeveiga/opt/anaconda3/lib/python3.8/site-packages (from cycler>=0.10->matplotlib>=2.0.0->ipympl) (1.15.0)\n",
      "Requirement already satisfied: jsonschema!=2.5.0,>=2.4 in /Users/felipeveiga/opt/anaconda3/lib/python3.8/site-packages (from nbformat>=4.2.0->ipywidgets>=7.6.0->ipympl) (3.2.0)\n",
      "Requirement already satisfied: ipython-genutils in /Users/felipeveiga/opt/anaconda3/lib/python3.8/site-packages (from nbformat>=4.2.0->ipywidgets>=7.6.0->ipympl) (0.2.0)\n",
      "Requirement already satisfied: jupyter-core in /Users/felipeveiga/opt/anaconda3/lib/python3.8/site-packages (from nbformat>=4.2.0->ipywidgets>=7.6.0->ipympl) (4.7.1)\n",
      "Requirement already satisfied: attrs>=17.4.0 in /Users/felipeveiga/opt/anaconda3/lib/python3.8/site-packages (from jsonschema!=2.5.0,>=2.4->nbformat>=4.2.0->ipywidgets>=7.6.0->ipympl) (20.3.0)\n",
      "Requirement already satisfied: pyrsistent>=0.14.0 in /Users/felipeveiga/opt/anaconda3/lib/python3.8/site-packages (from jsonschema!=2.5.0,>=2.4->nbformat>=4.2.0->ipywidgets>=7.6.0->ipympl) (0.17.3)\n",
      "Requirement already satisfied: ptyprocess>=0.5 in /Users/felipeveiga/opt/anaconda3/lib/python3.8/site-packages (from pexpect>4.3->ipython>=5.0.0->ipykernel>=4.7->ipympl) (0.7.0)\n",
      "Requirement already satisfied: wcwidth in /Users/felipeveiga/opt/anaconda3/lib/python3.8/site-packages (from prompt-toolkit!=3.0.0,!=3.0.1,<3.1.0,>=2.0.0->ipython>=5.0.0->ipykernel>=4.7->ipympl) (0.2.5)\n",
      "Requirement already satisfied: notebook>=4.4.1 in /Users/felipeveiga/opt/anaconda3/lib/python3.8/site-packages (from widgetsnbextension~=3.5.0->ipywidgets>=7.6.0->ipympl) (6.3.0)\n",
      "Requirement already satisfied: jinja2 in /Users/felipeveiga/opt/anaconda3/lib/python3.8/site-packages (from notebook>=4.4.1->widgetsnbextension~=3.5.0->ipywidgets>=7.6.0->ipympl) (2.11.3)\n",
      "Requirement already satisfied: pyzmq>=17 in /Users/felipeveiga/opt/anaconda3/lib/python3.8/site-packages (from notebook>=4.4.1->widgetsnbextension~=3.5.0->ipywidgets>=7.6.0->ipympl) (20.0.0)\n",
      "Requirement already satisfied: Send2Trash>=1.5.0 in /Users/felipeveiga/opt/anaconda3/lib/python3.8/site-packages (from notebook>=4.4.1->widgetsnbextension~=3.5.0->ipywidgets>=7.6.0->ipympl) (1.5.0)\n",
      "Requirement already satisfied: prometheus-client in /Users/felipeveiga/opt/anaconda3/lib/python3.8/site-packages (from notebook>=4.4.1->widgetsnbextension~=3.5.0->ipywidgets>=7.6.0->ipympl) (0.10.1)\n",
      "Requirement already satisfied: argon2-cffi in /Users/felipeveiga/opt/anaconda3/lib/python3.8/site-packages (from notebook>=4.4.1->widgetsnbextension~=3.5.0->ipywidgets>=7.6.0->ipympl) (20.1.0)\n",
      "Requirement already satisfied: nbconvert in /Users/felipeveiga/opt/anaconda3/lib/python3.8/site-packages (from notebook>=4.4.1->widgetsnbextension~=3.5.0->ipywidgets>=7.6.0->ipympl) (6.0.7)\n",
      "Requirement already satisfied: terminado>=0.8.3 in /Users/felipeveiga/opt/anaconda3/lib/python3.8/site-packages (from notebook>=4.4.1->widgetsnbextension~=3.5.0->ipywidgets>=7.6.0->ipympl) (0.9.4)\n",
      "Requirement already satisfied: cffi>=1.0.0 in /Users/felipeveiga/opt/anaconda3/lib/python3.8/site-packages (from argon2-cffi->notebook>=4.4.1->widgetsnbextension~=3.5.0->ipywidgets>=7.6.0->ipympl) (1.14.5)\n",
      "Requirement already satisfied: pycparser in /Users/felipeveiga/opt/anaconda3/lib/python3.8/site-packages (from cffi>=1.0.0->argon2-cffi->notebook>=4.4.1->widgetsnbextension~=3.5.0->ipywidgets>=7.6.0->ipympl) (2.20)\n",
      "Requirement already satisfied: MarkupSafe>=0.23 in /Users/felipeveiga/opt/anaconda3/lib/python3.8/site-packages (from jinja2->notebook>=4.4.1->widgetsnbextension~=3.5.0->ipywidgets>=7.6.0->ipympl) (1.1.1)\n",
      "Requirement already satisfied: testpath in /Users/felipeveiga/opt/anaconda3/lib/python3.8/site-packages (from nbconvert->notebook>=4.4.1->widgetsnbextension~=3.5.0->ipywidgets>=7.6.0->ipympl) (0.4.4)\n",
      "Requirement already satisfied: nbclient<0.6.0,>=0.5.0 in /Users/felipeveiga/opt/anaconda3/lib/python3.8/site-packages (from nbconvert->notebook>=4.4.1->widgetsnbextension~=3.5.0->ipywidgets>=7.6.0->ipympl) (0.5.3)\n",
      "Requirement already satisfied: entrypoints>=0.2.2 in /Users/felipeveiga/opt/anaconda3/lib/python3.8/site-packages (from nbconvert->notebook>=4.4.1->widgetsnbextension~=3.5.0->ipywidgets>=7.6.0->ipympl) (0.3)\n",
      "Requirement already satisfied: pandocfilters>=1.4.1 in /Users/felipeveiga/opt/anaconda3/lib/python3.8/site-packages (from nbconvert->notebook>=4.4.1->widgetsnbextension~=3.5.0->ipywidgets>=7.6.0->ipympl) (1.4.3)\n",
      "Requirement already satisfied: bleach in /Users/felipeveiga/opt/anaconda3/lib/python3.8/site-packages (from nbconvert->notebook>=4.4.1->widgetsnbextension~=3.5.0->ipywidgets>=7.6.0->ipympl) (3.3.0)\n",
      "Requirement already satisfied: mistune<2,>=0.8.1 in /Users/felipeveiga/opt/anaconda3/lib/python3.8/site-packages (from nbconvert->notebook>=4.4.1->widgetsnbextension~=3.5.0->ipywidgets>=7.6.0->ipympl) (0.8.4)\n",
      "Requirement already satisfied: defusedxml in /Users/felipeveiga/opt/anaconda3/lib/python3.8/site-packages (from nbconvert->notebook>=4.4.1->widgetsnbextension~=3.5.0->ipywidgets>=7.6.0->ipympl) (0.7.1)\n",
      "Requirement already satisfied: jupyterlab-pygments in /Users/felipeveiga/opt/anaconda3/lib/python3.8/site-packages (from nbconvert->notebook>=4.4.1->widgetsnbextension~=3.5.0->ipywidgets>=7.6.0->ipympl) (0.1.2)\n",
      "Requirement already satisfied: async-generator in /Users/felipeveiga/opt/anaconda3/lib/python3.8/site-packages (from nbclient<0.6.0,>=0.5.0->nbconvert->notebook>=4.4.1->widgetsnbextension~=3.5.0->ipywidgets>=7.6.0->ipympl) (1.10)\n",
      "Requirement already satisfied: nest-asyncio in /Users/felipeveiga/opt/anaconda3/lib/python3.8/site-packages (from nbclient<0.6.0,>=0.5.0->nbconvert->notebook>=4.4.1->widgetsnbextension~=3.5.0->ipywidgets>=7.6.0->ipympl) (1.5.1)\n",
      "Requirement already satisfied: webencodings in /Users/felipeveiga/opt/anaconda3/lib/python3.8/site-packages (from bleach->nbconvert->notebook>=4.4.1->widgetsnbextension~=3.5.0->ipywidgets>=7.6.0->ipympl) (0.5.1)\n",
      "Requirement already satisfied: packaging in /Users/felipeveiga/opt/anaconda3/lib/python3.8/site-packages (from bleach->nbconvert->notebook>=4.4.1->widgetsnbextension~=3.5.0->ipywidgets>=7.6.0->ipympl) (20.9)\n",
      "Note: you may need to restart the kernel to use updated packages.\n"
     ]
    }
   ],
   "source": [
    "pip install ipympl"
   ]
  },
  {
   "cell_type": "code",
   "execution_count": 8,
   "id": "5dc78cca-0df1-4993-8e74-642e48981bcd",
   "metadata": {},
   "outputs": [],
   "source": [
    "from sklearn.model_selection import train_test_split\n",
    "import pandas as pd\n",
    "import matplotlib.pyplot as plt\n",
    "import numpy as np\n",
    "%matplotlib widget"
   ]
  },
  {
   "cell_type": "code",
   "execution_count": 7,
   "id": "3c84fa76-69aa-4148-be59-df78f5a23a85",
   "metadata": {},
   "outputs": [],
   "source": [
    "fruits = pd.read_table('fruit_data_with_colors.txt')"
   ]
  },
  {
   "cell_type": "code",
   "execution_count": 108,
   "id": "58597b4d-a9ea-41e7-90fb-9605af94b0fe",
   "metadata": {},
   "outputs": [
    {
     "data": {
      "text/html": [
       "<div>\n",
       "<style scoped>\n",
       "    .dataframe tbody tr th:only-of-type {\n",
       "        vertical-align: middle;\n",
       "    }\n",
       "\n",
       "    .dataframe tbody tr th {\n",
       "        vertical-align: top;\n",
       "    }\n",
       "\n",
       "    .dataframe thead th {\n",
       "        text-align: right;\n",
       "    }\n",
       "</style>\n",
       "<table border=\"1\" class=\"dataframe\">\n",
       "  <thead>\n",
       "    <tr style=\"text-align: right;\">\n",
       "      <th></th>\n",
       "      <th>fruit_label</th>\n",
       "      <th>fruit_name</th>\n",
       "      <th>fruit_subtype</th>\n",
       "      <th>mass</th>\n",
       "      <th>width</th>\n",
       "      <th>height</th>\n",
       "      <th>color_score</th>\n",
       "    </tr>\n",
       "  </thead>\n",
       "  <tbody>\n",
       "    <tr>\n",
       "      <th>0</th>\n",
       "      <td>1</td>\n",
       "      <td>apple</td>\n",
       "      <td>granny_smith</td>\n",
       "      <td>192</td>\n",
       "      <td>8.4</td>\n",
       "      <td>7.3</td>\n",
       "      <td>0.55</td>\n",
       "    </tr>\n",
       "    <tr>\n",
       "      <th>1</th>\n",
       "      <td>1</td>\n",
       "      <td>apple</td>\n",
       "      <td>granny_smith</td>\n",
       "      <td>180</td>\n",
       "      <td>8.0</td>\n",
       "      <td>6.8</td>\n",
       "      <td>0.59</td>\n",
       "    </tr>\n",
       "    <tr>\n",
       "      <th>2</th>\n",
       "      <td>1</td>\n",
       "      <td>apple</td>\n",
       "      <td>granny_smith</td>\n",
       "      <td>176</td>\n",
       "      <td>7.4</td>\n",
       "      <td>7.2</td>\n",
       "      <td>0.60</td>\n",
       "    </tr>\n",
       "    <tr>\n",
       "      <th>3</th>\n",
       "      <td>2</td>\n",
       "      <td>mandarin</td>\n",
       "      <td>mandarin</td>\n",
       "      <td>86</td>\n",
       "      <td>6.2</td>\n",
       "      <td>4.7</td>\n",
       "      <td>0.80</td>\n",
       "    </tr>\n",
       "    <tr>\n",
       "      <th>4</th>\n",
       "      <td>2</td>\n",
       "      <td>mandarin</td>\n",
       "      <td>mandarin</td>\n",
       "      <td>84</td>\n",
       "      <td>6.0</td>\n",
       "      <td>4.6</td>\n",
       "      <td>0.79</td>\n",
       "    </tr>\n",
       "  </tbody>\n",
       "</table>\n",
       "</div>"
      ],
      "text/plain": [
       "   fruit_label fruit_name fruit_subtype  mass  width  height  color_score\n",
       "0            1      apple  granny_smith   192    8.4     7.3         0.55\n",
       "1            1      apple  granny_smith   180    8.0     6.8         0.59\n",
       "2            1      apple  granny_smith   176    7.4     7.2         0.60\n",
       "3            2   mandarin      mandarin    86    6.2     4.7         0.80\n",
       "4            2   mandarin      mandarin    84    6.0     4.6         0.79"
      ]
     },
     "execution_count": 108,
     "metadata": {},
     "output_type": "execute_result"
    }
   ],
   "source": [
    "fruits.head()"
   ]
  },
  {
   "cell_type": "code",
   "execution_count": 35,
   "id": "1c88fd95-7a4c-4797-a9b0-836d69f3dab6",
   "metadata": {},
   "outputs": [
    {
     "data": {
      "application/vnd.jupyter.widget-view+json": {
       "model_id": "44b349ec560b489587dfdbde409d7558",
       "version_major": 2,
       "version_minor": 0
      },
      "text/plain": [
       "Canvas(toolbar=Toolbar(toolitems=[('Home', 'Reset original view', 'home', 'home'), ('Back', 'Back to previous …"
      ]
     },
     "metadata": {},
     "output_type": "display_data"
    }
   ],
   "source": [
    "# Vamos indicar para o Python quais colunas de nosso DF serão utilizadas como variáveis dependentes (y)\n",
    "                                                                        # e quais como independentes (X)\n",
    "X = fruits[['mass','width','height', 'color_score']] \n",
    "y = fruits['fruit_label']\n",
    "\n",
    "# Separando o nosso DF em variáveis dependentes e independentes e em dados para treino e para teste\n",
    "X_train, X_test, y_train, y_test = train_test_split(X,y, random_state=0)\n",
    "\n",
    "# Agora, vamos plotar uma matriz de scatter plots mostrando as relações das variáveis dependentes de nosso X_train!\n",
    "from matplotlib import cm\n",
    "cmap = cm.get_cmap('gnuplot')\n",
    "scatter = pd.plotting.scatter_matrix(X_train, c=y_train, hist_kwds={'bins':15}, marker='o', s=40,\n",
    "                                     figsize=(8,10), cmap=cmap)\n",
    "\n",
    "# Essa matriz é capaz de mostrar as relações entre altura e largura, largura e coloração de nossas frutas!\n"
   ]
  },
  {
   "cell_type": "code",
   "execution_count": 20,
   "id": "c3a6fd05-3463-42b7-a75a-1d848f452d90",
   "metadata": {},
   "outputs": [
    {
     "data": {
      "application/vnd.jupyter.widget-view+json": {
       "model_id": "46440e194a4f4d01b332879e233fdeab",
       "version_major": 2,
       "version_minor": 0
      },
      "text/plain": [
       "Canvas(toolbar=Toolbar(toolitems=[('Home', 'Reset original view', 'home', 'home'), ('Back', 'Back to previous …"
      ]
     },
     "metadata": {},
     "output_type": "display_data"
    },
    {
     "data": {
      "text/plain": [
       "Text(0.5, 0, 'Color Score')"
      ]
     },
     "execution_count": 20,
     "metadata": {},
     "output_type": "execute_result"
    }
   ],
   "source": [
    "# Como temos 3 variáveis independentes, ao invés de construirmos a matriz, podemos também \n",
    "                                    #plotar um gráfico em 3D para visualizarmos essas relações\n",
    "# Vamos plotar um gráfico 3D para visualizar melhor a relação entre os parâmetros dos dados!\n",
    "\n",
    "from mpl_toolkits.mplot3d import Axes3D\n",
    "from matplotlib import cm\n",
    "cmap = cm.get_cmap('gnuplot')\n",
    "fig = plt.figure()\n",
    "ax = fig.add_subplot(111, projection='3d')\n",
    "ax.scatter(X_train['width'], X_train['height'], X_train['color_score'], c=y_train, cmap=cmap, marker='o', s=100)\n",
    "ax.set_xlabel('Width')\n",
    "ax.set_ylabel('height')\n",
    "ax.set_zlabel('Color Score')\n"
   ]
  },
  {
   "cell_type": "code",
   "execution_count": 26,
   "id": "da81d879-647b-4313-a1bd-62ebe5c649ca",
   "metadata": {},
   "outputs": [
    {
     "data": {
      "text/plain": [
       "KNeighborsClassifier()"
      ]
     },
     "execution_count": 26,
     "metadata": {},
     "output_type": "execute_result"
    }
   ],
   "source": [
    "# Agora, vamos ao que interessa: aplicaremos o método do K-Nearest-Neighbors!\n",
    "# Ele, de uma maneira visual, tentará plotar um gráfico, cujos eixos serão as medidas das variáveis independentes\n",
    "\n",
    "# Cada fruta de nosso X_train receberá um ponto no gráfico, cujas coordenadas serão as medidas de suas características\n",
    "# O que o K-Nearest-Neighbors fará será, dado um conjunto de informações de uma fruta desconhecida, nomear essa fruta\n",
    "# de acordo com a proximidade de seu ponto no gráfico com os pontos das frutas dos dados de teste\n",
    "\n",
    "# Por exemplo, para n_neighbors =1, caso o ponto mais próximo do ponto de informações da fruta desconhecida seja\n",
    "# o de uma maçã, a fruta em questão será classificada como uma maçã!\n",
    "\n",
    "from sklearn.neighbors import KNeighborsClassifier\n",
    "\n",
    "# Construindo o classsificador do KNN. Ele, por trás dos panos, criará o gráfico das variáveis independentes\n",
    "knn = KNeighborsClassifier(n_neighbors=5)\n",
    "knn.fit(X_train, y_train)"
   ]
  },
  {
   "cell_type": "code",
   "execution_count": 27,
   "id": "6c76af22-7a35-4e96-b340-fa8c344093a2",
   "metadata": {},
   "outputs": [
    {
     "data": {
      "text/plain": [
       "0.5333333333333333"
      ]
     },
     "execution_count": 27,
     "metadata": {},
     "output_type": "execute_result"
    }
   ],
   "source": [
    "# Vamos obter a precisão de nosso KNN Classifier em classificar os dados de nossa base de teste\n",
    "\n",
    "# Ele possui uma precisão de 53,33%\n",
    "knn.score(X_test, y_test)"
   ]
  },
  {
   "cell_type": "code",
   "execution_count": null,
   "id": "e37aacde-1c08-40d7-96dc-418d1f3e76af",
   "metadata": {},
   "outputs": [],
   "source": [
    "# Como o valor de n_neighbors afeta a precisão de nosso classifier"
   ]
  }
 ],
 "metadata": {
  "kernelspec": {
   "display_name": "Python 3",
   "language": "python",
   "name": "python3"
  },
  "language_info": {
   "codemirror_mode": {
    "name": "ipython",
    "version": 3
   },
   "file_extension": ".py",
   "mimetype": "text/x-python",
   "name": "python",
   "nbconvert_exporter": "python",
   "pygments_lexer": "ipython3",
   "version": "3.8.8"
  }
 },
 "nbformat": 4,
 "nbformat_minor": 5
}
