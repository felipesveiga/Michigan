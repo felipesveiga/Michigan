{
 "cells": [
  {
   "cell_type": "code",
   "execution_count": null,
   "id": "387e363e-0e55-448c-8ecb-55fd7a44288a",
   "metadata": {},
   "outputs": [],
   "source": [
    "import numpy as np\n",
    "a = [[1,2,3,4], [1,2,3,10]]\n",
    "a[0].append(200)\n",
    "a"
   ]
  },
  {
   "cell_type": "code",
   "execution_count": 3,
   "id": "2dbfc0da-dc3f-4779-8dcb-ea936949b269",
   "metadata": {},
   "outputs": [
    {
     "name": "stdout",
     "output_type": "stream",
     "text": [
      "0 (1, 4)\n",
      "1 (2, 5)\n",
      "2 (3, 6)\n"
     ]
    }
   ],
   "source": [
    "a = [1,2,3]\n",
    "b = [4,5,6]\n",
    "for c,a in enumerate(zip(a,b)):\n",
    "    print(c,a)"
   ]
  },
  {
   "cell_type": "code",
   "execution_count": 16,
   "id": "86806b3b-1ce3-43ec-84fe-cc073ab5abe2",
   "metadata": {},
   "outputs": [
    {
     "data": {
      "text/plain": [
       "array([12])"
      ]
     },
     "execution_count": 16,
     "metadata": {},
     "output_type": "execute_result"
    }
   ],
   "source": [
    "import pandas as pd\n",
    "a = pd.DataFrame({'a':[12]})\n",
    "a['a'].values"
   ]
  }
 ],
 "metadata": {
  "kernelspec": {
   "display_name": "Python 3",
   "language": "python",
   "name": "python3"
  },
  "language_info": {
   "codemirror_mode": {
    "name": "ipython",
    "version": 3
   },
   "file_extension": ".py",
   "mimetype": "text/x-python",
   "name": "python",
   "nbconvert_exporter": "python",
   "pygments_lexer": "ipython3",
   "version": "3.8.8"
  }
 },
 "nbformat": 4,
 "nbformat_minor": 5
}
