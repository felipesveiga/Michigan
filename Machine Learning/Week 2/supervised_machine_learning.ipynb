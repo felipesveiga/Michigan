{
 "cells": [
  {
   "cell_type": "markdown",
   "id": "5f838984-212a-4223-bc16-388ed2802160",
   "metadata": {},
   "source": [
    "<h1 style = 'font-size:40px'> Supervised Machine Learning</h1>"
   ]
  },
  {
   "cell_type": "markdown",
   "id": "695d94d6-43f7-4387-92d7-6acc9ad29cbe",
   "metadata": {},
   "source": [
    "<h2 style = 'font-size:30px'> Introduction to Supervised Machine Learning</h2>\n",
    "<h3 style = 'font-size:30px'> <em>Conceitos Adicionais de Supervised Learning</em></h3>\n",
    "<div>\n",
    "    <ul style = 'font-size:20px'>\n",
    "        <li>\n",
    "            Existem dois tipos de modelos de classificação. O primeiro seria o classificador binário, que retorna apenas dois valores (\"sim\" ou \"não\", por exemplo). O segundo é conhecido como um classificador múltiplo, cuja quantidade de valores de previsão <strong>y</strong> é mais de dois.\n",
    "        </li>\n",
    "    </ul>\n",
    "</div>"
   ]
  },
  {
   "cell_type": "markdown",
   "id": "bff36940-3640-4f90-914b-6246e61bb040",
   "metadata": {},
   "source": [
    "<h2 style = 'font-size:30px'> <em>Os próximos modelos de Supervised Learning </em></h2>\n",
    "<div>\n",
    "    <ul style = 'font-size:20px'>\n",
    "        <li>\n",
    "         K-Nearest Neighbors: Muito preciso, mas altamente sensível a pequenas mudanças no dataset de treino.\n",
    "        </li>\n",
    "        <li>\n",
    "            Least-squares linear model: Possui menor precisão, mas é mais estável a mudanças no dataset de treino.\n",
    "        </li>\n",
    "    </ul>\n",
    "</div>"
   ]
  },
  {
   "cell_type": "markdown",
   "id": "82a2861c-6e13-492d-a1b6-9ad0e8d3cfc6",
   "metadata": {},
   "source": [
    "<h3 style = 'font-size:30px'> <em> Definindo os melhores parâmetros para os modelos</em> </h3>\n",
    "<div>    \n",
    "    <ul style = 'font-size:20px'>        \n",
    "        <li>\n",
    "            A performance de um certo modelo dependerá da complexidade a qual estamos conferindo a ele ( por exemplo, o valor de n_neighbors em KNN) e de se a sua qualidade é medida com base no dataset de treino ou teste.\n",
    "        </li>        \n",
    "    </ul>    \n",
    "</div>\n",
    "\n",
    "<div>\n",
    "    <center>\n",
    "    <img src = 'chart1.png'>\n",
    "    </center>\n",
    "    <hr>\n",
    "</div>"
   ]
  },
  {
   "cell_type": "markdown",
   "id": "e1063718-5fca-420f-a008-b5342f8bce03",
   "metadata": {},
   "source": [
    "<h2 style = 'font-size:30px'> Overfitting and Underfitting</h2>    \n",
    "<div>    \n",
    "    <ul style = 'font-size:20px'>\n",
    "        <li> Em Machine Learning, o overfitting de um modelo seria quando esse se torna \"viciado\" pelos dados de treino. Dessa forma, pode se tornar despreparado em lidar com valores excepcionais, que se desviam excessivamente daqueles do dataset de treino.\n",
    "        </li>        \n",
    "        <li>\n",
    "            O underfitting, por sua vez, ocorre quando o modelo simples demais em generalizar tanto os valores que o alimentaram, quanto aqueles que deverá prever.\n",
    "        </li>\n",
    "    </ul>    \n",
    "</div>"
   ]
  },
  {
   "cell_type": "markdown",
   "id": "0c0cd9b6-fe84-41ff-96d5-7da2af3f3f12",
   "metadata": {},
   "source": [
    "<center>\n",
    "    <h1 style = 'font-size:40px'> Um exemplo de underfitting</h1>\n",
    "    <img src = 'underfitting1.png'>\n",
    "    \n",
    "    <h1 style = 'font-size:40px'> Um fit Ideal</h1>\n",
    "    <img src = 'fit1.png'>\n",
    "    \n",
    "    <h1 style = 'font-size:40px'> Overfitting</h1>\n",
    "    <img src = 'overfitting1.png'>\n",
    "    </center>"
   ]
  },
  {
   "cell_type": "markdown",
   "id": "e5c9d096-02ef-4c60-891d-2ce14fa512bc",
   "metadata": {},
   "source": [
    "<div>\n",
    "<ul style = 'font-size:20px'>    \n",
    "    <li>\n",
    "        Veja como o modelo <em>underfitted</em> mal consegue prever corretamente os resultados dos dados de treino. Por outro lado, o modelo <em>overfitted</em> está viciado no dataset de treino, o que pode tornar as suas previsões dos dados de teste imprecisas. \n",
    "    </li>    \n",
    "    <li>\n",
    "        A ideia por trás da criação de um bom modelo de Machine Learning é a de que ele deve ser capaz de fazer uma boa generalização dos dados de teste, sem ter um foco excessivo nas potenciais exceções.\n",
    "    </li>   \n",
    "</ul>\n",
    "<hr>\n",
    "</div>"
   ]
  },
  {
   "cell_type": "markdown",
   "id": "07e62bc1-6b48-4f94-be47-38552ee30194",
   "metadata": {},
   "source": [
    "<h2 style = 'font-size:30px'> K-Nearest Neighbors: Classification and Regression</h2>\n",
    "<h3 style = 'font-size:30px'> <em>Regression</em> </h3>\n",
    "<div> \n",
    "    <ul style = 'font-size:20px'>   \n",
    "        <li>\n",
    "            O modelo de KNN para regressões tem um funcionamento um pouco distinto com relação ao de classificações.\n",
    "        </li>\n",
    "    </ul>\n",
    "</div>\n",
    "<div>\n",
    "<center>\n",
    "    <img src = 'knn_reg.png'>\n",
    "</center>\n",
    "</div>\n",
    "<div>      \n",
    "    <ul style = 'font-size:20px'>   \n",
    "        <li>\n",
    "            No caso da imagem acima, quando K = 3, a altura do ponto de abscissa -1.25 será a média das ordenadas dos seus três pontos mais próximos (representada pelos triângulos azuis).\n",
    "        </li>\n",
    "        <li>\n",
    "            O modelo de regressão no scikit-learn recebe o nome de KNeighborsRegressor (KNeighborsClassifier é voltado  apenas a problemas de classificação).\n",
    "        </li>\n",
    "    </ul>\n",
    "</div>\n",
    "<h4 style = 'font-size:25px'> <em> <u> R&#178;</u> </em> </h4>\n",
    "<div>\n",
    "    <ul style = 'font-size:20px'>   \n",
    "        <li>\n",
    "            A métrica R&#178; é responsável por avaliar a qualidade do modelo, sendo 0 o seu pior desempenho - quando seu output sempre será a média das ordenadas de todos os pontos do dataset de treino. Já 1 indica o maior grau de perfeição do algoritmo.\n",
    "        </li>\n",
    "    </ul>\n",
    "</div>\n",
    "\n"
   ]
  },
  {
   "cell_type": "markdown",
   "id": "ec92aace-c053-44be-b891-6614d16fd461",
   "metadata": {},
   "source": [
    "<h2 style = 'font-size:30px'> Linear Regression: Least-Squares</h2>\n",
    "<div>\n",
    "    <ul style = 'font-size:20px'>   \n",
    "        <li> \n",
    "            A Regressão Linear consiste na elaboração de uma fórmula de soma ponderada capaz de prever um dado valor.\n",
    "        </li>\n",
    "        <li>\n",
    "            Por exemplo, poderíamos usar esse modelo de Machine Learning na previsão de valores numéricos, como o preço de um imóvel e a cotação de uma moeda.\n",
    "        </li>\n",
    "    </ul>\n",
    "</div>\n",
    "<div>\n",
    "    <center>\n",
    "        <img src = 'least_squares1.png'>\n",
    "    </center>\n",
    "    <div>  \n",
    "        <ul style = 'font-size:20px'>   \n",
    "            <li>\n",
    "                Na imagem, uma esquematização de uma fórmula de Regressão Linear é dada.\n",
    "            </li>\n",
    "            <li>\n",
    "                Nela, os elementos <em>w</em> são os coeficientes - ou os pesos - para cada variável <em>xi</em>. Além disso, toda fórmula desse modelo recebe um valor independente <em>b</em>.\n",
    "            </li>\n",
    "        </ul>\n",
    "    </div>\n",
    "</div>"
   ]
  },
  {
   "cell_type": "markdown",
   "id": "f2446368-2b75-4101-824c-de3aedbc06d3",
   "metadata": {},
   "source": [
    "<h3 style = 'font-size:30px'> <em> Descobrindo os coeficientes </em> </h3>\n",
    "\n",
    "<div>\n",
    "    <ul style = 'font-size:20px'>\n",
    "        <li>\n",
    "            Utilizaremos o método <em>least-squares</em> para encontrarmos os coeficientes ideais de nosso modelo de Regressão Linear.\n",
    "        </li>     \n",
    "    </ul>\n",
    "        <div>\n",
    "            <center>\n",
    "                <img src = 'least_squares2.png'>\n",
    "            </center>\n",
    "        </div>\n",
    "    <ul style='font-size:20px'>\n",
    "        <li>\n",
    "            Como é possível perceber na figura, a melhor linha a ser escolhida será aquela cuja soma das distâncias entre a reta e as ordenadas dos dados de treino - elevadas ao quadrado - for menor\n",
    "        </li>\n",
    "    </ul>\n",
    "</div>"
   ]
  },
  {
   "cell_type": "code",
   "execution_count": 30,
   "id": "78a5f663-ad54-4cc7-813a-59c85111f4eb",
   "metadata": {},
   "outputs": [],
   "source": [
    "# Agora, colocaremos em prática um modelo de Least-Squares Regression.\n",
    "from sklearn.model_selection import train_test_split\n",
    "from sklearn.linear_model import LinearRegression\n",
    "import pandas as pd\n",
    "import numpy as np"
   ]
  },
  {
   "cell_type": "code",
   "execution_count": 31,
   "id": "7c033931-c1e5-46dc-9ee3-76f0c268c1ab",
   "metadata": {},
   "outputs": [],
   "source": [
    "# Utilizaremos um dataset do curso de Machine Learning da IBM.\n",
    "# Ele trata da emissão de CO2 por carros de diferentes tipos\n",
    "cars = pd.read_csv('FuelConsumption.csv')\n",
    "X = cars[['ENGINESIZE']]\n",
    "y = cars['CO2EMISSIONS']\n",
    "\n",
    "X_train, X_test, y_train, y_test = train_test_split(X, y, random_state = 0)"
   ]
  },
  {
   "cell_type": "code",
   "execution_count": 32,
   "id": "b2da6af9-1578-4dce-ac35-0de60aa3e157",
   "metadata": {},
   "outputs": [
    {
     "name": "stdout",
     "output_type": "stream",
     "text": [
      "A precisão do modelo foi de : 72.03%\n"
     ]
    }
   ],
   "source": [
    "# Treinando o nosso modelo e obtendo a sua precisão com os dados de teste.\n",
    "linreg = LinearRegression().fit(X_train, y_train)\n",
    "prec = linreg.score(X_test, y_test)\n",
    "print(f'A precisão do modelo foi de : {prec :.2%}')"
   ]
  },
  {
   "cell_type": "code",
   "execution_count": 63,
   "id": "88f0981c-f2e7-4dc9-b706-86389054d4db",
   "metadata": {},
   "outputs": [
    {
     "data": {
      "text/plain": [
       "Text(0, 0.5, 'CO2EMISSION')"
      ]
     },
     "execution_count": 63,
     "metadata": {},
     "output_type": "execute_result"
    },
    {
     "data": {
      "image/png": "[encoded data removed]",
      "text/plain": [
       "<Figure size 432x288 with 1 Axes>"
      ]
     },
     "metadata": {
      "needs_background": "light"
     },
     "output_type": "display_data"
    }
   ],
   "source": [
    "# Vamos plotar um gráfico com a solução encontrada pelo modelo.\n",
    "import matplotlib.pyplot as plt\n",
    "plt.plot(X_train, (linreg.coef_ * X_train) +(linreg.intercept_), color = 'grey')\n",
    "plt.scatter(X_test, y_test,s = 10 ,color = 'b')\n",
    "plt.title('Linear Regression Model X Test sample')\n",
    "\n",
    "plt.xlabel('ENGINESIZE')\n",
    "plt.ylabel('CO2EMISSION')"
   ]
  },
  {
   "cell_type": "code",
   "execution_count": 53,
   "id": "8af848ac-fc68-4a25-8881-05a45a5e09f9",
   "metadata": {},
   "outputs": [],
   "source": [
    "# Agora, vamos fazer o mesmo procedimento com o algoritmo KNN.\n",
    "from sklearn.model_selection import train_test_split\n",
    "from sklearn.neighbors import KNeighborsRegressor\n",
    "import pandas as pd\n",
    "import numpy as np"
   ]
  },
  {
   "cell_type": "code",
   "execution_count": 54,
   "id": "3c2e9693-0d4f-46cc-a1f4-49c57decdcb7",
   "metadata": {},
   "outputs": [],
   "source": [
    "cars = pd.read_csv('FuelConsumption.csv')\n",
    "X = cars[['ENGINESIZE']]\n",
    "y = cars['CO2EMISSIONS']\n",
    "\n",
    "X_train, X_test, y_train, y_test = train_test_split(X, y, random_state = 0)"
   ]
  },
  {
   "cell_type": "code",
   "execution_count": 62,
   "id": "ab578825-a897-472c-baee-3e14cf1169ea",
   "metadata": {},
   "outputs": [
    {
     "name": "stdout",
     "output_type": "stream",
     "text": [
      "A precisão do modelo foi de: 78.87%\n"
     ]
    }
   ],
   "source": [
    "# Treinando e testando o nosso modelo de KNN. Observe que ele, com n_neighbors = 5, é mais preciso do que \n",
    "# o modelo de regressão linear.\n",
    "knn = KNeighborsRegressor(n_neighbors = 5).fit(X_train, y_train)\n",
    "prec = knn.score(X_train, y_train)\n",
    "print(f'A precisão do modelo foi de: {prec :.2%}')"
   ]
  },
  {
   "cell_type": "markdown",
   "id": "eef6919c-c29d-4867-abcb-28b5e7cdf736",
   "metadata": {},
   "source": [
    "<div>\n",
    "<hr>\n",
    "<h2 style = 'font-size:30px'> Linear Regression: Ridge, Lasso, and Polynomial Regression</h2>\n",
    "<div>\n",
    "    <h3 style = 'font-size:30px'> <em> Ridge Regression </em> </h3>\n",
    "    <ul style = 'font-size:20px'>        \n",
    "        <li>\n",
    "            A Ridge Regression pode ser entendida como uma Regressão em least-squares com a adição de um termo de penalidade para os coeficientes <em>w</em> de grande valor (os seus valores ao quadrado somados).\n",
    "        </li>     \n",
    "        <li>\n",
    "            A intenção desse termo adicional é diminuir a complexidade do modelo, tornando-o menos viciado ao dataset de treino.\n",
    "        </li>      \n",
    "    </ul>   \n",
    "    <div>        \n",
    "        <center>\n",
    "            <h1 style = 'font-size:30px'> Fórmula da Regressão Ridge</h1>\n",
    "            <img src = 'ridge_formula.png'>\n",
    "        </center>        \n",
    "    </div>\n",
    "</div>\n",
    "</div>"
   ]
  },
  {
   "cell_type": "code",
   "execution_count": 123,
   "id": "7c8ff5b1-222b-404c-b398-e21af4aeb3fa",
   "metadata": {},
   "outputs": [
    {
     "data": {
      "text/html": [
       "<div>\n",
       "<style scoped>\n",
       "    .dataframe tbody tr th:only-of-type {\n",
       "        vertical-align: middle;\n",
       "    }\n",
       "\n",
       "    .dataframe tbody tr th {\n",
       "        vertical-align: top;\n",
       "    }\n",
       "\n",
       "    .dataframe thead th {\n",
       "        text-align: right;\n",
       "    }\n",
       "</style>\n",
       "<table border=\"1\" class=\"dataframe\">\n",
       "  <thead>\n",
       "    <tr style=\"text-align: right;\">\n",
       "      <th></th>\n",
       "      <th>1</th>\n",
       "    </tr>\n",
       "  </thead>\n",
       "  <tbody>\n",
       "    <tr>\n",
       "      <th>0</th>\n",
       "      <td>41.02</td>\n",
       "    </tr>\n",
       "    <tr>\n",
       "      <th>1</th>\n",
       "      <td>127.56</td>\n",
       "    </tr>\n",
       "    <tr>\n",
       "      <th>2</th>\n",
       "      <td>218.59</td>\n",
       "    </tr>\n",
       "    <tr>\n",
       "      <th>3</th>\n",
       "      <td>306.64</td>\n",
       "    </tr>\n",
       "    <tr>\n",
       "      <th>4</th>\n",
       "      <td>442.95</td>\n",
       "    </tr>\n",
       "    <tr>\n",
       "      <th>...</th>\n",
       "      <td>...</td>\n",
       "    </tr>\n",
       "    <tr>\n",
       "      <th>1989</th>\n",
       "      <td>545.75</td>\n",
       "    </tr>\n",
       "    <tr>\n",
       "      <th>1990</th>\n",
       "      <td>124.10</td>\n",
       "    </tr>\n",
       "    <tr>\n",
       "      <th>1991</th>\n",
       "      <td>353.83</td>\n",
       "    </tr>\n",
       "    <tr>\n",
       "      <th>1992</th>\n",
       "      <td>691.17</td>\n",
       "    </tr>\n",
       "    <tr>\n",
       "      <th>1993</th>\n",
       "      <td>918.89</td>\n",
       "    </tr>\n",
       "  </tbody>\n",
       "</table>\n",
       "<p>1994 rows × 1 columns</p>\n",
       "</div>"
      ],
      "text/plain": [
       "           1\n",
       "0      41.02\n",
       "1     127.56\n",
       "2     218.59\n",
       "3     306.64\n",
       "4     442.95\n",
       "...      ...\n",
       "1989  545.75\n",
       "1990  124.10\n",
       "1991  353.83\n",
       "1992  691.17\n",
       "1993  918.89\n",
       "\n",
       "[1994 rows x 1 columns]"
      ]
     },
     "execution_count": 123,
     "metadata": {},
     "output_type": "execute_result"
    }
   ],
   "source": [
    "# Aqui, iremos aplicar essa regressão em um dataset sobre criminalidade.\n",
    "# Observe que essa regressão admite várias colunas como variáveis independentes.\n",
    "# A partir de uma série\n",
    "import pandas as pd\n",
    "import numpy as np\n",
    "from sklearn.linear_model import Ridge\n",
    "from sklearn.model_selection import train_test_split\n",
    "\n",
    "pd.set_option('max_columns', None)\n",
    "\n",
    "# Os dados X e y já vem prontos (fiz isso manualmente do Coursera).\n",
    "X = pd.read_csv('X.csv', sep = ',').drop(columns = ['index'])\n",
    "y = pd.read_csv('y.csv', sep = ',', header = None).drop(columns = [0])"
   ]
  },
  {
   "cell_type": "code",
   "execution_count": 132,
   "id": "a16825d0-2959-4f33-9e93-028493cefdea",
   "metadata": {},
   "outputs": [
    {
     "data": {
      "text/plain": [
       "0.4940490145966756"
      ]
     },
     "execution_count": 132,
     "metadata": {},
     "output_type": "execute_result"
    }
   ],
   "source": [
    "# Criando os dados de treino e testagem.\n",
    "X_train, X_test, y_train, y_test = train_test_split(X, y, random_state = 0)\n",
    "linridge = Ridge(alpha = 20.0).fit(X_train, y_train)\n",
    "linridge.score(X_test, y_test)"
   ]
  },
  {
   "cell_type": "markdown",
   "id": "f9386759-f17d-4268-9772-2c4b983c585a",
   "metadata": {},
   "source": [
    "<h2 style = 'font-size:30px;color:orange'> Digressão: normalizando dados</h2>\n",
    "<div>    \n",
    "    <ul style = 'font-size:20px'>        \n",
    "        <li>\n",
    "            A fim de aperfeiçoar os nossos modelos, é importante colocarmos todos os nossos dados em uma mesma escala - processo conhecido como a <strong>normalização</strong>. Dessa forma, todas as features terão o mesmo peso em nossa análise.\n",
    "        </li>       \n",
    "        <li>\n",
    "            O primeiro algoritmo de normalização que veremos é o Min-Max Scaling, ele criará uma escala em que o menor valor dos dados se tornará 0 e o maior 1.\n",
    "        </li>      \n",
    "    </ul>  \n",
    "</div>\n",
    "<div>\n",
    "    <center>\n",
    "        <h1 style = 'font-size:30px'>Fórmula do Min-Max Scaling </h1>\n",
    "        <img src = 'min_max.png'>\n",
    "    </center>\n",
    "</div>"
   ]
  },
  {
   "cell_type": "code",
   "execution_count": 145,
   "id": "61c74555-6164-49d8-b09a-97ada019f873",
   "metadata": {},
   "outputs": [
    {
     "data": {
      "text/plain": [
       "0.5986066019999294"
      ]
     },
     "execution_count": 145,
     "metadata": {},
     "output_type": "execute_result"
    }
   ],
   "source": [
    "# Vamos aplicar essa normalização com os dados vistos.\n",
    "from sklearn.preprocessing import MinMaxScaler\n",
    "scaler = MinMaxScaler()\n",
    "# O método fit_transform identificará os máximos e mínimos (fit) de cada coluna e aplicará \n",
    "# a fórmula do Min-max Scaling (transform).\n",
    "X_train_scaled = scaler.fit_transform(X_train)\n",
    "\n",
    "# Como não podemos 'fittar' o nosso scaler de acordo com o 'X_test', deveremos apenas 'tranformar' os seus dados.\n",
    "X_test_scaled = scaler.transform(X_test)\n",
    "\n",
    "linridge = Ridge(alpha = 20).fit(X_train_scaled , y_train)\n",
    "# A normalização dos dados foi capaz de aumentar a precisão do modelo em 10%!\n",
    "linridge.score(X_test_scaled, y_test)"
   ]
  },
  {
   "cell_type": "markdown",
   "id": "4760a6f2-ab94-4cea-96da-dbd951d6a997",
   "metadata": {},
   "source": [
    "<h3 style = 'font-size:30px'> <em> Lasso Regression</em> </h3>\n",
    "<div>    \n",
    "    <ul style = 'font-size:20px'>       \n",
    "        <li>\n",
    "            Em Regressão Lasso, a fórmula da Least-Squares recebe, também, um termo de penalidade. Diferentemente da Ridge Regression, esse consiste na soma dos módulos dos coeficientes <em>w</em>.\n",
    "        </li>        \n",
    "        <li>\n",
    "            O efeito final desse termo é o de neutralizar os coeficientes de menor valor na fórmula, igualando-os a zero. Portanto, use a Lasso caso pense que apenas alguns parâmetros têm, de fato, uma grande ou média influência sobre o resultado esperado.\n",
    "        </li>        \n",
    "    </ul>   \n",
    "    <div>\n",
    "        <center>\n",
    "            <h1 style = 'font-size:30px'> Fórmula da Regressão Lasso</h1>\n",
    "            <img src = 'lasso_formula.png'>\n",
    "        </center>       \n",
    "    </div>   \n",
    "</div>\n"
   ]
  },
  {
   "cell_type": "code",
   "execution_count": 5,
   "id": "8b527df4-252f-4add-b76e-439407901924",
   "metadata": {},
   "outputs": [],
   "source": [
    "# Indo para a parte prática\n",
    "from sklearn.linear_model import Lasso\n",
    "from sklearn.model_selection import train_test_split\n",
    "from sklearn.preprocessing import MinMaxScaler\n",
    "import pandas as pd\n",
    "import numpy as np\n",
    "\n",
    "X = pd.read_csv('X.csv').drop(columns = 'index')\n",
    "y = pd.read_csv('y.csv', header = None).drop(columns = 0)\n",
    "\n",
    "X_train, X_test, y_train, y_test = train_test_split(X, y, random_state = 0)\n",
    "\n",
    "# Normalizando os dados, como anteriormente.\n",
    "scaler = MinMaxScaler()\n",
    "X_train_scaled = scaler.fit_transform(X_train)\n",
    "X_test_scaled = scaler.transform(X_test)"
   ]
  },
  {
   "cell_type": "code",
   "execution_count": 6,
   "id": "d712452c-1d3d-4737-b299-ff578be52d0e",
   "metadata": {},
   "outputs": [
    {
     "data": {
      "text/plain": [
       "0.6237725857015401"
      ]
     },
     "execution_count": 6,
     "metadata": {},
     "output_type": "execute_result"
    }
   ],
   "source": [
    "# Perceba, para esse dataset, a Lasso ofereceu uma maior precisão.\n",
    "lasso = Lasso(alpha = 2).fit(X_train_scaled, y_train)\n",
    "lasso.score(X_test_scaled, y_test)"
   ]
  },
  {
   "cell_type": "markdown",
   "id": "d3836c72-8408-44c9-b578-3d7743c12aff",
   "metadata": {},
   "source": [
    "<h3 style = 'font-size:30px'> <em> Polynomial Regression</em> </h3>\n",
    "<div>    \n",
    "    <ul style = 'font-size:20px'>        \n",
    "        <li>\n",
    "            A Regressão Polinomal ocorre quando buscamos criar novas variáveis na nossa fórmula de regressão com a combinação multiplicativa das variáveis independentes.\n",
    "        </li>       \n",
    "    </ul>        \n",
    "     <div>            \n",
    "            <center>\n",
    "                <h1 style = 'font-size:30px'> Um exemplo de Regressão Polinomial e sua Fórmula</h1>\n",
    "                <img src = 'polynomial_formula.png'>\n",
    "            </center>           \n",
    "        </div>   \n",
    "    <ul style = 'font-size:20px'>        \n",
    "        <li>\n",
    "            No exemplo, temos duas variáveis independentes <em>xo</em> e <em>x1</em>. A fim de ampliar a complexidade de uma possível Regressão, decidimos por criar novas variáveis em sua fórmula, como o quadrado de <em> xo</em> e <em>xo * x1 </em>.\n",
    "        </li>       \n",
    "    </ul>    \n",
    "</div>\n"
   ]
  },
  {
   "cell_type": "markdown",
   "id": "0a4f23b8-b3f3-4511-a09d-46ca47773804",
   "metadata": {},
   "source": [
    "<h4 style = 'font-size:25px'> <em> <u> Cuidados com a Polynomial Regression</u> </em> </h4>\n",
    "<div>    \n",
    "    <ul style = 'font-size:20px'>        \n",
    "        <li>\n",
    "            Como desejamos aumentar a complexidade de nosso modelo, é necessário evitar radicalismos para impedir o seu vício.\n",
    "        </li>        \n",
    "        <li>\n",
    "            Dessa forma, é recomendado performar a Polynomial Regression em uma Ridge Regression.\n",
    "        </li>        \n",
    "    </ul>    \n",
    "</div>"
   ]
  },
  {
   "cell_type": "code",
   "execution_count": 33,
   "id": "01572619-d8a7-46e7-852d-412aeb40a57a",
   "metadata": {},
   "outputs": [
    {
     "name": "stdout",
     "output_type": "stream",
     "text": [
      "Polynomial RegressionAccuracy: 0.7924758016881502\n",
      "Ordinary Ridge Regression Accuracy: 0.6984927742769003\n"
     ]
    }
   ],
   "source": [
    "from sklearn.preprocessing import PolynomialFeatures\n",
    "from sklearn.linear_model import Ridge\n",
    "from sklearn.datasets import make_friedman1\n",
    "\n",
    "# Criando as variáveis dependentes e independentes\n",
    "X_F1, y_F1 = make_friedman1(n_samples = 100,\n",
    "                           n_features = 7, random_state=0)                                      \n",
    "\n",
    "# Aplicando o método PolynomialFeatures\n",
    "poly = PolynomialFeatures(degree = 2)\n",
    "X_poly = poly.fit_transform(X_F1)\n",
    "\n",
    "# Dividindo o dataset.\n",
    "X_train, X_test, y_train, y_test = train_test_split(X_poly, y_F1, random_state = 0)\n",
    "\n",
    "# Fazendo a Ridge Regression.\n",
    "ridge = Ridge(alpha = 2).fit(X_train, y_train)\n",
    "print(f'Polynomial RegressionAccuracy: {ridge.score(X_test, y_test)}')\n",
    "\n",
    "# Agora, vamos fazer a Ridge Regression sem o pré-processamento.\n",
    "X_train_, X_test_, y_train_, y_test_ = train_test_split(X_F1, y_F1, random_state = 0)\n",
    "ridge_ = Ridge(alpha = 2).fit(X_train_, y_train_)\n",
    "print(f'Ordinary Ridge Regression Accuracy: {ridge_.score(X_test_, y_test_)}')\n",
    "\n",
    "# Veja, o pré-processamento fez com que a precisão subisse em 10%."
   ]
  },
  {
   "cell_type": "markdown",
   "id": "30eab32c-96f1-4459-9777-f9626f6bafaa",
   "metadata": {},
   "source": [
    "<div>\n",
    "    <hr>\n",
    "<h2 style = 'font-size:30px'> Logistic Regression</h2>\n",
    "\n",
    "<div>    \n",
    "    <ul style='font-size:20px'>        \n",
    "        <li>\n",
    "            Apesar de conter a palavra <em>Regression</em> em seu nome, a Regressão Logística é utilizada mais em modelos de classificação.\n",
    "        </li>       \n",
    "        <li>\n",
    "            A sua intenção é de realizar uma classificação binária a partir dos dados de input\n",
    "        </li>\n",
    "    </ul>    \n",
    "</div>\n",
    "<div>    \n",
    "    <center>       \n",
    "        <img src = 'logistic_regression1.png'>       \n",
    "    </center>    \n",
    "</div>\n",
    "<div>   \n",
    "    <ul style = 'font-size:20px'>        \n",
    "        <li>\n",
    "            A Regressão Logística transformará os dados de input em uma função em formato de S. O valor final dessa é a probabilidade de a instância sendo analisada pertencer à porção positiva do eixo x.\n",
    "        </li>       \n",
    "    </ul>   \n",
    "</div>\n",
    "</div>"
   ]
  },
  {
   "cell_type": "markdown",
   "id": "27e41fe7-567c-4c01-b430-5119b4e1e64d",
   "metadata": {},
   "source": [
    "<div>    \n",
    "    <center>\n",
    "        <h1 style = 'font-size:30px'>Chance de aprovação por horas de estudo </h1>\n",
    "        <img src = 'logistic_regression2.png'>       \n",
    "    </center>\n",
    "</div>\n",
    "<div>    \n",
    "    <ul style = 'font-size:20px'>        \n",
    "        <li>\n",
    "            Aqui, montamos uma função de regressão logística com base no número de horas de estudos de alunos que passaram ou foram reprovados no teste. O resultado final é uma curva em S que demonstra a probabilidade de se passar no exame com base no tempo dedicado à matéria da prova.\n",
    "        </li>       \n",
    "    </ul>   \n",
    "</div>"
   ]
  },
  {
   "cell_type": "markdown",
   "id": "1dc14301-0f1e-4db2-949c-740805c01e8a",
   "metadata": {},
   "source": [
    "<h3 style = 'font-size:30px;font-style:italic'> Regressão Logística Binária</h3>\n",
    "<div>    \n",
    "    <center>       \n",
    "        <img src = 'logistic_regression3.png'>       \n",
    "    </center>    \n",
    "    <div>      \n",
    "        <ul style = 'font-size:20px'>            \n",
    "            <li>\n",
    "            No gráfico, existem duas famílias de dados que possuem valores para as Features 1 e 2.\n",
    "            </li>\n",
    "            <li>\n",
    "                Nesse caso, a aplicação de uma Regressão Logística a esse dataset acarretaria em uma função tridimensional, com a criação de um eixo y vertical ao encontro dos eixos bidimensionais. Observe abaixo como a curva em S se aparentaria.\n",
    "            </li>            \n",
    "        </ul>       \n",
    "    </div>   \n",
    "    <center>    \n",
    "        <img src = 'logistic_regression4.png'>     \n",
    "    </center>    \n",
    "</div>"
   ]
  },
  {
   "cell_type": "markdown",
   "id": "8b9fb475-97e9-456d-b637-e1f4170e8b4e",
   "metadata": {},
   "source": [
    "<div>    \n",
    "    <ul style = 'font-size:20px'>        \n",
    "        <li>\n",
    "            Por questões de simplicação, somos capazes também de extrair a projeção ortogonal dessa curva sobre o plano das Features - com a óbvia perda da figura em S.\n",
    "        </li>        \n",
    "    </ul>    \n",
    "    <div>        \n",
    "        <center>            \n",
    "            <img src = 'logistic_regression5.png'>             \n",
    "        </center>        \n",
    "    </div>    \n",
    "</div>"
   ]
  },
  {
   "cell_type": "code",
   "execution_count": 2,
   "id": "1d84d258-9dcc-4b8f-b492-ebd307068610",
   "metadata": {},
   "outputs": [],
   "source": [
    "import pandas as pd\n",
    "import numpy as np\n",
    "from sklearn.model_selection import train_test_split\n",
    "from sklearn.linear_model import LogisticRegression\n",
    "\n",
    "# Vamos fazer um modelo de detecção de maçãs com base na altura e largura da fruta.\n",
    "# True serão as maçãs, False, as não-maçãs\n",
    "fruits = pd.read_csv('fruit_data_with_colors (1).txt', sep = '\\t', usecols = ['fruit_label', 'height', 'width'])\n",
    "fruits['fruit_label'].replace(1, True, inplace = True)\n",
    "fruits['fruit_label'].replace([2,3,4], False, inplace = True)"
   ]
  },
  {
   "cell_type": "code",
   "execution_count": 3,
   "id": "220acad9-9fc2-4a15-9d95-72cfd7058ddb",
   "metadata": {},
   "outputs": [
    {
     "data": {
      "text/plain": [
       "0.7333333333333333"
      ]
     },
     "execution_count": 3,
     "metadata": {},
     "output_type": "execute_result"
    }
   ],
   "source": [
    "X = fruits[['width', 'height']]\n",
    "y = fruits['fruit_label']\n",
    "\n",
    "X_train, X_test, y_train, y_test = train_test_split(X,y, random_state = 0)\n",
    "\n",
    "# Aplicando a regressão. Quanto maior o valor de C, mais complexo o modelo será\n",
    "clf = LogisticRegression(C = 100).fit(X_train, y_train)\n",
    "clf.score(X_test, y_test)"
   ]
  },
  {
   "cell_type": "markdown",
   "id": "1e45ae6c-91b6-41ae-9136-b2ce879f79d5",
   "metadata": {},
   "source": [
    "<div>\n",
    "<hr>\n",
    "<h2 style = 'font-size:30px'>Linear Classifiers: Support Vector Machines</h2>\n",
    "<div>    \n",
    "    <ul style = 'font-size:20px'>        \n",
    "        <li>\n",
    "            Esse algoritmo de classificação busca criar uma linha no plano cartesiano que seja capaz de melhor segregar as instâncias dos diferentes grupos sendo analisados.\n",
    "        </li>      \n",
    "        <li>\n",
    "            A linha ideal - chamada de Support Vector Macine - será aquela que tem a maior distância com o primeiro ponto de instância de treino.\n",
    "        </li>        \n",
    "        <div>           \n",
    "            <center>\n",
    "                <img src = 'vector_machines1.png'>\n",
    "            </center>           \n",
    "        </div>\n",
    "    </ul>    \n",
    "    <ul style = 'font-size:20px'>        \n",
    "        <li>\n",
    "            A partir dessa reta, o modelo classificará as instâncias de teste de acordo com as suas coordenadas no plano.\n",
    "        </li>       \n",
    "        <li>\n",
    "            Por exemplo, digamos que a equação da <em> Support Vector Machine </em> seja 5x + 2y - 1 = 0. A função de classificação final será f([x,y], w,b) = 5x + 2y - 1. \n",
    "        </li>        \n",
    "        <li>\n",
    "            Se tivermos uma instância do dataset de teste com as coordenadas (1,-1), as aplicaremos na fórmula da função, que ficará como 5(1) + 2(-1) -1 = 2. Como 2 está mais próximo de 1 do que -1, tal instância ficará rotulada como \"1\".\n",
    "        </li>       \n",
    "    </ul>    \n",
    "</div>\n",
    "</div>"
   ]
  },
  {
   "cell_type": "code",
   "execution_count": 6,
   "id": "6b83d635-756c-4bd2-903a-f4ed208a48ff",
   "metadata": {},
   "outputs": [
    {
     "data": {
      "text/plain": [
       "0.76"
      ]
     },
     "execution_count": 6,
     "metadata": {},
     "output_type": "execute_result"
    }
   ],
   "source": [
    "from sklearn.svm import SVC, LinearSVC\n",
    "from sklearn.datasets import make_classification\n",
    "from sklearn.model_selection import train_test_split\n",
    "\n",
    "X_C2, y_C2 = make_classification(n_samples = 100, n_features=2,\n",
    "                                n_redundant=0, n_informative=2,\n",
    "                                n_clusters_per_class=1, flip_y = 0.1,\n",
    "                                class_sep = 0.5, random_state=0)\n",
    "\n",
    "X_train, X_test, y_train, y_test = train_test_split(X_C2, y_C2, random_state = 0)\n",
    "clf = SVC(kernel='linear', C=1.0).fit(X_train, y_train)\n",
    "clf.score(X_test, y_test)"
   ]
  },
  {
   "cell_type": "code",
   "execution_count": 5,
   "id": "2b1fff15-5aab-471e-9158-081c79b0ed79",
   "metadata": {},
   "outputs": [
    {
     "data": {
      "text/plain": [
       "0.84"
      ]
     },
     "execution_count": 5,
     "metadata": {},
     "output_type": "execute_result"
    }
   ],
   "source": [
    "# Similar ao SVC, mas com kernel = 'linear' e maior flexibilidade na escolha de penalidades e loss functions.\n",
    "clf = LinearSVC(C=1.0).fit(X_train, y_train)\n",
    "clf.score(X_test, y_test)"
   ]
  },
  {
   "cell_type": "code",
   "execution_count": 8,
   "id": "9bfb8ae4-fb40-4eca-bab2-fef4c5e3d965",
   "metadata": {},
   "outputs": [
    {
     "name": "stderr",
     "output_type": "stream",
     "text": [
      "/Users/felipeveiga/opt/anaconda3/lib/python3.8/site-packages/sklearn/svm/_base.py:985: ConvergenceWarning: Liblinear failed to converge, increase the number of iterations.\n",
      "  warnings.warn(\"Liblinear failed to converge, increase \"\n"
     ]
    },
    {
     "data": {
      "text/plain": [
       "0.8601398601398601"
      ]
     },
     "execution_count": 8,
     "metadata": {},
     "output_type": "execute_result"
    }
   ],
   "source": [
    "# Aplicando o algoritmo no dataset de cancer (projeto de KNN da primeira semana do curso).\n",
    "from sklearn.datasets import load_breast_cancer\n",
    "X_cancer, y_cancer = load_breast_cancer(return_X_y = True)\n",
    "X_train, X_test, y_train, y_test = train_test_split(X_cancer, y_cancer, random_state = 0)\n",
    "clf = LinearSVC().fit(X_train, y_train)\n",
    "clf.score(X_test, y_test)"
   ]
  },
  {
   "cell_type": "markdown",
   "id": "994c9619-2edd-4d91-a568-34996704a53b",
   "metadata": {},
   "source": [
    "<h1 style = 'font-size:30px; text-align:center'> Quadro Prós-Contras sobre Linear Models</h1>\n",
    "<div>    \n",
    "    <center>\n",
    "        <img src = 'linear_models_pro_con1.png'>\n",
    "    </center>   \n",
    "</div>"
   ]
  },
  {
   "cell_type": "markdown",
   "id": "00ae82ef-e062-4c43-b98b-9cc34047f783",
   "metadata": {},
   "source": [
    "<div>\n",
    "<hr>\n",
    "<h2 style = 'font-size:30px'>Multi-Class Classification </h2>\n",
    "<div>    \n",
    "    <ul style = 'font-size:20px'>        \n",
    "        <li>\n",
    "            Quando queremos que o scikit learn lide com a classicação múltipla, ele aplicará um modelo de classificação binária para cada categoria que queremos analisar.\n",
    "        </li>        \n",
    "        <li>\n",
    "            No contexto da dataset sobre frutas, a biblioteca primeiro fará, por exemplo, um Support Vector Machine para as Maçãs e não-Maçãs; depois disso, para as Laranjas e não-laranjas e assim por diante.\n",
    "        </li>        \n",
    "        <li>\n",
    "            Para uma instância de rótulo desconhecido, sua categoria será da Support Vector Machine com o maior valor de output (lembre-se, todo SVM produz uma fórmula de classificação binária). Portanto, se a SVM de Laranjas tiver retornado o maior número -digamos, 2.05-, a instância será rotulada como uma laranja.\n",
    "        </li>        \n",
    "    </ul>    \n",
    "</div>\n",
    "</div>"
   ]
  },
  {
   "cell_type": "code",
   "execution_count": 6,
   "id": "78fd07d4-03f1-46ae-b450-d40ce9c5a3fd",
   "metadata": {},
   "outputs": [
    {
     "name": "stderr",
     "output_type": "stream",
     "text": [
      "/Users/felipeveiga/opt/anaconda3/lib/python3.8/site-packages/sklearn/svm/_base.py:985: ConvergenceWarning: Liblinear failed to converge, increase the number of iterations.\n",
      "  warnings.warn(\"Liblinear failed to converge, increase \"\n"
     ]
    },
    {
     "data": {
      "text/plain": [
       "array([[-0.30006303,  0.71557482],\n",
       "       [-1.62785586,  1.15837035],\n",
       "       [ 0.00721513,  0.43311565],\n",
       "       [ 1.2474674 , -1.64209043]])"
      ]
     },
     "execution_count": 6,
     "metadata": {},
     "output_type": "execute_result"
    }
   ],
   "source": [
    "import pandas as pd\n",
    "from sklearn.model_selection import train_test_split\n",
    "from sklearn.svm import LinearSVC\n",
    "\n",
    "fruits = pd.read_csv('fruit_data_with_colors (1).txt', sep = '\\t', usecols = ['fruit_label', 'height', 'width'])\n",
    "X = fruits[['height', 'width']]\n",
    "y = fruits['fruit_label']\n",
    "\n",
    "X_train, X_test, y_train, y_test = train_test_split(X, y, random_state=0)\n",
    "\n",
    "clf = LinearSVC(C=5, random_state=67).fit(X_train, y_train)\n",
    "\n",
    "# Veja, o sklearn produziu 4 funções de SVM.\n",
    "clf.coef_"
   ]
  },
  {
   "cell_type": "code",
   "execution_count": 7,
   "id": "c420f55e-65a9-4d26-962d-b461f155f352",
   "metadata": {},
   "outputs": [
    {
     "data": {
      "text/plain": [
       "array([4])"
      ]
     },
     "execution_count": 7,
     "metadata": {},
     "output_type": "execute_result"
    }
   ],
   "source": [
    "# Nesse contexto, o SVM cuja função retornar o maior número rotulará a instância dada.\n",
    "clf.predict([[5,5]])"
   ]
  },
  {
   "cell_type": "markdown",
   "id": "4804f0c9-aa82-4853-bc07-9f567ec99f09",
   "metadata": {},
   "source": [
    "<div>\n",
    "<hr>\n",
    "<h2 style='font-size:30px'> Kernelized Support Vector Machines</h2>\n",
    "<div>    \n",
    "    <ul style='font-size:20px'>        \n",
    "        <li>\n",
    "            Os <em> Kernelized SVM</em> são recomendados em situações em que devemos classificar dados que não são facilmente distingíveis.\n",
    "        </li>      \n",
    "    </ul>       \n",
    "        <div>            \n",
    "            <center>\n",
    "                <img src='Kernelized_SVM.png'>\n",
    "            </center>            \n",
    "        </div>    \n",
    "    <ul style='font-size:20px'>        \n",
    "        <li>\n",
    "            No caso da imagem da esquerda, é possível perceber que as classes preta e amarela são facilmente diferenciáveis. No entanto, a situação da imagem à direita já é mais complicada. É nesse contexto que o Kernelized SVM surge como uma boa opção.\n",
    "        </li>       \n",
    "    </ul>    \n",
    "</div>\n",
    "</div>"
   ]
  },
  {
   "cell_type": "markdown",
   "id": "7ab027a8-e6b7-49e6-ab66-3b8a2f639ada",
   "metadata": {},
   "source": [
    "<h3 style='font-size:30px;font-style:italic'> O modus operandi do KSVM</h3>\n",
    "<div>    \n",
    "    <ul style='font-size:20px'>        \n",
    "        <li>\n",
    "            A fim de diminuir a complexidade da segregação das instâncias, é possível utilizar os valores de suas coordenadas, aplicando-as à fórmula de uma função cujo output as separaria melhor pelo plano cartesiano.\n",
    "        </li>        \n",
    "    </ul>   \n",
    "    <div>        \n",
    "        <center>\n",
    "            <img src='kernelized_SVM2.png'>\n",
    "        </center>        \n",
    "    </div>    \n",
    "    <ul style='font-size:20px'>       \n",
    "        <li>\n",
    "            Por exemplo, aplicar um SVM linear decente à imagem da esquerda seria impossível. No entanto, poderíamos criar uma terceira dimensão ao plano, conferindo à coordenada Z das instâncias a fórmula 1-(xo&#178;+x1&#178;).\n",
    "        </li>        \n",
    "        <li>\n",
    "            Dessa maneira, as instâncias passam a se tornar facilmente segregáveis, bastando criar um plano com certa altura no eixo y que separe corretamente os pontos pretos dos brancos.\n",
    "        </li>        \n",
    "    </ul>    \n",
    "</div>"
   ]
  },
  {
   "cell_type": "markdown",
   "id": "3866958e-7712-42a2-a42c-c2408f04488e",
   "metadata": {},
   "source": [
    "<h3 style='font-size:30px;font-style:italic'> Os Kernels do KSVM </h3>\n",
    "<div>    \n",
    "    <ul style='font-size:20px'>        \n",
    "        <li>\n",
    "            Os Kernels podem ser entendidos como medidas de similaridade entre os dados. Cada um deles elabora uma transformação diferente aos nossos dados para que eles se tornem melhor segregáveis.\n",
    "        </li>        \n",
    "    </ul>    \n",
    "</div>   "
   ]
  },
  {
   "cell_type": "code",
   "execution_count": 21,
   "id": "91d5ee2d-369f-412c-8415-cd2bc944fa78",
   "metadata": {},
   "outputs": [
    {
     "data": {
      "text/plain": [
       "0.76"
      ]
     },
     "execution_count": 21,
     "metadata": {},
     "output_type": "execute_result"
    }
   ],
   "source": [
    "# Kernel RBF.\n",
    "from sklearn.datasets import make_blobs\n",
    "from sklearn.svm import SVC\n",
    "from sklearn.model_selection import train_test_split\n",
    "import pandas as pd\n",
    "import numpy as np\n",
    "\n",
    "X_D2, y_D2 = make_blobs(n_samples = 100, n_features = 2, centers = 8,\n",
    "                       cluster_std = 1.3, random_state = 4)\n",
    "y_D2 = y_D2 % 2\n",
    "\n",
    "X_train, X_test, y_train, y_test = train_test_split(X_D2, y_D2, random_state=0)\n",
    "\n",
    "# gamma, assim como C controla o nível de complexidade do modelo. Acho que seria sensato evitar valores \n",
    "# desse parâmetroacima de 10.\n",
    "\n",
    "# gamma possui uma influência maior na complexidade do modelo do que C.\n",
    "clf = SVC(kernel='rbf', gamma=5, C=100).fit(X_train, y_train)\n",
    "clf.score(X_test, y_test)"
   ]
  },
  {
   "cell_type": "code",
   "execution_count": 27,
   "id": "e2f24481-76ce-4018-8e10-0343832be274",
   "metadata": {},
   "outputs": [],
   "source": [
    "# Vamos testar diferentes valores de gamma e C a fim de descobrir aqueles que nos darão o melhor modelo de SVC,\n",
    "df = pd.DataFrame({'gamma':[], 'C':[], 'score':[]})\n",
    "for gamma in range(1,11):\n",
    "    for C in range(1,101):\n",
    "        clf = SVC(kernel='rbf', gamma=gamma, C=C).fit(X_train, y_train).score(X_test, y_test)\n",
    "        df.loc[gamma * C,:] = [gamma, C, clf]"
   ]
  },
  {
   "cell_type": "code",
   "execution_count": 30,
   "id": "11d2f792-ccd9-410b-b089-669ee4ee011d",
   "metadata": {},
   "outputs": [
    {
     "data": {
      "text/html": [
       "<div>\n",
       "<style scoped>\n",
       "    .dataframe tbody tr th:only-of-type {\n",
       "        vertical-align: middle;\n",
       "    }\n",
       "\n",
       "    .dataframe tbody tr th {\n",
       "        vertical-align: top;\n",
       "    }\n",
       "\n",
       "    .dataframe thead th {\n",
       "        text-align: right;\n",
       "    }\n",
       "</style>\n",
       "<table border=\"1\" class=\"dataframe\">\n",
       "  <thead>\n",
       "    <tr style=\"text-align: right;\">\n",
       "      <th></th>\n",
       "      <th>gamma</th>\n",
       "      <th>C</th>\n",
       "      <th>score</th>\n",
       "    </tr>\n",
       "  </thead>\n",
       "  <tbody>\n",
       "    <tr>\n",
       "      <th>17</th>\n",
       "      <td>1.0</td>\n",
       "      <td>17.0</td>\n",
       "      <td>0.88</td>\n",
       "    </tr>\n",
       "  </tbody>\n",
       "</table>\n",
       "</div>"
      ],
      "text/plain": [
       "    gamma     C  score\n",
       "17    1.0  17.0   0.88"
      ]
     },
     "execution_count": 30,
     "metadata": {},
     "output_type": "execute_result"
    }
   ],
   "source": [
    "# O Python afirma que a melhor performance do modelo ocorre quando gamma = 1 e C = 17\n",
    "df[df['score'] == df['score'].max()]"
   ]
  },
  {
   "cell_type": "code",
   "execution_count": 35,
   "id": "19275ae3-da29-4843-a43a-addb3f9fa946",
   "metadata": {},
   "outputs": [
    {
     "data": {
      "text/plain": [
       "0.84"
      ]
     },
     "execution_count": 35,
     "metadata": {},
     "output_type": "execute_result"
    }
   ],
   "source": [
    "# Polynoial Kernel.\n",
    "# Esse é um outro kernel bastante útil na aplicação de SVM. Possui o modelo 'degree', que controla a complexidade\n",
    "# do modelo.\n",
    "X_train, X_test, y_train, y_test = train_test_split(X_D2, y_D2, random_state=0)\n",
    "clf = SVC(kernel='poly', degree=3).fit(X_train, y_train)\n",
    "clf.score(X_test, y_test)"
   ]
  },
  {
   "cell_type": "markdown",
   "id": "faab8dde-c259-49b2-8d1c-54f4c86ec5d4",
   "metadata": {},
   "source": [
    "<div>\n",
    "    <center>\n",
    "        <h1 style='font-size:30px'> Prós e Contras do SVM</h1>\n",
    "        <img src='vector_machines2.png'>\n",
    "    </center>\n",
    "</div>"
   ]
  },
  {
   "cell_type": "markdown",
   "id": "e14d0e3c-98f0-45df-bc91-3cd58eafe1a6",
   "metadata": {},
   "source": [
    "<div>\n",
    "<hr>\n",
    "<h2 style='font-size:30px'> Cross-Validation</h2>\n",
    "<div>    \n",
    "    <ul style='font-size:20px'>        \n",
    "        <li>\n",
    "            Até este ponto do curso, buscamos construir os nossos conjuntos de dados para ML por meio de um único <em>train_test_split</em>.\n",
    "        </li>        \n",
    "        <li>\n",
    "            No entanto, é provável que poderíamos obter, por coincidência, um dataset que produza uma melhor performance de nosso modelo devido ao valor de parâmetros como o <em>random_state</em>, por exemplo.\n",
    "        </li>        \n",
    "        <li>\n",
    "            Tendo isso em vista, o <em>Cross-Validation </em> tenta fazer diversos <em>train_test_split's</em> diferentes em busca de um conjunto de dados \"ideal\" para uma maior precisão do modelo\n",
    "        </li>        \n",
    "    </ul>    \n",
    "</div>\n",
    "</div>"
   ]
  },
  {
   "cell_type": "markdown",
   "id": "bfdb5fcc-7b42-46bd-aed0-75a40173a2a1",
   "metadata": {},
   "source": [
    "<div>    \n",
    "    <center>\n",
    "        <h1 style='font-size:30px'> O funcionamento do Cross-Validation</h1>\n",
    "        <img src='cross1.png'>\n",
    "    </center>    \n",
    "    <div>        \n",
    "        <ul style='font-size:20px'>            \n",
    "            <li>\n",
    "                O algoritmo, primeiro, quebra o dataset em fragmentos, ou folds (quando quebrado em 5, falamos que houve um 5 fold cross-validation). Logo em seguida, o Python pegará um dos pedaços gerados e o colocará como dados de teste; o restante ficará para treino. Esse processo ocorrerá para cada uma das partições, a fim de sabermos qual quebra gerou o modelo com maior precisão.\n",
    "            </li>            \n",
    "            <li>\n",
    "                Esse método é muito bom para avaliarmos a sensibilidade do modelo sendo utilizado com o dataset que o alimenta.\n",
    "            </li>            \n",
    "        </ul>        \n",
    "        <p style='font-size:16px'> \n",
    "            \n",
    "            <u>Obs</u>: Cada fold produzido manterá, aproximadamente, a mesma proporção de categorias distintas que a do dataset de origem.           \n",
    "        </p>        \n",
    "    </div>    \n",
    "</div>"
   ]
  },
  {
   "cell_type": "code",
   "execution_count": 1,
   "id": "88402050-f7f4-4584-9b64-b7257c9091b0",
   "metadata": {},
   "outputs": [
    {
     "name": "stdout",
     "output_type": "stream",
     "text": [
      "[0.88596491 0.93859649 0.93859649 0.94736842 0.92920354]\n",
      "O score médio foi de: 0.9279459711224964\n"
     ]
    }
   ],
   "source": [
    "# A aplicação do Cross-Validation torna o nosso código mais enxuto do que quando usamos train_test_split.\n",
    "from sklearn.neighbors import KNeighborsClassifier\n",
    "from sklearn.model_selection import cross_val_score\n",
    "from sklearn.datasets import load_breast_cancer\n",
    "\n",
    "# Buscando o dataset e importando um modelo de KNN.\n",
    "X, y = load_breast_cancer(return_X_y=True)\n",
    "clf = KNeighborsClassifier(n_neighbors = 5)\n",
    "\n",
    "# O cross_val_score dividirá o dataset e aplicará o modelo automaticamente.\n",
    "cv_scores = cross_val_score(clf, X, y, cv=5)\n",
    "print(cv_scores)\n",
    "\n",
    "# É comum também calcularmos a média dos scores obtidos.\n",
    "print(f'O score médio foi de: {cv_scores.mean()}')"
   ]
  },
  {
   "cell_type": "markdown",
   "id": "de066004-c0e5-4530-bf11-2c4f38cfffdd",
   "metadata": {},
   "source": [
    "<h3 style='font-size:30px;font-style:italic'> Validation Curves</h3>\n",
    "<div>    \n",
    "    <ul style='font-size:20px'>        \n",
    "        <li>\n",
    "            As curvas de validações são um recurso que é capaz de revelar a influência de um determinado parâmetro na performance do modelo sendo utilizado.\n",
    "        </li>        \n",
    "        <li>\n",
    "            Seu output serão as precisões do modelo para cada valor do parâmetro definidos.\n",
    "        </li>\n",
    "        \n",
    "    </ul>    \n",
    "</div>"
   ]
  },
  {
   "cell_type": "code",
   "execution_count": 68,
   "id": "9a36efa6-b232-4678-b3a1-f0f79a05f0a4",
   "metadata": {},
   "outputs": [
    {
     "data": {
      "text/plain": [
       "(array([[0.9762533 , 0.97361478, 0.98421053],\n",
       "        [1.        , 1.        , 1.        ],\n",
       "        [1.        , 1.        , 1.        ],\n",
       "        [1.        , 1.        , 1.        ]]),\n",
       " array([[0.91578947, 0.93684211, 0.91005291],\n",
       "        [0.62631579, 0.62631579, 0.62962963],\n",
       "        [0.62631579, 0.62631579, 0.62962963],\n",
       "        [0.62631579, 0.62631579, 0.62962963]]))"
      ]
     },
     "execution_count": 68,
     "metadata": {},
     "output_type": "execute_result"
    }
   ],
   "source": [
    "# O método 'validation_curve' dividirá fará os datasets de treino e test, implicitamente, com a aplicação de\n",
    "# um Cross-Validation com o parâmetro 'cv' a ser definido por nós.\n",
    "from sklearn.model_selection import validation_curve\n",
    "from sklearn.svm import SVC\n",
    "\n",
    "param_range = np.logspace(-3,3, 4)\n",
    "train_scores, test_scores = validation_curve(SVC(), X, y, param_name='gamma', \n",
    "                                             param_range=param_range, cv = 3)\n",
    "\n",
    "# As possuem as precisões de cada Cross-Validation feito com o valor especificado do parâmetro, neste caso, 'gamma'.\n",
    "# Como quisemos três Cross-Validations, o array terá três colunas. E como definimos quatro valores de 'gamma', ele\n",
    "# terá quatro linhas.\n",
    "train_scores, test_scores"
   ]
  },
  {
   "cell_type": "markdown",
   "id": "1a51a8eb-1977-458f-b2dc-a0c1d6dbf51d",
   "metadata": {},
   "source": [
    "<div>\n",
    "<hr>\n",
    "<h2 style='font-size:30px'> Decision-Trees</h2>\n",
    "<div>    \n",
    "    <ul style='font-size:20px'>        \n",
    "        <li>\n",
    "            As árvores de decisão são um modelo de Machine Learning Supervisionado.\n",
    "        </li>        \n",
    "        <li>\n",
    "            Sua estrutura é composta por perguntas de gênero binário (Sim ou não), identificados como nós. O caminho criado por um conjunto de sim's e não's fará o modelo prever a classificação de uma determinada instância.\n",
    "        </li>        \n",
    "    </ul>   \n",
    "    <div>       \n",
    "        <center>\n",
    "            \n",
    "            <h1 style='font-size:30px'>Árvore de Decisão Sobre Animais</h1>\n",
    "            <img src='trees1.png'>            \n",
    "        </center>       \n",
    "    </div>    \n",
    "</div>\n",
    "</div>"
   ]
  },
  {
   "cell_type": "markdown",
   "id": "3d00665b-3a54-40b2-8069-b68c22c3166c",
   "metadata": {},
   "source": [
    "<div>    \n",
    "    <center>\n",
    "        <h1 style='font-size:30px'> Árvores de Decisão com Flores Íris</h1>\n",
    "        <img src='trees2.png'>\n",
    "    </center>    \n",
    "</div>\n",
    "<div>    \n",
    "    <ul style='font-size:20px'>        \n",
    "        <li>\n",
    "            Para cada conglomerado de instâncias, o Python criará a bipartição que melhor segregará as categorias analisadas - ou seja, que produzirá pelo menos um grupo com certa homogeneidade de rótulos.\n",
    "        </li>        \n",
    "        <li>\n",
    "            Cada caixa mostrada terá o critério de separação usado; o número total de instâncias no agrupamento; o número de instâncias para cada categoria presente; e o nome da categoria predominante.\n",
    "        </li>       \n",
    "    </ul>\n",
    "</div>"
   ]
  },
  {
   "cell_type": "code",
   "execution_count": 1,
   "id": "7ba5ec0f-703d-46b1-94d8-e31174ad28c0",
   "metadata": {},
   "outputs": [
    {
     "name": "stdout",
     "output_type": "stream",
     "text": [
      "Score com o dataset de treino: 1.00\n",
      "Score com o dataset de teste: 0.97\n"
     ]
    }
   ],
   "source": [
    "# Realizando uma breve Decision Tree no dataset sobre iris.\n",
    "from sklearn.datasets import load_iris\n",
    "from sklearn.tree import DecisionTreeClassifier\n",
    "from sklearn.model_selection import train_test_split\n",
    "X, y = load_iris(return_X_y = True)\n",
    "\n",
    "X_train, X_test, y_train, y_test = train_test_split(X, y, random_state = 0)\n",
    "clf = DecisionTreeClassifier().fit(X_train, y_train)\n",
    "print(f'Score com o dataset de treino: {clf.score(X_train, y_train):.2f}')\n",
    "print(f'Score com o dataset de teste: {clf.score(X_test, y_test):.2f}')"
   ]
  },
  {
   "cell_type": "markdown",
   "id": "419dee74-efa6-450c-9e5a-cc5b00d79be2",
   "metadata": {},
   "source": [
    "<ul style='font-size:20px'>    \n",
    "    <li>\n",
    "        Note que o modelo prevê perfeitamente os dados de treino, o que provavelmente significa que há overfitting. Isso ocorre pois a árvore gerada é possivelmente complexa demais e busca chegar sempre a leafs puros (com apenas uma categoria).\n",
    "    </li>    \n",
    "    <li>\n",
    "        A fim de aumentar a capacidade GENERALIZANTE do modelo, podemos aproveitar o argumento <em>max_depth</em>, que especifica a profundidade máxima da árvore; <em>max_leaf_nodes</em>, que regulamenta o número máximo de folhas da árvore; e <em>min_samples_leaf</em>, que define o número de instâncias no nó para se considerar a separação.\n",
    "    </li>    \n",
    "</ul>"
   ]
  },
  {
   "cell_type": "code",
   "execution_count": 3,
   "id": "ceeb7a32-e86e-41a9-a74c-dfae58264cbe",
   "metadata": {},
   "outputs": [
    {
     "name": "stdout",
     "output_type": "stream",
     "text": [
      "Score com o dataset de treino: 0.98\n",
      "Score com o dataset de teste: 0.97\n"
     ]
    },
    {
     "data": {
      "text/plain": [
       "array([0.        , 0.        , 0.42232109, 0.57767891])"
      ]
     },
     "execution_count": 3,
     "metadata": {},
     "output_type": "execute_result"
    }
   ],
   "source": [
    "# Repetindo o processo com alguns dos argumentos apresentados.\n",
    "# Agora, o modelo perdeu o seu vício com o dataset de treino.\n",
    "clf = DecisionTreeClassifier(max_depth = 3, min_samples_leaf = 4).fit(X_train, y_train)\n",
    "print(f'Score com o dataset de treino: {clf.score(X_train, y_train):.2f}')\n",
    "print(f'Score com o dataset de teste: {clf.score(X_test, y_test):.2f}')\n",
    "\n",
    "# Os modelos de DecisionTrees possuem o atributo feature_importances_, que mostra o grau de relevância de cada característica das\n",
    "# instâncias para a sua segregação.\n",
    "clf.feature_importances_"
   ]
  },
  {
   "cell_type": "markdown",
   "id": "849fb4b8-b3ae-44ea-a7c2-1d098cb7267c",
   "metadata": {},
   "source": [
    "<div>   \n",
    "    <center>\n",
    "        \n",
    "        <h1 style='font-size:30px'>Prós e Contras de Decision Trees</h1>\n",
    "        <img src='trees3.png'>\n",
    "        \n",
    "    </center>    \n",
    "</div>"
   ]
  }
 ],
 "metadata": {
  "kernelspec": {
   "display_name": "Python 3 (ipykernel)",
   "language": "python",
   "name": "python3"
  },
  "language_info": {
   "codemirror_mode": {
    "name": "ipython",
    "version": 3
   },
   "file_extension": ".py",
   "mimetype": "text/x-python",
   "name": "python",
   "nbconvert_exporter": "python",
   "pygments_lexer": "ipython3",
   "version": "3.8.10"
  }
 },
 "nbformat": 4,
 "nbformat_minor": 5
}
