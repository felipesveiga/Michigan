{
 "cells": [
  {
   "cell_type": "markdown",
   "id": "e7ef10ab-e777-445f-8593-90d8db1eeafe",
   "metadata": {},
   "source": [
    "<h1 style='font-size:40px'>Unsupervised Learning</h1>"
   ]
  },
  {
   "cell_type": "markdown",
   "id": "f47feeda-6f81-424f-b524-d2be2cf19283",
   "metadata": {},
   "source": [
    "<h2 style='font-size:30px'>Introduction</h2>\n",
    "<div> \n",
    "    <ul style='font-size:20px'> \n",
    "        <li>\n",
    "            Os métodos de Machine Learning não Supervisionado podem ser divididos em dois tipos, os de  Clustering e Transformação.\n",
    "        </li>\n",
    "    </ul>\n",
    "</div>"
   ]
  },
  {
   "cell_type": "markdown",
   "id": "d2ee5bfa-c1c9-4c8f-8e5f-e5158ff5c533",
   "metadata": {},
   "source": [
    "<h3 style='font-size:30px;font-style:italic'>Clustering</h3>\n",
    "<center>\n",
    "    <img src='clustering1.png'>\n",
    "</center>\n",
    "<div> \n",
    "    <ul style='font-size:20px'>\n",
    "        <li>\n",
    "            Como a imagem revela, o algoritmo de clustering foi capaz de segmentar os usuários de um site de vendas em duas categorias: os especialistas focados e os comuns.\n",
    "        </li>\n",
    "        <li>\n",
    "            Isso foi obtido apenas com a análise do número de recursos de filtragem utilizados e o número de páginas acessadas por cada um dos indivíduos.\n",
    "        </li>\n",
    "    </ul>\n",
    "</div>"
   ]
  },
  {
   "cell_type": "markdown",
   "id": "8d18adcd-41ea-4fa1-b194-df6827b71eb0",
   "metadata": {},
   "source": [
    "<h3 style='font-size:30px;font-style:italic'> Transformação</h3>\n",
    "<div> \n",
    "    <ul style='font-size:20px'> \n",
    "        <li>\n",
    "            Transformam os dados recebidos.\n",
    "        </li>\n",
    "    </ul>\n",
    "</div>\n",
    "<center>\n",
    "    <img src='transformation1.png'>\n",
    "</center>\n",
    "<div> \n",
    "    <ul style='font-size:20px'> \n",
    "        <li>\n",
    "            Como a imagem revela, os dados sobre concentração de glicose no sangue de diabéticos foram transformados em um gráfico de estimativa de densidade.\n",
    "        </li>\n",
    "    </ul>\n",
    "</div>\n",
    "<center>\n",
    "    <img src='transformation2.png'>\n",
    "</center>\n",
    "<div> \n",
    "    <ul style='font-size:20px'> \n",
    "        <li>\n",
    "            O gráfico dos pacientes diabéticos poderá ser comparado com um a respeito de pacientes não-diabéticos.\n",
    "        </li>\n",
    "    </ul>\n",
    "</div>"
   ]
  },
  {
   "cell_type": "markdown",
   "id": "5faf53ba-11fd-4ca2-abaf-2937f129474a",
   "metadata": {},
   "source": [
    "<div>\n",
    "    <hr>\n",
    "    <h2 style='font-size:30px'> Dimensionality Reduction and Manifold Learning</h2>\n",
    "</div>"
   ]
  },
  {
   "cell_type": "markdown",
   "id": "d3923ebb-2ce7-4a67-9394-ffd2c43368f4",
   "metadata": {},
   "source": [
    "Entender melhor o PCA"
   ]
  },
  {
   "cell_type": "markdown",
   "id": "c60a59fd-4bcb-4c9d-ac15-56b1c5db4727",
   "metadata": {},
   "source": [
    "<div>\n",
    "    <hr>\n",
    "<h2 style='font-size:30px'>Clustering</h2>\n",
    "</div>"
   ]
  },
  {
   "cell_type": "markdown",
   "id": "95be2809-0f86-4896-8ad3-b53df5f9f4ff",
   "metadata": {},
   "source": [
    "<h3 style='font-size:30px;font-style:italic'>K-Means</h3>\n",
    "<div> \n",
    "    <ul style='font-size:20px'>\n",
    "        <li>\n",
    "            O K-Means é um algoritmo de clusterização capaz de agrupar as instâncias do dataset de acordo com similaridades em seus dados.\n",
    "        </li>\n",
    "        <li>\n",
    "            Se quisermos criar dois agrupamentos, o scikit-learn criará dois pontos aleatórios pelo plano cartesiano; eles serão o núcleo dos seus respectivos grupos. Após isso, cada instância será designada ao cluster mais próximo. Após esse primeiro processo, os centros dos clusters receberão um novo valor, que será a média das coordenadas dos pontos pertencentes ao grupo. Após essa alteração, as instâncias sofrerão uma nova designação com base em suas distâncias aos novos núcleos. Esse processo se repetirá até que os centros passem a ter um valor estável.\n",
    "        </li>\n",
    "        <li>\n",
    "            Observe que alguns algoritmos não serão capazes de prever o grupo de novas instâncias.\n",
    "        </li>\n",
    "    </ul>\n",
    "</div>\n",
    "<strong style='font-size:20px'>Obs: O K-Means é um algoritmo muito sensível à escala das features. Dessa forma, busque normalizá-las!</strong>"
   ]
  },
  {
   "cell_type": "code",
   "execution_count": 45,
   "id": "a1b97865-a93d-43fc-8ae0-23602f3fa19f",
   "metadata": {
    "tags": []
   },
   "outputs": [],
   "source": [
    "import pandas as pd\n",
    "from sklearn.preprocessing import MinMaxScaler\n",
    "from sklearn.model_selection import train_test_split\n",
    "from sklearn.cluster import KMeans\n",
    "\n",
    "# Usando o MinMaxScaler a fim de facilitar o trabalho do KMeans.\n",
    "scaler = MinMaxScaler()\n",
    "fruits = pd.read_table('fruit_data_with_colors (1).txt')\n",
    "\n",
    "X = fruits[['mass','width','height','color_score']]\n",
    "X_transform = scaler.fit_transform(X)\n",
    "y = fruits['fruit_label'] -1\n",
    "\n",
    "kmeans = KMeans(n_clusters=len(y.unique()), random_state=0).fit(X_transform)"
   ]
  },
  {
   "cell_type": "markdown",
   "id": "c69c84b5-6212-4208-b29f-64e31024bf24",
   "metadata": {},
   "source": [
    "<h4 style='font-size:25px;font-style:italic;text-decoration:underline'> Limitações do K-Means</h4>\n",
    "<div>\n",
    "    <ul style='font-size:20px'>\n",
    "        <li>\n",
    "            Pode ser ineficaz com grupos muito irregulares ou complexos.\n",
    "        </li>\n",
    "        <li>\n",
    "            Lida apenas com dados numéricos (existem variações do K-Means que podem utilizar informações categóricas).\n",
    "        </li>\n",
    "    </ul>\n",
    "</div>"
   ]
  },
  {
   "cell_type": "markdown",
   "id": "90451235-b482-4f98-bfcb-577df02e3371",
   "metadata": {},
   "source": [
    "<h3 style='font-size:30px;font-style:italic'> Agglomerative Clustering</h3>\n",
    "<div> \n",
    "    <ul style= 'font-size:20px'>\n",
    "        <li>\n",
    "            O Agglomerative Clustering considera cada instância do dataset como um grupo individualizado. Dessa forma, o seu objetivo é fundir os clusters de acordo com uma regra de similaridade até que um número definido de grupos reste no plano cartesiano.\n",
    "        </li>\n",
    "    </ul>\n",
    "</div>\n",
    "<center>\n",
    "    <h1>Agglomerative Clustering com três grupos finais</h1>\n",
    "    <img src='agg_cluster1.png'>\n",
    "</center>"
   ]
  },
  {
   "cell_type": "markdown",
   "id": "195f159a-6e0b-4b6a-bb23-f2b141aa0c64",
   "metadata": {},
   "source": [
    "<h4 style='font-size:25px;font-style:italic;text-decoration:underline'>Regras de agrupamento</h4>\n",
    "<div>\n",
    "    <ul style= 'font-size:20px'>\n",
    "        <li>\n",
    "            <em>Ward's Method</em>: Cria um agrupamento que provoque a menor alteração das distâncias entre as instâncias e o seus núcleos.\n",
    "        </li>\n",
    "        <li>\n",
    "            <em>Average Linkage</em>: Menor distância média entre as instâncias dos dois grupos a serem fundidos\n",
    "        </li>\n",
    "        <li>\n",
    "            <em>Max Linkage</em>: Cria o agrupamento a partir dos clusters com menor distância máxima.\n",
    "        </li>\n",
    "    </ul>\n",
    "</div>\n",
    "<center>\n",
    "    <img src='agg_cluster2.png'>\n",
    "</center>\n",
    "<strong style='font-size:20px'>Obs: Normalmente, utilizaremos o método Ward. No entanto, caso acreditemos que os clusters sejam discrepantes entre si (em termos de tamanho, por exemplo), é recomendável usar o Average ou Max Linkage.</strong>"
   ]
  },
  {
   "cell_type": "code",
   "execution_count": 51,
   "id": "e21ecc72-dfb8-4eda-8385-8526b55216dc",
   "metadata": {},
   "outputs": [
    {
     "data": {
      "text/plain": [
       "array([1, 1, 0, 2, 0, 0, 2, 1, 0, 2, 2, 0, 0, 1, 1, 0, 2, 0, 2, 0, 2, 1,\n",
       "       0, 1, 2, 0, 0, 0, 0, 2, 1, 0, 0, 2, 1, 1, 1, 0, 0, 0, 1, 2, 1, 1,\n",
       "       0, 2, 2, 2, 1, 2, 0, 1, 2, 2, 1, 2, 0, 1, 2, 2, 0, 0, 1, 1, 1, 2,\n",
       "       2, 1, 1, 1, 0, 2, 0, 0, 1, 0, 0, 1, 2, 2, 2, 0, 2, 0, 1, 0, 1, 2,\n",
       "       1, 1, 2, 2, 2, 1, 1, 1, 0, 2, 2, 2])"
      ]
     },
     "execution_count": 51,
     "metadata": {},
     "output_type": "execute_result"
    }
   ],
   "source": [
    "from sklearn.datasets import make_blobs\n",
    "from sklearn.cluster import AgglomerativeClustering\n",
    "\n",
    "X,y = make_blobs(random_state=10)\n",
    "\n",
    "# 'n_clusters' define o número final de cluster que queremos ter.\n",
    "agg = AgglomerativeClustering(n_clusters=3).fit_predict(X)\n",
    "agg"
   ]
  },
  {
   "cell_type": "markdown",
   "id": "8395cd7c-5c90-46cf-8000-619f6d97c31a",
   "metadata": {},
   "source": [
    "<h4 style='font-size:25px;font-style:italic;text-decoration:underline'> Dendograma</h4>\n",
    "<div>\n",
    "    <ul style='font-size:20px'> \n",
    "        <li>\n",
    "            Os dendogramas são gráficos capazes de representar a fusão entre os diferentes clusters e a respectiva distância entre os centros dos grupos que formaram o novo agrupamento.\n",
    "        </li>\n",
    "    </ul>\n",
    "</div>\n",
    "<center> \n",
    "    <img src='agg_cluster3.png'>\n",
    "</center>"
   ]
  },
  {
   "cell_type": "code",
   "execution_count": 55,
   "id": "b39205aa-30c3-41cb-bb6d-3960426e6c99",
   "metadata": {},
   "outputs": [
    {
     "data": {
      "image/png": "[encoded data removed]",
      "text/plain": [
       "<Figure size 432x288 with 1 Axes>"
      ]
     },
     "metadata": {
      "needs_background": "light"
     },
     "output_type": "display_data"
    }
   ],
   "source": [
    "# Observe na imagem que ter apenas dois clusters pode não ser uma boa estratégia de generalização, dado que o ponto A se encontra \n",
    "# muito distante de C, F e D.\n",
    "\n",
    "# Agora, faremos um dendograma com o módulo hierarchy, de scipy.cluster.\n",
    "from scipy.cluster.hierarchy import ward, dendrogram\n",
    "from sklearn.datasets import make_blobs\n",
    "\n",
    "X, y = make_blobs(random_state=10, n_samples=10)\n",
    "\n",
    "dendrogram(ward(X));"
   ]
  },
  {
   "cell_type": "markdown",
   "id": "11d3b318-f66c-4971-a8eb-9fb12249ef88",
   "metadata": {},
   "source": [
    "<h3 style='font-size:30px;font-style:italic'> DBSCAN</h3>\n",
    "<div> \n",
    "    <ul style='font-size:20px'>\n",
    "        <li>\n",
    "            O DBSCAN é capaz de, sozinho, identificar agrupamentos sem que nós precisemos definir o número de grupos que queremos formar.\n",
    "        </li>\n",
    "        <li>\n",
    "            Isso é feito a partir dos argumentos <em>min_samples</em> e <em>eps</em>, que definem o número mínimo de pontos que uma aglomeração no plano cartesiano deverá ter para ser considerada um grupo e a distância máxima que as instâncias deverão estar uma das outras para serem designadas aos grupos.\n",
    "        </li>\n",
    "        <li>\n",
    "            Com esses argumentos em mãos, o algoritmo também pode identificar pontos de exceção pelo dataset (como aqueles com a cor vermelha na imagem).\n",
    "        </li>\n",
    "    </ul>\n",
    "</div>\n",
    "<center> \n",
    "    <img src='dbscan1.png'>\n",
    "</center>"
   ]
  },
  {
   "cell_type": "code",
   "execution_count": 71,
   "id": "3cdaa3fe-5b8e-4f27-9212-9b4536d7b320",
   "metadata": {
    "tags": []
   },
   "outputs": [
    {
     "data": {
      "text/plain": [
       "<matplotlib.collections.PathCollection at 0x7f8194603700>"
      ]
     },
     "execution_count": 71,
     "metadata": {},
     "output_type": "execute_result"
    },
    {
     "data": {
      "image/png": "[encoded data removed]",
      "text/plain": [
       "<Figure size 432x288 with 1 Axes>"
      ]
     },
     "metadata": {
      "needs_background": "light"
     },
     "output_type": "display_data"
    }
   ],
   "source": [
    "from matplotlib.pyplot import scatter\n",
    "from sklearn.datasets import make_blobs\n",
    "from sklearn.cluster import DBSCAN\n",
    "\n",
    "X,y = make_blobs(random_state=9, n_samples=25)\n",
    "dbscan = DBSCAN(eps=2, min_samples=2)\n",
    "cls = dbscan.fit_predict(X)\n",
    "\n",
    "# A partir da imagem, é possível perceber os diferentes agrupamentos feitos. Os pontos roxos sinalizam\n",
    "# instâncias não pertencentes a nenhuma categoria.\n",
    "scatter(X[:,0], X[:,1], c=cls+1)"
   ]
  },
  {
   "cell_type": "markdown",
   "id": "c552d059-7e4d-4f4b-bf49-e6f9372d54ed",
   "metadata": {},
   "source": [
    "<h3 style='font-size:30px;font-style:italic'>Avaliação de modelos de unsupervised-learning</h3>\n",
    "<div>\n",
    "    <ul style='font-size:20px'>\n",
    "        <li>\n",
    "            Por seus datasets não possuírem um valor-alvo, avaliar modelos de Machine Learning não-supervisonado pode ser algo complicado. No entanto, uma abordagem proposta é, se o contexto permitir, avaliar o ganho de performance de um algoritmo supervisionado ao se adicionar o output de um modelo não-supervisionado como feature.\n",
    "        </li>\n",
    "    </ul> \n",
    "</div>"
   ]
  },
  {
   "cell_type": "markdown",
   "id": "1ae86a5c-83a7-4ab3-9a77-9fc51b0028b8",
   "metadata": {},
   "source": [
    "Continuar a aula Clustering (7:20)"
   ]
  },
  {
   "cell_type": "code",
   "execution_count": 57,
   "id": "027e5ac2-66b2-449c-99f2-011908ac5d92",
   "metadata": {},
   "outputs": [],
   "source": [
    "! mv /Users/felipeveiga/Desktop/Screen\\ Shot\\ 2022-04-20\\ at\\ 10.38.20.png ./dbscan1.png"
   ]
  }
 ],
 "metadata": {
  "kernelspec": {
   "display_name": "Python 3",
   "language": "python",
   "name": "python3"
  },
  "language_info": {
   "codemirror_mode": {
    "name": "ipython",
    "version": 3
   },
   "file_extension": ".py",
   "mimetype": "text/x-python",
   "name": "python",
   "nbconvert_exporter": "python",
   "pygments_lexer": "ipython3",
   "version": "3.8.8"
  }
 },
 "nbformat": 4,
 "nbformat_minor": 5
}
