{
 "cells": [
  {
   "cell_type": "code",
   "execution_count": 170,
   "metadata": {},
   "outputs": [],
   "source": [
    "# sklearn de Michigan não tem Column Transformer nem Simple Imputer.\n",
    "# Fazer uma versão adapatada em trash_version.ipynb"
   ]
  },
  {
   "cell_type": "markdown",
   "metadata": {},
   "source": [
    "---\n",
    "\n",
    "_You are currently looking at **version 1.1** of this notebook. To download notebooks and datafiles, as well as get help on Jupyter notebooks in the Coursera platform, visit the [Jupyter Notebook FAQ](https://www.coursera.org/learn/python-machine-learning/resources/bANLa) course resource._\n",
    "\n",
    "---"
   ]
  },
  {
   "cell_type": "markdown",
   "metadata": {},
   "source": [
    "## Assignment 4 - Understanding and Predicting Property Maintenance Fines\n",
    "\n",
    "This assignment is based on a data challenge from the Michigan Data Science Team ([MDST](http://midas.umich.edu/mdst/)). \n",
    "\n",
    "The Michigan Data Science Team ([MDST](http://midas.umich.edu/mdst/)) and the Michigan Student Symposium for Interdisciplinary Statistical Sciences ([MSSISS](https://sites.lsa.umich.edu/mssiss/)) have partnered with the City of Detroit to help solve one of the most pressing problems facing Detroit - blight. [Blight violations](http://www.detroitmi.gov/How-Do-I/Report/Blight-Complaint-FAQs) are issued by the city to individuals who allow their properties to remain in a deteriorated condition. Every year, the city of Detroit issues millions of dollars in fines to residents and every year, many of these fines remain unpaid. Enforcing unpaid blight fines is a costly and tedious process, so the city wants to know: how can we increase blight ticket compliance?\n",
    "\n",
    "The first step in answering this question is understanding when and why a resident might fail to comply with a blight ticket. This is where predictive modeling comes in. For this assignment, your task is to predict whether a given blight ticket will be paid on time.\n",
    "\n",
    "All data for this assignment has been provided to us through the [Detroit Open Data Portal](https://data.detroitmi.gov/). **Only the data already included in your Coursera directory can be used for training the model for this assignment.** Nonetheless, we encourage you to look into data from other Detroit datasets to help inform feature creation and model selection. We recommend taking a look at the following related datasets:\n",
    "\n",
    "* [Building Permits](https://data.detroitmi.gov/Property-Parcels/Building-Permits/xw2a-a7tf)\n",
    "* [Trades Permits](https://data.detroitmi.gov/Property-Parcels/Trades-Permits/635b-dsgv)\n",
    "* [Improve Detroit: Submitted Issues](https://data.detroitmi.gov/Government/Improve-Detroit-Submitted-Issues/fwz3-w3yn)\n",
    "* [DPD: Citizen Complaints](https://data.detroitmi.gov/Public-Safety/DPD-Citizen-Complaints-2016/kahe-efs3)\n",
    "* [Parcel Map](https://data.detroitmi.gov/Property-Parcels/Parcel-Map/fxkw-udwf)\n",
    "\n",
    "___\n",
    "\n",
    "We provide you with two data files for use in training and validating your models: train.csv and test.csv. Each row in these two files corresponds to a single blight ticket, and includes information about when, why, and to whom each ticket was issued. The target variable is compliance, which is True if the ticket was paid early, on time, or within one month of the hearing data, False if the ticket was paid after the hearing date or not at all, and Null if the violator was found not responsible. Compliance, as well as a handful of other variables that will not be available at test-time, are only included in train.csv.\n",
    "\n",
    "Note: All tickets where the violators were found not responsible are not considered during evaluation. They are included in the training set as an additional source of data for visualization, and to enable unsupervised and semi-supervised approaches. However, they are not included in the test set.\n",
    "\n",
    "<br>\n",
    "\n",
    "**File descriptions** (Use only this data for training your model!)\n",
    "\n",
    "    readonly/train.csv - the training set (all tickets issued 2004-2011)\n",
    "    readonly/test.csv - the test set (all tickets issued 2012-2016)\n",
    "    readonly/addresses.csv & readonly/latlons.csv - mapping from ticket id to addresses, and from addresses to lat/lon coordinates. \n",
    "     Note: misspelled addresses may be incorrectly geolocated.\n",
    "\n",
    "<br>\n",
    "\n",
    "**Data fields**\n",
    "\n",
    "train.csv & test.csv\n",
    "\n",
    "    ticket_id - unique identifier for tickets\n",
    "    agency_name - Agency that issued the ticket\n",
    "    inspector_name - Name of inspector that issued the ticket\n",
    "    violator_name - Name of the person/organization that the ticket was issued to\n",
    "    violation_street_number, violation_street_name, violation_zip_code - Address where the violation occurred\n",
    "    mailing_address_str_number, mailing_address_str_name, city, state, zip_code, non_us_str_code, country - Mailing address of the violator\n",
    "    ticket_issued_date - Date and time the ticket was issued\n",
    "    hearing_date - Date and time the violator's hearing was scheduled\n",
    "    violation_code, violation_description - Type of violation\n",
    "    disposition - Judgment and judgement type\n",
    "    fine_amount - Violation fine amount, excluding fees\n",
    "    admin_fee - $20 fee assigned to responsible judgments\n",
    "state_fee - $10 fee assigned to responsible judgments\n",
    "    late_fee - 10% fee assigned to responsible judgments\n",
    "    discount_amount - discount applied, if any\n",
    "    clean_up_cost - DPW clean-up or graffiti removal cost\n",
    "    judgment_amount - Sum of all fines and fees\n",
    "    grafitti_status - Flag for graffiti violations\n",
    "    \n",
    "train.csv only\n",
    "\n",
    "    payment_amount - Amount paid, if any\n",
    "    payment_date - Date payment was made, if it was received\n",
    "    payment_status - Current payment status as of Feb 1 2017\n",
    "    balance_due - Fines and fees still owed\n",
    "    collection_status - Flag for payments in collections\n",
    "    compliance [target variable for prediction] \n",
    "     Null = Not responsible\n",
    "     0 = Responsible, non-compliant\n",
    "     1 = Responsible, compliant\n",
    "    compliance_detail - More information on why each ticket was marked compliant or non-compliant\n",
    "\n",
    "\n",
    "___\n",
    "\n",
    "## Evaluation\n",
    "\n",
    "Your predictions will be given as the probability that the corresponding blight ticket will be paid on time.\n",
    "\n",
    "The evaluation metric for this assignment is the <strong>Area Under the ROC Curve (AUC)</strong>. \n",
    "\n",
    "Your grade will be based on the AUC score computed for your classifier. A model which with an AUROC of 0.7 passes this assignment, over 0.75 will recieve full points.\n",
    "___\n",
    "\n",
    "For this assignment, create a function that trains a model to predict blight ticket compliance in Detroit using `readonly/train.csv`. Using this model, <strong>return a series of length 61001 with the data being the probability that each corresponding ticket from `readonly/test.csv` will be paid, and the index being the ticket_id</strong>.\n",
    "\n",
    "Example:\n",
    "\n",
    "    ticket_id\n",
    "       284932    0.531842\n",
    "       285362    0.401958\n",
    "       285361    0.105928\n",
    "       285338    0.018572\n",
    "                 ...\n",
    "       376499    0.208567\n",
    "       376500    0.818759\n",
    "       369851    0.018528\n",
    "       Name: compliance, dtype: float32\n",
    "       \n",
    "### Hints\n",
    "\n",
    "* Make sure your code is working before submitting it to the autograder.\n",
    "\n",
    "* Print out your result to see whether there is anything weird (e.g., all probabilities are the same).\n",
    "\n",
    "* Generally the total runtime should be less than 10 mins. <strong>You should NOT use Neural Network related classifiers (e.g., MLPClassifier) </strong> in this question. \n",
    "\n",
    "* Try to avoid global variables. <strong>If you have other functions besides blight_model, you should move those functions inside the scope of blight_model.</strong>\n",
    "\n",
    "* Refer to the pinned threads in Week 4's discussion forum when there is something you could not figure it out."
   ]
  },
  {
   "cell_type": "markdown",
   "metadata": {},
   "source": [
    "<h1>Constructing the dataset</h1>"
   ]
  },
  {
   "cell_type": "code",
   "execution_count": 1,
   "metadata": {},
   "outputs": [
    {
     "name": "stderr",
     "output_type": "stream",
     "text": [
      "/tmp/ipykernel_5689/3828651547.py:30: DtypeWarning: Columns (12,13,32) have mixed types.Specify dtype option on import or set low_memory=False.\n",
      "  train = load_csv('train.csv')\n"
     ]
    },
    {
     "data": {
      "text/html": [
       "<div>\n",
       "<style scoped>\n",
       "    .dataframe tbody tr th:only-of-type {\n",
       "        vertical-align: middle;\n",
       "    }\n",
       "\n",
       "    .dataframe tbody tr th {\n",
       "        vertical-align: top;\n",
       "    }\n",
       "\n",
       "    .dataframe thead th {\n",
       "        text-align: right;\n",
       "    }\n",
       "</style>\n",
       "<table border=\"1\" class=\"dataframe\">\n",
       "  <thead>\n",
       "    <tr style=\"text-align: right;\">\n",
       "      <th></th>\n",
       "      <th>ticket_id</th>\n",
       "      <th>agency_name</th>\n",
       "      <th>inspector_name</th>\n",
       "      <th>violator_name</th>\n",
       "      <th>violation_street_number</th>\n",
       "      <th>violation_street_name</th>\n",
       "      <th>violation_zip_code</th>\n",
       "      <th>mailing_address_str_number</th>\n",
       "      <th>mailing_address_str_name</th>\n",
       "      <th>city</th>\n",
       "      <th>...</th>\n",
       "      <th>discount_amount</th>\n",
       "      <th>clean_up_cost</th>\n",
       "      <th>judgment_amount</th>\n",
       "      <th>grafitti_status</th>\n",
       "      <th>compliance</th>\n",
       "      <th>hearing_date_month</th>\n",
       "      <th>ticket_issued_date_month</th>\n",
       "      <th>hearing_wait</th>\n",
       "      <th>lat</th>\n",
       "      <th>lon</th>\n",
       "    </tr>\n",
       "  </thead>\n",
       "  <tbody>\n",
       "    <tr>\n",
       "      <th>0</th>\n",
       "      <td>22056</td>\n",
       "      <td>Buildings, Safety Engineering &amp; Env Department</td>\n",
       "      <td>Sims, Martinzie</td>\n",
       "      <td>INVESTMENT INC., MIDWEST MORTGAGE</td>\n",
       "      <td>2900.0</td>\n",
       "      <td>TYLER</td>\n",
       "      <td>NaN</td>\n",
       "      <td>3.0</td>\n",
       "      <td>S. WICKER</td>\n",
       "      <td>CHICAGO</td>\n",
       "      <td>...</td>\n",
       "      <td>0.0</td>\n",
       "      <td>0.0</td>\n",
       "      <td>305.0</td>\n",
       "      <td>NaN</td>\n",
       "      <td>0.0</td>\n",
       "      <td>3.0</td>\n",
       "      <td>3</td>\n",
       "      <td>369.0</td>\n",
       "      <td>42.390729</td>\n",
       "      <td>-83.124268</td>\n",
       "    </tr>\n",
       "    <tr>\n",
       "      <th>1</th>\n",
       "      <td>27586</td>\n",
       "      <td>Buildings, Safety Engineering &amp; Env Department</td>\n",
       "      <td>Williams, Darrin</td>\n",
       "      <td>Michigan, Covenant House</td>\n",
       "      <td>4311.0</td>\n",
       "      <td>CENTRAL</td>\n",
       "      <td>NaN</td>\n",
       "      <td>2959.0</td>\n",
       "      <td>Martin Luther King</td>\n",
       "      <td>Detroit</td>\n",
       "      <td>...</td>\n",
       "      <td>0.0</td>\n",
       "      <td>0.0</td>\n",
       "      <td>855.0</td>\n",
       "      <td>NaN</td>\n",
       "      <td>1.0</td>\n",
       "      <td>5.0</td>\n",
       "      <td>4</td>\n",
       "      <td>378.0</td>\n",
       "      <td>42.326937</td>\n",
       "      <td>-83.135118</td>\n",
       "    </tr>\n",
       "    <tr>\n",
       "      <th>5</th>\n",
       "      <td>22046</td>\n",
       "      <td>Buildings, Safety Engineering &amp; Env Department</td>\n",
       "      <td>Sims, Martinzie</td>\n",
       "      <td>KASIMU, UKWELI</td>\n",
       "      <td>6478.0</td>\n",
       "      <td>NORTHFIELD</td>\n",
       "      <td>NaN</td>\n",
       "      <td>2755.0</td>\n",
       "      <td>E. 17TH</td>\n",
       "      <td>LOG BEACH</td>\n",
       "      <td>...</td>\n",
       "      <td>0.0</td>\n",
       "      <td>0.0</td>\n",
       "      <td>305.0</td>\n",
       "      <td>NaN</td>\n",
       "      <td>0.0</td>\n",
       "      <td>3.0</td>\n",
       "      <td>5</td>\n",
       "      <td>323.0</td>\n",
       "      <td>42.145257</td>\n",
       "      <td>-83.208233</td>\n",
       "    </tr>\n",
       "  </tbody>\n",
       "</table>\n",
       "<p>3 rows × 33 columns</p>\n",
       "</div>"
      ],
      "text/plain": [
       "   ticket_id                                     agency_name  \\\n",
       "0      22056  Buildings, Safety Engineering & Env Department   \n",
       "1      27586  Buildings, Safety Engineering & Env Department   \n",
       "5      22046  Buildings, Safety Engineering & Env Department   \n",
       "\n",
       "     inspector_name                      violator_name  \\\n",
       "0   Sims, Martinzie  INVESTMENT INC., MIDWEST MORTGAGE   \n",
       "1  Williams, Darrin           Michigan, Covenant House   \n",
       "5   Sims, Martinzie                     KASIMU, UKWELI   \n",
       "\n",
       "   violation_street_number violation_street_name  violation_zip_code  \\\n",
       "0                   2900.0                 TYLER                 NaN   \n",
       "1                   4311.0               CENTRAL                 NaN   \n",
       "5                   6478.0            NORTHFIELD                 NaN   \n",
       "\n",
       "   mailing_address_str_number mailing_address_str_name       city  ...  \\\n",
       "0                         3.0                S. WICKER    CHICAGO  ...   \n",
       "1                      2959.0       Martin Luther King    Detroit  ...   \n",
       "5                      2755.0                  E. 17TH  LOG BEACH  ...   \n",
       "\n",
       "  discount_amount clean_up_cost judgment_amount grafitti_status compliance  \\\n",
       "0             0.0           0.0           305.0             NaN        0.0   \n",
       "1             0.0           0.0           855.0             NaN        1.0   \n",
       "5             0.0           0.0           305.0             NaN        0.0   \n",
       "\n",
       "  hearing_date_month ticket_issued_date_month hearing_wait        lat  \\\n",
       "0                3.0                        3        369.0  42.390729   \n",
       "1                5.0                        4        378.0  42.326937   \n",
       "5                3.0                        5        323.0  42.145257   \n",
       "\n",
       "         lon  \n",
       "0 -83.124268  \n",
       "1 -83.135118  \n",
       "5 -83.208233  \n",
       "\n",
       "[3 rows x 33 columns]"
      ]
     },
     "execution_count": 1,
     "metadata": {},
     "output_type": "execute_result"
    }
   ],
   "source": [
    "# NEW LOADING\n",
    "import pandas as pd\n",
    "import numpy as np\n",
    "def load_csv(file):\n",
    "    df = pd.read_csv(file)\n",
    "\n",
    "    # NO PROJETO, CRIAR UM TRANSFORMER PARA ESSAS OPERAÇÕES!!\n",
    "    # Converting the 'hearing_date' and 'ticket_issued_date' columns to datetime dtype.\n",
    "    df['hearing_date'] = pd.to_datetime(df['hearing_date']) \n",
    "    df['ticket_issued_date'] = pd.to_datetime(df['ticket_issued_date'])\n",
    "\n",
    "    # Two new columns displaying the emission of the ticket date and the hearing date month number \n",
    "    df['hearing_date_month'] = df.hearing_date.dt.month\n",
    "    df['ticket_issued_date_month'] = df.ticket_issued_date.dt.month\n",
    "\n",
    "    # A new column showing the time span from the emission of the ticket to the hearing date.\n",
    "    df['hearing_wait'] = (df.hearing_date - df.ticket_issued_date).dt.days\n",
    "    \n",
    "    # Loading the addresses and geographical coordinates data.\n",
    "    addresses = pd.read_csv('addresses.csv')\n",
    "    latlons = pd.read_csv('latlons.csv')\n",
    "    # Joining the DataFrames into a single one.\n",
    "    coordinates = addresses.merge(latlons, on='address').drop('address', axis=1)\n",
    "\n",
    "    # Inserting the dwellings coordinates.\n",
    "    df = df.merge(coordinates, on='ticket_id')\n",
    "    \n",
    "    return df\n",
    "\n",
    "train = load_csv('train.csv')\n",
    "\n",
    "# Setting the columns of no use to the model, since they are not available in the 'test.csv'.\n",
    "# This will prevent us to face Data Leakage.\n",
    "to_drop = ['Unnamed: 0','payment_amount', 'payment_date','payment_status', 'balance_due', 'collection_status','compliance_detail']\n",
    "train.drop(to_drop, axis=1, inplace=True)\n",
    "\n",
    "# Dropping out the rows with NaN in the 'compliance' column.\n",
    "train = train[pd.notna(train['compliance'])]\n",
    "train.head(3)"
   ]
  },
  {
   "cell_type": "markdown",
   "metadata": {},
   "source": [
    "<h2 style='font-size:30px'> Normalizing the numerical values </h2>"
   ]
  },
  {
   "cell_type": "code",
   "execution_count": 2,
   "metadata": {},
   "outputs": [],
   "source": [
    "# Listing the numerical columns to be later noramlized\n",
    "from sklearn.pipeline import Pipeline\n",
    "from sklearn.impute import SimpleImputer\n",
    "from sklearn.preprocessing import MinMaxScaler\n",
    "num_cols = ['fine_amount', 'admin_fee', 'state_fee','late_fee', 'discount_amount',\n",
    "            'clean_up_cost', 'judgment_amount', 'hearing_date_month',\n",
    "            'ticket_issued_date_month', 'hearing_wait','lat', 'lon']\n",
    "\n",
    "num_pipeline = Pipeline([\n",
    "                ('fill_na', SimpleImputer(strategy='mean')),\n",
    "                ('normalizing', MinMaxScaler())                           \n",
    "                        ])"
   ]
  },
  {
   "cell_type": "code",
   "execution_count": 97,
   "metadata": {},
   "outputs": [
    {
     "ename": "ValueError",
     "evalue": "Must specify a fill 'value' or 'method'.",
     "output_type": "error",
     "traceback": [
      "\u001b[0;31m---------------------------------------------------------------------------\u001b[0m",
      "\u001b[0;31mValueError\u001b[0m                                Traceback (most recent call last)",
      "\u001b[0;32m/tmp/ipykernel_5689/430910380.py\u001b[0m in \u001b[0;36m<module>\u001b[0;34m\u001b[0m\n\u001b[1;32m      1\u001b[0m \u001b[0;32mimport\u001b[0m \u001b[0mpandas\u001b[0m \u001b[0;32mas\u001b[0m \u001b[0mpd\u001b[0m\u001b[0;34m\u001b[0m\u001b[0;34m\u001b[0m\u001b[0m\n\u001b[1;32m      2\u001b[0m \u001b[0ma\u001b[0m \u001b[0;34m=\u001b[0m \u001b[0mpd\u001b[0m\u001b[0;34m.\u001b[0m\u001b[0mDataFrame\u001b[0m\u001b[0;34m(\u001b[0m\u001b[0;34m[\u001b[0m\u001b[0;36m1\u001b[0m\u001b[0;34m,\u001b[0m\u001b[0;36m2\u001b[0m\u001b[0;34m,\u001b[0m\u001b[0;36m3\u001b[0m\u001b[0;34m,\u001b[0m\u001b[0;36m4\u001b[0m\u001b[0;34m]\u001b[0m\u001b[0;34m)\u001b[0m\u001b[0;34m\u001b[0m\u001b[0;34m\u001b[0m\u001b[0m\n\u001b[0;32m----> 3\u001b[0;31m \u001b[0ma\u001b[0m\u001b[0;34m.\u001b[0m\u001b[0mfillna\u001b[0m\u001b[0;34m(\u001b[0m\u001b[0;34m)\u001b[0m\u001b[0;34m\u001b[0m\u001b[0;34m\u001b[0m\u001b[0m\n\u001b[0m",
      "\u001b[0;32m~/.local/lib/python3.8/site-packages/pandas/util/_decorators.py\u001b[0m in \u001b[0;36mwrapper\u001b[0;34m(*args, **kwargs)\u001b[0m\n\u001b[1;32m    309\u001b[0m                     \u001b[0mstacklevel\u001b[0m\u001b[0;34m=\u001b[0m\u001b[0mstacklevel\u001b[0m\u001b[0;34m,\u001b[0m\u001b[0;34m\u001b[0m\u001b[0;34m\u001b[0m\u001b[0m\n\u001b[1;32m    310\u001b[0m                 )\n\u001b[0;32m--> 311\u001b[0;31m             \u001b[0;32mreturn\u001b[0m \u001b[0mfunc\u001b[0m\u001b[0;34m(\u001b[0m\u001b[0;34m*\u001b[0m\u001b[0margs\u001b[0m\u001b[0;34m,\u001b[0m \u001b[0;34m**\u001b[0m\u001b[0mkwargs\u001b[0m\u001b[0;34m)\u001b[0m\u001b[0;34m\u001b[0m\u001b[0;34m\u001b[0m\u001b[0m\n\u001b[0m\u001b[1;32m    312\u001b[0m \u001b[0;34m\u001b[0m\u001b[0m\n\u001b[1;32m    313\u001b[0m         \u001b[0;32mreturn\u001b[0m \u001b[0mwrapper\u001b[0m\u001b[0;34m\u001b[0m\u001b[0;34m\u001b[0m\u001b[0m\n",
      "\u001b[0;32m~/.local/lib/python3.8/site-packages/pandas/core/frame.py\u001b[0m in \u001b[0;36mfillna\u001b[0;34m(self, value, method, axis, inplace, limit, downcast)\u001b[0m\n\u001b[1;32m   5174\u001b[0m         \u001b[0mdowncast\u001b[0m\u001b[0;34m=\u001b[0m\u001b[0;32mNone\u001b[0m\u001b[0;34m,\u001b[0m\u001b[0;34m\u001b[0m\u001b[0;34m\u001b[0m\u001b[0m\n\u001b[1;32m   5175\u001b[0m     ) -> DataFrame | None:\n\u001b[0;32m-> 5176\u001b[0;31m         return super().fillna(\n\u001b[0m\u001b[1;32m   5177\u001b[0m             \u001b[0mvalue\u001b[0m\u001b[0;34m=\u001b[0m\u001b[0mvalue\u001b[0m\u001b[0;34m,\u001b[0m\u001b[0;34m\u001b[0m\u001b[0;34m\u001b[0m\u001b[0m\n\u001b[1;32m   5178\u001b[0m             \u001b[0mmethod\u001b[0m\u001b[0;34m=\u001b[0m\u001b[0mmethod\u001b[0m\u001b[0;34m,\u001b[0m\u001b[0;34m\u001b[0m\u001b[0;34m\u001b[0m\u001b[0m\n",
      "\u001b[0;32m~/.local/lib/python3.8/site-packages/pandas/core/generic.py\u001b[0m in \u001b[0;36mfillna\u001b[0;34m(self, value, method, axis, inplace, limit, downcast)\u001b[0m\n\u001b[1;32m   6311\u001b[0m         \"\"\"\n\u001b[1;32m   6312\u001b[0m         \u001b[0minplace\u001b[0m \u001b[0;34m=\u001b[0m \u001b[0mvalidate_bool_kwarg\u001b[0m\u001b[0;34m(\u001b[0m\u001b[0minplace\u001b[0m\u001b[0;34m,\u001b[0m \u001b[0;34m\"inplace\"\u001b[0m\u001b[0;34m)\u001b[0m\u001b[0;34m\u001b[0m\u001b[0;34m\u001b[0m\u001b[0m\n\u001b[0;32m-> 6313\u001b[0;31m         \u001b[0mvalue\u001b[0m\u001b[0;34m,\u001b[0m \u001b[0mmethod\u001b[0m \u001b[0;34m=\u001b[0m \u001b[0mvalidate_fillna_kwargs\u001b[0m\u001b[0;34m(\u001b[0m\u001b[0mvalue\u001b[0m\u001b[0;34m,\u001b[0m \u001b[0mmethod\u001b[0m\u001b[0;34m)\u001b[0m\u001b[0;34m\u001b[0m\u001b[0;34m\u001b[0m\u001b[0m\n\u001b[0m\u001b[1;32m   6314\u001b[0m \u001b[0;34m\u001b[0m\u001b[0m\n\u001b[1;32m   6315\u001b[0m         \u001b[0mself\u001b[0m\u001b[0;34m.\u001b[0m\u001b[0m_consolidate_inplace\u001b[0m\u001b[0;34m(\u001b[0m\u001b[0;34m)\u001b[0m\u001b[0;34m\u001b[0m\u001b[0;34m\u001b[0m\u001b[0m\n",
      "\u001b[0;32m~/.local/lib/python3.8/site-packages/pandas/util/_validators.py\u001b[0m in \u001b[0;36mvalidate_fillna_kwargs\u001b[0;34m(value, method, validate_scalar_dict_value)\u001b[0m\n\u001b[1;32m    368\u001b[0m \u001b[0;34m\u001b[0m\u001b[0m\n\u001b[1;32m    369\u001b[0m     \u001b[0;32mif\u001b[0m \u001b[0mvalue\u001b[0m \u001b[0;32mis\u001b[0m \u001b[0;32mNone\u001b[0m \u001b[0;32mand\u001b[0m \u001b[0mmethod\u001b[0m \u001b[0;32mis\u001b[0m \u001b[0;32mNone\u001b[0m\u001b[0;34m:\u001b[0m\u001b[0;34m\u001b[0m\u001b[0;34m\u001b[0m\u001b[0m\n\u001b[0;32m--> 370\u001b[0;31m         \u001b[0;32mraise\u001b[0m \u001b[0mValueError\u001b[0m\u001b[0;34m(\u001b[0m\u001b[0;34m\"Must specify a fill 'value' or 'method'.\"\u001b[0m\u001b[0;34m)\u001b[0m\u001b[0;34m\u001b[0m\u001b[0;34m\u001b[0m\u001b[0m\n\u001b[0m\u001b[1;32m    371\u001b[0m     \u001b[0;32melif\u001b[0m \u001b[0mvalue\u001b[0m \u001b[0;32mis\u001b[0m \u001b[0;32mNone\u001b[0m \u001b[0;32mand\u001b[0m \u001b[0mmethod\u001b[0m \u001b[0;32mis\u001b[0m \u001b[0;32mnot\u001b[0m \u001b[0;32mNone\u001b[0m\u001b[0;34m:\u001b[0m\u001b[0;34m\u001b[0m\u001b[0;34m\u001b[0m\u001b[0m\n\u001b[1;32m    372\u001b[0m         \u001b[0mmethod\u001b[0m \u001b[0;34m=\u001b[0m \u001b[0mclean_fill_method\u001b[0m\u001b[0;34m(\u001b[0m\u001b[0mmethod\u001b[0m\u001b[0;34m)\u001b[0m\u001b[0;34m\u001b[0m\u001b[0;34m\u001b[0m\u001b[0m\n",
      "\u001b[0;31mValueError\u001b[0m: Must specify a fill 'value' or 'method'."
     ]
    }
   ],
   "source": [
    "import pandas as pd\n",
    "a = pd.DataFrame([1,2,3,4])\n",
    "a.fillna()"
   ]
  },
  {
   "cell_type": "markdown",
   "metadata": {},
   "source": [
    "<h2 style='font-size:30px'> Dealing with text Columns (VELHO) </h2>\n",
    "<div>\n",
    "    <ul style='font-size:20px'> \n",
    "        <li>\n",
    "            Since most ML algorithms do not handle text data efficiently, we'll need to extract meaningful informations about them. One way to do so is checking if there is a high level of non-compliance among any of the categories that are present. This may support the models predicting quality. \n",
    "        </li>\n",
    "    </ul>\n",
    "</div>"
   ]
  },
  {
   "cell_type": "code",
   "execution_count": 78,
   "metadata": {},
   "outputs": [],
   "source": [
    "# UPDATED Class Version 2.0.\n",
    "from sklearn.base import TransformerMixin, BaseEstimator\n",
    "class TextStats(TransformerMixin,BaseEstimator):\n",
    "    \n",
    "    def __init__(self, desired_columns):\n",
    "        #print(desired_columns)\n",
    "        self.desired_columns = desired_columns\n",
    "    \n",
    "    def fit(self, df):\n",
    "        return self\n",
    "    \n",
    "    def transform(self,df):\n",
    "        global train\n",
    "        for column in train[self.desired_columns].columns:\n",
    "            if column != 'compliance':\n",
    "                # The number of compliance and non-compliance occurences according each category.\n",
    "                cases = train.groupby([column, 'compliance']).size()\n",
    "\n",
    "                # Number of occurences from each of the column´s categories\n",
    "                total_cases = train.groupby([column]).size()\n",
    "\n",
    "                # Filtering out the categories which have a low number of occurences from 'total_cases'.\n",
    "                new_total_cases = total_cases.drop(total_cases[total_cases<total_cases.mean()].index, axis=0)\n",
    "\n",
    "                # Measuring the overall disobedience levels for the categories available and turning it into a Series.\n",
    "                non_compliance_ratios = cases.xs(0, level=1) / new_total_cases\n",
    "\n",
    "                # Creating a name for the Series\n",
    "                non_compliance_ratios.name = column + '_non_compliance_ratio'\n",
    "\n",
    "                # The Series will become a new column in the DataFrame (in the project's context, 'new_train').\n",
    "                # At the same time, we are dropping out the columns used (except for 'compliance'). Since their dtype is 'object', they are \n",
    "                # not going to be of use to most of the ML models available.\n",
    "                df = df.join(non_compliance_ratios, on=column).drop(column, axis=1)\n",
    "        # We are replacing the 'compliance' column for a clone named 'target' so that the binary digits occupy the last column of the\n",
    "        # DataFrame.\n",
    "        \n",
    "        if 'compliance' in df.columns:\n",
    "            df['target'] = df['compliance']\n",
    "            df.drop('compliance', axis=1,inplace=True)\n",
    "        \n",
    "        # For the new column cells that received NaN as values, we'll assign them an arbitrary value (0.5)\n",
    "        imputer = SimpleImputer(fill_value=0.5, strategy='constant')\n",
    "        df = imputer.fit_transform(df.values)\n",
    "        return df"
   ]
  },
  {
   "cell_type": "code",
   "execution_count": 79,
   "metadata": {
    "tags": []
   },
   "outputs": [],
   "source": [
    "from sklearn.compose import ColumnTransformer\n",
    "text_stats_cols = ['agency_name', 'inspector_name','violation_code', 'violation_description', 'disposition', 'compliance']\n",
    "full_pipeline = ColumnTransformer(\n",
    "    [\n",
    "        ('num', num_pipeline, num_cols),\n",
    "        ('text', TextStats(text_stats_cols), text_stats_cols)\n",
    "        \n",
    "    ]\n",
    ")\n",
    "len(full_pipeline.fit_transform(train)[0])\n",
    "# A posição de 'compliance' no array já foi descoberta.\n",
    "X = full_pipeline.fit_transform(train)[:, [i for i in range(16)]]\n",
    "y = full_pipeline.fit_transform(train)[:, 17]"
   ]
  },
  {
   "cell_type": "code",
   "execution_count": 13,
   "metadata": {},
   "outputs": [],
   "source": [
    "# Segregating the data in train and test sets.\n",
    "from sklearn.model_selection import train_test_split\n",
    "X_train, X_test, y_train, y_test = train_test_split(X, y, random_state=42)"
   ]
  },
  {
   "cell_type": "markdown",
   "metadata": {},
   "source": [
    "<h1>Model Appliance</h1>"
   ]
  },
  {
   "cell_type": "code",
   "execution_count": 21,
   "metadata": {},
   "outputs": [],
   "source": [
    "# Random Forest CLF\n",
    "from sklearn.ensemble import RandomForestClassifier\n",
    "from sklearn.model_selection import cross_val_predict, GridSearchCV\n",
    "param_grid = {'max_features':[3,5],\n",
    "             'n_estimators':[25, 50]}\n",
    "clf = RandomForestClassifier()\n",
    "gscv=GridSearchCV(clf, param_grid=param_grid, scoring='roc_auc', verbose=3)"
   ]
  },
  {
   "cell_type": "code",
   "execution_count": 22,
   "metadata": {},
   "outputs": [
    {
     "name": "stdout",
     "output_type": "stream",
     "text": [
      "Fitting 5 folds for each of 4 candidates, totalling 20 fits\n",
      "[CV 1/5] END ...max_features=3, n_estimators=25;, score=0.775 total time=   4.6s\n",
      "[CV 2/5] END ...max_features=3, n_estimators=25;, score=0.769 total time=   4.9s\n",
      "[CV 3/5] END ...max_features=3, n_estimators=25;, score=0.768 total time=  14.0s\n",
      "[CV 4/5] END ...max_features=3, n_estimators=25;, score=0.763 total time=  15.3s\n",
      "[CV 5/5] END ...max_features=3, n_estimators=25;, score=0.762 total time=  15.3s\n",
      "[CV 1/5] END ...max_features=3, n_estimators=50;, score=0.783 total time=  32.4s\n",
      "[CV 2/5] END ...max_features=3, n_estimators=50;, score=0.784 total time=  15.7s\n",
      "[CV 3/5] END ...max_features=3, n_estimators=50;, score=0.783 total time=   9.6s\n",
      "[CV 4/5] END ...max_features=3, n_estimators=50;, score=0.777 total time=  10.2s\n",
      "[CV 5/5] END ...max_features=3, n_estimators=50;, score=0.775 total time=   9.6s\n",
      "[CV 1/5] END ...max_features=5, n_estimators=25;, score=0.771 total time=  18.0s\n",
      "[CV 2/5] END ...max_features=5, n_estimators=25;, score=0.771 total time=  23.4s\n",
      "[CV 3/5] END ...max_features=5, n_estimators=25;, score=0.771 total time=  22.7s\n",
      "[CV 4/5] END ...max_features=5, n_estimators=25;, score=0.767 total time=  14.4s\n",
      "[CV 5/5] END ...max_features=5, n_estimators=25;, score=0.762 total time=   6.4s\n",
      "[CV 1/5] END ...max_features=5, n_estimators=50;, score=0.788 total time=  13.9s\n",
      "[CV 2/5] END ...max_features=5, n_estimators=50;, score=0.784 total time=  14.3s\n",
      "[CV 3/5] END ...max_features=5, n_estimators=50;, score=0.779 total time=  37.6s\n",
      "[CV 4/5] END ...max_features=5, n_estimators=50;, score=0.781 total time=  41.3s\n",
      "[CV 5/5] END ...max_features=5, n_estimators=50;, score=0.777 total time=  12.5s\n"
     ]
    },
    {
     "data": {
      "text/plain": [
       "GridSearchCV(estimator=RandomForestClassifier(),\n",
       "             param_grid={'max_features': [3, 5], 'n_estimators': [25, 50]},\n",
       "             scoring='roc_auc', verbose=3)"
      ]
     },
     "execution_count": 22,
     "metadata": {},
     "output_type": "execute_result"
    }
   ],
   "source": [
    "gscv.fit(X_train, y_train)"
   ]
  },
  {
   "cell_type": "code",
   "execution_count": 81,
   "metadata": {},
   "outputs": [
    {
     "data": {
      "text/plain": [
       "{'max_features': 5, 'n_estimators': 50}"
      ]
     },
     "execution_count": 81,
     "metadata": {},
     "output_type": "execute_result"
    }
   ],
   "source": [
    "# And here is the best estimator obtained.\n",
    "gscv.best_params_"
   ]
  },
  {
   "cell_type": "markdown",
   "metadata": {},
   "source": [
    "<h2 style='font-size:30px'> Test Set</h2>"
   ]
  },
  {
   "cell_type": "code",
   "execution_count": 86,
   "metadata": {},
   "outputs": [],
   "source": [
    "# Loading the test set\n",
    "test = load_csv('test.csv').drop('Unnamed: 0', axis=1)\n",
    "test.dtypes #= full_pipeline.fit_transform(test)\n",
    "from sklearn.compose import ColumnTransformer\n",
    "text_stats_cols = ['agency_name', 'inspector_name','violation_code', 'violation_description', 'disposition', 'compliance']\n",
    "l = ['agency_name', 'inspector_name','violation_code', 'violation_description', 'disposition']\n",
    "full_pipeline = ColumnTransformer(\n",
    "    [\n",
    "        ('num', num_pipeline, num_cols),\n",
    "        ('text', TextStats(text_stats_cols), l)\n",
    "        \n",
    "    ]\n",
    ")\n",
    "# A posição de 'compliance' no array já foi descoberta.\n",
    "test_ind = full_pipeline.fit_transform(test)[:, [i for i in range(16)]]\n"
   ]
  },
  {
   "cell_type": "code",
   "execution_count": 93,
   "metadata": {},
   "outputs": [
    {
     "data": {
      "text/plain": [
       "{0.0, 1.0}"
      ]
     },
     "execution_count": 93,
     "metadata": {},
     "output_type": "execute_result"
    }
   ],
   "source": [
    "set(gscv.best_estimator_.predict(test_ind))"
   ]
  },
  {
   "cell_type": "markdown",
   "metadata": {},
   "source": [
    "<p style='color:red'> Ignorar daqui para baixo</p>"
   ]
  },
  {
   "cell_type": "markdown",
   "metadata": {
    "tags": []
   },
   "source": [
    "<h1> Making Hypotheses (text columns)</h1> ###Acho que vou ter que remover tudo o que está abaixo desta célula"
   ]
  },
  {
   "cell_type": "markdown",
   "metadata": {},
   "source": [
    "<h2> Compliance according to Agency </h2>"
   ]
  },
  {
   "cell_type": "code",
   "execution_count": 5,
   "metadata": {},
   "outputs": [
    {
     "data": {
      "text/plain": [
       "agency_name\n",
       "Buildings, Safety Engineering & Env Department    0.939257\n",
       "Department of Public Works                        0.910039\n",
       "Detroit Police Department                         0.868280\n",
       "Health Department                                 0.934149\n",
       "Neighborhood City Halls                           1.000000\n",
       "dtype: float64"
      ]
     },
     "execution_count": 5,
     "metadata": {},
     "output_type": "execute_result"
    }
   ],
   "source": [
    "compliance_obedience = new_train.groupby(['agency_name','compliance']).size()\n",
    "agency_fines = new_train.groupby(['agency_name']).size()\n",
    "\n",
    "# Let's see the overall disobedience rate for every agency. They all have a high value. Nonetheless, the\n",
    "# Police Department managed to own a slightly lower score.\n",
    "\n",
    "# Since all the departments have a high level of disobedience, they will likely not cause too much gain in performance.\n",
    "compliance_obedience.xs(0, level=1) / agency_fines"
   ]
  },
  {
   "cell_type": "code",
   "execution_count": 85,
   "metadata": {},
   "outputs": [
    {
     "data": {
      "text/plain": [
       "(1.8882772632772633, 1.0)"
      ]
     },
     "execution_count": 85,
     "metadata": {},
     "output_type": "execute_result"
    }
   ],
   "source": [
    "violator_total.mean(), violator_total.median()"
   ]
  },
  {
   "cell_type": "code",
   "execution_count": 6,
   "metadata": {},
   "outputs": [
    {
     "name": "stdout",
     "output_type": "stream",
     "text": [
      "0.9617956964185246\n"
     ]
    }
   ],
   "source": [
    "# Listing the number of fines that have been payed or not by individual.\n",
    "violator_cases = new_train.groupby(['violator_name', 'compliance']).size()\n",
    "\n",
    "# Getting the total number of fines received per individual.\n",
    "violator_total = new_train.groupby(['violator_name']).size()\n",
    "\n",
    "# Here, we are dropping out the individuals who have a number of fines lower than the 'violator_total' average.\n",
    "new_violator_total = violator_total.drop(violator_total[violator_total<violator_total.mean()].index, axis=0)\n",
    "\n",
    "# With the modifications done, we can see that among the people/companies who have ever disobeyed to fine payement have \n",
    "# a non-compliance level of 96%. \n",
    "print((violator_cases.xs(0, level=1) / new_violator_total).mean())\n",
    "non_compliance_ratio = (violator_cases.xs(0, level=1) / new_violator_total)\n",
    "non_compliance_ratio.name = 'violator_non_compliance_ratio'"
   ]
  },
  {
   "cell_type": "code",
   "execution_count": 7,
   "metadata": {},
   "outputs": [],
   "source": [
    "# Let's transform the 'new_train' DataFrame adding a column with the non-compliance ratio per violator.\n",
    "new_train = new_train.join(non_compliance_ratio, on='violator_name')"
   ]
  },
  {
   "cell_type": "markdown",
   "metadata": {},
   "source": [
    "<h2> Violation Code</h2>"
   ]
  },
  {
   "cell_type": "code",
   "execution_count": 95,
   "metadata": {},
   "outputs": [
    {
     "name": "stdout",
     "output_type": "stream",
     "text": [
      "0.8538432411965164\n"
     ]
    }
   ],
   "source": [
    "print((violation_code_cases.xs(0, level=1) / new_violation_code_total).min())\n",
    "#code_non_compliance_ratio\n",
    "#violation_code_total.mean()\n",
    "#(violation_code_cases.xs(0, level=1) / violation_code_total[violation_code_total>violation_code_total.median()]).min()"
   ]
  },
  {
   "cell_type": "code",
   "execution_count": 9,
   "metadata": {
    "collapsed": true,
    "jupyter": {
     "outputs_hidden": true
    },
    "tags": []
   },
   "outputs": [
    {
     "name": "stdout",
     "output_type": "stream",
     "text": [
      "0.9169758903506702\n"
     ]
    },
    {
     "ename": "ValueError",
     "evalue": "columns overlap but no suffix specified: Index(['code_non_compliance_ratio'], dtype='object')",
     "output_type": "error",
     "traceback": [
      "\u001b[0;31m---------------------------------------------------------------------------\u001b[0m",
      "\u001b[0;31mValueError\u001b[0m                                Traceback (most recent call last)",
      "\u001b[0;32m/tmp/ipykernel_9560/2193118056.py\u001b[0m in \u001b[0;36m<module>\u001b[0;34m\u001b[0m\n\u001b[1;32m     17\u001b[0m \u001b[0mcode_non_compliance_ratio\u001b[0m \u001b[0;34m=\u001b[0m \u001b[0;34m(\u001b[0m\u001b[0mviolation_code_cases\u001b[0m\u001b[0;34m.\u001b[0m\u001b[0mxs\u001b[0m\u001b[0;34m(\u001b[0m\u001b[0;36m0\u001b[0m\u001b[0;34m,\u001b[0m \u001b[0mlevel\u001b[0m\u001b[0;34m=\u001b[0m\u001b[0;36m1\u001b[0m\u001b[0;34m)\u001b[0m \u001b[0;34m/\u001b[0m \u001b[0mnew_violation_code_total\u001b[0m\u001b[0;34m)\u001b[0m\u001b[0;34m\u001b[0m\u001b[0;34m\u001b[0m\u001b[0m\n\u001b[1;32m     18\u001b[0m \u001b[0mcode_non_compliance_ratio\u001b[0m\u001b[0;34m.\u001b[0m\u001b[0mname\u001b[0m \u001b[0;34m=\u001b[0m \u001b[0;34m'code_non_compliance_ratio'\u001b[0m\u001b[0;34m\u001b[0m\u001b[0;34m\u001b[0m\u001b[0m\n\u001b[0;32m---> 19\u001b[0;31m \u001b[0mnew_train\u001b[0m \u001b[0;34m=\u001b[0m \u001b[0mnew_train\u001b[0m\u001b[0;34m.\u001b[0m\u001b[0mjoin\u001b[0m\u001b[0;34m(\u001b[0m\u001b[0mcode_non_compliance_ratio\u001b[0m\u001b[0;34m,\u001b[0m \u001b[0mon\u001b[0m\u001b[0;34m=\u001b[0m\u001b[0;34m'violation_code'\u001b[0m\u001b[0;34m)\u001b[0m\u001b[0;34m\u001b[0m\u001b[0;34m\u001b[0m\u001b[0m\n\u001b[0m",
      "\u001b[0;32m~/.local/lib/python3.8/site-packages/pandas/core/frame.py\u001b[0m in \u001b[0;36mjoin\u001b[0;34m(self, other, on, how, lsuffix, rsuffix, sort)\u001b[0m\n\u001b[1;32m   9097\u001b[0m         \u001b[0;36m5\u001b[0m  \u001b[0mK5\u001b[0m  \u001b[0mA5\u001b[0m  \u001b[0mNaN\u001b[0m\u001b[0;34m\u001b[0m\u001b[0;34m\u001b[0m\u001b[0m\n\u001b[1;32m   9098\u001b[0m         \"\"\"\n\u001b[0;32m-> 9099\u001b[0;31m         return self._join_compat(\n\u001b[0m\u001b[1;32m   9100\u001b[0m             \u001b[0mother\u001b[0m\u001b[0;34m,\u001b[0m \u001b[0mon\u001b[0m\u001b[0;34m=\u001b[0m\u001b[0mon\u001b[0m\u001b[0;34m,\u001b[0m \u001b[0mhow\u001b[0m\u001b[0;34m=\u001b[0m\u001b[0mhow\u001b[0m\u001b[0;34m,\u001b[0m \u001b[0mlsuffix\u001b[0m\u001b[0;34m=\u001b[0m\u001b[0mlsuffix\u001b[0m\u001b[0;34m,\u001b[0m \u001b[0mrsuffix\u001b[0m\u001b[0;34m=\u001b[0m\u001b[0mrsuffix\u001b[0m\u001b[0;34m,\u001b[0m \u001b[0msort\u001b[0m\u001b[0;34m=\u001b[0m\u001b[0msort\u001b[0m\u001b[0;34m\u001b[0m\u001b[0;34m\u001b[0m\u001b[0m\n\u001b[1;32m   9101\u001b[0m         )\n",
      "\u001b[0;32m~/.local/lib/python3.8/site-packages/pandas/core/frame.py\u001b[0m in \u001b[0;36m_join_compat\u001b[0;34m(self, other, on, how, lsuffix, rsuffix, sort)\u001b[0m\n\u001b[1;32m   9128\u001b[0m                     \u001b[0msort\u001b[0m\u001b[0;34m=\u001b[0m\u001b[0msort\u001b[0m\u001b[0;34m,\u001b[0m\u001b[0;34m\u001b[0m\u001b[0;34m\u001b[0m\u001b[0m\n\u001b[1;32m   9129\u001b[0m                 )\n\u001b[0;32m-> 9130\u001b[0;31m             return merge(\n\u001b[0m\u001b[1;32m   9131\u001b[0m                 \u001b[0mself\u001b[0m\u001b[0;34m,\u001b[0m\u001b[0;34m\u001b[0m\u001b[0;34m\u001b[0m\u001b[0m\n\u001b[1;32m   9132\u001b[0m                 \u001b[0mother\u001b[0m\u001b[0;34m,\u001b[0m\u001b[0;34m\u001b[0m\u001b[0;34m\u001b[0m\u001b[0m\n",
      "\u001b[0;32m~/.local/lib/python3.8/site-packages/pandas/core/reshape/merge.py\u001b[0m in \u001b[0;36mmerge\u001b[0;34m(left, right, how, on, left_on, right_on, left_index, right_index, sort, suffixes, copy, indicator, validate)\u001b[0m\n\u001b[1;32m    119\u001b[0m         \u001b[0mvalidate\u001b[0m\u001b[0;34m=\u001b[0m\u001b[0mvalidate\u001b[0m\u001b[0;34m,\u001b[0m\u001b[0;34m\u001b[0m\u001b[0;34m\u001b[0m\u001b[0m\n\u001b[1;32m    120\u001b[0m     )\n\u001b[0;32m--> 121\u001b[0;31m     \u001b[0;32mreturn\u001b[0m \u001b[0mop\u001b[0m\u001b[0;34m.\u001b[0m\u001b[0mget_result\u001b[0m\u001b[0;34m(\u001b[0m\u001b[0;34m)\u001b[0m\u001b[0;34m\u001b[0m\u001b[0;34m\u001b[0m\u001b[0m\n\u001b[0m\u001b[1;32m    122\u001b[0m \u001b[0;34m\u001b[0m\u001b[0m\n\u001b[1;32m    123\u001b[0m \u001b[0;34m\u001b[0m\u001b[0m\n",
      "\u001b[0;32m~/.local/lib/python3.8/site-packages/pandas/core/reshape/merge.py\u001b[0m in \u001b[0;36mget_result\u001b[0;34m(self)\u001b[0m\n\u001b[1;32m    715\u001b[0m         \u001b[0mjoin_index\u001b[0m\u001b[0;34m,\u001b[0m \u001b[0mleft_indexer\u001b[0m\u001b[0;34m,\u001b[0m \u001b[0mright_indexer\u001b[0m \u001b[0;34m=\u001b[0m \u001b[0mself\u001b[0m\u001b[0;34m.\u001b[0m\u001b[0m_get_join_info\u001b[0m\u001b[0;34m(\u001b[0m\u001b[0;34m)\u001b[0m\u001b[0;34m\u001b[0m\u001b[0;34m\u001b[0m\u001b[0m\n\u001b[1;32m    716\u001b[0m \u001b[0;34m\u001b[0m\u001b[0m\n\u001b[0;32m--> 717\u001b[0;31m         llabels, rlabels = _items_overlap_with_suffix(\n\u001b[0m\u001b[1;32m    718\u001b[0m             \u001b[0mself\u001b[0m\u001b[0;34m.\u001b[0m\u001b[0mleft\u001b[0m\u001b[0;34m.\u001b[0m\u001b[0m_info_axis\u001b[0m\u001b[0;34m,\u001b[0m \u001b[0mself\u001b[0m\u001b[0;34m.\u001b[0m\u001b[0mright\u001b[0m\u001b[0;34m.\u001b[0m\u001b[0m_info_axis\u001b[0m\u001b[0;34m,\u001b[0m \u001b[0mself\u001b[0m\u001b[0;34m.\u001b[0m\u001b[0msuffixes\u001b[0m\u001b[0;34m\u001b[0m\u001b[0;34m\u001b[0m\u001b[0m\n\u001b[1;32m    719\u001b[0m         )\n",
      "\u001b[0;32m~/.local/lib/python3.8/site-packages/pandas/core/reshape/merge.py\u001b[0m in \u001b[0;36m_items_overlap_with_suffix\u001b[0;34m(left, right, suffixes)\u001b[0m\n\u001b[1;32m   2312\u001b[0m \u001b[0;34m\u001b[0m\u001b[0m\n\u001b[1;32m   2313\u001b[0m     \u001b[0;32mif\u001b[0m \u001b[0;32mnot\u001b[0m \u001b[0mlsuffix\u001b[0m \u001b[0;32mand\u001b[0m \u001b[0;32mnot\u001b[0m \u001b[0mrsuffix\u001b[0m\u001b[0;34m:\u001b[0m\u001b[0;34m\u001b[0m\u001b[0;34m\u001b[0m\u001b[0m\n\u001b[0;32m-> 2314\u001b[0;31m         \u001b[0;32mraise\u001b[0m \u001b[0mValueError\u001b[0m\u001b[0;34m(\u001b[0m\u001b[0;34mf\"columns overlap but no suffix specified: {to_rename}\"\u001b[0m\u001b[0;34m)\u001b[0m\u001b[0;34m\u001b[0m\u001b[0;34m\u001b[0m\u001b[0m\n\u001b[0m\u001b[1;32m   2315\u001b[0m \u001b[0;34m\u001b[0m\u001b[0m\n\u001b[1;32m   2316\u001b[0m     \u001b[0;32mdef\u001b[0m \u001b[0mrenamer\u001b[0m\u001b[0;34m(\u001b[0m\u001b[0mx\u001b[0m\u001b[0;34m,\u001b[0m \u001b[0msuffix\u001b[0m\u001b[0;34m)\u001b[0m\u001b[0;34m:\u001b[0m\u001b[0;34m\u001b[0m\u001b[0;34m\u001b[0m\u001b[0m\n",
      "\u001b[0;31mValueError\u001b[0m: columns overlap but no suffix specified: Index(['code_non_compliance_ratio'], dtype='object')"
     ]
    }
   ],
   "source": [
    "# Listing the number of fines that have been payed or not by individual.\n",
    "violation_code_cases = new_train.groupby(['violation_code', 'compliance']).size()\n",
    "\n",
    "# Getting the total number of fines received per individual.\n",
    "violation_code_total = new_train.groupby(['violation_code']).size()\n",
    "\n",
    "# You can see here that come violation codes have a high level of disobedience.\n",
    "violation_code_disobedience_rate = (violation_code_cases.xs(0, level=1) / violation_code_total)\n",
    "\n",
    "# Filtering out the violation codes with number of occasions lower than the 'violation_code_total' mean.\n",
    "new_violation_code_total = violation_code_total[violation_code_total>violation_code_total.mean()]\n",
    "\n",
    "# The remaining violation codes have a high level of disobedience, so it would be interesting to use this information in the DataFrame.\n",
    "print((violation_code_cases.xs(0, level=1) / new_violation_code_total).mean())\n",
    "\n",
    "# Extracting the non-compliance ratio for every violation code from 'new_violation_code_total'.\n",
    "code_non_compliance_ratio = (violation_code_cases.xs(0, level=1) / new_violation_code_total)\n",
    "code_non_compliance_ratio.name = 'code_non_compliance_ratio'\n",
    "new_train = new_train.join(code_non_compliance_ratio, on='violation_code')"
   ]
  },
  {
   "cell_type": "markdown",
   "metadata": {},
   "source": [
    "<strong style='font-size:30px'> Disobedience per disposition<strong>"
   ]
  },
  {
   "cell_type": "code",
   "execution_count": 162,
   "metadata": {},
   "outputs": [
    {
     "data": {
      "text/plain": [
       "disposition\n",
       "Responsible (Fine Waived) by Deter         NaN\n",
       "Responsible by Admission              0.724984\n",
       "Responsible by Default                0.961797\n",
       "Responsible by Determination          0.692700\n",
       "dtype: float64"
      ]
     },
     "execution_count": 162,
     "metadata": {},
     "output_type": "execute_result"
    }
   ],
   "source": [
    "# Listing the number of fines that have been payed or not by individual.\n",
    "disposition_cases = new_train.groupby(['disposition', 'compliance']).size()\n",
    "\n",
    "# Getting the total number of fines received per individual.\n",
    "disposition_total = new_train.groupby(['disposition']).size()\n",
    "\n",
    "disposition_disobedience_rate = disposition_cases.xs(0, level=1) / disposition_total\n",
    "\n",
    "# Aqui é evidente, 'Responsible by Default' tem uma taxa muito maior de desobediência do que as demais\n",
    "\n",
    "disposition_disobedience_rate\n",
    "#new_train.violation_description.unique()"
   ]
  },
  {
   "cell_type": "code",
   "execution_count": 16,
   "metadata": {
    "tags": []
   },
   "outputs": [
    {
     "name": "stdout",
     "output_type": "stream",
     "text": [
      "0.7931602522190593\n"
     ]
    }
   ],
   "source": [
    "# Listing the number of fines that have been payed or not by individual.\n",
    "disposition_cases = new_train.groupby(['disposition', 'compliance']).size()\n",
    "\n",
    "# Getting the total number of fines received per individual.\n",
    "disposition_total = new_train.groupby(['disposition']).size()\n",
    "\n",
    "# You can see here that come violation codes have a high level of disobedience.\n",
    "disposition_disobedience_rate = (disposition_cases.xs(0, level=1) / disposition_total)\n",
    "\n",
    "# Filtering out the violation codes with number of occasions lower than the 'violation_code_total' mean.\n",
    "new_disposition_total = disposition_total[disposition_total>disposition_total.mean()]\n",
    "\n",
    "# The remaining violation codes have a high level of disobedience, so it would be interesting to use this information in the DataFrame.\n",
    "print((disposition_cases.xs(0, level=1) / disposition_total).mean())\n",
    "\n",
    "# Extracting the non-compliance ratio for every violation code from 'new_violation_code_total'.\n",
    "disposition_non_compliance_ratio = (disposition_cases.xs(0, level=1) / new_disposition_total)\n",
    "disposition_non_compliance_ratio.name = 'disposition_non_compliance_ratio'\n",
    "new_train = new_train.join(disposition_non_compliance_ratio, on='disposition')"
   ]
  },
  {
   "cell_type": "code",
   "execution_count": 91,
   "metadata": {},
   "outputs": [
    {
     "name": "stdout",
     "output_type": "stream",
     "text": [
      "0.4051298108357055\n"
     ]
    }
   ],
   "source": [
    "print((disposition_cases.xs(1, level=1) / disposition_total).mean())"
   ]
  },
  {
   "cell_type": "markdown",
   "metadata": {},
   "source": [
    "<h2> Violation per zip_code</h2>"
   ]
  },
  {
   "cell_type": "code",
   "execution_count": 186,
   "metadata": {},
   "outputs": [
    {
     "data": {
      "text/plain": [
       "4622"
      ]
     },
     "execution_count": 186,
     "metadata": {},
     "output_type": "execute_result"
    }
   ],
   "source": [
    "# Listing the number of fines that have been payed or not by individual.\n",
    "zip_code_cases = new_train.groupby(['zip_code', 'compliance']).size()\n",
    "\n",
    "# Getting the total number of fines received per individual.\n",
    "zip_code_total = new_train.groupby(['zip_code']).size()\n",
    "\n",
    "zip_code_disobedience_rate= zip_code_cases.xs(0, level=1) / zip_code_total\n",
    "\n",
    "zip_code_total.sort_values(ascending=False)\n",
    "zip_code_disobedience_rate[48221]\n",
    "\n",
    "# Muitos valores, seria pouco favorável explorar essa coluna.\n",
    "new_train.zip_code.nunique()"
   ]
  },
  {
   "cell_type": "markdown",
   "metadata": {},
   "source": [
    "<h2> Disobedience per time span between fine receival and hearing date</h2>"
   ]
  },
  {
   "cell_type": "code",
   "execution_count": 256,
   "metadata": {},
   "outputs": [
    {
     "data": {
      "text/plain": [
       "0         369.0\n",
       "1         378.0\n",
       "2         323.0\n",
       "3         253.0\n",
       "4         251.0\n",
       "          ...  \n",
       "159875     37.0\n",
       "159876     10.0\n",
       "159877     26.0\n",
       "159878     40.0\n",
       "159879      5.0\n",
       "Length: 159880, dtype: float64"
      ]
     },
     "execution_count": 256,
     "metadata": {},
     "output_type": "execute_result"
    }
   ],
   "source": []
  },
  {
   "cell_type": "code",
   "execution_count": 96,
   "metadata": {},
   "outputs": [
    {
     "data": {
      "text/plain": [
       "\"new_train['time_span'] = (new_train.hearing_date - new_train.ticket_issued_date)\\np = new_train.groupby(['time_span', 'compliance']).size().xs(0, level=1)\\nnew_train['time_span_cat'] = pd.cut(p, 5)\\nnew_train['time_span_cat'].max()\\n\""
      ]
     },
     "execution_count": 96,
     "metadata": {},
     "output_type": "execute_result"
    }
   ],
   "source": [
    "'''new_train['time_span'] = (new_train.hearing_date - new_train.ticket_issued_date)\n",
    "p = new_train.groupby(['time_span', 'compliance']).size().xs(0, level=1)\n",
    "new_train['time_span_cat'] = pd.cut(p, 5)\n",
    "new_train['time_span_cat'].max()\n",
    "'''"
   ]
  },
  {
   "cell_type": "markdown",
   "metadata": {},
   "source": [
    "<h1> Making Hypotheses (number columns)</h1>"
   ]
  },
  {
   "cell_type": "markdown",
   "metadata": {},
   "source": [
    "<h2>Disobedience per judgment_amount </h2>"
   ]
  },
  {
   "cell_type": "code",
   "execution_count": 171,
   "metadata": {},
   "outputs": [
    {
     "data": {
      "text/plain": [
       "<AxesSubplot:xlabel='judgment_amount'>"
      ]
     },
     "execution_count": 171,
     "metadata": {},
     "output_type": "execute_result"
    },
    {
     "data": {
      "image/png": "[encoded data removed]",
      "text/plain": [
       "<Figure size 1440x360 with 1 Axes>"
      ]
     },
     "metadata": {
      "needs_background": "light"
     },
     "output_type": "display_data"
    }
   ],
   "source": [
    "judgement_amount_cases = new_train.groupby(['judgment_amount', 'compliance']).size()\n",
    "\n",
    "# Getting the total number of fines received per individual.\n",
    "judgement_amount_total = new_train.groupby(['judgment_amount']).size()\n",
    "\n",
    "# It looks like there is no relations between the amount to be paid and the personś disobedience\n",
    "(judgement_amount_cases.xs(0, level=1) / judgement_amount_total).plot(figsize=(20,5))"
   ]
  },
  {
   "cell_type": "markdown",
   "metadata": {},
   "source": [
    "<h1> Disposition On Hot Encoder</h1>"
   ]
  },
  {
   "cell_type": "code",
   "execution_count": 193,
   "metadata": {},
   "outputs": [
    {
     "data": {
      "text/plain": [
       "array([[0., 0., 1., 0.],\n",
       "       [0., 0., 0., 1.],\n",
       "       [0., 0., 1., 0.],\n",
       "       ...,\n",
       "       [0., 0., 1., 0.],\n",
       "       [0., 0., 0., 1.],\n",
       "       [0., 0., 1., 0.]])"
      ]
     },
     "execution_count": 193,
     "metadata": {},
     "output_type": "execute_result"
    }
   ],
   "source": [
    "# Since the data from the 'dispostion' column looked like a promising indicator of non-copliance,\n",
    "# we are going to create a One Hot Encoder with its data.\n",
    "\n",
    "# Vamos criar mais 4 colunas indicando o valor de 'disposition'.\n",
    "from sklearn.preprocessing import OneHotEncoder\n",
    "OneHotEncoder().fit_transform(new_train[['disposition']]).toarray()"
   ]
  },
  {
   "cell_type": "code",
   "execution_count": 97,
   "metadata": {},
   "outputs": [],
   "source": [
    "# Ver depois"
   ]
  },
  {
   "cell_type": "code",
   "execution_count": 98,
   "metadata": {},
   "outputs": [],
   "source": [
    "import pandas as pd\n",
    "import numpy as np\n",
    "\n",
    "def blight_model():\n",
    "    \n",
    "    # Your code here\n",
    "    \n",
    "    return # Your answer here"
   ]
  },
  {
   "cell_type": "code",
   "execution_count": 99,
   "metadata": {
    "tags": []
   },
   "outputs": [],
   "source": [
    "blight_model()"
   ]
  }
 ],
 "metadata": {
  "coursera": {
   "course_slug": "python-machine-learning",
   "graded_item_id": "nNS8l",
   "launcher_item_id": "yWWk7",
   "part_id": "w8BSS"
  },
  "kernelspec": {
   "display_name": "Python 3 (ipykernel)",
   "language": "python",
   "name": "python3"
  },
  "language_info": {
   "codemirror_mode": {
    "name": "ipython",
    "version": 3
   },
   "file_extension": ".py",
   "mimetype": "text/x-python",
   "name": "python",
   "nbconvert_exporter": "python",
   "pygments_lexer": "ipython3",
   "version": "3.8.10"
  }
 },
 "nbformat": 4,
 "nbformat_minor": 4
}
