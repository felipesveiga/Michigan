{
 "cells": [
  {
   "cell_type": "code",
   "execution_count": 1,
   "id": "efd134b6-33ea-4d5e-8d28-ea34400cbfc6",
   "metadata": {},
   "outputs": [],
   "source": [
    "import re"
   ]
  },
  {
   "cell_type": "code",
   "execution_count": 9,
   "id": "85b87da0-87c0-4565-b5fc-20aa63a21e60",
   "metadata": {},
   "outputs": [
    {
     "name": "stdout",
     "output_type": "stream",
     "text": [
      "Good 2\n"
     ]
    }
   ],
   "source": [
    "# match() procura por correspondências do seu padrão no começo da string e retorna um valor booleano.\n",
    "# search() procura por correspondência em todo o texto e retorna um valor booleano.\n",
    "\n",
    "s = 'Hoje é terça-feira'\n",
    "pattern = 'terça'\n",
    "\n",
    "if re.match(pattern, s): # Não há 'terça no início da string'.\n",
    "    print('Good 1')\n",
    "    \n",
    "if re.search(pattern, s): # Há 'terça' em um trecho da string.\n",
    "    print('Good 2')"
   ]
  },
  {
   "cell_type": "code",
   "execution_count": 19,
   "id": "5655c1a4-29d4-4559-8017-94947c357ab6",
   "metadata": {},
   "outputs": [
    {
     "name": "stdout",
     "output_type": "stream",
     "text": [
      "['', ' acorda; ', ' estuda; ', ' come; ', ' dorme']\n",
      "['Felipe', 'Felipe', 'Felipe', 'Felipe']\n",
      "4\n"
     ]
    }
   ],
   "source": [
    "# Podemos também realizar o processo de tokenizing, responsável por quebrar uma string em fragmentos.\n",
    "\n",
    "s = 'Felipe acorda; Felipe estuda; Felipe come; Felipe dorme'\n",
    "pattern = 'Felipe'\n",
    "\n",
    "# Note que split nos dará fragmentos de nossa string original em que o objeto pattern é removido\n",
    "print(re.split(pattern, s)) \n",
    "\n",
    "# findall nos dá uma lista com as ocorrências de nosso pattern\n",
    "print(re.findall(pattern, s)) \n",
    "\n",
    "# Poderíamos pedir ao Python o número de tais ocorrências\n",
    "print(len(re.findall(pattern, s))) "
   ]
  },
  {
   "cell_type": "code",
   "execution_count": 27,
   "id": "ab6ba09a-4a05-41ec-86aa-139b0371867e",
   "metadata": {},
   "outputs": [
    {
     "name": "stdout",
     "output_type": "stream",
     "text": [
      "não 1\n",
      "sim 2\n"
     ]
    }
   ],
   "source": [
    "# Vamos aprender alguns sinais bastante úteis em regular expressions\n",
    "\n",
    "# ^ indica que o que procuramos deve estar no início da string (isso inutiliza o método match)\n",
    "# $ indica que o padrão deve estar no final da string\n",
    "\n",
    "\n",
    "supermercado = 'Spagetti, Frango, Arroz, Batata, Alface, Feijão'\n",
    "\n",
    "# O primeiro item da lista é batata?\n",
    "if re.search('^Batata', supermercado):\n",
    "    print('sim 1')\n",
    "else:\n",
    "    print('não 1')\n",
    "    \n",
    "# Nossa lista termina com Feijão?\n",
    "if re.search('Feijão$', supermercado):\n",
    "    print('sim 2')\n",
    "    \n",
    "else:\n",
    "    print('não 2')"
   ]
  },
  {
   "cell_type": "code",
   "execution_count": 44,
   "id": "279b3231-d265-40a6-9da0-78df39ea0571",
   "metadata": {},
   "outputs": [
    {
     "name": "stdout",
     "output_type": "stream",
     "text": [
      "48\n"
     ]
    }
   ],
   "source": [
    "# Vamos fazer algo mais complexo: Quantas lojas a Starbucks tem em São Paulo?\n",
    "import pandas as pd\n",
    "starbucks = pd.read_csv('directory.csv')\n",
    "\n",
    "count = 0\n",
    "for city in starbucks['City']:\n",
    "    city = str(city)\n",
    "    if re.search('Sao Paulo', city):\n",
    "        count += 1\n",
    "        \n",
    "print(count)"
   ]
  },
  {
   "cell_type": "code",
   "execution_count": 73,
   "id": "214e8cd6-88bf-4b03-9e1c-6db6899e9764",
   "metadata": {},
   "outputs": [
    {
     "name": "stdout",
     "output_type": "stream",
     "text": [
      "['AB', 'AB']\n",
      "['A', 'B', 'A', 'B', 'A', 'B', 'A', 'B', 'A']\n"
     ]
    }
   ],
   "source": [
    "import re\n",
    "grades = 'ABACBACBABCCA'\n",
    "\n",
    "# Procurando um A seguido imediatamente de um B em 'grades'\n",
    "print(re.findall('AB', grades)) \n",
    "\n",
    "# Procurando um A ou um B em grades\n",
    "print(re.findall('[AB]', grades)) \n",
    "\n",
    "# Note,os colchetes indicam um agrupamento de caracteres; estamos querendo procurar qualquer caractere dentro do grupo"
   ]
  },
  {
   "cell_type": "code",
   "execution_count": 120,
   "id": "ef986b81-793c-43fb-9a38-435290913266",
   "metadata": {},
   "outputs": [
    {
     "name": "stdout",
     "output_type": "stream",
     "text": [
      "['11-99801-2131', '17-98121-3287', '19-91908-2134']\n",
      "['11-99801-2131', '21-99871-1231', '17-98121-3287', '21-89105-7591', '19-91908-2134', '24-28542-9090']\n",
      "['11', '21-99871-1231', '21-89105-7591']\n"
     ]
    }
   ],
   "source": [
    "# Você sabia que todos os DDD's do estado de São Paulo estão no intervalo [10, 19]?\n",
    "# Poderíamos utilizar esse padrão para identificar os números de celular do estado de SP\n",
    "\n",
    "telefones = ''' 11-99801-2131\n",
    "                21-99871-1231\n",
    "                17-98121-3287\n",
    "                34-21319-5673\n",
    "                57-65490-0909\n",
    "                21-89105-7591\n",
    "                19-91908-2134\n",
    "                24-28542-9090'''\n",
    "\n",
    "# Vamos selecionar apenas os números de telefone pertencentes a SP\n",
    "print(re.findall('1[0-9]-[0-9]{5}-[1-9]{4}', telefones))\n",
    "\n",
    "# Os DDD's do Rio de Janeiro começam com 2: vamos procurá-los também!\n",
    "print(re.findall('[12][0-9]-[0-9]{5}-[0-9]{4}', telefones)) \n",
    "\n",
    "# Agora temos os números de SP e do Rio!"
   ]
  },
  {
   "cell_type": "code",
   "execution_count": 103,
   "id": "42d4761e-d090-4486-8c0c-98977f704fc0",
   "metadata": {},
   "outputs": [
    {
     "data": {
      "text/plain": [
       "['João', 'João', 'Luís']"
      ]
     },
     "execution_count": 103,
     "metadata": {},
     "output_type": "execute_result"
    }
   ],
   "source": [
    "# Vamos procurar apenas os nomes João e Luís em 'clientes'\n",
    "# Vamos utilizar o pipe (|), equivalente a um OR nas linguagens de programação\n",
    "\n",
    "clientes = 'João Santos, Cléber Ferreira,  João Amoreira, Luís Ulian, Lúcio Igor, Heleno Augusto,'\n",
    "re.findall(r'João|Luís', clientes)"
   ]
  },
  {
   "cell_type": "code",
   "execution_count": 127,
   "id": "eae40db9-8a86-400c-8ad8-4721e35503be",
   "metadata": {},
   "outputs": [
    {
     "name": "stdout",
     "output_type": "stream",
     "text": [
      "['A', 'A', 'B', 'A', 'B', 'A', 'B', 'A', 'A', 'A', 'B']\n"
     ]
    },
    {
     "data": {
      "text/plain": [
       "['AA', 'AA']"
      ]
     },
     "execution_count": 127,
     "metadata": {},
     "output_type": "execute_result"
    }
   ],
   "source": [
    "# Nós já chegamos a mencionar o uso do circunflexo. Ele é responsável por indicar que o padrão procurado está\n",
    "# no início da string.\n",
    "\n",
    "# No entanto, caso esteja dentro de um agrupamento [], ele indicará a negação da string padrão\n",
    "grades = 'AABABACBAAABCC'\n",
    "\n",
    "# Poderíamos procurar todas as notas que não são C\n",
    "print(re.findall('[^C]', grades)) \n",
    "\n",
    "# Os diferentes usos de ^ podem ser um tanto confusos\n",
    "# Aqui, queremos verificar se o primeiro item de 'grades' é qualquer nota diferente de A\n",
    "\n",
    "# Isso é evidentemente falso pela lista vazia...\n",
    "re.findall('ˆ[^A]', grades)"
   ]
  },
  {
   "cell_type": "code",
   "execution_count": 126,
   "id": "c3f0d512-32fc-4697-ac34-743097139f3a",
   "metadata": {},
   "outputs": [
    {
     "name": "stdout",
     "output_type": "stream",
     "text": [
      "14\n"
     ]
    },
    {
     "data": {
      "text/plain": [
       "['AA', 'AAA']"
      ]
     },
     "execution_count": 126,
     "metadata": {},
     "output_type": "execute_result"
    }
   ],
   "source": [
    "# Vamos pegar os casos em que nosso estudante tirou A's consecutivos\n",
    "# Como o comprimento de 'grades' é 14, vamos colocar esse número como limite do range\n",
    "print(len(grades))\n",
    "re.findall('A{2,14}', grades)\n"
   ]
  },
  {
   "cell_type": "markdown",
   "id": "7eea0fc5-f427-4eb8-96f9-84391c097ad3",
   "metadata": {},
   "source": [
    "### Símbolos Quantitativos\n",
    "\\* (zero ou mais)  "
   ]
  },
  {
   "cell_type": "markdown",
   "id": "c41ba0be-5505-4595-b86e-f8f4922af764",
   "metadata": {},
   "source": [
    "\\+ (um ou mais)"
   ]
  },
  {
   "cell_type": "markdown",
   "id": "74d96447-5ad3-48f5-8827-20747e2d2240",
   "metadata": {},
   "source": [
    "\\? (zero ou 1)"
   ]
  },
  {
   "cell_type": "code",
   "execution_count": 147,
   "id": "7176f342-abf9-4d10-b500-8dfec278920c",
   "metadata": {},
   "outputs": [
    {
     "data": {
      "text/plain": [
       "['Overview[edit]', 'records[edit]', 'records[edit]']"
      ]
     },
     "execution_count": 147,
     "metadata": {},
     "output_type": "execute_result"
    }
   ],
   "source": [
    "with open('ferpa.txt', 'r') as wiki_file:\n",
    "    wiki = wiki_file.read()\n",
    "    \n",
    "# Vamos escanear os títulos e subtítulos desse arquivo\n",
    "# Eles são compostos pelo nome do título seguido de '[edit]'\n",
    "\n",
    "# Usando o contrabarra pois os brackets são símbolos utilizados em regex, e queremos que o Python os interprete \n",
    "                                                                                            # de maneira literal.\n",
    "\n",
    "# Note, no entanto, que nosso código nos retorna apenas a última palavra do título!   \n",
    "re.findall('[a-zA-z]*\\[edit\\]', wiki)"
   ]
  },
  {
   "cell_type": "code",
   "execution_count": null,
   "id": "fa04fa96-c062-453d-b835-a90b8567e6d0",
   "metadata": {},
   "outputs": [],
   "source": [
    "# Parei em 14:00\n",
    "# Ele vai mencionar as Special Sequences de regex\n",
    "# https://www.w3schools.com/python/gloss_python_regex_sequences.asp (esse link vai ser bastante útil)"
   ]
  }
 ],
 "metadata": {
  "kernelspec": {
   "display_name": "Python 3",
   "language": "python",
   "name": "python3"
  },
  "language_info": {
   "codemirror_mode": {
    "name": "ipython",
    "version": 3
   },
   "file_extension": ".py",
   "mimetype": "text/x-python",
   "name": "python",
   "nbconvert_exporter": "python",
   "pygments_lexer": "ipython3",
   "version": "3.8.8"
  }
 },
 "nbformat": 4,
 "nbformat_minor": 5
}
