{
 "cells": [
  {
   "cell_type": "code",
   "execution_count": 2,
   "id": "5d113de4-6871-4f82-979d-9d53aae9c0af",
   "metadata": {},
   "outputs": [
    {
     "data": {
      "text/plain": [
       "46"
      ]
     },
     "execution_count": 2,
     "metadata": {},
     "output_type": "execute_result"
    }
   ],
   "source": [
    "# Question 1\n",
    "import numpy as np\n",
    "\n",
    "a = np.arange(8)\n",
    "b = a[4:6]\n",
    "b[:] = 40\n",
    "c = a[4] + a[6]\n",
    "c"
   ]
  },
  {
   "cell_type": "code",
   "execution_count": 9,
   "id": "a2015a05-d759-4e54-9cb8-bef0b1413b66",
   "metadata": {},
   "outputs": [
    {
     "data": {
      "text/plain": [
       "True"
      ]
     },
     "execution_count": 9,
     "metadata": {},
     "output_type": "execute_result"
    }
   ],
   "source": [
    "# Question 2\n",
    "import re\n",
    "s = 'ABCAC'\n",
    "bool(re.match('A', s)) == True"
   ]
  },
  {
   "cell_type": "code",
   "execution_count": 33,
   "id": "9987d7d8-bfa0-408a-a58b-a2ad8177b8db",
   "metadata": {},
   "outputs": [
    {
     "data": {
      "text/plain": [
       "['C', 'F', 'B']"
      ]
     },
     "execution_count": 33,
     "metadata": {},
     "output_type": "execute_result"
    }
   ],
   "source": [
    "# Question 3\n",
    "def result():\n",
    "    s = 'ACAABAACAAABACDBADDDFSDDDFFSSSASDAFAAACBAAAFASD'\n",
    "\n",
    "    result = []\n",
    "    # compete the pattern below\n",
    "    pattern = '(?P<letter>[A-z])A{3}'\n",
    "    for item in re.finditer(pattern, s):\n",
    "      # identify the group number below.\n",
    "      result.append(item.group('letter'))\n",
    "    return result\n",
    "        \n",
    "result()"
   ]
  },
  {
   "cell_type": "code",
   "execution_count": 13,
   "id": "f61db381-7a83-4fac-943a-82d6ac032830",
   "metadata": {},
   "outputs": [
    {
     "data": {
      "text/plain": [
       "'d'"
      ]
     },
     "execution_count": 13,
     "metadata": {},
     "output_type": "execute_result"
    }
   ],
   "source": [
    "# Question 4\n",
    "import pandas as pd\n",
    "l = [4, 7, -5, 3]\n",
    "index = ['d', 'b', 'a', 'c']\n",
    "\n",
    "x = pd.Series(l, index = index)\n",
    "x.index[0]"
   ]
  },
  {
   "cell_type": "code",
   "execution_count": 20,
   "id": "485d2bed-008b-45fc-b95f-2d05c87185a0",
   "metadata": {},
   "outputs": [],
   "source": [
    "# Question 5\n",
    "\n",
    "l1 = [4, 7, -5, 3]\n",
    "index1 = ['d', 'b', 'a', 'c']\n",
    "\n",
    "l2 = [5,6,7]\n",
    "index2 = ['d', 'b', 'a']\n",
    "x = pd.Series(l1, index = index1)\n",
    "y = pd.Series(l2, index = index2)"
   ]
  },
  {
   "cell_type": "code",
   "execution_count": 21,
   "id": "9c5becd1-e3d0-4c43-b858-a1e149e2f9e0",
   "metadata": {},
   "outputs": [
    {
     "data": {
      "text/html": [
       "<div>\n",
       "<style scoped>\n",
       "    .dataframe tbody tr th:only-of-type {\n",
       "        vertical-align: middle;\n",
       "    }\n",
       "\n",
       "    .dataframe tbody tr th {\n",
       "        vertical-align: top;\n",
       "    }\n",
       "\n",
       "    .dataframe thead th {\n",
       "        text-align: right;\n",
       "    }\n",
       "</style>\n",
       "<table border=\"1\" class=\"dataframe\">\n",
       "  <thead>\n",
       "    <tr style=\"text-align: right;\">\n",
       "      <th></th>\n",
       "      <th>index</th>\n",
       "      <th>X</th>\n",
       "      <th>Y</th>\n",
       "    </tr>\n",
       "  </thead>\n",
       "  <tbody>\n",
       "    <tr>\n",
       "      <th>0</th>\n",
       "      <td>d</td>\n",
       "      <td>4</td>\n",
       "      <td>5</td>\n",
       "    </tr>\n",
       "    <tr>\n",
       "      <th>1</th>\n",
       "      <td>b</td>\n",
       "      <td>7</td>\n",
       "      <td>6</td>\n",
       "    </tr>\n",
       "    <tr>\n",
       "      <th>2</th>\n",
       "      <td>a</td>\n",
       "      <td>-5</td>\n",
       "      <td>7</td>\n",
       "    </tr>\n",
       "  </tbody>\n",
       "</table>\n",
       "</div>"
      ],
      "text/plain": [
       "  index  X  Y\n",
       "0     d  4  5\n",
       "1     b  7  6\n",
       "2     a -5  7"
      ]
     },
     "execution_count": 21,
     "metadata": {},
     "output_type": "execute_result"
    }
   ],
   "source": [
    "# Question 6 \n",
    "\n",
    "l1 = [4, 7, -5, 3]\n",
    "index1 = ['d', 'b', 'a', 'c']\n",
    "\n",
    "l2 = [5,6,7]\n",
    "index2 = ['d', 'b', 'a']\n",
    "x = pd.Series(l1, index = index1)\n",
    "y = pd.Series(l2, index = index2)\n",
    "\n",
    "x.name = 'X'\n",
    "y.name = 'Y'\n",
    "\n",
    "df = pd.merge(x,y, right_index= True, left_index = True)\n",
    "df.reset_index()"
   ]
  },
  {
   "cell_type": "code",
   "execution_count": 22,
   "id": "ab1b741e-a0bf-4506-a722-b21321f8b801",
   "metadata": {},
   "outputs": [],
   "source": [
    "# Question 7\n",
    "S = pd.Series(np.arange(5), index=['a', 'b', 'c', 'd', 'e'])"
   ]
  },
  {
   "cell_type": "code",
   "execution_count": 25,
   "id": "82ea4eb9-6dd2-4f5e-840a-71bccca30bec",
   "metadata": {},
   "outputs": [
    {
     "data": {
      "text/plain": [
       "X     2\n",
       "Y    12\n",
       "dtype: int64"
      ]
     },
     "execution_count": 25,
     "metadata": {},
     "output_type": "execute_result"
    }
   ],
   "source": [
    "# Question 8\n",
    "l1 = [4, 7, -5, 3]\n",
    "index1 = ['d', 'b', 'a', 'c']\n",
    "\n",
    "l2 = [5,6,7]\n",
    "index2 = ['d', 'b', 'a']\n",
    "x = pd.Series(l1, index = index1)\n",
    "y = pd.Series(l2, index = index2)\n",
    "\n",
    "x.name = 'X'\n",
    "y.name = 'Y'\n",
    "\n",
    "df = pd.merge(x,y, right_index= True, left_index = True)\n",
    "\n",
    "f = lambda x: x.max() + x.min()\n",
    "df.apply(f)"
   ]
  },
  {
   "cell_type": "code",
   "execution_count": 26,
   "id": "d0fb5324-8423-4e08-9125-b8337196496b",
   "metadata": {},
   "outputs": [],
   "source": [
    "# Question 9\n",
    "\n",
    "# Feita no arquivo de assignment da semana 3"
   ]
  },
  {
   "cell_type": "code",
   "execution_count": 30,
   "id": "5abea16c-1540-418c-bcc5-2483348ed1b8",
   "metadata": {},
   "outputs": [
    {
     "data": {
      "text/plain": [
       "a    -5.0\n",
       "b    13.0\n",
       "c     3.0\n",
       "d     9.0\n",
       "dtype: float64"
      ]
     },
     "execution_count": 30,
     "metadata": {},
     "output_type": "execute_result"
    }
   ],
   "source": [
    "# Question 10\n",
    "l1 = [4, 7, -5, 3, 5,6,np.nan]\n",
    "index1 = ['d', 'b', 'a', 'c', 'd', 'b', 'a']\n",
    "x = pd.Series(l1, index = index1)\n",
    "x.groupby(x.index).sum()\n"
   ]
  }
 ],
 "metadata": {
  "kernelspec": {
   "display_name": "Python 3",
   "language": "python",
   "name": "python3"
  },
  "language_info": {
   "codemirror_mode": {
    "name": "ipython",
    "version": 3
   },
   "file_extension": ".py",
   "mimetype": "text/x-python",
   "name": "python",
   "nbconvert_exporter": "python",
   "pygments_lexer": "ipython3",
   "version": "3.8.8"
  }
 },
 "nbformat": 4,
 "nbformat_minor": 5
}
