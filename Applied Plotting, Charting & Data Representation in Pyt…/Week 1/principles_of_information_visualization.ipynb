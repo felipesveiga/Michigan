{
 "cells": [
  {
   "cell_type": "markdown",
   "id": "89b07e63-e001-47dd-9698-c2e433f84df5",
   "metadata": {},
   "source": [
    "<p style = 'font-size:40px'> <strong>Tools for Thinking about Design</strong> </p>"
   ]
  },
  {
   "cell_type": "markdown",
   "id": "12544a12-b57d-47a8-b365-d2350a814489",
   "metadata": {},
   "source": [
    "* <p style = 'font-size:20px'> Alberto Cairo foi um teórico sobre a visulização de dados. Em seus trabalhos, elaborou um diagrama de roda no qual ele evidencia os diversos <em>tradeoffs</em> que os responsáveis por fazerem gráficos se deparam.</p>\n",
    "\n",
    "* <p style = 'font-size:20px'> Para Cairo, existem formas simples e mais complexas de se montarem gráficos. Cada uma dessas maneiras requer um conjunto das características listadas na roda.</p>"
   ]
  },
  {
   "cell_type": "markdown",
   "id": "719093b0-4c72-40f2-a22a-5a8033365a13",
   "metadata": {},
   "source": [
    "<img src= 'Cairo_Wheel.png' height = '300px' width = '500px' align = 'center'>"
   ]
  },
  {
   "cell_type": "markdown",
   "id": "d4b48125-133f-4873-a1d7-6bd82dd5589c",
   "metadata": {},
   "source": [
    "<p style = 'font-size:30px'> <strong>Os tradeoffs de Cairo</strong> </p>"
   ]
  },
  {
   "cell_type": "markdown",
   "id": "15866ee1-bc40-4a2c-842e-69e64bc690c7",
   "metadata": {},
   "source": [
    "<p style = 'font-size:30px'> <em>Abstraction x Figuration</em> </p>"
   ]
  },
  {
   "cell_type": "markdown",
   "id": "66e6b958-3f7d-4b28-9bff-2a0b8773e09a",
   "metadata": {},
   "source": [
    "* <p style = 'font-size:20px'> Informações podem ser representadas de uma maneira mais direta ou abstrata. No primeiro caso, uma fotografia ou um vídeo poderiam ser usados para abordar um determinado fenômeno. Por outro lado, esse mesmo evento é capaz de ser representado de maneiras mais abstratas - os gráficos são uma dessas formas!</p>"
   ]
  },
  {
   "cell_type": "markdown",
   "id": "de3f6e90-769a-4f22-8339-6a6ac19a4f45",
   "metadata": {},
   "source": [
    "<p style = 'font-size:30px'> <em>Functionality x Decoration</em> </p>"
   ]
  },
  {
   "cell_type": "markdown",
   "id": "30ebad30-2e1f-4191-95ab-1eb2f4bd8e10",
   "metadata": {},
   "source": [
    "* <p style = 'font-size:20px'> Ao se criarem visualizações, somos capazes de conferir a elas aspectos decorativos ou apresentá-las de maneira mais crua.</p>"
   ]
  },
  {
   "cell_type": "markdown",
   "id": "d1f9fcbb-0e75-4187-a3c4-438d6c734dda",
   "metadata": {},
   "source": [
    "<p style = 'font-size:30px'> <em>Lightness x Density</em> </p>"
   ]
  },
  {
   "cell_type": "markdown",
   "id": "c07410f7-d424-4714-803a-ef33042ce13e",
   "metadata": {},
   "source": [
    "* <p style = 'font-size:20px'> A leveza de uma visualização de dados deve se dar pela quantidade de informações que ela se propõe a mostrar. Gráficos mais simples podem ser categorizados como leves. Por outro lado, aqueles que envolvem múltiplos recursos de exposição de dados (ex: Um scatter plot fundido a um histograma) são considerados densos; a absorção de suas informações é menos direta e requer uma observação atenta.</p>"
   ]
  },
  {
   "cell_type": "markdown",
   "id": "702e8703-d831-4354-97a1-964758478609",
   "metadata": {},
   "source": [
    "<p style = 'font-size:30px'> <em>Multidimensional x Unidimensional</em> </p>"
   ]
  },
  {
   "cell_type": "markdown",
   "id": "ef723514-a865-4e6f-a876-7cb29d859eb1",
   "metadata": {},
   "source": [
    "* <p style = 'font-size:20px'> Podemos tentar representar os inúmeros aspectos de um fenômeno de uma vez ou apenas algumas de suas características.</p>"
   ]
  },
  {
   "cell_type": "markdown",
   "id": "e2ee291f-d346-4520-a0a9-b8b465d5d042",
   "metadata": {},
   "source": [
    "<p style = 'font-size:30px'> <em>Originality x Familiarity</em> </p>"
   ]
  },
  {
   "cell_type": "markdown",
   "id": "084e02be-64ab-4df2-9d6b-27e0c10632e1",
   "metadata": {},
   "source": [
    "* <p style = 'font-size:20px'> Existem as maneiras mais simples de se elabrar um gráfico. No entanto, isso não nos impede de utilizarmos nossa imaginação a fim de elaborar formas mais criativas de expormos dados.</p>"
   ]
  },
  {
   "cell_type": "markdown",
   "id": "fb94fd04-2c83-4d42-9707-1e267415b05b",
   "metadata": {},
   "source": [
    "<img src = 'Napoleon.png'>"
   ]
  },
  {
   "cell_type": "markdown",
   "id": "34eb3834-7e1f-4a7a-803f-36127f02ff6b",
   "metadata": {},
   "source": [
    "<p style = 'font-size:30px'> <em>Novelty x Redundancy</em> </p>"
   ]
  },
  {
   "cell_type": "markdown",
   "id": "792ef42a-7493-40d5-a9fa-622ec86a89d3",
   "metadata": {},
   "source": [
    "* <p style = 'font-size:20px'> Os fenômenos do gráfico podem ser expostos um de cada vez. Por outro lado, é possível representá-los de maneiras distintas em uma única imagem (ex: utilizar um gráfico de barras em que a altura e cor das barras indicarão a intensidade do mesmo fenômeno)."
   ]
  },
  {
   "cell_type": "markdown",
   "id": "444e2200-d2c9-4a5d-9156-5732e4d87337",
   "metadata": {},
   "source": [
    "<p style = 'font-size:40px'> <strong>Graphical heuristics (Data-Ink Ratio) - Edward Tufte</strong> </p>"
   ]
  },
  {
   "cell_type": "markdown",
   "id": "788d33d1-29d5-409c-b5fe-b11c65b32472",
   "metadata": {},
   "source": [
    "* <p style = 'font-size:20px'> Em seus trabalhos, Tufte defende que uma boa representação visual deve se ater a mostrar o essencial. Para isso, redundâncias e detalhes inúteis devem ser excluídos de modo que os dados importantes ganhem mais e mais destaque na imagem.</p>\n",
    "\n",
    "* <p style = 'font-size:20px'> Exemplos de detalhes inúteis: Bordas de Moldura; Cores de Fundo; Números do Eixo Y ( podem ser trocados por um \"Rótulo de Dados\"; Em gráficos de barras, dar uma cor para cada uma delas quando já possuem uma identificação apresentado em um dos eixos (colorir apenas a informação que queremos enfatizar).</p>\n",
    "\n",
    "* <p style = 'font-size:20px'> Exemplos de redundâncias: Título do eixo X possui as mesmas informações da caixa de legenda; Quando o titulo do gráfico e o título do eixo Y dizem praticamente a mesma coisa.</p>"
   ]
  },
  {
   "cell_type": "markdown",
   "id": "f15579d0-bafb-4288-a406-e758e7a0c6d7",
   "metadata": {},
   "source": [
    "<p style = 'font-size:40px'> <strong>Graphical heuristics (Chart Junk)- Edward Tufte</strong> </p>"
   ]
  },
  {
   "cell_type": "markdown",
   "id": "79d70236-5835-411f-9638-503bd10bcdee",
   "metadata": {},
   "source": [
    "* <p style = 'font-size:20px'> Tufte também sinaliza três tipos de \"lixos de gráfico\" que as pessoas acabam inserindo em suas criações</p>\n",
    "\n",
    "<p style = 'font-size:20px;margin-left:25px'> 1) Excesso de bordas e de sombras.</p>\n",
    "<p style = 'font-size:20px;margin-left:25px'> 2) Excesso de padrões visuais (podem causar fadiga no olhar do usuário)</p>\n",
    "<p style = 'font-size:20px;margin-left:25px'> 3) Duck: Pode não ser algo evitável: consiste em criativamente utilizar recursos fotográficos/visuais a fim de expor os dados.</p>"
   ]
  },
  {
   "cell_type": "markdown",
   "id": "7d342399-1f89-4eb2-9c87-a6602920f7e6",
   "metadata": {},
   "source": [
    "## Exemplo do Duck\n",
    "\n",
    "<img src = 'diamonds.png'>"
   ]
  },
  {
   "cell_type": "markdown",
   "id": "65f84641-3fc4-4ba1-97bd-cd2e56992c13",
   "metadata": {},
   "source": [
    "<p style = 'font-size:40px'> <strong>Graphical heuristics (Lie Factor and Spark Lines) -Edward Tufte</strong> </p>"
   ]
  },
  {
   "cell_type": "markdown",
   "id": "7756100d-d617-40cf-ae60-bd2bf080504a",
   "metadata": {},
   "source": [
    "<p style = 'font-size:30px'> <strong>Sparklines</strong> </p>"
   ]
  },
  {
   "cell_type": "markdown",
   "id": "9fa43db5-1594-4808-ad42-199dd774d2df",
   "metadata": {},
   "source": [
    "* <p style = 'font-size:20px'> São gráficos de linha sem os eixos. Servem para revelar tendências ao seu espectador e não necessariamente dados precisos.</p>"
   ]
  },
  {
   "cell_type": "markdown",
   "id": "824bd0b3-1bbe-46a7-9072-2e9d96998711",
   "metadata": {},
   "source": [
    "<p style = 'font-size:30px'> <strong>Lie Factor</strong> </p>"
   ]
  },
  {
   "cell_type": "markdown",
   "id": "3bc16310-8b48-48f9-9c04-4c328981a3ea",
   "metadata": {},
   "source": [
    "* <p style = 'font-size:20px'> Lie Factors são fatores que podem confundir o espectador, levando-o inconscientemente a ter conclusões equivocadas sobre o gráfico.</p>"
   ]
  },
  {
   "cell_type": "markdown",
   "id": "c8563394-b9d4-440d-9565-0b49b9a2fd00",
   "metadata": {},
   "source": [
    "<p style = 'font-size:40px'> <strong>The Truthful Art - Alberto Cairo</strong> </p>"
   ]
  },
  {
   "cell_type": "markdown",
   "id": "a51c4a91-5e60-4858-b093-fce28a528174",
   "metadata": {},
   "source": [
    "* <p style = 'font-size:20px'> Em seu livro <em>The Truthful Art</em>, Alberto Cairo lista 5 virtudes que as representações visuais devem apresentar.</p>"
   ]
  },
  {
   "cell_type": "markdown",
   "id": "31fad9e6-7392-4552-ac50-45b90dd45d6b",
   "metadata": {},
   "source": [
    "<p style = 'font-size:30px'> <em>Truthfulness</em> </p>"
   ]
  },
  {
   "cell_type": "markdown",
   "id": "2d247dc8-c560-46d1-a424-c924ab313e45",
   "metadata": {},
   "source": [
    "* <p style = 'font-size:20px'> O manipulador dos dados a serem apresentados deve ter uma postura ética e não tentar enganar o seu visualizador.</p>\n",
    "\n",
    "* <p style = 'font-size:20px'> Além disso, é essencial que o sujeito mantenha constantemente o seu senso crítico ativo durante a manipulação dos dados. Ele deve verificar se os métodos utilizados são verdadeiramente apropriados ao conjunto de informações utilizado.</p>"
   ]
  },
  {
   "cell_type": "markdown",
   "id": "3a117351-c843-4052-be38-e9acf575f630",
   "metadata": {},
   "source": [
    "<p style = 'font-size:30px'> <em>Functionality</em> </p>"
   ]
  },
  {
   "cell_type": "markdown",
   "id": "6e378a74-cc1c-4389-980c-78468b239730",
   "metadata": {},
   "source": [
    "* <p style = 'font-size:20px'>Seguindo o seu pensamento minimalista, Cairo defende que as representações visuais devem ser sintéticas e não terem detalhes desnecessários.</p>"
   ]
  },
  {
   "cell_type": "markdown",
   "id": "596bede0-3ab1-4353-9e68-5184bc5da90f",
   "metadata": {},
   "source": [
    "<p style = 'font-size:30px'> <em>Beauty</em> </p>"
   ]
  },
  {
   "cell_type": "markdown",
   "id": "bc80a408-f59f-4752-b3ab-814f0c5a909e",
   "metadata": {},
   "source": [
    "* <p style = 'font-size:20px'> A beleza de um gráfico pode auxiliar na retenção das suas informações pelo espectador.</p>"
   ]
  },
  {
   "cell_type": "markdown",
   "id": "e56928b2-6b46-4073-87f1-07ebae77ce35",
   "metadata": {},
   "source": [
    "<p style = 'font-size:30px'> <em>Insightfulness</em> </p>"
   ]
  },
  {
   "cell_type": "markdown",
   "id": "8196ea1c-d39f-4efb-a763-de5c0f87e396",
   "metadata": {},
   "source": [
    "* <p style = 'font-size:20px'> O gráfico deve mostrar uma informação verdadeiramente autêntica, e não coisas ordinárias. </p>"
   ]
  },
  {
   "cell_type": "markdown",
   "id": "ba9c1788-4cf6-4358-a0fc-bff1b8ed01ff",
   "metadata": {},
   "source": [
    "<p style = 'font-size:30px'> <em>Enlightening</em> </p>"
   ]
  },
  {
   "cell_type": "markdown",
   "id": "c9881fb9-6614-494c-a96e-ad18dad20524",
   "metadata": {},
   "source": [
    "* <p style = 'font-size:20px'> É a combinação das últimas quatro características, com o adicional de que o criador da visualização dos dados deve sentir um senso de responsabilidade social em seu trabalho; as conclusões apresentadas poderão influenciar a compreensão de mundo das pessoas ao seu redor.</p>"
   ]
  },
  {
   "cell_type": "markdown",
   "id": "4f1fa964-76ea-4639-aa9b-70dc28786f72",
   "metadata": {},
   "source": [
    "FAZER O ASSIGNMENT COM O GRÁFICO DO THE TIMES 'misleading-graph.jpeg'\n",
    "\n",
    "https://www.statisticshowto.com/probability-and-statistics/descriptive-statistics/misleading-graphs/"
   ]
  }
 ],
 "metadata": {
  "kernelspec": {
   "display_name": "Python 3",
   "language": "python",
   "name": "python3"
  },
  "language_info": {
   "codemirror_mode": {
    "name": "ipython",
    "version": 3
   },
   "file_extension": ".py",
   "mimetype": "text/x-python",
   "name": "python",
   "nbconvert_exporter": "python",
   "pygments_lexer": "ipython3",
   "version": "3.8.8"
  }
 },
 "nbformat": 4,
 "nbformat_minor": 5
}
