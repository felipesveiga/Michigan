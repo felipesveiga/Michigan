{
 "cells": [
  {
   "cell_type": "markdown",
   "id": "89b07e63-e001-47dd-9698-c2e433f84df5",
   "metadata": {},
   "source": [
    "<p style = 'font-size:40px'> <strong>Tools for Thinking about Design</strong> </p>"
   ]
  },
  {
   "cell_type": "markdown",
   "id": "12544a12-b57d-47a8-b365-d2350a814489",
   "metadata": {},
   "source": [
    "* <p style = 'font-size:20px'> Alberto Cairo foi um teórico sobre a visulização de dados. Em seus trabalhos, elaborou um diagrama de roda no qual ele evidencia os diversos <em>tradeoffs</em> que os responsáveis por fazerem gráficos se deparam.</p>\n",
    "\n",
    "* <p style = 'font-size:20px'> Para Cairo, existem formas simples e mais complexas de se montarem gráficos. Cada uma dessas maneiras requer um conjunto das características listadas na roda.</p>"
   ]
  },
  {
   "cell_type": "markdown",
   "id": "719093b0-4c72-40f2-a22a-5a8033365a13",
   "metadata": {},
   "source": [
    "<img src= 'Cairo_Wheel.png' height = '300px' width = '500px' align = 'center'>"
   ]
  },
  {
   "cell_type": "markdown",
   "id": "d4b48125-133f-4873-a1d7-6bd82dd5589c",
   "metadata": {},
   "source": [
    "<p style = 'font-size:30px'> <strong>Os tradeoffs de Cairo</strong> </p>"
   ]
  },
  {
   "cell_type": "markdown",
   "id": "15866ee1-bc40-4a2c-842e-69e64bc690c7",
   "metadata": {},
   "source": [
    "<p style = 'font-size:30px'> <em>Abstraction x Figuration</em> </p>"
   ]
  },
  {
   "cell_type": "markdown",
   "id": "66e6b958-3f7d-4b28-9bff-2a0b8773e09a",
   "metadata": {},
   "source": [
    "* <p style = 'font-size:20px'> Informações podem ser representadas de uma maneira mais direta ou abstrata. No primeiro caso, uma fotografia ou um vídeo poderiam ser usados para abordar um determinado fenômeno. Por outro lado, esse mesmo evento é capaz de ser representado de maneiras mais abstratas - os gráficos são uma dessas formas!</p>"
   ]
  },
  {
   "cell_type": "markdown",
   "id": "de3f6e90-769a-4f22-8339-6a6ac19a4f45",
   "metadata": {},
   "source": [
    "<p style = 'font-size:30px'> <em>Functionality x Decoration</em> </p>"
   ]
  },
  {
   "cell_type": "markdown",
   "id": "30ebad30-2e1f-4191-95ab-1eb2f4bd8e10",
   "metadata": {},
   "source": [
    "* <p style = 'font-size:20px'> Ao se criarem visualizações, somos capazes de conferir a elas aspectos decorativos ou apresentá-las de maneira mais crua.</p>"
   ]
  },
  {
   "cell_type": "markdown",
   "id": "d1f9fcbb-0e75-4187-a3c4-438d6c734dda",
   "metadata": {},
   "source": [
    "<p style = 'font-size:30px'> <em>Lightness x Density</em> </p>"
   ]
  },
  {
   "cell_type": "markdown",
   "id": "c07410f7-d424-4714-803a-ef33042ce13e",
   "metadata": {},
   "source": [
    "* <p style = 'font-size:20px'> A leveza de uma visualização de dados deve se dar pela quantidade de informações que ela se propõe a mostrar. Gráficos mais simples podem ser categorizados como leves. Por outro lado, aqueles que envolvem múltiplos recursos de exposição de dados (ex: Um scatter plot fundido a um histograma) são considerados densos; a absorção de suas informações é menos direta.</p>"
   ]
  },
  {
   "cell_type": "markdown",
   "id": "e6b04928-5eff-45c7-ac37-f043a2bbbd5a",
   "metadata": {},
   "source": [
    "<p style = 'font-size:30px;color:orange'> Parei em 3:00 de Tools for think about Design</p>"
   ]
  }
 ],
 "metadata": {
  "kernelspec": {
   "display_name": "Python 3",
   "language": "python",
   "name": "python3"
  },
  "language_info": {
   "codemirror_mode": {
    "name": "ipython",
    "version": 3
   },
   "file_extension": ".py",
   "mimetype": "text/x-python",
   "name": "python",
   "nbconvert_exporter": "python",
   "pygments_lexer": "ipython3",
   "version": "3.8.8"
  }
 },
 "nbformat": 4,
 "nbformat_minor": 5
}
