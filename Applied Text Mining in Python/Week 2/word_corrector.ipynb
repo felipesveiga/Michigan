{
 "cells": [
  {
   "cell_type": "code",
   "execution_count": 26,
   "id": "93cb6a22-7129-4356-9d8f-abf340d71d03",
   "metadata": {},
   "outputs": [
    {
     "data": {
      "text/plain": [
       "('cigarette', 'mustard', 'watermelon')"
      ]
     },
     "execution_count": 26,
     "metadata": {},
     "output_type": "execute_result"
    }
   ],
   "source": [
    "from numpy import argmin\n",
    "import nltk\n",
    "from nltk.corpus import words\n",
    "\n",
    "def word_corrector(word):\n",
    "    correct_words = words.words()\n",
    "    same_first_letter = [w for w in correct_words if w.startswith(word[0])]\n",
    "    jaccards = [nltk.jaccard_distance(set(nltk.ngrams(word, n=3)), set(nltk.ngrams(w, n=3))) for w in same_first_letter]\n",
    "    return same_first_letter[argmin(jaccards)]\n",
    "\n",
    "word_corrector('cigarete'), word_corrector('mostard'), word_corrector('watermlon')"
   ]
  }
 ],
 "metadata": {
  "kernelspec": {
   "display_name": "Python 3 (ipykernel)",
   "language": "python",
   "name": "python3"
  },
  "language_info": {
   "codemirror_mode": {
    "name": "ipython",
    "version": 3
   },
   "file_extension": ".py",
   "mimetype": "text/x-python",
   "name": "python",
   "nbconvert_exporter": "python",
   "pygments_lexer": "ipython3",
   "version": "3.8.10"
  }
 },
 "nbformat": 4,
 "nbformat_minor": 5
}
