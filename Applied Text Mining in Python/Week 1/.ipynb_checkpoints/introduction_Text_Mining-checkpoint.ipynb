{
 "cells": [
  {
   "cell_type": "markdown",
   "id": "51de1276-f3c0-451d-a748-6d5c03519fcc",
   "metadata": {},
   "source": [
    "<h1 style='font-size:40px'>Working with Text in Python </h1>"
   ]
  },
  {
   "cell_type": "markdown",
   "id": "1a232da8-b022-4576-bffb-346d1c3e846d",
   "metadata": {},
   "source": [
    "<h2 style='font-size:30px'> Handling Text in Python</h2>\n",
    "<div> \n",
    "    <ul style='font-size:20px'>\n",
    "        <li>\n",
    "            O Python possui uma série de funções built-in capazes de fazer pequenas análises de texto.\n",
    "        </li>\n",
    "    </ul>\n",
    "</div>"
   ]
  },
  {
   "cell_type": "markdown",
   "id": "584ab814-b1dd-466a-9d3f-fe88168d6de1",
   "metadata": {},
   "source": [
    "<h3 style='font-size:30px;font-style:italic'> startswith</h3>"
   ]
  },
  {
   "cell_type": "code",
   "execution_count": 9,
   "id": "b7dbe0ae-a837-4aa5-988a-8fe03bfc0cb5",
   "metadata": {},
   "outputs": [
    {
     "data": {
      "text/plain": [
       "[True, True, False, False, False]"
      ]
     },
     "execution_count": 9,
     "metadata": {},
     "output_type": "execute_result"
    }
   ],
   "source": [
    "# 'startswith' nos indica se uma string começa com um determinado caractere ou trecho.\n",
    "s = 'Felipe Fernando Eduardo Rodrigo Caio'\n",
    "nomes = s.split(' ')\n",
    "\n",
    "# Quais nomes começam com 'F'?\n",
    "[word.startswith('F') for word in nomes]"
   ]
  },
  {
   "cell_type": "markdown",
   "id": "54813558-f584-435e-ae06-f8d70c127d8c",
   "metadata": {},
   "source": [
    "<h3 style='font-size:30px;font-style:italic'> endswith</h3>"
   ]
  },
  {
   "cell_type": "code",
   "execution_count": 10,
   "id": "d36e2ac9-9920-44f0-8d44-2aa833f4d2e9",
   "metadata": {},
   "outputs": [
    {
     "data": {
      "text/plain": [
       "[False, True, True, True, True]"
      ]
     },
     "execution_count": 10,
     "metadata": {},
     "output_type": "execute_result"
    }
   ],
   "source": [
    "# Antônimo de 'startswith', verifica se a palavra termina com um determinado caractere ou trecho.\n",
    "\n",
    "# Quais nomes terminam com 'o'?\n",
    "[word.endswith('o') for word in nomes]"
   ]
  },
  {
   "cell_type": "markdown",
   "id": "e49c70da-50fa-49c0-89a3-c46802ce8c5a",
   "metadata": {},
   "source": [
    "<h3 style='font-size:30px;font-style:italic'> Métodos de tipos de letra</h3>"
   ]
  },
  {
   "cell_type": "code",
   "execution_count": 21,
   "id": "f370b24f-7cae-4f16-8448-6a0cdc53095a",
   "metadata": {},
   "outputs": [
    {
     "name": "stdout",
     "output_type": "stream",
     "text": [
      "True\n",
      "False\n",
      "True\n"
     ]
    }
   ],
   "source": [
    "# isupper: verifica se a palavra está toda em upper case.\n",
    "upper = 'HELLO'\n",
    "print(upper.isupper())\n",
    "\n",
    "# islower: verifica se a palavra está toda em lower case.\n",
    "not_lower = 'NOTLOWERATALL'\n",
    "print(not_lower.islower())\n",
    "\n",
    "# istitle: A palavra começa com uma letra em maiúscula seguida de minúsculas?\n",
    "felipe = 'Felipe'\n",
    "print(felipe.istitle())"
   ]
  },
  {
   "cell_type": "markdown",
   "id": "237d9906-08cf-4775-8876-a045ed99f7b3",
   "metadata": {},
   "source": [
    "<h3 style='font-size:30px;font-style:italic'> Métodos de tipos de caractere</h3>"
   ]
  },
  {
   "cell_type": "code",
   "execution_count": 27,
   "id": "45f5d684-4a47-4ca2-b4ac-f568de5d7b08",
   "metadata": {},
   "outputs": [
    {
     "name": "stdout",
     "output_type": "stream",
     "text": [
      "False\n",
      "True\n",
      "True\n"
     ]
    }
   ],
   "source": [
    "# isalpha: a string possui apenas caracteres alfabéticos?\n",
    "senha = 'Pizza123'\n",
    "print(senha.isalpha())\n",
    "\n",
    "# isnum: a string é constituída apenas de caracteres numéricos.\n",
    "vault_password = '0123'\n",
    "print(vault_password.isdigit())\n",
    "\n",
    "# isalnum: a string tem apenas dígitos e letras?\n",
    "senha2 = 'Num3r0'\n",
    "print(senha2.isalnum())"
   ]
  },
  {
   "cell_type": "markdown",
   "id": "6f7ef7e9-bbe1-4dd8-af9d-b831d1b3775d",
   "metadata": {},
   "source": [
    "<p style='font-size:15px'>Nota: o Python possui métodos como isnumeric e isdecimal, cujos propósitos podem nos confundir.<a href='https://datagy.io/python-isdigit/#:~:text=The%20Python%20isnumeric%20method%20has,all%20the%20characters%20are%20numeric.' >Ler este texto</a> </p>"
   ]
  },
  {
   "cell_type": "markdown",
   "id": "cd5b7222-a212-4bb7-98db-3143a8cddd5e",
   "metadata": {},
   "source": [
    "<h3 style='font-size:30px;font-style:italic'> Transformações de strings</h3>"
   ]
  },
  {
   "cell_type": "code",
   "execution_count": 33,
   "id": "368abeba-c04c-49a0-9204-138eac07f20d",
   "metadata": {},
   "outputs": [
    {
     "name": "stdout",
     "output_type": "stream",
     "text": [
      "MAKE ME BIGGER\n",
      "make me smaller\n",
      "Turn Me Into A Headline\n"
     ]
    }
   ],
   "source": [
    "# upper\n",
    "lower = 'make me bigger'\n",
    "print(lower.upper())\n",
    "\n",
    "# lower\n",
    "upper = 'MAKE ME SMALLER'\n",
    "print(upper.lower())\n",
    "\n",
    "# title\n",
    "mingle = 'TURN me INTO a HEADLINE'\n",
    "print(mingle.title())"
   ]
  },
  {
   "cell_type": "code",
   "execution_count": 60,
   "id": "177e0edc-35cb-44a3-847f-72c5a44a100d",
   "metadata": {},
   "outputs": [
    {
     "name": "stdout",
     "output_type": "stream",
     "text": [
      "['Hello', 'World']\n",
      "['Para 1', 'Para2', 'Para3']\n",
      "D.o.t. .m.e\n",
      "Insert a space among us\n"
     ]
    }
   ],
   "source": [
    "# split: quebra s string nos espaços.\n",
    "spaces = 'Hello World'\n",
    "print(spaces.split())\n",
    "\n",
    "# splitlines: quebra a string em '\\n'\n",
    "paragraphs = 'Para 1\\nPara2\\nPara3'\n",
    "print(paragraphs.splitlines())\n",
    "\n",
    "# join: insere um caractere entre cada caractere de uma string\n",
    "s1 = 'Dot me'\n",
    "print('.'.join(s1))\n",
    "\n",
    "# o join funciona também para concatenar elementos de lista.\n",
    "space_me = ['Insert', 'a', 'space', 'among', 'us']\n",
    "print(' '.join(space_me))"
   ]
  },
  {
   "cell_type": "code",
   "execution_count": 48,
   "id": "9c32ecf3-b27d-49f8-a7e7-41a4d2a83707",
   "metadata": {},
   "outputs": [
    {
     "name": "stdout",
     "output_type": "stream",
     "text": [
      "SpaceTab\n",
      "Space\n",
      "Pop_Pct\n"
     ]
    }
   ],
   "source": [
    "# strip: remove whitespaces do início ou fim.\n",
    "s = '\\tSpaceTab\\n'\n",
    "print(s.strip())\n",
    "\n",
    "# lstrip: remove whitespaces do início da string.\n",
    "phrase = ' Space'\n",
    "print(phrase.lstrip())\n",
    "\n",
    "# rstrip: remove whitespaces do final da string.\n",
    "column_mistake = 'Pop_Pct '\n",
    "print(column_mistake.rstrip())\n",
    "\n",
    "# Nota: os strip's funcionam com '\\r' ou '\\r\\n'"
   ]
  },
  {
   "cell_type": "code",
   "execution_count": 57,
   "id": "2f73ba52-a082-4d27-9ba4-db481af5af75",
   "metadata": {},
   "outputs": [
    {
     "name": "stdout",
     "output_type": "stream",
     "text": [
      "2\n",
      "2\n",
      "Felipe\n"
     ]
    }
   ],
   "source": [
    "# find: retorna o índice do primeiro em que o caractere desejado é encontrado primeiro.\n",
    "name = 'Steve Jobs'\n",
    "print(name.find('e'))\n",
    "\n",
    "# rfind:retorna o índice do primeiro em que o caractere desejado é encontrado primeiro (trás pra frente)\n",
    "other_name = 'ama'\n",
    "print(other_name.rfind('a'))\n",
    "\n",
    "# replace: substitui um caractere ou trecho por outro.\n",
    "felipe = 'Fel***'\n",
    "print(felipe.replace('***', 'ipe'))"
   ]
  },
  {
   "cell_type": "markdown",
   "id": "6eeae51a-c0d9-424d-bd2e-1f0b2c046a9c",
   "metadata": {},
   "source": [
    "<h3 style='font-size:30px;font-style:italic'> Lendo textos grandes</h3>"
   ]
  },
  {
   "cell_type": "code",
   "execution_count": 19,
   "id": "821466b3-03f1-4ae2-8d7c-89e55db764ba",
   "metadata": {},
   "outputs": [
    {
     "data": {
      "text/plain": [
       "'Universal Declaration of Human Rights\\nPreamble\\nWhereas recognition of the inherent dignity and of the equal and inalienable\\nrights of all members of the human family is the foundation of freedom, justice\\nand peace in the world,\\nWhereas disregard and contempt for human rights have resulted in barbarous\\nacts which have outraged the conscience of mankind, and the advent of a world\\nin which human beings shall enjoy freedom of speech and belief and freedom\\nfrom fear and want has been proclaimed as the highest aspiration of the common\\npeople,\\nWhereas it is essential, if man is not to be compelled to have recourse, as a last\\nresort, to rebellion against tyranny and oppression, that human rights should be\\nprotected by the rule of law,\\nWhereas it is essential to promote the development of friendly relations between\\nnations,\\nWhereas the peoples of the United Nations have in the Charter reaffirmed their\\nfaith in fundamental human rights, in the dignity and worth of the human person\\nand in the equal rights of men and women and have determined to promote\\nsocial progress and better standards of life in larger freedom,\\nWhereas Member States have pledged themselves to achieve, in cooperation\\nwith the United Nations, the promotion of universal respect for and observance of\\nhuman rights and fundamental freedoms,\\nWhereas a common understanding of these rights and freedoms is of the\\ngreatest importance for the full realization of this pledge,\\nNow, therefore,\\nThe General Assembly,\\nProclaims this Universal Declaration of Human Rights as a common standard of\\nachievement for all peoples and all nations, to the end that every individual and\\nevery organ of society, keeping this Declaration constantly in mind, shall strive by \\nteaching and education to promote respect for these rights and freedoms and by\\nprogressive measures, national and international, to secure their universal and\\neffective recognition and observance, both among the peoples of Member States\\nthemselves and among the peoples of territories under their jurisdiction.\\nArticle I\\nAll human beings are born free and equal in dignity and rights. They are\\nendowed with reason and conscience and should act towards one another in a\\nspirit of brotherhood.\\nArticle 2\\nEveryone is entitled to all the rights and freedoms set forth in this Declaration,\\nwithout distinction of any kind, such as race, colour, sex, language, religion,\\npolitical or other opinion, national or social origin, property, birth or other status.\\nFurthermore, no distinction shall be made on the basis of the political,\\njurisdictional or international status of the country or territory to which a person\\nbelongs, whether it be independent, trust, non-self-governing or under any other\\nlimitation of sovereignty.\\nArticle 3\\nEveryone has the right to life, liberty and the security of person.\\nArticle 4\\nNo one shall be held in slavery or servitude; slavery and the slave trade shall be\\nprohibited in all their forms.\\nArticle 5\\nNo one shall be subjected to torture or to cruel, inhuman or degrading treatment\\nor punishment. \\nArticle 6\\nEveryone has the right to recognition everywhere as a person before the law.\\nArticle 7\\nAll are equal before the law and are entitled without any discrimination to equal\\nprotection of the law. All are entitled to equal protection against any\\ndiscrimination in violation of this Declaration and against any incitement to such\\ndiscrimination.\\nArticle 8\\nEveryone has the right to an effective remedy by the competent national tribunals\\nfor acts violating the fundamental rights granted him by the constitution or by law.\\nArticle 9\\nNo one shall be subjected to arbitrary arrest, detention or exile.\\nArticle 10\\nEveryone is entitled in full equality to a fair and public hearing by an independent\\nand impartial tribunal, in the determination of his rights and obligations and of any\\ncriminal charge against him.\\nArticle 11\\n1. Everyone charged with a penal offence has the right to be presumed\\ninnocent until proved guilty according to law in a public trial at which he\\nhas had all the guarantees necessary for his defence.\\n2. No one shall be held guilty of any penal offence on account of any act or\\nomission which did not constitute a penal offence, under national or\\ninternational law, at the time when it was committed. Nor shall a heavier \\npenalty be imposed than the one that was applicable at the time the penal\\noffence was committed.\\nArticle 12\\nNo one shall be subjected to arbitrary interference with his privacy, family, home\\nor correspondence, nor to attacks upon his honour and reputation. Everyone has\\nthe right to the protection of the law against such interference or attacks.\\nArticle 13\\n1. Everyone has the right to freedom of movement and residence within the\\nborders of each State.\\n2. Everyone has the right to leave any country, including his own, and to\\nreturn to his country.\\nArticle 14\\n1. Everyone has the right to seek and to enjoy in other countries asylum from\\npersecution.\\n2. This right may not be invoked in the case of prosecutions genuinely\\narising from non-political crimes or from acts contrary to the purposes and\\nprinciples of the United Nations.\\nArticle 15\\n1. Everyone has the right to a nationality.\\n2. No one shall be arbitrarily deprived of his nationality nor denied the right to\\nchange his nationality.\\nArticle 16 \\n1. Men and women of full age, without any limitation due to race, nationality\\nor religion, have the right to marry and to found a family. They are entitled\\nto equal rights as to marriage, during marriage and at its dissolution.\\n2. Marriage shall be entered into only with the free and full consent of the\\nintending spouses.\\n3. The family is the natural and fundamental group unit of society and is\\nentitled to protection by society and the State.\\nArticle 17\\n1. Everyone has the right to own property alone as well as in association with\\nothers.\\n2. No one shall be arbitrarily deprived of his property.\\nArticle 18\\nEveryone has the right to freedom of thought, conscience and religion; this right\\nincludes freedom to change his religion or belief, and freedom, either alone or in\\ncommunity with others and in public or private, to manifest his religion or belief in\\nteaching, practice, worship and observance.\\nArticle 19\\nEveryone has the right to freedom of opinion and expression; this right includes\\nfreedom to hold opinions without interference and to seek, receive and impart\\ninformation and ideas through any media and regardless of frontiers.\\nArticle 20\\n1. Everyone has the right to freedom of peaceful assembly and association.\\n2. No one may be compelled to belong to an association.\\nArticle 21 \\n1. Everyone has the right to take part in the government of his country,\\ndirectly or through freely chosen representatives.\\n2. Everyone has the right to equal access to public service in his country.\\n3. The will of the people shall be the basis of the authority of government;\\nthis will shall be expressed in periodic and genuine elections which shall\\nbe by universal and equal suffrage and shall be held by secret vote or by\\nequivalent free voting procedures.\\nArticle 22\\nEveryone, as a member of society, has the right to social security and is entitled\\nto realization, through national effort and international co-operation and in\\naccordance with the organization and resources of each State, of the economic,\\nsocial and cultural rights indispensable for his dignity and the free development\\nof his personality.\\nArticle 23\\n1. Everyone has the right to work, to free choice of employment, to just and\\nfavourable conditions of work and to protection against unemployment.\\n2. Everyone, without any discrimination, has the right to equal pay for equal\\nwork.\\n3. Everyone who works has the right to just and favourable remuneration\\nensuring for himself and his family an existence worthy of human dignity,\\nand supplemented, if necessary, by other means of social protection.\\n4. Everyone has the right to form and to join trade unions for the protection of\\nhis interests.\\nArticle 24\\nEveryone has the right to rest and leisure, including reasonable limitation of\\nworking hours and periodic holidays with pay. \\nArticle 25\\n1. Everyone has the right to a standard of living adequate for the health and\\nwell-being of himself and of his family, including food, clothing, housing\\nand medical care and necessary social services, and the right to security\\nin the event of unemployment, sickness, disability, widowhood, old age or\\nother lack of livelihood in circumstances beyond his control.\\n2. Motherhood and childhood are entitled to special care and assistance. All\\nchildren, whether born in or out of wedlock, shall enjoy the same social\\nprotection.\\nArticle 26\\n1. Everyone has the right to education. Education shall be free, at least in the\\nelementary and fundamental stages. Elementary education shall be\\ncompulsory. Technical and professional education shall be made\\ngenerally available and higher education shall be equally accessible to all\\non the basis of merit.\\n2. Education shall be directed to the full development of the human\\npersonality and to the strengthening of respect for human rights and\\nfundamental freedoms. It shall promote understanding, tolerance and\\nfriendship among all nations, racial or religious groups, and shall further\\nthe activities of the United Nations for the maintenance of peace.\\n3. Parents have a prior right to choose the kind of education that shall be\\ngiven to their children.\\nArticle 27\\n1. Everyone has the right freely to participate in the cultural life of the\\ncommunity, to enjoy the arts and to share in scientific advancement and\\nits benefits. \\n2. Everyone has the right to the protection of the moral and material interests\\nresulting from any scientific, literary or artistic production of which he is the\\nauthor.\\nArticle 28\\nEveryone is entitled to a social and international order in which the rights and\\nfreedoms set forth in this Declaration can be fully realized.\\nArticle 29\\n1. Everyone has duties to the community in which alone the free and full\\ndevelopment of his personality is possible.\\n2. In the exercise of his rights and freedoms, everyone shall be subject only\\nto such limitations as are determined by law solely for the purpose of\\nsecuring due recognition and respect for the rights and freedoms of others\\nand of meeting the just requirements of morality, public order and the\\ngeneral welfare in a democratic society.\\n3. These rights and freedoms may in no case be exercised contrary to the\\npurposes and principles of the United Nations.\\nArticle 30\\nNothing in this Declaration may be interpreted as implying for any State, group or\\nperson any right to engage in any activity or to perform any act aimed at the\\ndestruction of any of the rights and freedoms set forth herein. '"
      ]
     },
     "execution_count": 19,
     "metadata": {},
     "output_type": "execute_result"
    }
   ],
   "source": [
    "# Para ilustrar como poderíamos iniciar uma análise de texto livre, utilizaremos a DUDH da ONU.\n",
    "f = open('UNDHR.txt', 'r')\n",
    "\n",
    "# Veja a bagunça desse output.\n",
    "f.read()"
   ]
  },
  {
   "cell_type": "code",
   "execution_count": 20,
   "id": "bbb878c6-ae81-4001-9036-5908dbd13956",
   "metadata": {},
   "outputs": [],
   "source": [
    "# Para melhor nos organizarmos, iremos dividir a string com base nos '\\n'.\n",
    "\n",
    "# Zerando a posição de leitura do arquivo.\n",
    "f.seek(0)\n",
    "undhr = f.read().splitlines()\n",
    "\n",
    "# Pegando a primeira frase da Declaração.\n",
    "undhr[0]\n",
    "\n",
    "# Ao terminarmos de usar o arquivo, podemos fechá-lo.\n",
    "f.close()"
   ]
  },
  {
   "cell_type": "markdown",
   "id": "183fd245-fb2f-4421-b975-3d3e6f244165",
   "metadata": {},
   "source": [
    "<div>\n",
    "    <hr>\n",
    "    <h2 style='font-size:30px'> Regular Expressions</h2>\n",
    "</div>\n",
    "<div> \n",
    "    <ul style='font-size:20px'> \n",
    "        <li>\n",
    "            Reforçaremos aqui nossas habilidades com expressões regulares, aprendidas no primeiro curso da especialização.\n",
    "        </li>\n",
    "    </ul>\n",
    "</div>"
   ]
  },
  {
   "cell_type": "markdown",
   "id": "32b62816-5dac-423f-947d-4fade65e5a78",
   "metadata": {},
   "source": [
    "<h3 style='font-size:30px;font-style:italic'> Encontrando trechos específicos</h3>"
   ]
  },
  {
   "cell_type": "code",
   "execution_count": 2,
   "id": "6a99a3cd-11b8-4eb5-863c-e2c6f4f2e5fd",
   "metadata": {},
   "outputs": [
    {
     "name": "stdout",
     "output_type": "stream",
     "text": [
      "['#LIVTOT']\n",
      "['@LuisFDiaz19', '@']\n"
     ]
    }
   ],
   "source": [
    "# Com este tweet adaptado da conta do Liverpool, como identificaríamos 'callouts' e 'hashtags'?\n",
    "liverpool = 'The @LuisFDiaz19 strike @ that brought us level in the 1-1 draw with Tottenham \\n#LIVTOT'\n",
    "\n",
    "# Lembre-se sempre de invocar 'split'.\n",
    "hashtags = [word for word in liverpool.split() if word.startswith('#')]\n",
    "print(hashtags)\n",
    "\n",
    "callouts = [word for word in liverpool.split() if word.startswith('@')]\n",
    "print(callouts)\n",
    "#LIVTOT"
   ]
  },
  {
   "cell_type": "markdown",
   "id": "85ea45b7-8c90-4846-8fd3-2dfaf3421fec",
   "metadata": {},
   "source": [
    "<div> \n",
    "    <ul style='font-size:20px'> \n",
    "        <li>\n",
    "            Mas observe, o segundo elemento de <em> callouts</em> não é, de fato, um callout. Nesse caso, precisaríamos de oferecer uma definição melhor do que seria uma invocação de um username.\n",
    "        </li>\n",
    "    </ul>\n",
    "</div>"
   ]
  },
  {
   "cell_type": "code",
   "execution_count": 4,
   "id": "91f56c33-4932-449b-a7a7-ca2e2ae6b078",
   "metadata": {},
   "outputs": [
    {
     "data": {
      "text/plain": [
       "['@LuisFDiaz19']"
      ]
     },
     "execution_count": 4,
     "metadata": {},
     "output_type": "execute_result"
    }
   ],
   "source": [
    "# Usando os objetos do módulo 're', é possível sermos mais específicos quanto a isso.\n",
    "\n",
    "# Definição de um callout: todo nome cujo primeiro caractere é um arroba seguido de letras, números ou hashtag uma ou mais vezes.\n",
    "import re\n",
    "[word for word in liverpool.split() if re.search('@[\\w-]+', word)]"
   ]
  },
  {
   "cell_type": "markdown",
   "id": "4e84b251-b42a-4c44-a89a-931b7095725a",
   "metadata": {},
   "source": [
    "<center> \n",
    "    <h1>Revisão dos metacaracteres de RE</h1>\n",
    "    <img src='meta1.png'>\n",
    "    <hr>\n",
    "    <img src='meta2.png'>\n",
    "    <hr>\n",
    "    <img src='meta3.png'>\n",
    "</center>"
   ]
  },
  {
   "cell_type": "markdown",
   "id": "bb1f6c5d-660c-4586-821f-592b92fd2139",
   "metadata": {},
   "source": [
    "<h3 style='font-size:30px;font-style:italic'> Encontrando caracteres específicos</h3>"
   ]
  },
  {
   "cell_type": "code",
   "execution_count": 56,
   "id": "e8cbd9e0-1fec-4301-9046-29223f1f0896",
   "metadata": {},
   "outputs": [
    {
     "name": "stdout",
     "output_type": "stream",
     "text": [
      "['r', 'a', 'r', 'a', 'r', 'a', 'r', 'r', 'a']\n",
      "['o', ' ', 'a', 't', 'o', ' ', 'o', 'e', 'u', ' ', 'a', ' ', 'o', 'u', 'p', 'a', ' ', 'd', 'o', ' ', 'e', 'i', ' ', 'd', 'e', ' ', 'o', 'm', 'a']\n"
     ]
    }
   ],
   "source": [
    "# re.findall nos retorna todas as instâncias dos caracteres desejados.\n",
    "\n",
    "# Quantos r's ou a's existem na frase abaixo?\n",
    "rato_rei = 'O rato roeu a roupa do rei de Roma'\n",
    "rs_as = [letter for letter in rato_rei.casefold() if re.findall(r'[ra]', letter)]\n",
    "print(rs_as)\n",
    "\n",
    "# Quais caracteres que não sejam 'r' existem na frase?\n",
    "not_r = [letter for letter in rato_rei.casefold() if re.findall(r'[^r]', letter)]\n",
    "print(not_r)"
   ]
  },
  {
   "cell_type": "markdown",
   "id": "f0a53e93-891f-459d-935f-2614b446da7b",
   "metadata": {},
   "source": [
    "<h3 style='font-size:30px;font-style:italic'> Lidando com datas</h3>"
   ]
  },
  {
   "cell_type": "code",
   "execution_count": 63,
   "id": "018f0294-2e1e-46c1-a496-e763d35092c7",
   "metadata": {},
   "outputs": [
    {
     "name": "stdout",
     "output_type": "stream",
     "text": [
      "['Oct']\n",
      "['23 Oct 2002']\n",
      "['23 Oct 2002', '23 October 2002']\n"
     ]
    }
   ],
   "source": [
    "dates = ''' \n",
    "        23 Oct 2002\n",
    "        23 October 2002\n",
    "        October 23, 2002\n",
    "        Oct 23, 2002\n",
    "        '''\n",
    "\n",
    "# Veja que o retorno da função foi apenas um trecho do termo identificado.\n",
    "print(re.findall('\\d{1,2} (Oct|Nov|Dec) \\d{4}', dates))\n",
    "\n",
    "# Para fazermos com que a data por completa apareça, ponha '?:' como primeiro elemento de ().\n",
    "print(re.findall('\\d{1,2} (?:Oct|Nov|Dec) \\d{4}', dates))\n",
    "\n",
    "# Uma maneira criativa de uma das datas como o mês por extenso aparecer:\n",
    "\n",
    "# Aqui, indicamos que é possível haver zero ou mais caracteres minúsculos após os três primeiro caracteres do mês.\n",
    "print(re.findall('\\d{1,2} (?:Oct|Nov|Dec)[a-z]* \\d{4}', dates))"
   ]
  },
  {
   "cell_type": "code",
   "execution_count": 72,
   "id": "2969f7d1-364f-4b37-ac8c-9c029d96bc1e",
   "metadata": {},
   "outputs": [
    {
     "data": {
      "text/plain": [
       "['23 Oct 2002', '23 October 2002', 'October 23, 2002', 'Oct 23, 2002']"
      ]
     },
     "execution_count": 72,
     "metadata": {},
     "output_type": "execute_result"
    }
   ],
   "source": [
    "# Desafio! Vamos fazer com que todas as datas apareçam.\n",
    "\n",
    "# Veja que colocando a presença do primeiro agrupamento em parênteses como algo não definido, damos a liberdade para que\n",
    "# a seção (?:Oct|Nov|Dec)[a-z]* seja tanto o primeiro, quanto o segundo elemento da data.\n",
    "\n",
    "# A existência incerta agrupamento (?:\\d{1,2}, )? também confere uma maior flexibilidade para a identificação da datas.\n",
    "pattern = '(?:\\d{1,2} )?(?:Oct|Nov|Dec)[a-z]* (?:\\d{1,2}, )?(?:\\d{4})'\n",
    "re.findall(pattern, dates)"
   ]
  },
  {
   "cell_type": "markdown",
   "id": "149b261f-086b-49d2-9fbd-790acb4ac84a",
   "metadata": {},
   "source": [
    "<div> \n",
    "    <ul style='font-size:20px'> \n",
    "        <li>\n",
    "            Portanto, ao termos que fazer uma análise de RE em expressões muito diferentes, busque sempre encontrar os seus elementos comuns e variáveis.\n",
    "        </li>\n",
    "        <li> \n",
    "            Às vezes, os termos em comum podem nem ser palavras completas, mas apenas segmentos delas.\n",
    "        </li>\n",
    "    </ul>\n",
    "</div>"
   ]
  },
  {
   "cell_type": "markdown",
   "id": "8fabcba3-ca21-41d1-863d-111ef4571ae4",
   "metadata": {},
   "source": [
    "<p style='color:red'> Parei em Handling Text in Python (13:20)</p>"
   ]
  }
 ],
 "metadata": {
  "kernelspec": {
   "display_name": "Python 3 (ipykernel)",
   "language": "python",
   "name": "python3"
  },
  "language_info": {
   "codemirror_mode": {
    "name": "ipython",
    "version": 3
   },
   "file_extension": ".py",
   "mimetype": "text/x-python",
   "name": "python",
   "nbconvert_exporter": "python",
   "pygments_lexer": "ipython3",
   "version": "3.8.10"
  }
 },
 "nbformat": 4,
 "nbformat_minor": 5
}
