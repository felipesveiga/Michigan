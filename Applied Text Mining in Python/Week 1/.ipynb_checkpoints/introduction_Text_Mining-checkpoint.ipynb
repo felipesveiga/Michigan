{
 "cells": [
  {
   "cell_type": "markdown",
   "id": "51de1276-f3c0-451d-a748-6d5c03519fcc",
   "metadata": {},
   "source": [
    "<h1 style='font-size:40px'>Working with Text in Python </h1>"
   ]
  },
  {
   "cell_type": "markdown",
   "id": "1a232da8-b022-4576-bffb-346d1c3e846d",
   "metadata": {},
   "source": [
    "<h2 style='font-size:30px'> Handling Text in Python</h2>\n",
    "<div> \n",
    "    <ul style='font-size:20px'>\n",
    "        <li>\n",
    "            O Python possui uma série de funções built-in capazes de fazer pequenas análises de texto.\n",
    "        </li>\n",
    "    </ul>\n",
    "</div>"
   ]
  },
  {
   "cell_type": "markdown",
   "id": "584ab814-b1dd-466a-9d3f-fe88168d6de1",
   "metadata": {},
   "source": [
    "<h3 style='font-size:30px;font-style:italic'> startswith</h3>"
   ]
  },
  {
   "cell_type": "code",
   "execution_count": 9,
   "id": "b7dbe0ae-a837-4aa5-988a-8fe03bfc0cb5",
   "metadata": {},
   "outputs": [
    {
     "data": {
      "text/plain": [
       "[True, True, False, False, False]"
      ]
     },
     "execution_count": 9,
     "metadata": {},
     "output_type": "execute_result"
    }
   ],
   "source": [
    "# 'startswith' nos indica se uma string começa com um determinado caractere ou trecho.\n",
    "s = 'Felipe Fernando Eduardo Rodrigo Caio'\n",
    "nomes = s.split(' ')\n",
    "\n",
    "# Quais nomes começam com 'F'?\n",
    "[word.startswith('F') for word in nomes]"
   ]
  },
  {
   "cell_type": "markdown",
   "id": "54813558-f584-435e-ae06-f8d70c127d8c",
   "metadata": {},
   "source": [
    "<h3 style='font-size:30px;font-style:italic'> endswith</h3>"
   ]
  },
  {
   "cell_type": "code",
   "execution_count": 10,
   "id": "d36e2ac9-9920-44f0-8d44-2aa833f4d2e9",
   "metadata": {},
   "outputs": [
    {
     "data": {
      "text/plain": [
       "[False, True, True, True, True]"
      ]
     },
     "execution_count": 10,
     "metadata": {},
     "output_type": "execute_result"
    }
   ],
   "source": [
    "# Antônimo de 'startswith', verifica se a palavra termina com um determinado caractere ou trecho.\n",
    "\n",
    "# Quais nomes terminam com 'o'?\n",
    "[word.endswith('o') for word in nomes]"
   ]
  },
  {
   "cell_type": "markdown",
   "id": "e49c70da-50fa-49c0-89a3-c46802ce8c5a",
   "metadata": {},
   "source": [
    "<h3 style='font-size:30px;font-style:italic'> Métodos de tipos de letra</h3>"
   ]
  },
  {
   "cell_type": "code",
   "execution_count": 21,
   "id": "f370b24f-7cae-4f16-8448-6a0cdc53095a",
   "metadata": {},
   "outputs": [
    {
     "name": "stdout",
     "output_type": "stream",
     "text": [
      "True\n",
      "False\n",
      "True\n"
     ]
    }
   ],
   "source": [
    "# isupper: verifica se a palavra está toda em upper case.\n",
    "upper = 'HELLO'\n",
    "print(upper.isupper())\n",
    "\n",
    "# islower: verifica se a palavra está toda em lower case.\n",
    "not_lower = 'NOTLOWERATALL'\n",
    "print(not_lower.islower())\n",
    "\n",
    "# istitle: A palavra começa com uma letra em maiúscula seguida de minúsculas?\n",
    "felipe = 'Felipe'\n",
    "print(felipe.istitle())"
   ]
  },
  {
   "cell_type": "markdown",
   "id": "237d9906-08cf-4775-8876-a045ed99f7b3",
   "metadata": {},
   "source": [
    "<h3 style='font-size:30px;font-style:italic'> Métodos de tipos de caractere</h3>"
   ]
  },
  {
   "cell_type": "code",
   "execution_count": 27,
   "id": "45f5d684-4a47-4ca2-b4ac-f568de5d7b08",
   "metadata": {},
   "outputs": [
    {
     "name": "stdout",
     "output_type": "stream",
     "text": [
      "False\n",
      "True\n",
      "True\n"
     ]
    }
   ],
   "source": [
    "# isalpha: a string possui apenas caracteres alfabéticos?\n",
    "senha = 'Pizza123'\n",
    "print(senha.isalpha())\n",
    "\n",
    "# isnum: a string é constituída apenas de caracteres numéricos.\n",
    "vault_password = '0123'\n",
    "print(vault_password.isdigit())\n",
    "\n",
    "# isalnum: a string tem apenas dígitos e letras?\n",
    "senha2 = 'Num3r0'\n",
    "print(senha2.isalnum())"
   ]
  },
  {
   "cell_type": "markdown",
   "id": "6f7ef7e9-bbe1-4dd8-af9d-b831d1b3775d",
   "metadata": {},
   "source": [
    "<p style='font-size:15px'>Nota: o Python possui métodos como isnumeric e isdecimal, cujos propósitos podem nos confundir.<a href='https://datagy.io/python-isdigit/#:~:text=The%20Python%20isnumeric%20method%20has,all%20the%20characters%20are%20numeric.' >Ler este texto</a> </p>"
   ]
  },
  {
   "cell_type": "markdown",
   "id": "cd5b7222-a212-4bb7-98db-3143a8cddd5e",
   "metadata": {},
   "source": [
    "<h3 style='font-size:30px;font-style:italic'> Transformações de strings</h3>"
   ]
  },
  {
   "cell_type": "code",
   "execution_count": 33,
   "id": "368abeba-c04c-49a0-9204-138eac07f20d",
   "metadata": {},
   "outputs": [
    {
     "name": "stdout",
     "output_type": "stream",
     "text": [
      "MAKE ME BIGGER\n",
      "make me smaller\n",
      "Turn Me Into A Headline\n"
     ]
    }
   ],
   "source": [
    "# upper\n",
    "lower = 'make me bigger'\n",
    "print(lower.upper())\n",
    "\n",
    "# lower\n",
    "upper = 'MAKE ME SMALLER'\n",
    "print(upper.lower())\n",
    "\n",
    "# title\n",
    "mingle = 'TURN me INTO a HEADLINE'\n",
    "print(mingle.title())"
   ]
  },
  {
   "cell_type": "code",
   "execution_count": 60,
   "id": "177e0edc-35cb-44a3-847f-72c5a44a100d",
   "metadata": {},
   "outputs": [
    {
     "name": "stdout",
     "output_type": "stream",
     "text": [
      "['Hello', 'World']\n",
      "['Para 1', 'Para2', 'Para3']\n",
      "D.o.t. .m.e\n",
      "Insert a space among us\n"
     ]
    }
   ],
   "source": [
    "# split: quebra s string nos espaços.\n",
    "spaces = 'Hello World'\n",
    "print(spaces.split())\n",
    "\n",
    "# splitlines: quebra a string em '\\n'\n",
    "paragraphs = 'Para 1\\nPara2\\nPara3'\n",
    "print(paragraphs.splitlines())\n",
    "\n",
    "# join: insere um caractere entre cada caractere de uma string\n",
    "s1 = 'Dot me'\n",
    "print('.'.join(s1))\n",
    "\n",
    "# o join funciona também para concatenar elementos de lista.\n",
    "space_me = ['Insert', 'a', 'space', 'among', 'us']\n",
    "print(' '.join(space_me))"
   ]
  },
  {
   "cell_type": "code",
   "execution_count": 48,
   "id": "9c32ecf3-b27d-49f8-a7e7-41a4d2a83707",
   "metadata": {},
   "outputs": [
    {
     "name": "stdout",
     "output_type": "stream",
     "text": [
      "SpaceTab\n",
      "Space\n",
      "Pop_Pct\n"
     ]
    }
   ],
   "source": [
    "# strip: remove whitespaces do início ou fim.\n",
    "s = '\\tSpaceTab\\n'\n",
    "print(s.strip())\n",
    "\n",
    "# lstrip: remove whitespaces do início da string.\n",
    "phrase = ' Space'\n",
    "print(phrase.lstrip())\n",
    "\n",
    "# rstrip: remove whitespaces do final da string.\n",
    "column_mistake = 'Pop_Pct '\n",
    "print(column_mistake.rstrip())"
   ]
  },
  {
   "cell_type": "code",
   "execution_count": 57,
   "id": "2f73ba52-a082-4d27-9ba4-db481af5af75",
   "metadata": {},
   "outputs": [
    {
     "name": "stdout",
     "output_type": "stream",
     "text": [
      "2\n",
      "2\n",
      "Felipe\n"
     ]
    }
   ],
   "source": [
    "# find: retorna o índice do primeiro em que o caractere desejado é encontrado primeiro.\n",
    "name = 'Steve Jobs'\n",
    "print(name.find('e'))\n",
    "\n",
    "# rfind:retorna o índice do primeiro em que o caractere desejado é encontrado primeiro (trás pra frente)\n",
    "other_name = 'ama'\n",
    "print(other_name.rfind('a'))\n",
    "\n",
    "# replace: substitui um caractere ou trecho por outro.\n",
    "felipe = 'Fel***'\n",
    "print(felipe.replace('***', 'ipe'))"
   ]
  },
  {
   "cell_type": "markdown",
   "id": "8fabcba3-ca21-41d1-863d-111ef4571ae4",
   "metadata": {},
   "source": [
    "<p style='color:red'> Parei em Handling Text in Python (13:20)</p>"
   ]
  }
 ],
 "metadata": {
  "kernelspec": {
   "display_name": "Python 3 (ipykernel)",
   "language": "python",
   "name": "python3"
  },
  "language_info": {
   "codemirror_mode": {
    "name": "ipython",
    "version": 3
   },
   "file_extension": ".py",
   "mimetype": "text/x-python",
   "name": "python",
   "nbconvert_exporter": "python",
   "pygments_lexer": "ipython3",
   "version": "3.8.10"
  }
 },
 "nbformat": 4,
 "nbformat_minor": 5
}
