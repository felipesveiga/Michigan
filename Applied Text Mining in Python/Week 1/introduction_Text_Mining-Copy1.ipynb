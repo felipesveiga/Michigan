{
 "cells": [
  {
   "cell_type": "markdown",
   "id": "51de1276-f3c0-451d-a748-6d5c03519fcc",
   "metadata": {},
   "source": [
    "<h1 style='font-size:40px'>Working with Text in Python </h1>"
   ]
  },
  {
   "cell_type": "markdown",
   "id": "1a232da8-b022-4576-bffb-346d1c3e846d",
   "metadata": {},
   "source": [
    "<h2 style='font-size:30px'> Handling Text in Python</h2>\n",
    "<div> \n",
    "    <ul style='font-size:20px'>\n",
    "        <li>\n",
    "            O Python possui uma série de funções built-in capazes de fazer pequenas análises de texto.\n",
    "        </li>\n",
    "    </ul>\n",
    "</div>"
   ]
  },
  {
   "cell_type": "markdown",
   "id": "584ab814-b1dd-466a-9d3f-fe88168d6de1",
   "metadata": {},
   "source": [
    "<h3 style='font-size:30px;font-style:italic'> startswith</h3>"
   ]
  },
  {
   "cell_type": "code",
   "execution_count": 9,
   "id": "b7dbe0ae-a837-4aa5-988a-8fe03bfc0cb5",
   "metadata": {},
   "outputs": [
    {
     "data": {
      "text/plain": [
       "[True, True, False, False, False]"
      ]
     },
     "execution_count": 9,
     "metadata": {},
     "output_type": "execute_result"
    }
   ],
   "source": [
    "# 'startswith' nos indica se uma string começa com um determinado caractere ou trecho.\n",
    "s = 'Felipe Fernando Eduardo Rodrigo Caio'\n",
    "nomes = s.split(' ')\n",
    "\n",
    "# Quais nomes começam com 'F'?\n",
    "[word.startswith('F') for word in nomes]"
   ]
  },
  {
   "cell_type": "markdown",
   "id": "54813558-f584-435e-ae06-f8d70c127d8c",
   "metadata": {},
   "source": [
    "<h3 style='font-size:30px;font-style:italic'> endswith</h3>"
   ]
  },
  {
   "cell_type": "code",
   "execution_count": 10,
   "id": "d36e2ac9-9920-44f0-8d44-2aa833f4d2e9",
   "metadata": {},
   "outputs": [
    {
     "data": {
      "text/plain": [
       "[False, True, True, True, True]"
      ]
     },
     "execution_count": 10,
     "metadata": {},
     "output_type": "execute_result"
    }
   ],
   "source": [
    "# Antônimo de 'startswith', verifica se a palavra termina com um determinado caractere ou trecho.\n",
    "\n",
    "# Quais nomes terminam com 'o'?\n",
    "[word.endswith('o') for word in nomes]"
   ]
  },
  {
   "cell_type": "markdown",
   "id": "e49c70da-50fa-49c0-89a3-c46802ce8c5a",
   "metadata": {},
   "source": [
    "<h3 style='font-size:30px;font-style:italic'> Métodos de tipos de letra</h3>"
   ]
  },
  {
   "cell_type": "code",
   "execution_count": 21,
   "id": "f370b24f-7cae-4f16-8448-6a0cdc53095a",
   "metadata": {},
   "outputs": [
    {
     "name": "stdout",
     "output_type": "stream",
     "text": [
      "True\n",
      "False\n",
      "True\n"
     ]
    }
   ],
   "source": [
    "# isupper: verifica se a palavra está toda em upper case.\n",
    "upper = 'HELLO'\n",
    "print(upper.isupper())\n",
    "\n",
    "# islower: verifica se a palavra está toda em lower case.\n",
    "not_lower = 'NOTLOWERATALL'\n",
    "print(not_lower.islower())\n",
    "\n",
    "# istitle: A palavra começa com uma letra em maiúscula seguida de minúsculas?\n",
    "felipe = 'Felipe'\n",
    "print(felipe.istitle())"
   ]
  },
  {
   "cell_type": "markdown",
   "id": "237d9906-08cf-4775-8876-a045ed99f7b3",
   "metadata": {},
   "source": [
    "<h3 style='font-size:30px;font-style:italic'> Métodos de tipos de caractere</h3>"
   ]
  },
  {
   "cell_type": "code",
   "execution_count": 27,
   "id": "45f5d684-4a47-4ca2-b4ac-f568de5d7b08",
   "metadata": {},
   "outputs": [
    {
     "name": "stdout",
     "output_type": "stream",
     "text": [
      "False\n",
      "True\n",
      "True\n"
     ]
    }
   ],
   "source": [
    "# isalpha: a string possui apenas caracteres alfabéticos?\n",
    "senha = 'Pizza123'\n",
    "print(senha.isalpha())\n",
    "\n",
    "# isnum: a string é constituída apenas de caracteres numéricos.\n",
    "vault_password = '0123'\n",
    "print(vault_password.isdigit())\n",
    "\n",
    "# isalnum: a string tem apenas dígitos e letras?\n",
    "senha2 = 'Num3r0'\n",
    "print(senha2.isalnum())"
   ]
  },
  {
   "cell_type": "markdown",
   "id": "6f7ef7e9-bbe1-4dd8-af9d-b831d1b3775d",
   "metadata": {},
   "source": [
    "<p style='font-size:15px'>Nota: o Python possui métodos como isnumeric e isdecimal, cujos propósitos podem nos confundir.<a href='https://datagy.io/python-isdigit/#:~:text=The%20Python%20isnumeric%20method%20has,all%20the%20characters%20are%20numeric.' >Ler este texto</a> </p>"
   ]
  },
  {
   "cell_type": "markdown",
   "id": "cd5b7222-a212-4bb7-98db-3143a8cddd5e",
   "metadata": {},
   "source": [
    "<h3 style='font-size:30px;font-style:italic'> Transformações de strings</h3>"
   ]
  },
  {
   "cell_type": "code",
   "execution_count": 33,
   "id": "368abeba-c04c-49a0-9204-138eac07f20d",
   "metadata": {},
   "outputs": [
    {
     "name": "stdout",
     "output_type": "stream",
     "text": [
      "MAKE ME BIGGER\n",
      "make me smaller\n",
      "Turn Me Into A Headline\n"
     ]
    }
   ],
   "source": [
    "# upper\n",
    "lower = 'make me bigger'\n",
    "print(lower.upper())\n",
    "\n",
    "# lower\n",
    "upper = 'MAKE ME SMALLER'\n",
    "print(upper.lower())\n",
    "\n",
    "# title\n",
    "mingle = 'TURN me INTO a HEADLINE'\n",
    "print(mingle.title())"
   ]
  },
  {
   "cell_type": "code",
   "execution_count": 60,
   "id": "177e0edc-35cb-44a3-847f-72c5a44a100d",
   "metadata": {},
   "outputs": [
    {
     "name": "stdout",
     "output_type": "stream",
     "text": [
      "['Hello', 'World']\n",
      "['Para 1', 'Para2', 'Para3']\n",
      "D.o.t. .m.e\n",
      "Insert a space among us\n"
     ]
    }
   ],
   "source": [
    "# split: quebra s string nos espaços.\n",
    "spaces = 'Hello World'\n",
    "print(spaces.split())\n",
    "\n",
    "# splitlines: quebra a string em '\\n'\n",
    "paragraphs = 'Para 1\\nPara2\\nPara3'\n",
    "print(paragraphs.splitlines())\n",
    "\n",
    "# join: insere um caractere entre cada caractere de uma string\n",
    "s1 = 'Dot me'\n",
    "print('.'.join(s1))\n",
    "\n",
    "# o join funciona também para concatenar elementos de lista.\n",
    "space_me = ['Insert', 'a', 'space', 'among', 'us']\n",
    "print(' '.join(space_me))"
   ]
  },
  {
   "cell_type": "code",
   "execution_count": 48,
   "id": "9c32ecf3-b27d-49f8-a7e7-41a4d2a83707",
   "metadata": {},
   "outputs": [
    {
     "name": "stdout",
     "output_type": "stream",
     "text": [
      "SpaceTab\n",
      "Space\n",
      "Pop_Pct\n"
     ]
    }
   ],
   "source": [
    "# strip: remove whitespaces do início ou fim.\n",
    "s = '\\tSpaceTab\\n'\n",
    "print(s.strip())\n",
    "\n",
    "# lstrip: remove whitespaces do início da string.\n",
    "phrase = ' Space'\n",
    "print(phrase.lstrip())\n",
    "\n",
    "# rstrip: remove whitespaces do final da string.\n",
    "column_mistake = 'Pop_Pct '\n",
    "print(column_mistake.rstrip())\n",
    "\n",
    "# Nota: os strip's funcionam com '\\r' ou '\\r\\n'"
   ]
  },
  {
   "cell_type": "code",
   "execution_count": 57,
   "id": "2f73ba52-a082-4d27-9ba4-db481af5af75",
   "metadata": {},
   "outputs": [
    {
     "name": "stdout",
     "output_type": "stream",
     "text": [
      "2\n",
      "2\n",
      "Felipe\n"
     ]
    }
   ],
   "source": [
    "# find: retorna o índice do primeiro em que o caractere desejado é encontrado primeiro.\n",
    "name = 'Steve Jobs'\n",
    "print(name.find('e'))\n",
    "\n",
    "# rfind:retorna o índice do primeiro em que o caractere desejado é encontrado primeiro (trás pra frente)\n",
    "other_name = 'ama'\n",
    "print(other_name.rfind('a'))\n",
    "\n",
    "# replace: substitui um caractere ou trecho por outro.\n",
    "felipe = 'Fel***'\n",
    "print(felipe.replace('***', 'ipe'))"
   ]
  },
  {
   "cell_type": "markdown",
   "id": "6eeae51a-c0d9-424d-bd2e-1f0b2c046a9c",
   "metadata": {},
   "source": [
    "<h3 style='font-size:30px;font-style:italic'> Lendo textos grandes</h3>"
   ]
  },
  {
   "cell_type": "code",
   "execution_count": 19,
   "id": "821466b3-03f1-4ae2-8d7c-89e55db764ba",
   "metadata": {},
   "outputs": [
    {
     "data": {
      "text/plain": [
       "'Universal Declaration of Human Rights\\nPreamble\\nWhereas recognition of the inherent dignity and of the equal and inalienable\\nrights of all members of the human family is the foundation of freedom, justice\\nand peace in the world,\\nWhereas disregard and contempt for human rights have resulted in barbarous\\nacts which have outraged the conscience of mankind, and the advent of a world\\nin which human beings shall enjoy freedom of speech and belief and freedom\\nfrom fear and want has been proclaimed as the highest aspiration of the common\\npeople,\\nWhereas it is essential, if man is not to be compelled to have recourse, as a last\\nresort, to rebellion against tyranny and oppression, that human rights should be\\nprotected by the rule of law,\\nWhereas it is essential to promote the development of friendly relations between\\nnations,\\nWhereas the peoples of the United Nations have in the Charter reaffirmed their\\nfaith in fundamental human rights, in the dignity and worth of the human person\\nand in the equal rights of men and women and have determined to promote\\nsocial progress and better standards of life in larger freedom,\\nWhereas Member States have pledged themselves to achieve, in cooperation\\nwith the United Nations, the promotion of universal respect for and observance of\\nhuman rights and fundamental freedoms,\\nWhereas a common understanding of these rights and freedoms is of the\\ngreatest importance for the full realization of this pledge,\\nNow, therefore,\\nThe General Assembly,\\nProclaims this Universal Declaration of Human Rights as a common standard of\\nachievement for all peoples and all nations, to the end that every individual and\\nevery organ of society, keeping this Declaration constantly in mind, shall strive by \\nteaching and education to promote respect for these rights and freedoms and by\\nprogressive measures, national and international, to secure their universal and\\neffective recognition and observance, both among the peoples of Member States\\nthemselves and among the peoples of territories under their jurisdiction.\\nArticle I\\nAll human beings are born free and equal in dignity and rights. They are\\nendowed with reason and conscience and should act towards one another in a\\nspirit of brotherhood.\\nArticle 2\\nEveryone is entitled to all the rights and freedoms set forth in this Declaration,\\nwithout distinction of any kind, such as race, colour, sex, language, religion,\\npolitical or other opinion, national or social origin, property, birth or other status.\\nFurthermore, no distinction shall be made on the basis of the political,\\njurisdictional or international status of the country or territory to which a person\\nbelongs, whether it be independent, trust, non-self-governing or under any other\\nlimitation of sovereignty.\\nArticle 3\\nEveryone has the right to life, liberty and the security of person.\\nArticle 4\\nNo one shall be held in slavery or servitude; slavery and the slave trade shall be\\nprohibited in all their forms.\\nArticle 5\\nNo one shall be subjected to torture or to cruel, inhuman or degrading treatment\\nor punishment. \\nArticle 6\\nEveryone has the right to recognition everywhere as a person before the law.\\nArticle 7\\nAll are equal before the law and are entitled without any discrimination to equal\\nprotection of the law. All are entitled to equal protection against any\\ndiscrimination in violation of this Declaration and against any incitement to such\\ndiscrimination.\\nArticle 8\\nEveryone has the right to an effective remedy by the competent national tribunals\\nfor acts violating the fundamental rights granted him by the constitution or by law.\\nArticle 9\\nNo one shall be subjected to arbitrary arrest, detention or exile.\\nArticle 10\\nEveryone is entitled in full equality to a fair and public hearing by an independent\\nand impartial tribunal, in the determination of his rights and obligations and of any\\ncriminal charge against him.\\nArticle 11\\n1. Everyone charged with a penal offence has the right to be presumed\\ninnocent until proved guilty according to law in a public trial at which he\\nhas had all the guarantees necessary for his defence.\\n2. No one shall be held guilty of any penal offence on account of any act or\\nomission which did not constitute a penal offence, under national or\\ninternational law, at the time when it was committed. Nor shall a heavier \\npenalty be imposed than the one that was applicable at the time the penal\\noffence was committed.\\nArticle 12\\nNo one shall be subjected to arbitrary interference with his privacy, family, home\\nor correspondence, nor to attacks upon his honour and reputation. Everyone has\\nthe right to the protection of the law against such interference or attacks.\\nArticle 13\\n1. Everyone has the right to freedom of movement and residence within the\\nborders of each State.\\n2. Everyone has the right to leave any country, including his own, and to\\nreturn to his country.\\nArticle 14\\n1. Everyone has the right to seek and to enjoy in other countries asylum from\\npersecution.\\n2. This right may not be invoked in the case of prosecutions genuinely\\narising from non-political crimes or from acts contrary to the purposes and\\nprinciples of the United Nations.\\nArticle 15\\n1. Everyone has the right to a nationality.\\n2. No one shall be arbitrarily deprived of his nationality nor denied the right to\\nchange his nationality.\\nArticle 16 \\n1. Men and women of full age, without any limitation due to race, nationality\\nor religion, have the right to marry and to found a family. They are entitled\\nto equal rights as to marriage, during marriage and at its dissolution.\\n2. Marriage shall be entered into only with the free and full consent of the\\nintending spouses.\\n3. The family is the natural and fundamental group unit of society and is\\nentitled to protection by society and the State.\\nArticle 17\\n1. Everyone has the right to own property alone as well as in association with\\nothers.\\n2. No one shall be arbitrarily deprived of his property.\\nArticle 18\\nEveryone has the right to freedom of thought, conscience and religion; this right\\nincludes freedom to change his religion or belief, and freedom, either alone or in\\ncommunity with others and in public or private, to manifest his religion or belief in\\nteaching, practice, worship and observance.\\nArticle 19\\nEveryone has the right to freedom of opinion and expression; this right includes\\nfreedom to hold opinions without interference and to seek, receive and impart\\ninformation and ideas through any media and regardless of frontiers.\\nArticle 20\\n1. Everyone has the right to freedom of peaceful assembly and association.\\n2. No one may be compelled to belong to an association.\\nArticle 21 \\n1. Everyone has the right to take part in the government of his country,\\ndirectly or through freely chosen representatives.\\n2. Everyone has the right to equal access to public service in his country.\\n3. The will of the people shall be the basis of the authority of government;\\nthis will shall be expressed in periodic and genuine elections which shall\\nbe by universal and equal suffrage and shall be held by secret vote or by\\nequivalent free voting procedures.\\nArticle 22\\nEveryone, as a member of society, has the right to social security and is entitled\\nto realization, through national effort and international co-operation and in\\naccordance with the organization and resources of each State, of the economic,\\nsocial and cultural rights indispensable for his dignity and the free development\\nof his personality.\\nArticle 23\\n1. Everyone has the right to work, to free choice of employment, to just and\\nfavourable conditions of work and to protection against unemployment.\\n2. Everyone, without any discrimination, has the right to equal pay for equal\\nwork.\\n3. Everyone who works has the right to just and favourable remuneration\\nensuring for himself and his family an existence worthy of human dignity,\\nand supplemented, if necessary, by other means of social protection.\\n4. Everyone has the right to form and to join trade unions for the protection of\\nhis interests.\\nArticle 24\\nEveryone has the right to rest and leisure, including reasonable limitation of\\nworking hours and periodic holidays with pay. \\nArticle 25\\n1. Everyone has the right to a standard of living adequate for the health and\\nwell-being of himself and of his family, including food, clothing, housing\\nand medical care and necessary social services, and the right to security\\nin the event of unemployment, sickness, disability, widowhood, old age or\\nother lack of livelihood in circumstances beyond his control.\\n2. Motherhood and childhood are entitled to special care and assistance. All\\nchildren, whether born in or out of wedlock, shall enjoy the same social\\nprotection.\\nArticle 26\\n1. Everyone has the right to education. Education shall be free, at least in the\\nelementary and fundamental stages. Elementary education shall be\\ncompulsory. Technical and professional education shall be made\\ngenerally available and higher education shall be equally accessible to all\\non the basis of merit.\\n2. Education shall be directed to the full development of the human\\npersonality and to the strengthening of respect for human rights and\\nfundamental freedoms. It shall promote understanding, tolerance and\\nfriendship among all nations, racial or religious groups, and shall further\\nthe activities of the United Nations for the maintenance of peace.\\n3. Parents have a prior right to choose the kind of education that shall be\\ngiven to their children.\\nArticle 27\\n1. Everyone has the right freely to participate in the cultural life of the\\ncommunity, to enjoy the arts and to share in scientific advancement and\\nits benefits. \\n2. Everyone has the right to the protection of the moral and material interests\\nresulting from any scientific, literary or artistic production of which he is the\\nauthor.\\nArticle 28\\nEveryone is entitled to a social and international order in which the rights and\\nfreedoms set forth in this Declaration can be fully realized.\\nArticle 29\\n1. Everyone has duties to the community in which alone the free and full\\ndevelopment of his personality is possible.\\n2. In the exercise of his rights and freedoms, everyone shall be subject only\\nto such limitations as are determined by law solely for the purpose of\\nsecuring due recognition and respect for the rights and freedoms of others\\nand of meeting the just requirements of morality, public order and the\\ngeneral welfare in a democratic society.\\n3. These rights and freedoms may in no case be exercised contrary to the\\npurposes and principles of the United Nations.\\nArticle 30\\nNothing in this Declaration may be interpreted as implying for any State, group or\\nperson any right to engage in any activity or to perform any act aimed at the\\ndestruction of any of the rights and freedoms set forth herein. '"
      ]
     },
     "execution_count": 19,
     "metadata": {},
     "output_type": "execute_result"
    }
   ],
   "source": [
    "# Para ilustrar como poderíamos iniciar uma análise de texto livre, utilizaremos a DUDH da ONU.\n",
    "f = open('UNDHR.txt', 'r')\n",
    "\n",
    "# Veja a bagunça desse output.\n",
    "f.read()"
   ]
  },
  {
   "cell_type": "code",
   "execution_count": 20,
   "id": "bbb878c6-ae81-4001-9036-5908dbd13956",
   "metadata": {},
   "outputs": [],
   "source": [
    "# Para melhor nos organizarmos, iremos dividir a string com base nos '\\n'.\n",
    "\n",
    "# Zerando a posição de leitura do arquivo.\n",
    "f.seek(0)\n",
    "undhr = f.read().splitlines()\n",
    "\n",
    "# Pegando a primeira frase da Declaração.\n",
    "undhr[0]\n",
    "\n",
    "# Ao terminarmos de usar o arquivo, podemos fechá-lo.\n",
    "f.close()"
   ]
  },
  {
   "cell_type": "markdown",
   "id": "183fd245-fb2f-4421-b975-3d3e6f244165",
   "metadata": {},
   "source": [
    "<div>\n",
    "    <hr>\n",
    "    <h2 style='font-size:30px'> Regular Expressions</h2>\n",
    "</div>\n",
    "<div> \n",
    "    <ul style='font-size:20px'> \n",
    "        <li>\n",
    "            Reforçaremos aqui nossas habilidades com expressões regulares, aprendidas no primeiro curso da especialização.\n",
    "        </li>\n",
    "    </ul>\n",
    "</div>"
   ]
  },
  {
   "cell_type": "markdown",
   "id": "32b62816-5dac-423f-947d-4fade65e5a78",
   "metadata": {},
   "source": [
    "<h3 style='font-size:30px;font-style:italic'> Encontrando trechos específicos</h3>"
   ]
  },
  {
   "cell_type": "code",
   "execution_count": 2,
   "id": "6a99a3cd-11b8-4eb5-863c-e2c6f4f2e5fd",
   "metadata": {},
   "outputs": [
    {
     "name": "stdout",
     "output_type": "stream",
     "text": [
      "['#LIVTOT']\n",
      "['@LuisFDiaz19', '@']\n"
     ]
    }
   ],
   "source": [
    "# Com este tweet adaptado da conta do Liverpool, como identificaríamos 'callouts' e 'hashtags'?\n",
    "liverpool = 'The @LuisFDiaz19 strike @ that brought us level in the 1-1 draw with Tottenham \\n#LIVTOT'\n",
    "\n",
    "# Lembre-se sempre de invocar 'split'.\n",
    "hashtags = [word for word in liverpool.split() if word.startswith('#')]\n",
    "print(hashtags)\n",
    "\n",
    "callouts = [word for word in liverpool.split() if word.startswith('@')]\n",
    "print(callouts)\n",
    "#LIVTOT"
   ]
  },
  {
   "cell_type": "markdown",
   "id": "85ea45b7-8c90-4846-8fd3-2dfaf3421fec",
   "metadata": {},
   "source": [
    "<div> \n",
    "    <ul style='font-size:20px'> \n",
    "        <li>\n",
    "            Mas observe, o segundo elemento de <em> callouts</em> não é, de fato, um callout. Nesse caso, precisaríamos de oferecer uma definição melhor do que seria uma invocação de um username.\n",
    "        </li>\n",
    "    </ul>\n",
    "</div>"
   ]
  },
  {
   "cell_type": "code",
   "execution_count": 4,
   "id": "91f56c33-4932-449b-a7a7-ca2e2ae6b078",
   "metadata": {},
   "outputs": [
    {
     "data": {
      "text/plain": [
       "['@LuisFDiaz19']"
      ]
     },
     "execution_count": 4,
     "metadata": {},
     "output_type": "execute_result"
    }
   ],
   "source": [
    "# Usando os objetos do módulo 're', é possível sermos mais específicos quanto a isso.\n",
    "\n",
    "# Definição de um callout: todo nome cujo primeiro caractere é um arroba seguido de letras, números ou hashtag uma ou mais vezes.\n",
    "import re\n",
    "[word for word in liverpool.split() if re.search('@[\\w-]+', word)]"
   ]
  },
  {
   "cell_type": "markdown",
   "id": "4e84b251-b42a-4c44-a89a-931b7095725a",
   "metadata": {},
   "source": [
    "<center>\n",
    "    <h1>Revisão dos metacaracteres de RE</h1>\n",
    "    <img src='meta1.png'>\n",
    "    <hr>\n",
    "    <img src='meta2.png'>\n",
    "    <hr>\n",
    "    <img src='meta3.png'>\n",
    "</center>"
   ]
  },
  {
   "cell_type": "markdown",
   "id": "bb1f6c5d-660c-4586-821f-592b92fd2139",
   "metadata": {},
   "source": [
    "<h3 style='font-size:30px;font-style:italic'> Encontrando caracteres específicos</h3>"
   ]
  },
  {
   "cell_type": "code",
   "execution_count": 56,
   "id": "e8cbd9e0-1fec-4301-9046-29223f1f0896",
   "metadata": {},
   "outputs": [
    {
     "name": "stdout",
     "output_type": "stream",
     "text": [
      "['r', 'a', 'r', 'a', 'r', 'a', 'r', 'r', 'a']\n",
      "['o', ' ', 'a', 't', 'o', ' ', 'o', 'e', 'u', ' ', 'a', ' ', 'o', 'u', 'p', 'a', ' ', 'd', 'o', ' ', 'e', 'i', ' ', 'd', 'e', ' ', 'o', 'm', 'a']\n"
     ]
    }
   ],
   "source": [
    "# re.findall nos retorna todas as instâncias dos caracteres desejados.\n",
    "\n",
    "# Quantos r's ou a's existem na frase abaixo?\n",
    "rato_rei = 'O rato roeu a roupa do rei de Roma'\n",
    "rs_as = [letter for letter in rato_rei.casefold() if re.findall(r'[ra]', letter)]\n",
    "print(rs_as)\n",
    "\n",
    "# Quais caracteres que não sejam 'r' existem na frase?\n",
    "not_r = [letter for letter in rato_rei.casefold() if re.findall(r'[^r]', letter)]\n",
    "print(not_r)"
   ]
  },
  {
   "cell_type": "markdown",
   "id": "f0a53e93-891f-459d-935f-2614b446da7b",
   "metadata": {},
   "source": [
    "<h3 style='font-size:30px;font-style:italic'> Lidando com datas</h3>"
   ]
  },
  {
   "cell_type": "code",
   "execution_count": 63,
   "id": "018f0294-2e1e-46c1-a496-e763d35092c7",
   "metadata": {},
   "outputs": [
    {
     "name": "stdout",
     "output_type": "stream",
     "text": [
      "['Oct']\n",
      "['23 Oct 2002']\n",
      "['23 Oct 2002', '23 October 2002']\n"
     ]
    }
   ],
   "source": [
    "dates = ''' \n",
    "        23 Oct 2002\n",
    "        23 October 2002\n",
    "        October 23, 2002\n",
    "        Oct 23, 2002\n",
    "        '''\n",
    "\n",
    "# Veja que o retorno da função foi apenas um trecho do termo identificado.\n",
    "print(re.findall('\\d{1,2} (Oct|Nov|Dec) \\d{4}', dates))\n",
    "\n",
    "# Para fazermos com que a data por completa apareça, ponha '?:' como primeiro elemento de ().\n",
    "print(re.findall('\\d{1,2} (?:Oct|Nov|Dec) \\d{4}', dates))\n",
    "\n",
    "# Uma maneira criativa de uma das datas como o mês por extenso aparecer:\n",
    "\n",
    "# Aqui, indicamos que é possível haver zero ou mais caracteres minúsculos após os três primeiro caracteres do mês.\n",
    "print(re.findall('\\d{1,2} (?:Oct|Nov|Dec)[a-z]* \\d{4}', dates))"
   ]
  },
  {
   "cell_type": "code",
   "execution_count": 72,
   "id": "2969f7d1-364f-4b37-ac8c-9c029d96bc1e",
   "metadata": {},
   "outputs": [
    {
     "data": {
      "text/plain": [
       "['23 Oct 2002', '23 October 2002', 'October 23, 2002', 'Oct 23, 2002']"
      ]
     },
     "execution_count": 72,
     "metadata": {},
     "output_type": "execute_result"
    }
   ],
   "source": [
    "# Desafio! Vamos fazer com que todas as datas apareçam.\n",
    "\n",
    "# Veja que colocando a presença do primeiro agrupamento em parênteses como algo não definido, damos a liberdade para que\n",
    "# a seção (?:Oct|Nov|Dec)[a-z]* seja tanto o primeiro, quanto o segundo elemento da data.\n",
    "\n",
    "# A existência incerta agrupamento (?:\\d{1,2}, )? também confere uma maior flexibilidade para a identificação da datas.\n",
    "pattern = '(?:\\d{1,2} )?(?:Oct|Nov|Dec)[a-z]* (?:\\d{1,2}, )?(?:\\d{4})'\n",
    "re.findall(pattern, dates)"
   ]
  },
  {
   "cell_type": "markdown",
   "id": "149b261f-086b-49d2-9fbd-790acb4ac84a",
   "metadata": {},
   "source": [
    "<div> \n",
    "    <ul style='font-size:20px'> \n",
    "        <li>\n",
    "            Portanto, ao termos que fazer uma análise de RE em expressões muito diferentes, busque sempre encontrar os seus elementos comuns e variáveis.\n",
    "        </li>\n",
    "        <li> \n",
    "            Às vezes, os termos em comum podem nem ser palavras completas, mas apenas segmentos delas.\n",
    "        </li>\n",
    "    </ul>\n",
    "</div>"
   ]
  },
  {
   "cell_type": "markdown",
   "id": "b56ae665-b642-4939-9495-f54f6f67883c",
   "metadata": {},
   "source": [
    "<div>\n",
    "<hr>\n",
    "<h2 style='font-size:30px'> Demonstration: Regex with Pandas and Named Groups</h2>\n",
    "<div> \n",
    "    <ul style='font-size:20px'> \n",
    "        <li> \n",
    "            O pandas possui um conjunto de métodos voltados à strings.\n",
    "        </li>\n",
    "    </ul>\n",
    "</div>\n",
    "</div>"
   ]
  },
  {
   "cell_type": "code",
   "execution_count": 7,
   "id": "3ce94933-4f59-4da3-bf20-f883cfaf0009",
   "metadata": {},
   "outputs": [
    {
     "data": {
      "text/html": [
       "<div>\n",
       "<style scoped>\n",
       "    .dataframe tbody tr th:only-of-type {\n",
       "        vertical-align: middle;\n",
       "    }\n",
       "\n",
       "    .dataframe tbody tr th {\n",
       "        vertical-align: top;\n",
       "    }\n",
       "\n",
       "    .dataframe thead th {\n",
       "        text-align: right;\n",
       "    }\n",
       "</style>\n",
       "<table border=\"1\" class=\"dataframe\">\n",
       "  <thead>\n",
       "    <tr style=\"text-align: right;\">\n",
       "      <th></th>\n",
       "      <th>text</th>\n",
       "    </tr>\n",
       "  </thead>\n",
       "  <tbody>\n",
       "    <tr>\n",
       "      <th>0</th>\n",
       "      <td>Monday: The doctor's appointment is at 2:45pm.</td>\n",
       "    </tr>\n",
       "    <tr>\n",
       "      <th>1</th>\n",
       "      <td>Tuesday: The dentist's appointment is at 11:30...</td>\n",
       "    </tr>\n",
       "    <tr>\n",
       "      <th>2</th>\n",
       "      <td>Wednesday: At 7:00pm, there is a basketball game!</td>\n",
       "    </tr>\n",
       "    <tr>\n",
       "      <th>3</th>\n",
       "      <td>Thursday: Be back home by 11:15 pm at the latest.</td>\n",
       "    </tr>\n",
       "    <tr>\n",
       "      <th>4</th>\n",
       "      <td>Friday: Take the train at 08:10 am, arrive at ...</td>\n",
       "    </tr>\n",
       "  </tbody>\n",
       "</table>\n",
       "</div>"
      ],
      "text/plain": [
       "                                                text\n",
       "0     Monday: The doctor's appointment is at 2:45pm.\n",
       "1  Tuesday: The dentist's appointment is at 11:30...\n",
       "2  Wednesday: At 7:00pm, there is a basketball game!\n",
       "3  Thursday: Be back home by 11:15 pm at the latest.\n",
       "4  Friday: Take the train at 08:10 am, arrive at ..."
      ]
     },
     "execution_count": 7,
     "metadata": {},
     "output_type": "execute_result"
    }
   ],
   "source": [
    "# Iremos usar esse DataFrame com uma coluna de texto livre.\n",
    "import pandas as pd\n",
    "\n",
    "time_sentences = [\"Monday: The doctor's appointment is at 2:45pm.\", \n",
    "                  \"Tuesday: The dentist's appointment is at 11:30 am.\",\n",
    "                  \"Wednesday: At 7:00pm, there is a basketball game!\",\n",
    "                  \"Thursday: Be back home by 11:15 pm at the latest.\",\n",
    "                  \"Friday: Take the train at 08:10 am, arrive at 09:00am.\"]\n",
    "\n",
    "df = pd.DataFrame(time_sentences, columns=['text'])\n",
    "df"
   ]
  },
  {
   "cell_type": "markdown",
   "id": "65e4d00b-6531-4be5-a178-1665fb5c792c",
   "metadata": {},
   "source": [
    "<h3 style='font-size:30px;font-style:italic'> str.len</h3>\n",
    "<div> \n",
    "    <ul style='font-size:20px'> \n",
    "        <li>Retorna o número de caracteres de cada célula.\n",
    "        </li>\n",
    "    </ul>\n",
    "</div>"
   ]
  },
  {
   "cell_type": "code",
   "execution_count": 8,
   "id": "ae766f47-b6af-44cd-b76d-eb1475330d72",
   "metadata": {},
   "outputs": [
    {
     "data": {
      "text/plain": [
       "0    46\n",
       "1    50\n",
       "2    49\n",
       "3    49\n",
       "4    54\n",
       "Name: text, dtype: int64"
      ]
     },
     "execution_count": 8,
     "metadata": {},
     "output_type": "execute_result"
    }
   ],
   "source": [
    "# Quantos caracteres há em cada célula?\n",
    "df['text'].str.len()"
   ]
  },
  {
   "cell_type": "markdown",
   "id": "100f893b-4e9f-4645-a35a-5e50a21629a1",
   "metadata": {},
   "source": [
    "<h3 style='font-size:30px;font-style:italic'> str.split</h3>\n",
    "<div> \n",
    "    <ul style='font-size:20px'> \n",
    "        <li>\n",
    "            Separa os elementos da célula com base no espaço.\n",
    "        </li>\n",
    "    </ul>\n",
    "</div>"
   ]
  },
  {
   "cell_type": "code",
   "execution_count": 46,
   "id": "63352525-34e9-4d8d-bcd3-f274357fc493",
   "metadata": {},
   "outputs": [
    {
     "name": "stdout",
     "output_type": "stream",
     "text": [
      "0    [Monday:, The, doctor's, appointment, is, at, ...\n",
      "1    [Tuesday:, The, dentist's, appointment, is, at...\n",
      "2    [Wednesday:, At, 7:00pm,, there, is, a, basket...\n",
      "3    [Thursday:, Be, back, home, by, 11:15, pm, at,...\n",
      "4    [Friday:, Take, the, train, at, 08:10, am,, ar...\n",
      "Name: text, dtype: object\n",
      "\n",
      "0     7\n",
      "1     8\n",
      "2     8\n",
      "3    10\n",
      "4    10\n",
      "Name: text, dtype: int64\n"
     ]
    }
   ],
   "source": [
    "print(df['text'].str.split(), end='\\n\\n')\n",
    "\n",
    "# Quantas palavras há em cada célula?\n",
    "print(df['text'].str.split().str.len())"
   ]
  },
  {
   "cell_type": "markdown",
   "id": "dab01f04-bf0d-49c6-9813-8b12ba50ed9c",
   "metadata": {},
   "source": [
    "<h3 style='font-size:30px;font-style:italic'> str.contains</h3>\n",
    "<div> \n",
    "    <ul style='font-size:20px'> \n",
    "        <li>\n",
    "              Verifica se a célula possui um determinado trecho.\n",
    "        </li>\n",
    "    </ul>\n",
    "</div>"
   ]
  },
  {
   "cell_type": "code",
   "execution_count": 14,
   "id": "6e549c42-9455-47f1-8f2a-86618d815874",
   "metadata": {},
   "outputs": [
    {
     "data": {
      "text/plain": [
       "0     True\n",
       "1     True\n",
       "2    False\n",
       "3    False\n",
       "4    False\n",
       "Name: text, dtype: bool"
      ]
     },
     "execution_count": 14,
     "metadata": {},
     "output_type": "execute_result"
    }
   ],
   "source": [
    "# Verifica se a célula possui um determinado trecho.\n",
    "df['text'].str.contains('appointment')"
   ]
  },
  {
   "cell_type": "markdown",
   "id": "cb969f17-3fc5-4896-89dc-73d94145efc5",
   "metadata": {},
   "source": [
    "<h3 style='font-size:30px;font-style:italic'> str.count</h3>\n",
    "<div> \n",
    "    <ul style='font-size:20px'> \n",
    "        <li>\n",
    "              Conta o número de ocorrências de um certo padrão.\n",
    "        </li>\n",
    "    </ul>\n",
    "</div>"
   ]
  },
  {
   "cell_type": "code",
   "execution_count": 15,
   "id": "4fd29054-8ff2-42bb-b2a2-445fe6aa763c",
   "metadata": {},
   "outputs": [
    {
     "data": {
      "text/plain": [
       "0    3\n",
       "1    4\n",
       "2    3\n",
       "3    4\n",
       "4    8\n",
       "Name: text, dtype: int64"
      ]
     },
     "execution_count": 15,
     "metadata": {},
     "output_type": "execute_result"
    }
   ],
   "source": [
    "# Conta o número de ocorrências de um certo padrão.\n",
    "\n",
    "# Quantos dígitos há em cada célula?\n",
    "df['text'].str.count('\\d')"
   ]
  },
  {
   "cell_type": "markdown",
   "id": "df824112-4e6e-45cf-b8ba-3d6aeebd772b",
   "metadata": {},
   "source": [
    "<h3 style='font-size:30px;font-style:italic'> str.findall</h3>\n",
    "<div> \n",
    "    <ul style='font-size:20px'> \n",
    "        <li>\n",
    "              Encontra todas as ocorrências de um certo padrão.\n",
    "        </li>\n",
    "    </ul>\n",
    "</div>"
   ]
  },
  {
   "cell_type": "code",
   "execution_count": 24,
   "id": "e0afefc5-f3a8-4fb9-b5fe-4053ac16f65c",
   "metadata": {},
   "outputs": [
    {
     "name": "stdout",
     "output_type": "stream",
     "text": [
      "0                   [2, 4, 5]\n",
      "1                [1, 1, 3, 0]\n",
      "2                   [7, 0, 0]\n",
      "3                [1, 1, 1, 5]\n",
      "4    [0, 8, 1, 0, 0, 9, 0, 0]\n",
      "Name: text, dtype: object\n"
     ]
    },
    {
     "data": {
      "text/plain": [
       "0               [2:45pm]\n",
       "1             [11:30 am]\n",
       "2               [7:00pm]\n",
       "3             [11:15 pm]\n",
       "4    [08:10 am, 09:00am]\n",
       "Name: text, dtype: object"
      ]
     },
     "execution_count": 24,
     "metadata": {},
     "output_type": "execute_result"
    }
   ],
   "source": [
    "# Encontra todas as ocorrências de um certo padrão.\n",
    "\n",
    "# Quais são os dígitos que cada célula apresenta?\n",
    "print(df['text'].str.findall('\\d'))\n",
    "\n",
    "# Extraindo os horários de cada célula.\n",
    "print(df['text'].str.findall('(?:\\d{1,2}):(?:\\d{2})\\s?(?:am|pm)'))"
   ]
  },
  {
   "cell_type": "markdown",
   "id": "3bec5e76-2611-45a2-b983-484623b6a33e",
   "metadata": {},
   "source": [
    "<h3 style='font-size:30px;font-style:italic'> str.replace</h3>\n",
    "<div> \n",
    "    <ul style='font-size:20px'> \n",
    "        <li>\n",
    "             Substitui todas as ocorrências de um padrão por um valor.\n",
    "        </li>\n",
    "    </ul>\n",
    "</div>"
   ]
  },
  {
   "cell_type": "code",
   "execution_count": 34,
   "id": "5d5a1477-3183-419f-9a31-ae3d46318dae",
   "metadata": {},
   "outputs": [
    {
     "name": "stdout",
     "output_type": "stream",
     "text": [
      "0          ???: The doctor's appointment is at 2:45pm.\n",
      "1       ???: The dentist's appointment is at 11:30 am.\n",
      "2          ???: At 7:00pm, there is a basketball game!\n",
      "3         ???: Be back home by 11:15 pm at the latest.\n",
      "4    ???: Take the train at 08:10 am, arrive at 09:...\n",
      "Name: text, dtype: object\n"
     ]
    },
    {
     "name": "stderr",
     "output_type": "stream",
     "text": [
      "<ipython-input-34-66686c03533e>:4: FutureWarning: The default value of regex will change from True to False in a future version.\n",
      "  print(df['text'].str.replace('[A-z]+day', '???'))\n",
      "<ipython-input-34-66686c03533e>:7: FutureWarning: The default value of regex will change from True to False in a future version.\n",
      "  df['text'].str.replace('([A-z]+day)', lambda x: x.groups()[0][:3])\n"
     ]
    },
    {
     "data": {
      "text/plain": [
       "0          Mon: The doctor's appointment is at 2:45pm.\n",
       "1       Tue: The dentist's appointment is at 11:30 am.\n",
       "2          Wed: At 7:00pm, there is a basketball game!\n",
       "3         Thu: Be back home by 11:15 pm at the latest.\n",
       "4    Fri: Take the train at 08:10 am, arrive at 09:...\n",
       "Name: text, dtype: object"
      ]
     },
     "execution_count": 34,
     "metadata": {},
     "output_type": "execute_result"
    }
   ],
   "source": [
    "# Substitui todas as ocorrências de um padrão por um valor.\n",
    "\n",
    "# Omitindo o nome dos dias da semana por '???'\n",
    "print(df['text'].str.replace('[A-z]+day', '???'))\n",
    "\n",
    "# Trocando o nome por extenso pela abreviação.\n",
    "\n",
    "# O método 'groups' acessará os grupos do padrão. Logo em seguida, pegaremos um trecho do primeiro grupo.\n",
    "df['text'].str.replace('([A-z]+day)', lambda x: x.groups()[0][:3])"
   ]
  },
  {
   "cell_type": "markdown",
   "id": "463e8fc4-295e-4a49-87d2-65470476aa86",
   "metadata": {},
   "source": [
    "<h3 style='font-size:30px;font-style:italic'> str.extract</h3>\n",
    "<div> \n",
    "    <ul style='font-size:20px'> \n",
    "        <li>\n",
    "             Interessantíssimo: Cria novas colunas cujos valores serão os padrões encontrados em uma outra.\n",
    "        </li>\n",
    "    </ul>\n",
    "</div>"
   ]
  },
  {
   "cell_type": "code",
   "execution_count": 36,
   "id": "3b2f48f8-6ec7-43bf-87f4-b6e631d0de4d",
   "metadata": {},
   "outputs": [
    {
     "data": {
      "text/html": [
       "<div>\n",
       "<style scoped>\n",
       "    .dataframe tbody tr th:only-of-type {\n",
       "        vertical-align: middle;\n",
       "    }\n",
       "\n",
       "    .dataframe tbody tr th {\n",
       "        vertical-align: top;\n",
       "    }\n",
       "\n",
       "    .dataframe thead th {\n",
       "        text-align: right;\n",
       "    }\n",
       "</style>\n",
       "<table border=\"1\" class=\"dataframe\">\n",
       "  <thead>\n",
       "    <tr style=\"text-align: right;\">\n",
       "      <th></th>\n",
       "      <th>0</th>\n",
       "      <th>1</th>\n",
       "      <th>2</th>\n",
       "      <th>3</th>\n",
       "    </tr>\n",
       "  </thead>\n",
       "  <tbody>\n",
       "    <tr>\n",
       "      <th>0</th>\n",
       "      <td>2:45pm</td>\n",
       "      <td>2</td>\n",
       "      <td>45</td>\n",
       "      <td>pm</td>\n",
       "    </tr>\n",
       "    <tr>\n",
       "      <th>1</th>\n",
       "      <td>11:30 am</td>\n",
       "      <td>11</td>\n",
       "      <td>30</td>\n",
       "      <td>am</td>\n",
       "    </tr>\n",
       "    <tr>\n",
       "      <th>2</th>\n",
       "      <td>7:00pm</td>\n",
       "      <td>7</td>\n",
       "      <td>00</td>\n",
       "      <td>pm</td>\n",
       "    </tr>\n",
       "    <tr>\n",
       "      <th>3</th>\n",
       "      <td>11:15 pm</td>\n",
       "      <td>11</td>\n",
       "      <td>15</td>\n",
       "      <td>pm</td>\n",
       "    </tr>\n",
       "    <tr>\n",
       "      <th>4</th>\n",
       "      <td>08:10 am</td>\n",
       "      <td>08</td>\n",
       "      <td>10</td>\n",
       "      <td>am</td>\n",
       "    </tr>\n",
       "  </tbody>\n",
       "</table>\n",
       "</div>"
      ],
      "text/plain": [
       "          0   1   2   3\n",
       "0    2:45pm   2  45  pm\n",
       "1  11:30 am  11  30  am\n",
       "2    7:00pm   7  00  pm\n",
       "3  11:15 pm  11  15  pm\n",
       "4  08:10 am  08  10  am"
      ]
     },
     "execution_count": 36,
     "metadata": {},
     "output_type": "execute_result"
    }
   ],
   "source": [
    "# Interessantíssimo: Cria novas colunas cujos valores serão os padrões encontrados em uma outra.\n",
    "\n",
    "# Criando uma coluna com a hora, minuto e am/pm de cada sentença.\n",
    "\n",
    "# Adicionando um parênteses em toda a string para que o horário por inteiro também se torne uma coluna.\n",
    "df['text'].str.extract('((\\d{1,2}):(\\d{2})\\s?(am|pm))')"
   ]
  },
  {
   "cell_type": "markdown",
   "id": "0e7e1824-ff07-4533-9320-969c1d4f1791",
   "metadata": {},
   "source": [
    "<h3 style='font-size:30px;font-style:italic'> str.extractall</h3>\n",
    "<div> \n",
    "    <ul style='font-size:20px'> \n",
    "        <li> \n",
    "            Mas observe, a última linha de <em> df</em> tem, na verdade, dois horários. Para que todas as correspondências apareçam, vamos usar o str.extractall.\n",
    "        </li>\n",
    "    </ul>\n",
    "</div>"
   ]
  },
  {
   "cell_type": "code",
   "execution_count": 38,
   "id": "949f8914-5306-4824-b8eb-2fe514c57df3",
   "metadata": {},
   "outputs": [
    {
     "data": {
      "text/html": [
       "<div>\n",
       "<style scoped>\n",
       "    .dataframe tbody tr th:only-of-type {\n",
       "        vertical-align: middle;\n",
       "    }\n",
       "\n",
       "    .dataframe tbody tr th {\n",
       "        vertical-align: top;\n",
       "    }\n",
       "\n",
       "    .dataframe thead th {\n",
       "        text-align: right;\n",
       "    }\n",
       "</style>\n",
       "<table border=\"1\" class=\"dataframe\">\n",
       "  <thead>\n",
       "    <tr style=\"text-align: right;\">\n",
       "      <th></th>\n",
       "      <th></th>\n",
       "      <th>0</th>\n",
       "      <th>1</th>\n",
       "      <th>2</th>\n",
       "      <th>3</th>\n",
       "    </tr>\n",
       "    <tr>\n",
       "      <th></th>\n",
       "      <th>match</th>\n",
       "      <th></th>\n",
       "      <th></th>\n",
       "      <th></th>\n",
       "      <th></th>\n",
       "    </tr>\n",
       "  </thead>\n",
       "  <tbody>\n",
       "    <tr>\n",
       "      <th>0</th>\n",
       "      <th>0</th>\n",
       "      <td>2:45pm</td>\n",
       "      <td>2</td>\n",
       "      <td>45</td>\n",
       "      <td>pm</td>\n",
       "    </tr>\n",
       "    <tr>\n",
       "      <th>1</th>\n",
       "      <th>0</th>\n",
       "      <td>11:30 am</td>\n",
       "      <td>11</td>\n",
       "      <td>30</td>\n",
       "      <td>am</td>\n",
       "    </tr>\n",
       "    <tr>\n",
       "      <th>2</th>\n",
       "      <th>0</th>\n",
       "      <td>7:00pm</td>\n",
       "      <td>7</td>\n",
       "      <td>00</td>\n",
       "      <td>pm</td>\n",
       "    </tr>\n",
       "    <tr>\n",
       "      <th>3</th>\n",
       "      <th>0</th>\n",
       "      <td>11:15 pm</td>\n",
       "      <td>11</td>\n",
       "      <td>15</td>\n",
       "      <td>pm</td>\n",
       "    </tr>\n",
       "    <tr>\n",
       "      <th rowspan=\"2\" valign=\"top\">4</th>\n",
       "      <th>0</th>\n",
       "      <td>08:10 am</td>\n",
       "      <td>08</td>\n",
       "      <td>10</td>\n",
       "      <td>am</td>\n",
       "    </tr>\n",
       "    <tr>\n",
       "      <th>1</th>\n",
       "      <td>09:00am</td>\n",
       "      <td>09</td>\n",
       "      <td>00</td>\n",
       "      <td>am</td>\n",
       "    </tr>\n",
       "  </tbody>\n",
       "</table>\n",
       "</div>"
      ],
      "text/plain": [
       "                0   1   2   3\n",
       "  match                      \n",
       "0 0        2:45pm   2  45  pm\n",
       "1 0      11:30 am  11  30  am\n",
       "2 0        7:00pm   7  00  pm\n",
       "3 0      11:15 pm  11  15  pm\n",
       "4 0      08:10 am  08  10  am\n",
       "  1       09:00am  09  00  am"
      ]
     },
     "execution_count": 38,
     "metadata": {},
     "output_type": "execute_result"
    }
   ],
   "source": [
    "# O que nos é retornado é um multindex DF, agora, com toas as correspondências.\n",
    "df['text'].str.extractall('((\\d{1,2}):(\\d{2}) ?(am|pm))')"
   ]
  },
  {
   "cell_type": "markdown",
   "id": "d4aaf163-5624-4329-8ae5-c19d4df61394",
   "metadata": {},
   "source": [
    "<div> \n",
    "    <ul style='font-size:20px'> \n",
    "        <li> \n",
    "            No entanto, há ainda algo que nos incomoda. Todas as colunas geradas possuem um nome genérico. Como podemos definir um label customizado?\n",
    "        </li>\n",
    "    </ul>\n",
    "</div>"
   ]
  },
  {
   "cell_type": "code",
   "execution_count": 45,
   "id": "db554f06-a8c7-4de9-888e-870fc99d0ef5",
   "metadata": {},
   "outputs": [
    {
     "data": {
      "text/html": [
       "<div>\n",
       "<style scoped>\n",
       "    .dataframe tbody tr th:only-of-type {\n",
       "        vertical-align: middle;\n",
       "    }\n",
       "\n",
       "    .dataframe tbody tr th {\n",
       "        vertical-align: top;\n",
       "    }\n",
       "\n",
       "    .dataframe thead th {\n",
       "        text-align: right;\n",
       "    }\n",
       "</style>\n",
       "<table border=\"1\" class=\"dataframe\">\n",
       "  <thead>\n",
       "    <tr style=\"text-align: right;\">\n",
       "      <th></th>\n",
       "      <th></th>\n",
       "      <th>time</th>\n",
       "      <th>hour</th>\n",
       "      <th>minute</th>\n",
       "      <th>period</th>\n",
       "    </tr>\n",
       "    <tr>\n",
       "      <th></th>\n",
       "      <th>match</th>\n",
       "      <th></th>\n",
       "      <th></th>\n",
       "      <th></th>\n",
       "      <th></th>\n",
       "    </tr>\n",
       "  </thead>\n",
       "  <tbody>\n",
       "    <tr>\n",
       "      <th>0</th>\n",
       "      <th>0</th>\n",
       "      <td>2:45pm</td>\n",
       "      <td>2</td>\n",
       "      <td>45</td>\n",
       "      <td>pm</td>\n",
       "    </tr>\n",
       "    <tr>\n",
       "      <th>1</th>\n",
       "      <th>0</th>\n",
       "      <td>11:30 am</td>\n",
       "      <td>11</td>\n",
       "      <td>30</td>\n",
       "      <td>am</td>\n",
       "    </tr>\n",
       "    <tr>\n",
       "      <th>2</th>\n",
       "      <th>0</th>\n",
       "      <td>7:00pm</td>\n",
       "      <td>7</td>\n",
       "      <td>00</td>\n",
       "      <td>pm</td>\n",
       "    </tr>\n",
       "    <tr>\n",
       "      <th>3</th>\n",
       "      <th>0</th>\n",
       "      <td>11:15 pm</td>\n",
       "      <td>11</td>\n",
       "      <td>15</td>\n",
       "      <td>pm</td>\n",
       "    </tr>\n",
       "    <tr>\n",
       "      <th rowspan=\"2\" valign=\"top\">4</th>\n",
       "      <th>0</th>\n",
       "      <td>08:10 am</td>\n",
       "      <td>08</td>\n",
       "      <td>10</td>\n",
       "      <td>am</td>\n",
       "    </tr>\n",
       "    <tr>\n",
       "      <th>1</th>\n",
       "      <td>09:00am</td>\n",
       "      <td>09</td>\n",
       "      <td>00</td>\n",
       "      <td>am</td>\n",
       "    </tr>\n",
       "  </tbody>\n",
       "</table>\n",
       "</div>"
      ],
      "text/plain": [
       "             time hour minute period\n",
       "  match                             \n",
       "0 0        2:45pm    2     45     pm\n",
       "1 0      11:30 am   11     30     am\n",
       "2 0        7:00pm    7     00     pm\n",
       "3 0      11:15 pm   11     15     pm\n",
       "4 0      08:10 am   08     10     am\n",
       "  1       09:00am   09     00     am"
      ]
     },
     "execution_count": 45,
     "metadata": {},
     "output_type": "execute_result"
    }
   ],
   "source": [
    "# Para isso, use '?P<nome_coluna>' antes do padrão.\n",
    "df['text'].str.extractall('(?P<time>(?P<hour>\\d{1,2}):(?P<minute>\\d{2}) ?(?P<period>am|pm))')"
   ]
  },
  {
   "cell_type": "markdown",
   "id": "509aefc3-199e-4a7d-a3ed-f664b2d64b1e",
   "metadata": {},
   "source": [
    "<div>\n",
    "    <hr>\n",
    "    <h2 style='font-size:30px'> Internationalization and Issues with Non-ASCII Characters</h2>\n",
    "</div>"
   ]
  },
  {
   "cell_type": "markdown",
   "id": "420f4430-3697-44cd-9186-d7b37637bae2",
   "metadata": {},
   "source": [
    "<div> \n",
    "    <ul style='font-size:20px'> \n",
    "        <li> \n",
    "            Teremos contato com os diversos padrões de encoding de caracteres usados no mundo inteiro.\n",
    "        </li>\n",
    "    </ul>\n",
    "</div> "
   ]
  },
  {
   "cell_type": "markdown",
   "id": "67060f8d-1802-4900-a569-538dc701b49f",
   "metadata": {},
   "source": [
    "<h3 style='font-size:30px;font-style:italic'> ASCII</h3>"
   ]
  },
  {
   "cell_type": "markdown",
   "id": "41157404-3cd2-497d-8303-a76afc1fb248",
   "metadata": {},
   "source": [
    "<center> \n",
    "    <img src='ascii1.png'>\n",
    "</center>"
   ]
  },
  {
   "cell_type": "markdown",
   "id": "0a82c923-d9e5-4670-bff1-b14dc7aec887",
   "metadata": {},
   "source": [
    "<div> \n",
    "    <ul style='font-size:20px'>\n",
    "        <li> \n",
    "            O ASCII, possui uma série de limitações que envolvem, até mesmo, a língua inglesa. Por exemplo, certas palavras do idioma são estrangeirismos e possuem acento.\n",
    "        </li>\n",
    "    </ul>\n",
    "</div>\n",
    "<center> \n",
    "    <img src='ascii2.png'>\n",
    "</center>"
   ]
  },
  {
   "cell_type": "code",
   "execution_count": 54,
   "id": "7a94c1ab-6bcf-4324-a6d6-2604fbcc9b6f",
   "metadata": {},
   "outputs": [
    {
     "data": {
      "text/plain": [
       "(\"'Z\\\\xfcrich'\", \"'na\\\\xefve'\")"
      ]
     },
     "execution_count": 54,
     "metadata": {},
     "output_type": "execute_result"
    }
   ],
   "source": [
    "# Exemplos das limitações do ASCII.\n",
    "ascii('Zürich'), ascii('naïve')"
   ]
  },
  {
   "cell_type": "markdown",
   "id": "65e75d56-eb33-4e7a-837a-94ecaef3a71b",
   "metadata": {},
   "source": [
    "<h2 style='font-size:30px'> Outras formas de encoding</h2>\n",
    "<center> \n",
    "    <img src='encoding1.png'>\n",
    "</center>"
   ]
  },
  {
   "cell_type": "code",
   "execution_count": 63,
   "id": "5cc92a03-4eb4-434f-8f30-a0dc42468b84",
   "metadata": {},
   "outputs": [],
   "source": [
    "! mv /Users/felipeveiga/Desktop/Screen\\ Shot\\ 2022-05-10\\ at\\ 11.06.57.png ./encoding1.png"
   ]
  },
  {
   "cell_type": "markdown",
   "id": "8fabcba3-ca21-41d1-863d-111ef4571ae4",
   "metadata": {},
   "source": [
    "<p style='color:red'> Parei em Internationalization and Issues with Non-ASCII Characters (6:40)</p>"
   ]
  }
 ],
 "metadata": {
  "kernelspec": {
   "display_name": "Python 3 (ipykernel)",
   "language": "python",
   "name": "python3"
  },
  "language_info": {
   "codemirror_mode": {
    "name": "ipython",
    "version": 3
   },
   "file_extension": ".py",
   "mimetype": "text/x-python",
   "name": "python",
   "nbconvert_exporter": "python",
   "pygments_lexer": "ipython3",
   "version": "3.8.10"
  }
 },
 "nbformat": 4,
 "nbformat_minor": 5
}
