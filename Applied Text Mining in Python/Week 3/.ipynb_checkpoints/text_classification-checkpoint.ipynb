{
 "cells": [
  {
   "cell_type": "markdown",
   "id": "357afeaf-8399-49e5-918d-dd69e9237786",
   "metadata": {},
   "source": [
    "<h1 style='font-size:40px'> Classification of Text</h1>"
   ]
  },
  {
   "cell_type": "markdown",
   "id": "2b917510-d898-4592-8861-aad58c04ec27",
   "metadata": {},
   "source": [
    "<h2 style='font-size:30px'> Text Classification</h2>\n",
    "<div> \n",
    "    <ul style='font-size:20px'> \n",
    "        <li> \n",
    "            Classificar um texto pode ser algo de extremo valor. No caso de um website de emails, por exemplo, o Machine Learning é explorado a fim de se identificar emails spam.\n",
    "        </li>\n",
    "        <li> \n",
    "            Da mesma forma que praticamos no terceiro curso da especialização, elaborar um classificador de texto envolve, sempre, uma fase de treino e, às vezes, de validação e, por fim, uma de testes.\n",
    "        </li>\n",
    "    </ul>\n",
    "</div>\n",
    "<center> \n",
    "    <h1> Workflow de ML para NLP</h1>\n",
    "    <img src='ml_workflow.png'>\n",
    "</center>\n",
    "<div> \n",
    "    <ul style='font-size:20px'> \n",
    "        <li> \n",
    "            Assim como tarefas em datasets planilhados, é totalmente concebível construirmos modelos para multi-output classification.\n",
    "        </li>\n",
    "    </ul>\n",
    "</div>"
   ]
  },
  {
   "cell_type": "markdown",
   "id": "58da0386-5b31-4a3e-b9b3-94a620afa91c",
   "metadata": {},
   "source": [
    "<div> \n",
    "    <hr>\n",
    "    <h2 style='font-size:30px'> Identifying Features from Text</h2>\n",
    "</div>"
   ]
  },
  {
   "cell_type": "markdown",
   "id": "c3f9828b-c19f-403c-bfd6-23c378e9f331",
   "metadata": {},
   "source": [
    "<div> \n",
    "    <ul style='font-size:20px'> \n",
    "        <li> \n",
    "            O professor discorre sobre algumas práticas que devem ser levadas em conta quando fazemos trabalhos de NLP.\n",
    "        </li>\n",
    "    </ul>\n",
    "</div>\n",
    "<h3 style='font-size:30px;font-style:italic'> Boas condutas em NLP</h3>\n",
    "<div> \n",
    "    <ul style='font-size:20px'> \n",
    "        <li> \n",
    "            Desconsiderar palavras irrelevantes, como preoposições e conjunções.\n",
    "        </li>\n",
    "        <li> \n",
    "            Lematização e Stemming.\n",
    "        </li>\n",
    "        <li> \n",
    "            Escolher quando a normalização deve ser adequada. Por exemplo, \"US\", de Estados Unidos acaba por ser confundido com o pronome \"us\", quando colocado em minúsculas.\n",
    "        </li>\n",
    "        <li> \n",
    "            Identificação de classes gramaticais.\n",
    "        </li>\n",
    "        <li> \n",
    "            Agrupar termos de mesma categorias, (Mr, Mrs, Phd...), datas.\n",
    "        </li>\n",
    "    </ul>\n",
    "</div>"
   ]
  },
  {
   "cell_type": "markdown",
   "id": "07aeffbe-a088-49e4-995a-e4c5dbf41898",
   "metadata": {},
   "source": [
    "<div> \n",
    "    <hr>\n",
    "    <h2 style='font-size:30px'> Naive Bayes Classifiers</h2>\n",
    "</div>"
   ]
  },
  {
   "cell_type": "markdown",
   "id": "27a52692-eeff-41aa-bda5-4155e7ebbfc7",
   "metadata": {},
   "source": [
    "<p style='color:red'> Naive Bayes Classifiers"
   ]
  }
 ],
 "metadata": {
  "kernelspec": {
   "display_name": "Python 3 (ipykernel)",
   "language": "python",
   "name": "python3"
  },
  "language_info": {
   "codemirror_mode": {
    "name": "ipython",
    "version": 3
   },
   "file_extension": ".py",
   "mimetype": "text/x-python",
   "name": "python",
   "nbconvert_exporter": "python",
   "pygments_lexer": "ipython3",
   "version": "3.8.10"
  }
 },
 "nbformat": 4,
 "nbformat_minor": 5
}
